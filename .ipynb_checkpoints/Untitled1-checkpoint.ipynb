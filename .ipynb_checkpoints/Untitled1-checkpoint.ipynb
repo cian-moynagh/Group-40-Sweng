{
 "cells": [
  {
   "cell_type": "code",
   "execution_count": 112,
   "metadata": {},
   "outputs": [],
   "source": [
    "from jupyter_dash import JupyterDash\n"
   ]
  },
  {
   "cell_type": "code",
   "execution_count": 113,
   "metadata": {},
   "outputs": [],
   "source": [
    "import dash\n",
    "import dash_core_components as dcc\n",
    "import dash_html_components as html\n",
    "import pandas as pd\n",
    "import plotly.express as px\n",
    "from jupyter_dash import JupyterDash\n",
    "from dash.dependencies import Input, Output"
   ]
  },
  {
   "cell_type": "code",
   "execution_count": 114,
   "metadata": {},
   "outputs": [],
   "source": [
    "# Build App\n",
    "app = dash.Dash\n",
    "\n",
    "suppress_callback_exceptions=False"
   ]
  },
  {
   "cell_type": "code",
   "execution_count": 115,
   "metadata": {
    "scrolled": true
   },
   "outputs": [],
   "source": [
    "\n",
    "app.layout = html.Div([\n",
    "    \n",
    "    html.H1('Dash App'),\n",
    "    \n",
    "    dcc.Dropdown(\n",
    "        id='my-dropdown',\n",
    "        options=[\n",
    "            {'label': 'Coke', 'value': 'COKE'},\n",
    "            {'label': 'Tesla', 'value': 'TSLA'}\n",
    "        ],\n",
    "        value='COKE'\n",
    "    ),\n",
    "    \n",
    "    dcc.Graph(id='my-graph')\n",
    "])"
   ]
  },
  {
   "cell_type": "code",
   "execution_count": 119,
   "metadata": {},
   "outputs": [
    {
     "ename": "TypeError",
     "evalue": "callback() missing 1 required positional argument: 'output'",
     "output_type": "error",
     "traceback": [
      "\u001b[0;31m---------------------------------------------------------------------------\u001b[0m",
      "\u001b[0;31mTypeError\u001b[0m                                 Traceback (most recent call last)",
      "\u001b[0;32m<ipython-input-119-3978dcbfde67>\u001b[0m in \u001b[0;36m<module>\u001b[0;34m\u001b[0m\n\u001b[0;32m----> 1\u001b[0;31m @app.callback(\n\u001b[0m\u001b[1;32m      2\u001b[0m     (Output('my-dropdown', 'figure'),\n\u001b[1;32m      3\u001b[0m     Input('my-graph', 'value')))\n\u001b[1;32m      4\u001b[0m \u001b[0;34m\u001b[0m\u001b[0m\n\u001b[1;32m      5\u001b[0m \u001b[0;32mdef\u001b[0m \u001b[0mupdate_graph\u001b[0m\u001b[0;34m(\u001b[0m\u001b[0mdropdown_properties\u001b[0m\u001b[0;34m)\u001b[0m\u001b[0;34m:\u001b[0m\u001b[0;34m\u001b[0m\u001b[0;34m\u001b[0m\u001b[0m\n",
      "\u001b[0;31mTypeError\u001b[0m: callback() missing 1 required positional argument: 'output'"
     ]
    }
   ],
   "source": [
    "@app.callback(\n",
    "    (Output('my-dropdown', 'figure'),\n",
    "    Input('my-graph', 'value')))\n",
    "\n",
    "def update_graph(dropdown_properties):\n",
    "    selected_value = dropdown_properties['value']\n",
    "    \n",
    "    df = web.DataReader(\n",
    "        dropdown_properties['value'], 'yahoo',\n",
    "        dt(2016, 1, 1), dt.now()\n",
    "        \n",
    "    )\n",
    "    \n",
    "def update_output_div(input_value, figure):\n",
    "    return 'Output: {}'.format(input_value)\n",
    "\n",
    "\n",
    "    return {\n",
    "            'figure': go.Figure(\n",
    "                data=[\n",
    "                        Scatter(\n",
    "                            x=df.index,\n",
    "                            y=df.Close,\n",
    "                            name=selected_value\n",
    "                        )\n",
    "                ]\n",
    "            )\n",
    "    }\n"
   ]
  },
  {
   "cell_type": "code",
   "execution_count": null,
   "metadata": {},
   "outputs": [],
   "source": []
  }
 ],
 "metadata": {
  "kernelspec": {
   "display_name": "Python 3",
   "language": "python",
   "name": "python3"
  },
  "language_info": {
   "codemirror_mode": {
    "name": "ipython",
    "version": 3
   },
   "file_extension": ".py",
   "mimetype": "text/x-python",
   "name": "python",
   "nbconvert_exporter": "python",
   "pygments_lexer": "ipython3",
   "version": "3.8.5"
  }
 },
 "nbformat": 4,
 "nbformat_minor": 4
}
