{
 "cells": [
  {
   "cell_type": "code",
   "execution_count": 228,
   "metadata": {
    "scrolled": true
   },
   "outputs": [],
   "source": [
    "\n",
    "#Normalise time series data\n",
    "from sklearn.preprocessing import MinMaxScaler\n",
    "\n",
    "#Get Data\n",
    "from pandas_datareader import DataReader # pip install pandas-datareader\n",
    "from pandas_datareader import data\n",
    "from datetime import datetime\n",
    "\n",
    "import pandas as pd\n",
    "import plotly as ply\n",
    " \n",
    "start = pd.to_datetime('2010-01-01') # in YYYY-MM-DD format\n",
    "end = pd.to_datetime('today')\n",
    "ts = data.DataReader('NDAQ', 'yahoo', start , end) # here 'yahoo' is the API to yahoo"
   ]
  },
  {
   "cell_type": "code",
   "execution_count": 229,
   "metadata": {
    "scrolled": true
   },
   "outputs": [
    {
     "data": {
      "text/plain": [
       "<AxesSubplot:title={'center':'NASDAQ 2010-2021'}, xlabel='Date'>"
      ]
     },
     "execution_count": 229,
     "metadata": {},
     "output_type": "execute_result"
    },
    {
     "data": {
      "image/png": "[encoded data removed]",
      "text/plain": [
       "<Figure size 720x504 with 1 Axes>"
      ]
     },
     "metadata": {
      "needs_background": "light"
     },
     "output_type": "display_data"
    }
   ],
   "source": [
    "ts.Close.plot(figsize=(10,7), title = \"NASDAQ 2010-2021\")\n",
    "#PLAIN DATA"
   ]
  },
  {
   "cell_type": "code",
   "execution_count": 230,
   "metadata": {
    "scrolled": true
   },
   "outputs": [
    {
     "name": "stdout",
     "output_type": "stream",
     "text": [
      "<bound method NDFrame.head of                   High         Low        Open       Close     Volume  \\\n",
      "Date                                                                    \n",
      "2010-01-04   20.430000   19.900000   19.920000   20.240000  2171500.0   \n",
      "2010-01-05   20.320000   19.930000   19.930000   20.299999  1481700.0   \n",
      "2010-01-06   20.360001   20.160000   20.200001   20.290001  2446700.0   \n",
      "2010-01-07   20.299999   19.889999   20.250000   20.020000  2832800.0   \n",
      "2010-01-08   20.299999   19.879999   20.030001   20.230000  1449200.0   \n",
      "...                ...         ...         ...         ...        ...   \n",
      "2021-03-19  146.830002  143.789993  145.000000  145.740005  2189700.0   \n",
      "2021-03-22  148.190002  144.759995  145.740005  147.119995  1218200.0   \n",
      "2021-03-23  148.949997  145.850006  145.850006  147.570007  1298300.0   \n",
      "2021-03-24  148.610001  146.779999  147.720001  147.330002   643400.0   \n",
      "2021-03-25  147.520004  145.520004  147.520004  146.279999   286669.0   \n",
      "\n",
      "             Adj Close  \n",
      "Date                    \n",
      "2010-01-04   17.347511  \n",
      "2010-01-05   17.398933  \n",
      "2010-01-06   17.390356  \n",
      "2010-01-07   17.158953  \n",
      "2010-01-08   17.338934  \n",
      "...                ...  \n",
      "2021-03-19  145.740005  \n",
      "2021-03-22  147.119995  \n",
      "2021-03-23  147.570007  \n",
      "2021-03-24  147.330002  \n",
      "2021-03-25  146.279999  \n",
      "\n",
      "[2826 rows x 6 columns]>\n"
     ]
    }
   ],
   "source": [
    "print(ts.head)"
   ]
  },
  {
   "cell_type": "code",
   "execution_count": 231,
   "metadata": {
    "scrolled": true
   },
   "outputs": [
    {
     "name": "stdout",
     "output_type": "stream",
     "text": [
      "Date\n",
      "2010-01-04     17.347511\n",
      "2010-01-05     17.398933\n",
      "2010-01-06     17.390356\n",
      "2010-01-07     17.158953\n",
      "2010-01-08     17.338934\n",
      "                 ...    \n",
      "2021-03-19    145.740005\n",
      "2021-03-22    147.119995\n",
      "2021-03-23    147.570007\n",
      "2021-03-24    147.330002\n",
      "2021-03-25    146.279999\n",
      "Name: Adj Close, Length: 2826, dtype: float64\n"
     ]
    }
   ],
   "source": [
    "#Change table to only have closing values\n",
    "\n",
    "ts = data.DataReader('NDAQ', 'yahoo', start , end) # here 'yahoo' is the API to yahoo\n",
    "ts = ts['Adj Close']\n",
    "print(ts)"
   ]
  },
  {
   "cell_type": "code",
   "execution_count": 232,
   "metadata": {},
   "outputs": [],
   "source": [
    "#Prepare data for normalization\n",
    "values = ts.values\n",
    "values = values.reshape((len(values), 1))"
   ]
  },
  {
   "cell_type": "code",
   "execution_count": 233,
   "metadata": {},
   "outputs": [
    {
     "name": "stdout",
     "output_type": "stream",
     "text": [
      "Min: 14.827660, Max: 147.570007\n"
     ]
    }
   ],
   "source": [
    "#Train the normalization\n",
    "scaler = MinMaxScaler(feature_range=(0,1))\n",
    "scaler = scaler.fit(values)\n",
    "print('Min: %f, Max: %f' % (scaler.data_min_, scaler.data_max_))"
   ]
  },
  {
   "cell_type": "code",
   "execution_count": 234,
   "metadata": {},
   "outputs": [
    {
     "name": "stdout",
     "output_type": "stream",
     "text": [
      "[0.01898303]\n",
      "[0.01937041]\n",
      "[0.01930579]\n",
      "[0.01756254]\n",
      "[0.01891841]\n"
     ]
    }
   ],
   "source": [
    "# normalize the dataset and print the first 5 rows\n",
    "normalized = scaler.transform(values)\n",
    "for i in range(5):\n",
    "    print(normalized[i])"
   ]
  },
  {
   "cell_type": "code",
   "execution_count": 235,
   "metadata": {},
   "outputs": [
    {
     "name": "stdout",
     "output_type": "stream",
     "text": [
      "[17.34751129]\n",
      "[17.39893341]\n",
      "[17.39035606]\n",
      "[17.15895271]\n",
      "[17.33893394]\n"
     ]
    }
   ],
   "source": [
    "#inverse transform and print the first 5 rows\n",
    "inversed = scaler.inverse_transform(normalized)\n",
    "for i in range(5):\n",
    "      print(inversed[i])  "
   ]
  },
  {
   "cell_type": "raw",
   "metadata": {
    "scrolled": true
   },
   "source": [
    "import plotly.plotly as py\n",
    "from plotly import graph_objs as go\n",
    "\n",
    "\n",
    "#Plotting the normalized dataset\n",
    "import matplotlib.pyplot as plt\n",
    "plt.plot(normalized)\n",
    "\n"
   ]
  },
  {
   "cell_type": "code",
   "execution_count": 244,
   "metadata": {
    "scrolled": true
   },
   "outputs": [
    {
     "data": {
      "text/html": [
       "        <script type=\"text/javascript\">\n",
       "        window.PlotlyConfig = {MathJaxConfig: 'local'};\n",
       "        if (window.MathJax) {MathJax.Hub.Config({SVG: {font: \"STIX-Web\"}});}\n",
       "        if (typeof require !== 'undefined') {\n",
       "        require.undef(\"plotly\");\n",
       "        requirejs.config({\n",
       "            paths: {\n",
       "                'plotly': ['https://cdn.plot.ly/plotly-latest.min']\n",
       "            }\n",
       "        });\n",
       "        require(['plotly'], function(Plotly) {\n",
       "            window._Plotly = Plotly;\n",
       "        });\n",
       "        }\n",
       "        </script>\n",
       "        "
      ]
     },
     "metadata": {},
     "output_type": "display_data"
    },
    {
     "data": {
      "text/html": [
       "        <script type=\"text/javascript\">\n",
       "        window.PlotlyConfig = {MathJaxConfig: 'local'};\n",
       "        if (window.MathJax) {MathJax.Hub.Config({SVG: {font: \"STIX-Web\"}});}\n",
       "        if (typeof require !== 'undefined') {\n",
       "        require.undef(\"plotly\");\n",
       "        requirejs.config({\n",
       "            paths: {\n",
       "                'plotly': ['https://cdn.plot.ly/plotly-latest.min']\n",
       "            }\n",
       "        });\n",
       "        require(['plotly'], function(Plotly) {\n",
       "            window._Plotly = Plotly;\n",
       "        });\n",
       "        }\n",
       "        </script>\n",
       "        "
      ]
     },
     "metadata": {},
     "output_type": "display_data"
    }
   ],
   "source": [
    "import pandas as pd\n",
    "import chart_studio.plotly as py\n",
    "import numpy as np\n",
    "import cufflinks as cf\n",
    "import seaborn as sns\n",
    "import plotly.express as px\n",
    "%matplotlib inline\n",
    "\n",
    "from plotly.offline import download_plotlyjs, init_notebook_mode, plot, iplot\n",
    "init_notebook_mode(connected=True)\n",
    "cf.go_offline()"
   ]
  },
  {
   "cell_type": "code",
   "execution_count": null,
   "metadata": {},
   "outputs": [],
   "source": []
  },
  {
   "cell_type": "code",
   "execution_count": null,
   "metadata": {},
   "outputs": [],
   "source": []
  }
 ],
 "metadata": {
  "kernelspec": {
   "display_name": "Python 3",
   "language": "python",
   "name": "python3"
  },
  "language_info": {
   "codemirror_mode": {
    "name": "ipython",
    "version": 3
   },
   "file_extension": ".py",
   "mimetype": "text/x-python",
   "name": "python",
   "nbconvert_exporter": "python",
   "pygments_lexer": "ipython3",
   "version": "3.8.5"
  }
 },
 "nbformat": 4,
 "nbformat_minor": 4
}
