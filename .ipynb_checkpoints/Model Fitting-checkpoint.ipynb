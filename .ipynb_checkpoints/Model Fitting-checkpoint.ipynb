{
 "cells": [
  {
   "cell_type": "code",
   "execution_count": 1,
   "metadata": {},
   "outputs": [],
   "source": [
    "#! pip install pandas-datareader\n",
    "#! pip install pmdarima\n",
    "#! pip install plotly\n",
    "\n",
    "from pandas_datareader import DataReader # pip install pandas-datareader\n",
    "from pandas_datareader import data\n",
    "from datetime import datetime\n",
    "from pmdarima.arima import *\n",
    "from pmdarima import preprocessing\n",
    "\n",
    "from statsmodels import api as sm\n",
    "from statsmodels.tsa.seasonal import seasonal_decompose\n",
    "\n",
    "import pandas as pd\n",
    "import pmdarima as pm\n",
    "import plotly as ply\n",
    " \n",
    "start = pd.to_datetime('2010-01-01') # in YYYY-MM-DD format\n",
    "end = pd.to_datetime('2018-01-01')\n",
    "ts = data.DataReader('NDAQ', 'yahoo', start , end) # here 'yahoo' is the API to yahoo"
   ]
  },
  {
   "cell_type": "code",
   "execution_count": null,
   "metadata": {},
   "outputs": [],
   "source": []
  }
 ],
 "metadata": {
  "kernelspec": {
   "display_name": "Python 3",
   "language": "python",
   "name": "python3"
  },
  "language_info": {
   "codemirror_mode": {
    "name": "ipython",
    "version": 3
   },
   "file_extension": ".py",
   "mimetype": "text/x-python",
   "name": "python",
   "nbconvert_exporter": "python",
   "pygments_lexer": "ipython3",
   "version": "3.8.5"
  }
 },
 "nbformat": 4,
 "nbformat_minor": 4
}
