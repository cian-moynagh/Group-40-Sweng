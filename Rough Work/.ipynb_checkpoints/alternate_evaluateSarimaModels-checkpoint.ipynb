{
 "cells": [
  {
   "cell_type": "code",
   "execution_count": 1,
   "metadata": {},
   "outputs": [],
   "source": [
    "import numpy as np\n",
    "from pandas_datareader import DataReader # pip install pandas-datareader\n",
    "from pandas_datareader import data\n",
    "from datetime import datetime\n",
    "from pmdarima.arima import *\n",
    "from pmdarima import preprocessing\n",
    "from scipy import stats\n",
    "from scipy.stats import skew\n",
    "\n",
    "from statsmodels import api as sm\n",
    "from statsmodels.tsa.seasonal import seasonal_decompose\n",
    "\n",
    "import pandas as pd\n",
    "import pmdarima as pm\n",
    "import plotly.graph_objects as go\n",
    "import plotly.express as px\n",
    " \n",
    "start = pd.to_datetime('2010-01-01') # in YYYY-MM-DD format\n",
    "end = pd.to_datetime('2018-01-01')\n",
    "ts = data.DataReader('NDAQ', 'yahoo', start , end) # here 'yahoo' is the API to yahoo"
   ]
  },
  {
   "cell_type": "code",
   "execution_count": 16,
   "metadata": {},
   "outputs": [],
   "source": [
    "def evaluateSarimaModels(dataset, m, d, D):\n",
    "    \n",
    "    modeltest = auto_arima(ts.Close, start_p=0, start_q=0, m=m,\n",
    "                           start_P=0, start_Q = 0, seasonal=True,\n",
    "                           d=d, D=D, trace=True,\n",
    "                           error_action='ignore',  \n",
    "                           suppress_warnings=True, \n",
    "                           stepwise=True)\n",
    "    \n",
    "    order = modeltest.order\n",
    "    seasonalOrder = modeltest.seasonal_order\n",
    "    L = []\n",
    "    trend = [0,1]\n",
    "    boolean = [True, False]\n",
    "    for n in trend:\n",
    "        for c in trend:\n",
    "            for t in trend:\n",
    "                for ct in trend:\n",
    "                    for measurement_error in boolean:\n",
    "                        for time_varying_regression in boolean:\n",
    "                            for mle_regression in boolean:\n",
    "                                try:\n",
    "                                    model = auto_arima(dataset, order = order, seasonal_order=seasonalOrder, trend = [n,c,t,ct], \n",
    "                                                        measurement_error = measurement_error, \n",
    "                                                        time_varying_regression = time_varying_regression, \n",
    "                                                       mle_regression = mle_regression).fit(disp=False)\n",
    "\n",
    "                                    data = [[models, (order), (seasonal), model.aic, model.bic, model.hqic]]\n",
    "                                    dd = pd.DataFrame(data = data, columns = ['model','Order', 'SeasonalOrder', 'Aic', 'Bic', 'Hqic'])\n",
    "                                    L.append(dd)\n",
    "                                except:\n",
    "                                    continue\n",
    "    df = pd.concat(L, ignore_index=True)\n",
    "    return df\n"
   ]
  },
  {
   "cell_type": "code",
   "execution_count": 3,
   "metadata": {},
   "outputs": [
    {
     "name": "stdout",
     "output_type": "stream",
     "text": [
      "Performing stepwise search to minimize aic\n",
      " ARIMA(0,1,0)(0,1,0)[12]             : AIC=4718.993, Time=0.26 sec\n",
      " ARIMA(1,1,0)(1,1,0)[12]             : AIC=4159.076, Time=0.93 sec\n",
      " ARIMA(0,1,1)(0,1,1)[12]             : AIC=inf, Time=12.09 sec\n",
      " ARIMA(1,1,0)(0,1,0)[12]             : AIC=4707.145, Time=0.32 sec\n",
      " ARIMA(1,1,0)(2,1,0)[12]             : AIC=3923.013, Time=1.47 sec\n",
      " ARIMA(1,1,0)(2,1,1)[12]             : AIC=inf, Time=20.76 sec\n",
      " ARIMA(1,1,0)(1,1,1)[12]             : AIC=inf, Time=8.93 sec\n",
      " ARIMA(0,1,0)(2,1,0)[12]             : AIC=3934.017, Time=0.91 sec\n",
      " ARIMA(2,1,0)(2,1,0)[12]             : AIC=3924.900, Time=1.93 sec\n",
      " ARIMA(1,1,1)(2,1,0)[12]             : AIC=3924.874, Time=1.95 sec\n",
      " ARIMA(0,1,1)(2,1,0)[12]             : AIC=3922.886, Time=1.53 sec\n",
      " ARIMA(0,1,1)(1,1,0)[12]             : AIC=4159.218, Time=0.93 sec\n",
      " ARIMA(0,1,1)(2,1,1)[12]             : AIC=inf, Time=23.52 sec\n",
      " ARIMA(0,1,1)(1,1,1)[12]             : AIC=inf, Time=11.39 sec\n",
      " ARIMA(0,1,2)(2,1,0)[12]             : AIC=3924.875, Time=1.86 sec\n",
      " ARIMA(1,1,2)(2,1,0)[12]             : AIC=inf, Time=21.53 sec\n",
      " ARIMA(0,1,1)(2,1,0)[12] intercept   : AIC=3924.878, Time=6.37 sec\n",
      "\n",
      "Best model:  ARIMA(0,1,1)(2,1,0)[12]          \n",
      "Total fit time: 116.686 seconds\n"
     ]
    }
   ],
   "source": [
    "model = auto_arima(ts.Close, start_p=0, start_q=0,\n",
    "                           max_p=2, max_q=2, m=12,\n",
    "                           start_P=0, start_Q = 0, seasonal=True,\n",
    "                           d=1, D=1, trace=True,\n",
    "                           error_action='ignore',  \n",
    "                           suppress_warnings=True, \n",
    "                           stepwise=True)"
   ]
  },
  {
   "cell_type": "code",
   "execution_count": 15,
   "metadata": {},
   "outputs": [
    {
     "data": {
      "text/plain": [
       "(2, 1, 0, 12)"
      ]
     },
     "execution_count": 15,
     "metadata": {},
     "output_type": "execute_result"
    }
   ],
   "source": [
    "model.seasonal_order"
   ]
  },
  {
   "cell_type": "code",
   "execution_count": null,
   "metadata": {},
   "outputs": [],
   "source": []
  }
 ],
 "metadata": {
  "kernelspec": {
   "display_name": "Python 3",
   "language": "python",
   "name": "python3"
  },
  "language_info": {
   "codemirror_mode": {
    "name": "ipython",
    "version": 3
   },
   "file_extension": ".py",
   "mimetype": "text/x-python",
   "name": "python",
   "nbconvert_exporter": "python",
   "pygments_lexer": "ipython3",
   "version": "3.8.5"
  }
 },
 "nbformat": 4,
 "nbformat_minor": 4
}
