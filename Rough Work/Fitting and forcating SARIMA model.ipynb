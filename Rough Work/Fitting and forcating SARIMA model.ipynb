{
 "cells": [
  {
   "cell_type": "code",
   "execution_count": 33,
   "metadata": {},
   "outputs": [],
   "source": [
    "#! pip install pandas-datareader\n",
    "#! pip install pmdarima\n",
    "#! pip install plotly\n",
    "import numpy as np\n",
    "from pandas_datareader import DataReader # pip install pandas-datareader\n",
    "from pandas_datareader import data\n",
    "from datetime import datetime\n",
    "from pmdarima.arima import *\n",
    "from pmdarima import preprocessing\n",
    "from scipy import stats\n",
    "\n",
    "\n",
    "\n",
    "from statsmodels import api as sm\n",
    "from statsmodels.tsa.seasonal import seasonal_decompose\n",
    "\n",
    "import pandas as pd\n",
    "import pmdarima as pm\n",
    "import plotly.graph_objects as go\n",
    "import plotly.express as px\n",
    " \n",
    "start = pd.to_datetime('2010-01-01') # in YYYY-MM-DD format\n",
    "end = pd.to_datetime('2018-01-01')\n",
    "ts = data.DataReader('NDAQ', 'yahoo', start , end) # here 'yahoo' is the API to yahoo"
   ]
  },
  {
   "cell_type": "code",
   "execution_count": 34,
   "metadata": {},
   "outputs": [],
   "source": [
    "#transformed data\n",
    "normalised_Data, fitted_lambda = stats.boxcox(ts.Close)"
   ]
  },
  {
   "cell_type": "code",
   "execution_count": 35,
   "metadata": {},
   "outputs": [
    {
     "data": {
      "text/plain": [
       "array([2.31781704, 2.31953147, 2.31924619, ..., 3.00129444, 3.00325765,\n",
       "       3.00420594])"
      ]
     },
     "execution_count": 35,
     "metadata": {},
     "output_type": "execute_result"
    }
   ],
   "source": [
    "normalised_Data"
   ]
  },
  {
   "cell_type": "code",
   "execution_count": 36,
   "metadata": {},
   "outputs": [],
   "source": [
    "#define model\n",
    "#for raw data\n",
    "my_order1 = (0,1,1)\n",
    "my_seasonal_order1=(2,1,0,12)\n",
    "#for normalised data\n",
    "my_order2 = (1,0,1)\n",
    "my_seasonal_order2=(0,1,1,12)\n",
    "#can find and add trend parameter\n",
    "model = sm.tsa.statespace.SARIMAX(normalised_Data, order=my_order2, seasonal_order=my_seasonal_order2)"
   ]
  },
  {
   "cell_type": "code",
   "execution_count": 37,
   "metadata": {},
   "outputs": [],
   "source": [
    "import warnings\n",
    "from statsmodels.tools.sm_exceptions import ConvergenceWarning\n",
    "warnings.simplefilter('ignore', ConvergenceWarning)\n",
    "\n",
    "#fit model\n",
    "model_fit = model.fit()"
   ]
  },
  {
   "cell_type": "code",
   "execution_count": 38,
   "metadata": {},
   "outputs": [],
   "source": [
    "#one step forcast\n",
    "yhat = model_fit.forecast()"
   ]
  },
  {
   "cell_type": "code",
   "execution_count": 39,
   "metadata": {},
   "outputs": [],
   "source": [
    "yhat2 = model_fit.predict(start=len(normalised_Data)+1, end=len(normalised_Data)+10)"
   ]
  },
  {
   "cell_type": "code",
   "execution_count": 40,
   "metadata": {},
   "outputs": [
    {
     "name": "stdout",
     "output_type": "stream",
     "text": [
      "[3.0032108  3.00216883 3.00192179 3.00174174 3.00109579 3.00179556\n",
      " 3.00236897 3.0030879  3.00161661 3.00106116]\n"
     ]
    }
   ],
   "source": [
    "print(yhat2)"
   ]
  },
  {
   "cell_type": "code",
   "execution_count": 45,
   "metadata": {},
   "outputs": [],
   "source": [
    "from scipy import special\n",
    "forcasted_OG_data = special.inv_boxcox(yhat2, fitted_lambda)"
   ]
  },
  {
   "cell_type": "code",
   "execution_count": 46,
   "metadata": {},
   "outputs": [
    {
     "name": "stdout",
     "output_type": "stream",
     "text": [
      "[76.66210291 76.48676812 76.44526763 76.4150369  76.30669977 76.424071\n",
      " 76.52040831 76.6413971  76.39403686 76.30089699]\n"
     ]
    }
   ],
   "source": [
    "print(forcasted_OG_data)"
   ]
  },
  {
   "cell_type": "code",
   "execution_count": null,
   "metadata": {},
   "outputs": [],
   "source": []
  }
 ],
 "metadata": {
  "kernelspec": {
   "display_name": "Python 3",
   "language": "python",
   "name": "python3"
  },
  "language_info": {
   "codemirror_mode": {
    "name": "ipython",
    "version": 3
   },
   "file_extension": ".py",
   "mimetype": "text/x-python",
   "name": "python",
   "nbconvert_exporter": "python",
   "pygments_lexer": "ipython3",
   "version": "3.8.5"
  }
 },
 "nbformat": 4,
 "nbformat_minor": 4
}
