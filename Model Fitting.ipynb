{
 "cells": [
  {
   "cell_type": "markdown",
   "metadata": {
    "extensions": {
     "jupyter_dashboards": {
      "version": 1,
      "views": {
       "grid_default": {},
       "report_default": {}
      }
     }
    }
   },
   "source": [
    "# Setup"
   ]
  },
  {
   "cell_type": "code",
   "execution_count": 32,
   "metadata": {
    "extensions": {
     "jupyter_dashboards": {
      "version": 1,
      "views": {
       "grid_default": {},
       "report_default": {}
      }
     }
    }
   },
   "outputs": [],
   "source": [
    "#! pip install pandas-datareader\n",
    "#! pip install pmdarima\n",
    "#! pip install plotly\n",
    "import numpy as np\n",
    "from pandas_datareader import DataReader # pip install pandas-datareader\n",
    "from pandas_datareader import data\n",
    "from datetime import datetime\n",
    "from pmdarima.arima import *\n",
    "from pmdarima import preprocessing\n",
    "from scipy import stats\n",
    "from scipy.stats import skew\n",
    "\n",
    "from statsmodels import api as sm\n",
    "from statsmodels.tsa.seasonal import seasonal_decompose\n",
    "\n",
    "import pandas as pd\n",
    "import pmdarima as pm\n",
    "import plotly.graph_objects as go\n",
    "import plotly.express as px\n",
    " \n",
    "start = pd.to_datetime('2010-01-01') # in YYYY-MM-DD format\n",
    "end = pd.to_datetime('2018-01-01')\n",
    "ts = data.DataReader('NDAQ', 'yahoo', start , end) # here 'yahoo' is the API to yahoo\n",
    "\n",
    "train = ts.Close.loc['2010-01-01':'2018-01-01']\n",
    "test_7 = ts.Close.loc['2017-12-20': '2018-01-01']\n",
    "test_31 = ts.Close.loc['2017-11-15':'2018-01-01']\n",
    "two_month = ts.Close.loc['2017-10-15':'2018-01-01']"
   ]
  },
  {
   "cell_type": "markdown",
   "metadata": {
    "extensions": {
     "jupyter_dashboards": {
      "version": 1,
      "views": {
       "grid_default": {},
       "report_default": {}
      }
     }
    }
   },
   "source": [
    "# Normalisation"
   ]
  },
  {
   "cell_type": "code",
   "execution_count": 33,
   "metadata": {
    "extensions": {
     "jupyter_dashboards": {
      "version": 1,
      "views": {
       "grid_default": {},
       "report_default": {}
      }
     }
    }
   },
   "outputs": [],
   "source": [
    "# put all normalisation functions before modelling"
   ]
  },
  {
   "cell_type": "code",
   "execution_count": 34,
   "metadata": {
    "extensions": {
     "jupyter_dashboards": {
      "version": 1,
      "views": {
       "grid_default": {},
       "report_default": {}
      }
     }
    }
   },
   "outputs": [
    {
     "name": "stdout",
     "output_type": "stream",
     "text": [
      "0.043066305774378665\n",
      "0.0391631256848633\n"
     ]
    }
   ],
   "source": [
    "#transformed data\n",
    "boxCoxData, boxCox_lambda = stats.boxcox(ts.Close)\n",
    "boxCoxSkew = skew(boxCoxData)\n",
    "\n",
    "#we want to compare their absolute skewness \n",
    "if(boxCoxSkew < 0):\n",
    "    boxCoxSkew = boxCoxSkew * -1\n",
    "\n",
    "johnsonData, johnson_lambda = stats.yeojohnson(ts.Close)\n",
    "johnsonSkew = skew(johnsonData)\n",
    "\n",
    "if(johnsonSkew < 0):\n",
    "    johnsonSkew = johnsonSkew * -1\n",
    "\n",
    "#to show which is less skewed \n",
    "print(johnsonSkew)\n",
    "print(boxCoxSkew)"
   ]
  },
  {
   "cell_type": "code",
   "execution_count": 35,
   "metadata": {
    "extensions": {
     "jupyter_dashboards": {
      "version": 1,
      "views": {
       "grid_default": {},
       "report_default": {}
      }
     }
    }
   },
   "outputs": [
    {
     "data": {
      "text/plain": [
       "0.0391631256848633"
      ]
     },
     "execution_count": 35,
     "metadata": {},
     "output_type": "execute_result"
    }
   ],
   "source": [
    "#so we know what method was used, so we can reverse later. \n",
    "normaliseMethod = \"neither\"\n",
    "\n",
    "if(johnsonSkew < boxCoxSkew):\n",
    "    normalised_Data = johnsonData\n",
    "    fitted_lambda = johnson_lambda\n",
    "    normaliseMethod = \"johnson\"\n",
    "    \n",
    "#being == doesn't really matter same either way\n",
    "elif(boxCoxSkew <= johnsonSkew):\n",
    "    normalised_Data = boxCoxData\n",
    "    fitted_lambda = boxCox_lambda\n",
    "    normaliseMethod = \"boxcox\"\n",
    "\n",
    "skew(normalised_Data)\n",
    "#print(fitted_lambda)"
   ]
  },
  {
   "cell_type": "code",
   "execution_count": null,
   "metadata": {
    "extensions": {
     "jupyter_dashboards": {
      "version": 1,
      "views": {
       "grid_default": {},
       "report_default": {}
      }
     }
    },
    "scrolled": true
   },
   "outputs": [],
   "source": [
    "fig = px.line(ts.Close, x=[ts.index], y=\"Close\")\n",
    "fig.show()"
   ]
  },
  {
   "cell_type": "markdown",
   "metadata": {
    "extensions": {
     "jupyter_dashboards": {
      "version": 1,
      "views": {
       "grid_default": {},
       "report_default": {}
      }
     }
    }
   },
   "source": [
    "# Modelling Functions"
   ]
  },
  {
   "cell_type": "markdown",
   "metadata": {
    "extensions": {
     "jupyter_dashboards": {
      "version": 1,
      "views": {
       "grid_default": {},
       "report_default": {}
      }
     }
    }
   },
   "source": [
    "## Stationarity Tests:"
   ]
  },
  {
   "cell_type": "code",
   "execution_count": 30,
   "metadata": {
    "extensions": {
     "jupyter_dashboards": {
      "version": 1,
      "views": {
       "grid_default": {},
       "report_default": {}
      }
     }
    }
   },
   "outputs": [],
   "source": [
    "def testLevelStationarity(ts):\n",
    "    adf_result = sm.tsa.stattools.adfuller(ts)\n",
    "    kpps_result = sm.tsa.stattools.kpss(ts)\n",
    "    print(f'ADF p-value: {adf_result[1]}')\n",
    "    print(f'KPPS p-value: {kpps_result[1]}')\n",
    "\n",
    "    d = ndiffs(ts, test='kpss')\n",
    "    d += ndiffs(ts, test='adf')\n",
    "    d += ndiffs(ts, test='pp')\n",
    "    \n",
    "    return int(d/3)"
   ]
  },
  {
   "cell_type": "code",
   "execution_count": 31,
   "metadata": {},
   "outputs": [
    {
     "name": "stdout",
     "output_type": "stream",
     "text": [
      "ADF p-value: 0.976170301796687\n",
      "KPPS p-value: 0.01\n"
     ]
    },
    {
     "name": "stderr",
     "output_type": "stream",
     "text": [
      "C:\\Users\\Oisin Tong\\anaconda3\\lib\\site-packages\\statsmodels\\tsa\\stattools.py:1875: FutureWarning: The behavior of using nlags=None will change in release 0.13.Currently nlags=None is the same as nlags=\"legacy\", and so a sample-size lag length is used. After the next release, the default will change to be the same as nlags=\"auto\" which uses an automatic lag length selection method. To silence this warning, either use \"auto\" or \"legacy\"\n",
      "  warnings.warn(msg, FutureWarning)\n",
      "C:\\Users\\Oisin Tong\\anaconda3\\lib\\site-packages\\statsmodels\\tsa\\stattools.py:1906: InterpolationWarning: The test statistic is outside of the range of p-values available in the\n",
      "look-up table. The actual p-value is smaller than the p-value returned.\n",
      "\n",
      "  warnings.warn(\n"
     ]
    },
    {
     "data": {
      "text/plain": [
       "1"
      ]
     },
     "execution_count": 31,
     "metadata": {},
     "output_type": "execute_result"
    }
   ],
   "source": [
    "testLevelStationarity(ts.Close)"
   ]
  },
  {
   "cell_type": "markdown",
   "metadata": {
    "extensions": {
     "jupyter_dashboards": {
      "version": 1,
      "views": {
       "grid_default": {},
       "report_default": {}
      }
     }
    }
   },
   "source": [
    "## Seasonal Tests:"
   ]
  },
  {
   "cell_type": "code",
   "execution_count": null,
   "metadata": {
    "extensions": {
     "jupyter_dashboards": {
      "version": 1,
      "views": {
       "grid_default": {},
       "report_default": {}
      }
     }
    }
   },
   "outputs": [],
   "source": [
    "def seasonal_tests(data):\n",
    "     \n",
    "    result1 = pm.arima.nsdiffs(data, m=3, max_D=30, test='ch')\n",
    "    \n",
    "    print(\"CH results: \" + str(result1))\n",
    "    \n",
    "    result2 = pm.arima.nsdiffs(data, m=3, max_D=30, test='ocsb')\n",
    "    \n",
    "    print(\"OCSB results: \" + str(result2))\n",
    "    \n",
    "    return int((result1+result2)/2)\n"
   ]
  },
  {
   "cell_type": "code",
   "execution_count": null,
   "metadata": {
    "extensions": {
     "jupyter_dashboards": {
      "version": 1,
      "views": {
       "grid_default": {},
       "report_default": {}
      }
     }
    }
   },
   "outputs": [],
   "source": [
    "seasonal_tests(normalised_Data)"
   ]
  },
  {
   "cell_type": "markdown",
   "metadata": {
    "extensions": {
     "jupyter_dashboards": {
      "version": 1,
      "views": {
       "grid_default": {},
       "report_default": {}
      }
     }
    }
   },
   "source": [
    "## Lag Period:"
   ]
  },
  {
   "cell_type": "code",
   "execution_count": null,
   "metadata": {
    "extensions": {
     "jupyter_dashboards": {
      "version": 1,
      "views": {
       "grid_default": {},
       "report_default": {}
      }
     }
    }
   },
   "outputs": [],
   "source": [
    "# create a differenced series\n",
    "def difference(dataset, interval=1):\n",
    "    diff = list()\n",
    "    for i in range(interval, len(dataset)):\n",
    "        value = dataset[i] - dataset[i - interval]\n",
    "        diff.append(value)\n",
    "    return pd.DataFrame (diff,columns=['Difference'])"
   ]
  },
  {
   "cell_type": "code",
   "execution_count": null,
   "metadata": {
    "extensions": {
     "jupyter_dashboards": {
      "version": 1,
      "views": {
       "grid_default": {},
       "report_default": {}
      }
     }
    }
   },
   "outputs": [],
   "source": [
    "def find_lag_period(data):\n",
    "    \n",
    "    fig = px.line(ts.Close, x=[ts.Close.index], y=\"Close\")\n",
    "    fig.add_vline(x='2010-01-01', line_width=3, line_dash=\"dash\", line_color=\"green\")\n",
    "    fig.add_vline(x='2011-01-01', line_width=3, line_dash=\"dash\", line_color=\"green\")\n",
    "    fig.add_vline(x='2012-01-01', line_width=3, line_dash=\"dash\", line_color=\"green\")\n",
    "    fig.add_vline(x='2013-01-01', line_width=3, line_dash=\"dash\", line_color=\"green\")\n",
    "    fig.add_vline(x='2014-01-01', line_width=3, line_dash=\"dash\", line_color=\"green\")\n",
    "    fig.add_vline(x='2015-01-01', line_width=3, line_dash=\"dash\", line_color=\"green\")\n",
    "    fig.add_vline(x='2016-01-01', line_width=3, line_dash=\"dash\", line_color=\"green\")\n",
    "    fig.add_vline(x='2017-01-01', line_width=3, line_dash=\"dash\", line_color=\"green\")\n",
    "    fig.add_vline(x='2018-01-01', line_width=3, line_dash=\"dash\", line_color=\"green\")\n",
    "    fig.show()\n",
    "    \n",
    "    adf_test = ADFTest(alpha = 0.05)\n",
    "    \n",
    "    test = list()\n",
    "    lags = [365, 182, 90, 30, 14]\n",
    "    \n",
    "    # original data\n",
    "    test.append(adf_test.should_diff(data))\n",
    "    print(test[0])\n",
    "    \n",
    "    # year lag\n",
    "    test.append(adf_test.should_diff(difference(data, 365)))\n",
    "    print(test[1])\n",
    "    \n",
    "    # six months lag\n",
    "    test.append(adf_test.should_diff(difference(data, 182))) \n",
    "    print(test[2])\n",
    "    \n",
    "    # three months lag \n",
    "    test.append(adf_test.should_diff(difference(data, 90)))\n",
    "    print(test[3])\n",
    "    \n",
    "    # one month lag \n",
    "    test.append(adf_test.should_diff(difference(data, 30)))\n",
    "    print(test[4])\n",
    "    \n",
    "    # fortnight lag\n",
    "    test.append(adf_test.should_diff(difference(data, 14))) \n",
    "    print(test[5])\n",
    "    \n",
    "    # finds the first lag that doesn't need to be differenced\n",
    "    for i in range(6):\n",
    "        if (test[i][1] == False):\n",
    "            return int(lags[i])\n",
    "        \n",
    "    return -1"
   ]
  },
  {
   "cell_type": "code",
   "execution_count": null,
   "metadata": {
    "extensions": {
     "jupyter_dashboards": {
      "version": 1,
      "views": {
       "grid_default": {},
       "report_default": {}
      }
     }
    },
    "scrolled": true
   },
   "outputs": [],
   "source": [
    "print(find_lag_period(normalised_Data))\n",
    "print(find_lag_period(ts.Close))"
   ]
  },
  {
   "cell_type": "markdown",
   "metadata": {
    "extensions": {
     "jupyter_dashboards": {
      "version": 1,
      "views": {
       "grid_default": {},
       "report_default": {}
      }
     }
    }
   },
   "source": [
    "## AR & MA Tests"
   ]
  },
  {
   "cell_type": "code",
   "execution_count": 36,
   "metadata": {
    "extensions": {
     "jupyter_dashboards": {
      "version": 1,
      "views": {
       "grid_default": {},
       "report_default": {}
      }
     }
    }
   },
   "outputs": [],
   "source": [
    "def getAicBicHqic(dataset, arimaOrder, seasonalOrder):\n",
    "    \n",
    "    try:\n",
    "        model = sm.tsa.statespace.SARIMAX(dataset, order = arimaOrder, seasonal_order=seasonalOrder).fit(disp=False)\n",
    "\n",
    "        aic = model.aic\n",
    "        bic = model.bic\n",
    "        hqic = model.hqic\n",
    "        \n",
    "    \n",
    "    except:\n",
    "        pass\n",
    "    \n",
    "    return aic, bic, hqic"
   ]
  },
  {
   "cell_type": "code",
   "execution_count": 37,
   "metadata": {
    "extensions": {
     "jupyter_dashboards": {
      "version": 1,
      "views": {
       "grid_default": {},
       "report_default": {}
      }
     }
    },
    "scrolled": false
   },
   "outputs": [],
   "source": [
    "def evaluateSarimaModels(dataset, pVals, dVal, qVals, seasonalPVals, seasonalDval, seasonalQVals, m):\n",
    "    \n",
    "    L = []\n",
    "    for p in pVals:\n",
    "        for q in qVals:\n",
    "            for seasonalP in seasonalPVals:\n",
    "                for seasonalQ in seasonalQVals:\n",
    "                    try:\n",
    "                        order=(p,dVal,q)\n",
    "                        seasonalOrder = (seasonalP, seasonalDval, seasonalQ, m)\n",
    "                        \n",
    "                        model = sm.tsa.statespace.SARIMAX(dataset, order = order, seasonal_order=seasonalOrder).fit(disp=False)\n",
    "\n",
    "                        data = [[model, (p,dVal,q), (seasonalP, seasonalDval, seasonalQ, m), model.aic, model.bic, model.hqic, model.mse, model.test_heteroskedasticity(None)[0][0]]]\n",
    "                        dd = pd.DataFrame(data = data, columns = ['model','Order', 'SeasonalOrder', 'Aic', 'Bic', 'Hqic', 'Mse', 'heteroskedasticity'])\n",
    "                        L.append(dd)\n",
    "                    except:\n",
    "                        continue\n",
    "    df = pd.concat(L, ignore_index=True)\n",
    "    return df\n",
    "\n"
   ]
  },
  {
   "cell_type": "code",
   "execution_count": 38,
   "metadata": {
    "extensions": {
     "jupyter_dashboards": {
      "version": 1,
      "views": {
       "grid_default": {},
       "report_default": {}
      }
     }
    },
    "scrolled": true
   },
   "outputs": [
    {
     "name": "stderr",
     "output_type": "stream",
     "text": [
      "C:\\Users\\Oisin Tong\\anaconda3\\lib\\site-packages\\statsmodels\\base\\model.py:566: ConvergenceWarning: Maximum Likelihood optimization failed to converge. Check mle_retvals\n",
      "  warnings.warn(\"Maximum Likelihood optimization failed to \"\n",
      "C:\\Users\\Oisin Tong\\anaconda3\\lib\\site-packages\\statsmodels\\base\\model.py:566: ConvergenceWarning: Maximum Likelihood optimization failed to converge. Check mle_retvals\n",
      "  warnings.warn(\"Maximum Likelihood optimization failed to \"\n",
      "C:\\Users\\Oisin Tong\\anaconda3\\lib\\site-packages\\statsmodels\\base\\model.py:566: ConvergenceWarning: Maximum Likelihood optimization failed to converge. Check mle_retvals\n",
      "  warnings.warn(\"Maximum Likelihood optimization failed to \"\n",
      "C:\\Users\\Oisin Tong\\anaconda3\\lib\\site-packages\\statsmodels\\base\\model.py:566: ConvergenceWarning: Maximum Likelihood optimization failed to converge. Check mle_retvals\n",
      "  warnings.warn(\"Maximum Likelihood optimization failed to \"\n",
      "C:\\Users\\Oisin Tong\\anaconda3\\lib\\site-packages\\statsmodels\\base\\model.py:566: ConvergenceWarning: Maximum Likelihood optimization failed to converge. Check mle_retvals\n",
      "  warnings.warn(\"Maximum Likelihood optimization failed to \"\n",
      "C:\\Users\\Oisin Tong\\anaconda3\\lib\\site-packages\\statsmodels\\base\\model.py:566: ConvergenceWarning: Maximum Likelihood optimization failed to converge. Check mle_retvals\n",
      "  warnings.warn(\"Maximum Likelihood optimization failed to \"\n",
      "C:\\Users\\Oisin Tong\\anaconda3\\lib\\site-packages\\statsmodels\\base\\model.py:566: ConvergenceWarning: Maximum Likelihood optimization failed to converge. Check mle_retvals\n",
      "  warnings.warn(\"Maximum Likelihood optimization failed to \"\n",
      "C:\\Users\\Oisin Tong\\anaconda3\\lib\\site-packages\\statsmodels\\base\\model.py:566: ConvergenceWarning: Maximum Likelihood optimization failed to converge. Check mle_retvals\n",
      "  warnings.warn(\"Maximum Likelihood optimization failed to \"\n",
      "C:\\Users\\Oisin Tong\\anaconda3\\lib\\site-packages\\statsmodels\\base\\model.py:566: ConvergenceWarning: Maximum Likelihood optimization failed to converge. Check mle_retvals\n",
      "  warnings.warn(\"Maximum Likelihood optimization failed to \"\n",
      "C:\\Users\\Oisin Tong\\anaconda3\\lib\\site-packages\\statsmodels\\base\\model.py:566: ConvergenceWarning: Maximum Likelihood optimization failed to converge. Check mle_retvals\n",
      "  warnings.warn(\"Maximum Likelihood optimization failed to \"\n",
      "C:\\Users\\Oisin Tong\\anaconda3\\lib\\site-packages\\statsmodels\\base\\model.py:566: ConvergenceWarning: Maximum Likelihood optimization failed to converge. Check mle_retvals\n",
      "  warnings.warn(\"Maximum Likelihood optimization failed to \"\n",
      "C:\\Users\\Oisin Tong\\anaconda3\\lib\\site-packages\\statsmodels\\base\\model.py:566: ConvergenceWarning: Maximum Likelihood optimization failed to converge. Check mle_retvals\n",
      "  warnings.warn(\"Maximum Likelihood optimization failed to \"\n",
      "C:\\Users\\Oisin Tong\\anaconda3\\lib\\site-packages\\statsmodels\\base\\model.py:566: ConvergenceWarning: Maximum Likelihood optimization failed to converge. Check mle_retvals\n",
      "  warnings.warn(\"Maximum Likelihood optimization failed to \"\n",
      "C:\\Users\\Oisin Tong\\anaconda3\\lib\\site-packages\\statsmodels\\base\\model.py:566: ConvergenceWarning: Maximum Likelihood optimization failed to converge. Check mle_retvals\n",
      "  warnings.warn(\"Maximum Likelihood optimization failed to \"\n",
      "C:\\Users\\Oisin Tong\\anaconda3\\lib\\site-packages\\statsmodels\\base\\model.py:566: ConvergenceWarning: Maximum Likelihood optimization failed to converge. Check mle_retvals\n",
      "  warnings.warn(\"Maximum Likelihood optimization failed to \"\n",
      "C:\\Users\\Oisin Tong\\anaconda3\\lib\\site-packages\\statsmodels\\base\\model.py:566: ConvergenceWarning: Maximum Likelihood optimization failed to converge. Check mle_retvals\n",
      "  warnings.warn(\"Maximum Likelihood optimization failed to \"\n",
      "C:\\Users\\Oisin Tong\\anaconda3\\lib\\site-packages\\statsmodels\\base\\model.py:566: ConvergenceWarning: Maximum Likelihood optimization failed to converge. Check mle_retvals\n",
      "  warnings.warn(\"Maximum Likelihood optimization failed to \"\n",
      "C:\\Users\\Oisin Tong\\anaconda3\\lib\\site-packages\\statsmodels\\base\\model.py:566: ConvergenceWarning: Maximum Likelihood optimization failed to converge. Check mle_retvals\n",
      "  warnings.warn(\"Maximum Likelihood optimization failed to \"\n",
      "C:\\Users\\Oisin Tong\\anaconda3\\lib\\site-packages\\statsmodels\\base\\model.py:566: ConvergenceWarning: Maximum Likelihood optimization failed to converge. Check mle_retvals\n",
      "  warnings.warn(\"Maximum Likelihood optimization failed to \"\n",
      "C:\\Users\\Oisin Tong\\anaconda3\\lib\\site-packages\\statsmodels\\base\\model.py:566: ConvergenceWarning: Maximum Likelihood optimization failed to converge. Check mle_retvals\n",
      "  warnings.warn(\"Maximum Likelihood optimization failed to \"\n",
      "C:\\Users\\Oisin Tong\\anaconda3\\lib\\site-packages\\statsmodels\\base\\model.py:566: ConvergenceWarning: Maximum Likelihood optimization failed to converge. Check mle_retvals\n",
      "  warnings.warn(\"Maximum Likelihood optimization failed to \"\n",
      "C:\\Users\\Oisin Tong\\anaconda3\\lib\\site-packages\\statsmodels\\base\\model.py:566: ConvergenceWarning: Maximum Likelihood optimization failed to converge. Check mle_retvals\n",
      "  warnings.warn(\"Maximum Likelihood optimization failed to \"\n",
      "C:\\Users\\Oisin Tong\\anaconda3\\lib\\site-packages\\statsmodels\\base\\model.py:566: ConvergenceWarning: Maximum Likelihood optimization failed to converge. Check mle_retvals\n",
      "  warnings.warn(\"Maximum Likelihood optimization failed to \"\n",
      "C:\\Users\\Oisin Tong\\anaconda3\\lib\\site-packages\\statsmodels\\base\\model.py:566: ConvergenceWarning: Maximum Likelihood optimization failed to converge. Check mle_retvals\n",
      "  warnings.warn(\"Maximum Likelihood optimization failed to \"\n",
      "C:\\Users\\Oisin Tong\\anaconda3\\lib\\site-packages\\statsmodels\\base\\model.py:566: ConvergenceWarning: Maximum Likelihood optimization failed to converge. Check mle_retvals\n",
      "  warnings.warn(\"Maximum Likelihood optimization failed to \"\n",
      "C:\\Users\\Oisin Tong\\anaconda3\\lib\\site-packages\\statsmodels\\base\\model.py:566: ConvergenceWarning: Maximum Likelihood optimization failed to converge. Check mle_retvals\n",
      "  warnings.warn(\"Maximum Likelihood optimization failed to \"\n",
      "C:\\Users\\Oisin Tong\\anaconda3\\lib\\site-packages\\statsmodels\\base\\model.py:566: ConvergenceWarning: Maximum Likelihood optimization failed to converge. Check mle_retvals\n",
      "  warnings.warn(\"Maximum Likelihood optimization failed to \"\n",
      "C:\\Users\\Oisin Tong\\anaconda3\\lib\\site-packages\\statsmodels\\base\\model.py:566: ConvergenceWarning: Maximum Likelihood optimization failed to converge. Check mle_retvals\n",
      "  warnings.warn(\"Maximum Likelihood optimization failed to \"\n",
      "C:\\Users\\Oisin Tong\\anaconda3\\lib\\site-packages\\statsmodels\\base\\model.py:566: ConvergenceWarning: Maximum Likelihood optimization failed to converge. Check mle_retvals\n",
      "  warnings.warn(\"Maximum Likelihood optimization failed to \"\n",
      "C:\\Users\\Oisin Tong\\anaconda3\\lib\\site-packages\\statsmodels\\base\\model.py:566: ConvergenceWarning: Maximum Likelihood optimization failed to converge. Check mle_retvals\n",
      "  warnings.warn(\"Maximum Likelihood optimization failed to \"\n",
      "C:\\Users\\Oisin Tong\\anaconda3\\lib\\site-packages\\statsmodels\\base\\model.py:566: ConvergenceWarning: Maximum Likelihood optimization failed to converge. Check mle_retvals\n",
      "  warnings.warn(\"Maximum Likelihood optimization failed to \"\n",
      "C:\\Users\\Oisin Tong\\anaconda3\\lib\\site-packages\\statsmodels\\base\\model.py:566: ConvergenceWarning: Maximum Likelihood optimization failed to converge. Check mle_retvals\n",
      "  warnings.warn(\"Maximum Likelihood optimization failed to \"\n",
      "C:\\Users\\Oisin Tong\\anaconda3\\lib\\site-packages\\statsmodels\\base\\model.py:566: ConvergenceWarning: Maximum Likelihood optimization failed to converge. Check mle_retvals\n",
      "  warnings.warn(\"Maximum Likelihood optimization failed to \"\n",
      "C:\\Users\\Oisin Tong\\anaconda3\\lib\\site-packages\\statsmodels\\base\\model.py:566: ConvergenceWarning: Maximum Likelihood optimization failed to converge. Check mle_retvals\n",
      "  warnings.warn(\"Maximum Likelihood optimization failed to \"\n",
      "C:\\Users\\Oisin Tong\\anaconda3\\lib\\site-packages\\statsmodels\\base\\model.py:566: ConvergenceWarning: Maximum Likelihood optimization failed to converge. Check mle_retvals\n",
      "  warnings.warn(\"Maximum Likelihood optimization failed to \"\n",
      "C:\\Users\\Oisin Tong\\anaconda3\\lib\\site-packages\\statsmodels\\base\\model.py:566: ConvergenceWarning: Maximum Likelihood optimization failed to converge. Check mle_retvals\n",
      "  warnings.warn(\"Maximum Likelihood optimization failed to \"\n"
     ]
    },
    {
     "name": "stderr",
     "output_type": "stream",
     "text": [
      "C:\\Users\\Oisin Tong\\anaconda3\\lib\\site-packages\\statsmodels\\base\\model.py:566: ConvergenceWarning: Maximum Likelihood optimization failed to converge. Check mle_retvals\n",
      "  warnings.warn(\"Maximum Likelihood optimization failed to \"\n",
      "C:\\Users\\Oisin Tong\\anaconda3\\lib\\site-packages\\statsmodels\\base\\model.py:566: ConvergenceWarning: Maximum Likelihood optimization failed to converge. Check mle_retvals\n",
      "  warnings.warn(\"Maximum Likelihood optimization failed to \"\n",
      "C:\\Users\\Oisin Tong\\anaconda3\\lib\\site-packages\\statsmodels\\base\\model.py:566: ConvergenceWarning: Maximum Likelihood optimization failed to converge. Check mle_retvals\n",
      "  warnings.warn(\"Maximum Likelihood optimization failed to \"\n",
      "C:\\Users\\Oisin Tong\\anaconda3\\lib\\site-packages\\statsmodels\\tsa\\statespace\\sarimax.py:966: UserWarning: Non-stationary starting autoregressive parameters found. Using zeros as starting parameters.\n",
      "  warn('Non-stationary starting autoregressive parameters'\n",
      "C:\\Users\\Oisin Tong\\anaconda3\\lib\\site-packages\\statsmodels\\tsa\\statespace\\sarimax.py:978: UserWarning: Non-invertible starting MA parameters found. Using zeros as starting parameters.\n",
      "  warn('Non-invertible starting MA parameters found.'\n",
      "C:\\Users\\Oisin Tong\\anaconda3\\lib\\site-packages\\statsmodels\\base\\model.py:566: ConvergenceWarning: Maximum Likelihood optimization failed to converge. Check mle_retvals\n",
      "  warnings.warn(\"Maximum Likelihood optimization failed to \"\n",
      "C:\\Users\\Oisin Tong\\anaconda3\\lib\\site-packages\\statsmodels\\base\\model.py:566: ConvergenceWarning: Maximum Likelihood optimization failed to converge. Check mle_retvals\n",
      "  warnings.warn(\"Maximum Likelihood optimization failed to \"\n",
      "C:\\Users\\Oisin Tong\\anaconda3\\lib\\site-packages\\statsmodels\\base\\model.py:566: ConvergenceWarning: Maximum Likelihood optimization failed to converge. Check mle_retvals\n",
      "  warnings.warn(\"Maximum Likelihood optimization failed to \"\n",
      "C:\\Users\\Oisin Tong\\anaconda3\\lib\\site-packages\\statsmodels\\base\\model.py:566: ConvergenceWarning: Maximum Likelihood optimization failed to converge. Check mle_retvals\n",
      "  warnings.warn(\"Maximum Likelihood optimization failed to \"\n",
      "C:\\Users\\Oisin Tong\\anaconda3\\lib\\site-packages\\statsmodels\\base\\model.py:566: ConvergenceWarning: Maximum Likelihood optimization failed to converge. Check mle_retvals\n",
      "  warnings.warn(\"Maximum Likelihood optimization failed to \"\n"
     ]
    },
    {
     "data": {
      "text/html": [
       "<div>\n",
       "<style scoped>\n",
       "    .dataframe tbody tr th:only-of-type {\n",
       "        vertical-align: middle;\n",
       "    }\n",
       "\n",
       "    .dataframe tbody tr th {\n",
       "        vertical-align: top;\n",
       "    }\n",
       "\n",
       "    .dataframe thead th {\n",
       "        text-align: right;\n",
       "    }\n",
       "</style>\n",
       "<table border=\"1\" class=\"dataframe\">\n",
       "  <thead>\n",
       "    <tr style=\"text-align: right;\">\n",
       "      <th></th>\n",
       "      <th>model</th>\n",
       "      <th>Order</th>\n",
       "      <th>SeasonalOrder</th>\n",
       "      <th>Aic</th>\n",
       "      <th>Bic</th>\n",
       "      <th>Hqic</th>\n",
       "      <th>Mse</th>\n",
       "      <th>heteroskedasticity</th>\n",
       "    </tr>\n",
       "  </thead>\n",
       "  <tbody>\n",
       "    <tr>\n",
       "      <th>0</th>\n",
       "      <td>&lt;statsmodels.tsa.statespace.sarimax.SARIMAXRes...</td>\n",
       "      <td>(0, 1, 0)</td>\n",
       "      <td>(0, 1, 0, 7)</td>\n",
       "      <td>-12074.339527</td>\n",
       "      <td>-12068.736128</td>\n",
       "      <td>-12072.282336</td>\n",
       "      <td>0.003471</td>\n",
       "      <td>0.226358</td>\n",
       "    </tr>\n",
       "    <tr>\n",
       "      <th>1</th>\n",
       "      <td>&lt;statsmodels.tsa.statespace.sarimax.SARIMAXRes...</td>\n",
       "      <td>(0, 1, 0)</td>\n",
       "      <td>(0, 1, 1, 7)</td>\n",
       "      <td>-13427.089823</td>\n",
       "      <td>-13415.883024</td>\n",
       "      <td>-13422.975441</td>\n",
       "      <td>0.003402</td>\n",
       "      <td>0.224102</td>\n",
       "    </tr>\n",
       "    <tr>\n",
       "      <th>2</th>\n",
       "      <td>&lt;statsmodels.tsa.statespace.sarimax.SARIMAXRes...</td>\n",
       "      <td>(0, 1, 0)</td>\n",
       "      <td>(0, 1, 2, 7)</td>\n",
       "      <td>-13294.811800</td>\n",
       "      <td>-13278.001602</td>\n",
       "      <td>-13288.640227</td>\n",
       "      <td>0.003407</td>\n",
       "      <td>0.226182</td>\n",
       "    </tr>\n",
       "    <tr>\n",
       "      <th>3</th>\n",
       "      <td>&lt;statsmodels.tsa.statespace.sarimax.SARIMAXRes...</td>\n",
       "      <td>(0, 1, 0)</td>\n",
       "      <td>(1, 1, 0, 7)</td>\n",
       "      <td>-12626.420172</td>\n",
       "      <td>-12615.213374</td>\n",
       "      <td>-12622.305791</td>\n",
       "      <td>0.003437</td>\n",
       "      <td>0.237493</td>\n",
       "    </tr>\n",
       "    <tr>\n",
       "      <th>4</th>\n",
       "      <td>&lt;statsmodels.tsa.statespace.sarimax.SARIMAXRes...</td>\n",
       "      <td>(0, 1, 0)</td>\n",
       "      <td>(1, 1, 1, 7)</td>\n",
       "      <td>-13425.089433</td>\n",
       "      <td>-13408.279235</td>\n",
       "      <td>-13418.917860</td>\n",
       "      <td>0.003402</td>\n",
       "      <td>0.224111</td>\n",
       "    </tr>\n",
       "    <tr>\n",
       "      <th>...</th>\n",
       "      <td>...</td>\n",
       "      <td>...</td>\n",
       "      <td>...</td>\n",
       "      <td>...</td>\n",
       "      <td>...</td>\n",
       "      <td>...</td>\n",
       "      <td>...</td>\n",
       "      <td>...</td>\n",
       "    </tr>\n",
       "    <tr>\n",
       "      <th>76</th>\n",
       "      <td>&lt;statsmodels.tsa.statespace.sarimax.SARIMAXRes...</td>\n",
       "      <td>(2, 1, 2)</td>\n",
       "      <td>(1, 1, 1, 7)</td>\n",
       "      <td>-13448.688495</td>\n",
       "      <td>-13409.464699</td>\n",
       "      <td>-13434.288159</td>\n",
       "      <td>0.003401</td>\n",
       "      <td>0.232378</td>\n",
       "    </tr>\n",
       "    <tr>\n",
       "      <th>77</th>\n",
       "      <td>&lt;statsmodels.tsa.statespace.sarimax.SARIMAXRes...</td>\n",
       "      <td>(2, 1, 2)</td>\n",
       "      <td>(1, 1, 2, 7)</td>\n",
       "      <td>-13450.643834</td>\n",
       "      <td>-13405.816640</td>\n",
       "      <td>-13434.186307</td>\n",
       "      <td>0.003401</td>\n",
       "      <td>0.233239</td>\n",
       "    </tr>\n",
       "    <tr>\n",
       "      <th>78</th>\n",
       "      <td>&lt;statsmodels.tsa.statespace.sarimax.SARIMAXRes...</td>\n",
       "      <td>(2, 1, 2)</td>\n",
       "      <td>(2, 1, 0, 7)</td>\n",
       "      <td>-12865.370509</td>\n",
       "      <td>-12826.146714</td>\n",
       "      <td>-12850.970173</td>\n",
       "      <td>0.003425</td>\n",
       "      <td>0.229605</td>\n",
       "    </tr>\n",
       "    <tr>\n",
       "      <th>79</th>\n",
       "      <td>&lt;statsmodels.tsa.statespace.sarimax.SARIMAXRes...</td>\n",
       "      <td>(2, 1, 2)</td>\n",
       "      <td>(2, 1, 1, 7)</td>\n",
       "      <td>-13398.995153</td>\n",
       "      <td>-13354.167958</td>\n",
       "      <td>-13382.537626</td>\n",
       "      <td>0.003403</td>\n",
       "      <td>0.229199</td>\n",
       "    </tr>\n",
       "    <tr>\n",
       "      <th>80</th>\n",
       "      <td>&lt;statsmodels.tsa.statespace.sarimax.SARIMAXRes...</td>\n",
       "      <td>(2, 1, 2)</td>\n",
       "      <td>(2, 1, 2, 7)</td>\n",
       "      <td>-13443.679355</td>\n",
       "      <td>-13393.248761</td>\n",
       "      <td>-13425.164637</td>\n",
       "      <td>0.003401</td>\n",
       "      <td>0.230595</td>\n",
       "    </tr>\n",
       "  </tbody>\n",
       "</table>\n",
       "<p>81 rows × 8 columns</p>\n",
       "</div>"
      ],
      "text/plain": [
       "                                                model      Order  \\\n",
       "0   <statsmodels.tsa.statespace.sarimax.SARIMAXRes...  (0, 1, 0)   \n",
       "1   <statsmodels.tsa.statespace.sarimax.SARIMAXRes...  (0, 1, 0)   \n",
       "2   <statsmodels.tsa.statespace.sarimax.SARIMAXRes...  (0, 1, 0)   \n",
       "3   <statsmodels.tsa.statespace.sarimax.SARIMAXRes...  (0, 1, 0)   \n",
       "4   <statsmodels.tsa.statespace.sarimax.SARIMAXRes...  (0, 1, 0)   \n",
       "..                                                ...        ...   \n",
       "76  <statsmodels.tsa.statespace.sarimax.SARIMAXRes...  (2, 1, 2)   \n",
       "77  <statsmodels.tsa.statespace.sarimax.SARIMAXRes...  (2, 1, 2)   \n",
       "78  <statsmodels.tsa.statespace.sarimax.SARIMAXRes...  (2, 1, 2)   \n",
       "79  <statsmodels.tsa.statespace.sarimax.SARIMAXRes...  (2, 1, 2)   \n",
       "80  <statsmodels.tsa.statespace.sarimax.SARIMAXRes...  (2, 1, 2)   \n",
       "\n",
       "   SeasonalOrder           Aic           Bic          Hqic       Mse  \\\n",
       "0   (0, 1, 0, 7) -12074.339527 -12068.736128 -12072.282336  0.003471   \n",
       "1   (0, 1, 1, 7) -13427.089823 -13415.883024 -13422.975441  0.003402   \n",
       "2   (0, 1, 2, 7) -13294.811800 -13278.001602 -13288.640227  0.003407   \n",
       "3   (1, 1, 0, 7) -12626.420172 -12615.213374 -12622.305791  0.003437   \n",
       "4   (1, 1, 1, 7) -13425.089433 -13408.279235 -13418.917860  0.003402   \n",
       "..           ...           ...           ...           ...       ...   \n",
       "76  (1, 1, 1, 7) -13448.688495 -13409.464699 -13434.288159  0.003401   \n",
       "77  (1, 1, 2, 7) -13450.643834 -13405.816640 -13434.186307  0.003401   \n",
       "78  (2, 1, 0, 7) -12865.370509 -12826.146714 -12850.970173  0.003425   \n",
       "79  (2, 1, 1, 7) -13398.995153 -13354.167958 -13382.537626  0.003403   \n",
       "80  (2, 1, 2, 7) -13443.679355 -13393.248761 -13425.164637  0.003401   \n",
       "\n",
       "    heteroskedasticity  \n",
       "0             0.226358  \n",
       "1             0.224102  \n",
       "2             0.226182  \n",
       "3             0.237493  \n",
       "4             0.224111  \n",
       "..                 ...  \n",
       "76            0.232378  \n",
       "77            0.233239  \n",
       "78            0.229605  \n",
       "79            0.229199  \n",
       "80            0.230595  \n",
       "\n",
       "[81 rows x 8 columns]"
      ]
     },
     "execution_count": 38,
     "metadata": {},
     "output_type": "execute_result"
    }
   ],
   "source": [
    "df = evaluateSarimaModels(normalised_Data, [0,1,2], 1, [0,1,2], [0,1,2], 1, [0,1,2], 7)\n",
    "\n",
    "df"
   ]
  },
  {
   "cell_type": "code",
   "execution_count": 39,
   "metadata": {
    "extensions": {
     "jupyter_dashboards": {
      "version": 1,
      "views": {
       "grid_default": {},
       "report_default": {}
      }
     }
    }
   },
   "outputs": [
    {
     "data": {
      "text/html": [
       "<div>\n",
       "<style scoped>\n",
       "    .dataframe tbody tr th:only-of-type {\n",
       "        vertical-align: middle;\n",
       "    }\n",
       "\n",
       "    .dataframe tbody tr th {\n",
       "        vertical-align: top;\n",
       "    }\n",
       "\n",
       "    .dataframe thead th {\n",
       "        text-align: right;\n",
       "    }\n",
       "</style>\n",
       "<table border=\"1\" class=\"dataframe\">\n",
       "  <thead>\n",
       "    <tr style=\"text-align: right;\">\n",
       "      <th></th>\n",
       "      <th>model</th>\n",
       "      <th>Order</th>\n",
       "      <th>SeasonalOrder</th>\n",
       "      <th>Aic</th>\n",
       "      <th>Bic</th>\n",
       "      <th>Hqic</th>\n",
       "      <th>Mse</th>\n",
       "      <th>heteroskedasticity</th>\n",
       "    </tr>\n",
       "  </thead>\n",
       "  <tbody>\n",
       "    <tr>\n",
       "      <th>28</th>\n",
       "      <td>&lt;statsmodels.tsa.statespace.sarimax.SARIMAXRes...</td>\n",
       "      <td>(1, 1, 0)</td>\n",
       "      <td>(0, 1, 1, 7)</td>\n",
       "      <td>-13452.613113</td>\n",
       "      <td>-13435.802915</td>\n",
       "      <td>-13446.441540</td>\n",
       "      <td>0.003401</td>\n",
       "      <td>0.229729</td>\n",
       "    </tr>\n",
       "    <tr>\n",
       "      <th>32</th>\n",
       "      <td>&lt;statsmodels.tsa.statespace.sarimax.SARIMAXRes...</td>\n",
       "      <td>(1, 1, 0)</td>\n",
       "      <td>(1, 1, 2, 7)</td>\n",
       "      <td>-13452.272518</td>\n",
       "      <td>-13424.255522</td>\n",
       "      <td>-13441.986564</td>\n",
       "      <td>0.003401</td>\n",
       "      <td>0.230103</td>\n",
       "    </tr>\n",
       "    <tr>\n",
       "      <th>64</th>\n",
       "      <td>&lt;statsmodels.tsa.statespace.sarimax.SARIMAXRes...</td>\n",
       "      <td>(2, 1, 1)</td>\n",
       "      <td>(0, 1, 1, 7)</td>\n",
       "      <td>-13451.783664</td>\n",
       "      <td>-13423.766667</td>\n",
       "      <td>-13441.497710</td>\n",
       "      <td>0.003401</td>\n",
       "      <td>0.232350</td>\n",
       "    </tr>\n",
       "    <tr>\n",
       "      <th>55</th>\n",
       "      <td>&lt;statsmodels.tsa.statespace.sarimax.SARIMAXRes...</td>\n",
       "      <td>(2, 1, 0)</td>\n",
       "      <td>(0, 1, 1, 7)</td>\n",
       "      <td>-13451.417839</td>\n",
       "      <td>-13429.004242</td>\n",
       "      <td>-13443.189076</td>\n",
       "      <td>0.003401</td>\n",
       "      <td>0.230682</td>\n",
       "    </tr>\n",
       "    <tr>\n",
       "      <th>10</th>\n",
       "      <td>&lt;statsmodels.tsa.statespace.sarimax.SARIMAXRes...</td>\n",
       "      <td>(0, 1, 1)</td>\n",
       "      <td>(0, 1, 1, 7)</td>\n",
       "      <td>-13451.370682</td>\n",
       "      <td>-13434.560484</td>\n",
       "      <td>-13445.199109</td>\n",
       "      <td>0.003402</td>\n",
       "      <td>0.228810</td>\n",
       "    </tr>\n",
       "    <tr>\n",
       "      <th>...</th>\n",
       "      <td>...</td>\n",
       "      <td>...</td>\n",
       "      <td>...</td>\n",
       "      <td>...</td>\n",
       "      <td>...</td>\n",
       "      <td>...</td>\n",
       "      <td>...</td>\n",
       "      <td>...</td>\n",
       "    </tr>\n",
       "    <tr>\n",
       "      <th>18</th>\n",
       "      <td>&lt;statsmodels.tsa.statespace.sarimax.SARIMAXRes...</td>\n",
       "      <td>(0, 1, 2)</td>\n",
       "      <td>(0, 1, 0, 7)</td>\n",
       "      <td>-12101.925039</td>\n",
       "      <td>-12085.114841</td>\n",
       "      <td>-12095.753466</td>\n",
       "      <td>0.003469</td>\n",
       "      <td>0.238053</td>\n",
       "    </tr>\n",
       "    <tr>\n",
       "      <th>27</th>\n",
       "      <td>&lt;statsmodels.tsa.statespace.sarimax.SARIMAXRes...</td>\n",
       "      <td>(1, 1, 0)</td>\n",
       "      <td>(0, 1, 0, 7)</td>\n",
       "      <td>-12101.054372</td>\n",
       "      <td>-12089.847573</td>\n",
       "      <td>-12096.939990</td>\n",
       "      <td>0.003469</td>\n",
       "      <td>0.235195</td>\n",
       "    </tr>\n",
       "    <tr>\n",
       "      <th>72</th>\n",
       "      <td>&lt;statsmodels.tsa.statespace.sarimax.SARIMAXRes...</td>\n",
       "      <td>(2, 1, 2)</td>\n",
       "      <td>(0, 1, 0, 7)</td>\n",
       "      <td>-12099.046165</td>\n",
       "      <td>-12071.029168</td>\n",
       "      <td>-12088.760210</td>\n",
       "      <td>0.003469</td>\n",
       "      <td>0.238421</td>\n",
       "    </tr>\n",
       "    <tr>\n",
       "      <th>9</th>\n",
       "      <td>&lt;statsmodels.tsa.statespace.sarimax.SARIMAXRes...</td>\n",
       "      <td>(0, 1, 1)</td>\n",
       "      <td>(0, 1, 0, 7)</td>\n",
       "      <td>-12098.382106</td>\n",
       "      <td>-12087.175307</td>\n",
       "      <td>-12094.267724</td>\n",
       "      <td>0.003469</td>\n",
       "      <td>0.233411</td>\n",
       "    </tr>\n",
       "    <tr>\n",
       "      <th>0</th>\n",
       "      <td>&lt;statsmodels.tsa.statespace.sarimax.SARIMAXRes...</td>\n",
       "      <td>(0, 1, 0)</td>\n",
       "      <td>(0, 1, 0, 7)</td>\n",
       "      <td>-12074.339527</td>\n",
       "      <td>-12068.736128</td>\n",
       "      <td>-12072.282336</td>\n",
       "      <td>0.003471</td>\n",
       "      <td>0.226358</td>\n",
       "    </tr>\n",
       "  </tbody>\n",
       "</table>\n",
       "<p>81 rows × 8 columns</p>\n",
       "</div>"
      ],
      "text/plain": [
       "                                                model      Order  \\\n",
       "28  <statsmodels.tsa.statespace.sarimax.SARIMAXRes...  (1, 1, 0)   \n",
       "32  <statsmodels.tsa.statespace.sarimax.SARIMAXRes...  (1, 1, 0)   \n",
       "64  <statsmodels.tsa.statespace.sarimax.SARIMAXRes...  (2, 1, 1)   \n",
       "55  <statsmodels.tsa.statespace.sarimax.SARIMAXRes...  (2, 1, 0)   \n",
       "10  <statsmodels.tsa.statespace.sarimax.SARIMAXRes...  (0, 1, 1)   \n",
       "..                                                ...        ...   \n",
       "18  <statsmodels.tsa.statespace.sarimax.SARIMAXRes...  (0, 1, 2)   \n",
       "27  <statsmodels.tsa.statespace.sarimax.SARIMAXRes...  (1, 1, 0)   \n",
       "72  <statsmodels.tsa.statespace.sarimax.SARIMAXRes...  (2, 1, 2)   \n",
       "9   <statsmodels.tsa.statespace.sarimax.SARIMAXRes...  (0, 1, 1)   \n",
       "0   <statsmodels.tsa.statespace.sarimax.SARIMAXRes...  (0, 1, 0)   \n",
       "\n",
       "   SeasonalOrder           Aic           Bic          Hqic       Mse  \\\n",
       "28  (0, 1, 1, 7) -13452.613113 -13435.802915 -13446.441540  0.003401   \n",
       "32  (1, 1, 2, 7) -13452.272518 -13424.255522 -13441.986564  0.003401   \n",
       "64  (0, 1, 1, 7) -13451.783664 -13423.766667 -13441.497710  0.003401   \n",
       "55  (0, 1, 1, 7) -13451.417839 -13429.004242 -13443.189076  0.003401   \n",
       "10  (0, 1, 1, 7) -13451.370682 -13434.560484 -13445.199109  0.003402   \n",
       "..           ...           ...           ...           ...       ...   \n",
       "18  (0, 1, 0, 7) -12101.925039 -12085.114841 -12095.753466  0.003469   \n",
       "27  (0, 1, 0, 7) -12101.054372 -12089.847573 -12096.939990  0.003469   \n",
       "72  (0, 1, 0, 7) -12099.046165 -12071.029168 -12088.760210  0.003469   \n",
       "9   (0, 1, 0, 7) -12098.382106 -12087.175307 -12094.267724  0.003469   \n",
       "0   (0, 1, 0, 7) -12074.339527 -12068.736128 -12072.282336  0.003471   \n",
       "\n",
       "    heteroskedasticity  \n",
       "28            0.229729  \n",
       "32            0.230103  \n",
       "64            0.232350  \n",
       "55            0.230682  \n",
       "10            0.228810  \n",
       "..                 ...  \n",
       "18            0.238053  \n",
       "27            0.235195  \n",
       "72            0.238421  \n",
       "9             0.233411  \n",
       "0             0.226358  \n",
       "\n",
       "[81 rows x 8 columns]"
      ]
     },
     "execution_count": 39,
     "metadata": {},
     "output_type": "execute_result"
    }
   ],
   "source": [
    "#sorts by all thes columns\n",
    "df.sort_values(by=['Aic', 'Bic', 'Hqic', 'Mse', 'heteroskedasticity'])"
   ]
  },
  {
   "cell_type": "code",
   "execution_count": null,
   "metadata": {
    "extensions": {
     "jupyter_dashboards": {
      "version": 1,
      "views": {
       "grid_default": {},
       "report_default": {}
      }
     }
    }
   },
   "outputs": [],
   "source": [
    "def sarima_model (data):\n",
    "#train_test_split\n",
    "    level_diff = testLevelStationarity(ts.Close)\n",
    "    \n",
    "    stepwise_model_7 = auto_arima(data, start_p=1, start_q=1,\n",
    "                           max_p=3, max_q=3, m=12,\n",
    "                           start_P=0, seasonal=True,\n",
    "                           d=level_diff, D=1, trace=True,\n",
    "                           error_action='ignore',  \n",
    "                           suppress_warnings=True, \n",
    "                           stepwise=True)\n",
    "    \n",
    "    return stepwise_model_7"
   ]
  },
  {
   "cell_type": "code",
   "execution_count": null,
   "metadata": {
    "extensions": {
     "jupyter_dashboards": {
      "version": 1,
      "views": {
       "grid_default": {},
       "report_default": {}
      }
     }
    },
    "scrolled": true
   },
   "outputs": [],
   "source": [
    "model_7 = sarima_model(ts.Close)"
   ]
  },
  {
   "cell_type": "code",
   "execution_count": null,
   "metadata": {
    "extensions": {
     "jupyter_dashboards": {
      "version": 1,
      "views": {
       "grid_default": {},
       "report_default": {}
      }
     }
    },
    "scrolled": true
   },
   "outputs": [],
   "source": [
    "#reverse\n",
    "#restored_Data = (normalised_future_forecast*fitted_lambda +1)**(1/fitted_lambda)"
   ]
  },
  {
   "cell_type": "code",
   "execution_count": null,
   "metadata": {
    "extensions": {
     "jupyter_dashboards": {
      "version": 1,
      "views": {
       "grid_default": {},
       "report_default": {}
      }
     }
    }
   },
   "outputs": [],
   "source": [
    "#evaluation of model fit\n",
    "#boxljung test\n",
    "#model_df is p+q\n",
    "#m is seasonal period\n",
    "#change boxpierce to true if you want to also run that test\n",
    "#lbVal is the Ljung-Box test statistic and pVal is its p value\n",
    "def getBoxLjung(data, lags, model_df, m):\n",
    "    #demean the data\n",
    "    demeanedData = data.sub(data.mean())\n",
    "    lbVal, pVal = statsmodels.stats.diagnostic.acorr_ljungbox(demeanedData, lags, boxpierce = False, model_df = model_df, period = m)\n",
    "    \n",
    "    return lbVal, pVal\n",
    "    "
   ]
  },
  {
   "cell_type": "code",
   "execution_count": null,
   "metadata": {
    "extensions": {
     "jupyter_dashboards": {
      "version": 1,
      "views": {
       "grid_default": {},
       "report_default": {}
      }
     }
    }
   },
   "outputs": [],
   "source": [
    "#Pass a fitted model\n",
    "#returns \n",
    "#JBVal = Jarque-Bera test statistic\n",
    "#JBPVal = pvalue of the test statistic\n",
    "def getJarqueBera(data):\n",
    "    \n",
    "    JBVal, JBPVal, skewness, kurtosis = statsmodels.stats.stattools.jarque_bera(data.resid)\n",
    "    \n",
    "    return JBVal, JBPVal, skewness, kurtosis"
   ]
  },
  {
   "cell_type": "markdown",
   "metadata": {
    "extensions": {
     "jupyter_dashboards": {
      "version": 1,
      "views": {
       "grid_default": {},
       "report_default": {}
      }
     }
    }
   },
   "source": [
    "## Function to sort different models:\n"
   ]
  },
  {
   "cell_type": "code",
   "execution_count": 40,
   "metadata": {
    "extensions": {
     "jupyter_dashboards": {
      "version": 1,
      "views": {
       "grid_default": {},
       "report_default": {}
      }
     }
    }
   },
   "outputs": [],
   "source": [
    "import csv\n",
    "import statsmodels\n",
    "\n",
    "#input is a dataframe full of models\n",
    "#I assume that there is no column that represents the skewness of model\n",
    "def add_skewness(df, dataset):\n",
    "    skewness = []\n",
    "    #loop to get summary table of every model, then get skewness\n",
    "    \n",
    "    #To iterate through the df and isolate the model\n",
    "    len = df.index\n",
    "    for i in len:\n",
    "\n",
    "        summary_table = df.model[i].summary()\n",
    "\n",
    "        table_csv = summary_table.as_csv();\n",
    "\n",
    "        skewness.append(table_csv[table_csv.find('Skew')+20 : table_csv.find('Skew')+25])\n",
    "\n",
    "\n",
    "        #reader object stores all data\n",
    "#         reader = csv.reader(table_csv)\n",
    "        #change to finds out what cell skewness is in\n",
    "#         skewness.append(table_csv[11][3])\n",
    "        i+=1\n",
    "    #at this point, skewness array should be full\n",
    "    df['skewness'] = skewness\n",
    "    return df;\n"
   ]
  },
  {
   "cell_type": "code",
   "execution_count": 41,
   "metadata": {
    "extensions": {
     "jupyter_dashboards": {
      "version": 1,
      "views": {
       "grid_default": {},
       "report_default": {}
      }
     }
    },
    "scrolled": true
   },
   "outputs": [
    {
     "data": {
      "text/html": [
       "<div>\n",
       "<style scoped>\n",
       "    .dataframe tbody tr th:only-of-type {\n",
       "        vertical-align: middle;\n",
       "    }\n",
       "\n",
       "    .dataframe tbody tr th {\n",
       "        vertical-align: top;\n",
       "    }\n",
       "\n",
       "    .dataframe thead th {\n",
       "        text-align: right;\n",
       "    }\n",
       "</style>\n",
       "<table border=\"1\" class=\"dataframe\">\n",
       "  <thead>\n",
       "    <tr style=\"text-align: right;\">\n",
       "      <th></th>\n",
       "      <th>model</th>\n",
       "      <th>Order</th>\n",
       "      <th>SeasonalOrder</th>\n",
       "      <th>Aic</th>\n",
       "      <th>Bic</th>\n",
       "      <th>Hqic</th>\n",
       "      <th>Mse</th>\n",
       "      <th>heteroskedasticity</th>\n",
       "      <th>skewness</th>\n",
       "    </tr>\n",
       "  </thead>\n",
       "  <tbody>\n",
       "    <tr>\n",
       "      <th>0</th>\n",
       "      <td>&lt;statsmodels.tsa.statespace.sarimax.SARIMAXRes...</td>\n",
       "      <td>(0, 1, 0)</td>\n",
       "      <td>(0, 1, 0, 7)</td>\n",
       "      <td>-12074.339527</td>\n",
       "      <td>-12068.736128</td>\n",
       "      <td>-12072.282336</td>\n",
       "      <td>0.003471</td>\n",
       "      <td>0.226358</td>\n",
       "      <td>-0.09</td>\n",
       "    </tr>\n",
       "    <tr>\n",
       "      <th>1</th>\n",
       "      <td>&lt;statsmodels.tsa.statespace.sarimax.SARIMAXRes...</td>\n",
       "      <td>(0, 1, 0)</td>\n",
       "      <td>(0, 1, 1, 7)</td>\n",
       "      <td>-13427.089823</td>\n",
       "      <td>-13415.883024</td>\n",
       "      <td>-13422.975441</td>\n",
       "      <td>0.003402</td>\n",
       "      <td>0.224102</td>\n",
       "      <td>-0.10</td>\n",
       "    </tr>\n",
       "    <tr>\n",
       "      <th>2</th>\n",
       "      <td>&lt;statsmodels.tsa.statespace.sarimax.SARIMAXRes...</td>\n",
       "      <td>(0, 1, 0)</td>\n",
       "      <td>(0, 1, 2, 7)</td>\n",
       "      <td>-13294.811800</td>\n",
       "      <td>-13278.001602</td>\n",
       "      <td>-13288.640227</td>\n",
       "      <td>0.003407</td>\n",
       "      <td>0.226182</td>\n",
       "      <td>-0.10</td>\n",
       "    </tr>\n",
       "    <tr>\n",
       "      <th>3</th>\n",
       "      <td>&lt;statsmodels.tsa.statespace.sarimax.SARIMAXRes...</td>\n",
       "      <td>(0, 1, 0)</td>\n",
       "      <td>(1, 1, 0, 7)</td>\n",
       "      <td>-12626.420172</td>\n",
       "      <td>-12615.213374</td>\n",
       "      <td>-12622.305791</td>\n",
       "      <td>0.003437</td>\n",
       "      <td>0.237493</td>\n",
       "      <td>-0.05</td>\n",
       "    </tr>\n",
       "    <tr>\n",
       "      <th>4</th>\n",
       "      <td>&lt;statsmodels.tsa.statespace.sarimax.SARIMAXRes...</td>\n",
       "      <td>(0, 1, 0)</td>\n",
       "      <td>(1, 1, 1, 7)</td>\n",
       "      <td>-13425.089433</td>\n",
       "      <td>-13408.279235</td>\n",
       "      <td>-13418.917860</td>\n",
       "      <td>0.003402</td>\n",
       "      <td>0.224111</td>\n",
       "      <td>-0.10</td>\n",
       "    </tr>\n",
       "    <tr>\n",
       "      <th>...</th>\n",
       "      <td>...</td>\n",
       "      <td>...</td>\n",
       "      <td>...</td>\n",
       "      <td>...</td>\n",
       "      <td>...</td>\n",
       "      <td>...</td>\n",
       "      <td>...</td>\n",
       "      <td>...</td>\n",
       "      <td>...</td>\n",
       "    </tr>\n",
       "    <tr>\n",
       "      <th>76</th>\n",
       "      <td>&lt;statsmodels.tsa.statespace.sarimax.SARIMAXRes...</td>\n",
       "      <td>(2, 1, 2)</td>\n",
       "      <td>(1, 1, 1, 7)</td>\n",
       "      <td>-13448.688495</td>\n",
       "      <td>-13409.464699</td>\n",
       "      <td>-13434.288159</td>\n",
       "      <td>0.003401</td>\n",
       "      <td>0.232378</td>\n",
       "      <td>-0.23</td>\n",
       "    </tr>\n",
       "    <tr>\n",
       "      <th>77</th>\n",
       "      <td>&lt;statsmodels.tsa.statespace.sarimax.SARIMAXRes...</td>\n",
       "      <td>(2, 1, 2)</td>\n",
       "      <td>(1, 1, 2, 7)</td>\n",
       "      <td>-13450.643834</td>\n",
       "      <td>-13405.816640</td>\n",
       "      <td>-13434.186307</td>\n",
       "      <td>0.003401</td>\n",
       "      <td>0.233239</td>\n",
       "      <td>-0.23</td>\n",
       "    </tr>\n",
       "    <tr>\n",
       "      <th>78</th>\n",
       "      <td>&lt;statsmodels.tsa.statespace.sarimax.SARIMAXRes...</td>\n",
       "      <td>(2, 1, 2)</td>\n",
       "      <td>(2, 1, 0, 7)</td>\n",
       "      <td>-12865.370509</td>\n",
       "      <td>-12826.146714</td>\n",
       "      <td>-12850.970173</td>\n",
       "      <td>0.003425</td>\n",
       "      <td>0.229605</td>\n",
       "      <td>0.04</td>\n",
       "    </tr>\n",
       "    <tr>\n",
       "      <th>79</th>\n",
       "      <td>&lt;statsmodels.tsa.statespace.sarimax.SARIMAXRes...</td>\n",
       "      <td>(2, 1, 2)</td>\n",
       "      <td>(2, 1, 1, 7)</td>\n",
       "      <td>-13398.995153</td>\n",
       "      <td>-13354.167958</td>\n",
       "      <td>-13382.537626</td>\n",
       "      <td>0.003403</td>\n",
       "      <td>0.229199</td>\n",
       "      <td>-0.25</td>\n",
       "    </tr>\n",
       "    <tr>\n",
       "      <th>80</th>\n",
       "      <td>&lt;statsmodels.tsa.statespace.sarimax.SARIMAXRes...</td>\n",
       "      <td>(2, 1, 2)</td>\n",
       "      <td>(2, 1, 2, 7)</td>\n",
       "      <td>-13443.679355</td>\n",
       "      <td>-13393.248761</td>\n",
       "      <td>-13425.164637</td>\n",
       "      <td>0.003401</td>\n",
       "      <td>0.230595</td>\n",
       "      <td>-0.20</td>\n",
       "    </tr>\n",
       "  </tbody>\n",
       "</table>\n",
       "<p>81 rows × 9 columns</p>\n",
       "</div>"
      ],
      "text/plain": [
       "                                                model      Order  \\\n",
       "0   <statsmodels.tsa.statespace.sarimax.SARIMAXRes...  (0, 1, 0)   \n",
       "1   <statsmodels.tsa.statespace.sarimax.SARIMAXRes...  (0, 1, 0)   \n",
       "2   <statsmodels.tsa.statespace.sarimax.SARIMAXRes...  (0, 1, 0)   \n",
       "3   <statsmodels.tsa.statespace.sarimax.SARIMAXRes...  (0, 1, 0)   \n",
       "4   <statsmodels.tsa.statespace.sarimax.SARIMAXRes...  (0, 1, 0)   \n",
       "..                                                ...        ...   \n",
       "76  <statsmodels.tsa.statespace.sarimax.SARIMAXRes...  (2, 1, 2)   \n",
       "77  <statsmodels.tsa.statespace.sarimax.SARIMAXRes...  (2, 1, 2)   \n",
       "78  <statsmodels.tsa.statespace.sarimax.SARIMAXRes...  (2, 1, 2)   \n",
       "79  <statsmodels.tsa.statespace.sarimax.SARIMAXRes...  (2, 1, 2)   \n",
       "80  <statsmodels.tsa.statespace.sarimax.SARIMAXRes...  (2, 1, 2)   \n",
       "\n",
       "   SeasonalOrder           Aic           Bic          Hqic       Mse  \\\n",
       "0   (0, 1, 0, 7) -12074.339527 -12068.736128 -12072.282336  0.003471   \n",
       "1   (0, 1, 1, 7) -13427.089823 -13415.883024 -13422.975441  0.003402   \n",
       "2   (0, 1, 2, 7) -13294.811800 -13278.001602 -13288.640227  0.003407   \n",
       "3   (1, 1, 0, 7) -12626.420172 -12615.213374 -12622.305791  0.003437   \n",
       "4   (1, 1, 1, 7) -13425.089433 -13408.279235 -13418.917860  0.003402   \n",
       "..           ...           ...           ...           ...       ...   \n",
       "76  (1, 1, 1, 7) -13448.688495 -13409.464699 -13434.288159  0.003401   \n",
       "77  (1, 1, 2, 7) -13450.643834 -13405.816640 -13434.186307  0.003401   \n",
       "78  (2, 1, 0, 7) -12865.370509 -12826.146714 -12850.970173  0.003425   \n",
       "79  (2, 1, 1, 7) -13398.995153 -13354.167958 -13382.537626  0.003403   \n",
       "80  (2, 1, 2, 7) -13443.679355 -13393.248761 -13425.164637  0.003401   \n",
       "\n",
       "    heteroskedasticity skewness  \n",
       "0             0.226358    -0.09  \n",
       "1             0.224102    -0.10  \n",
       "2             0.226182    -0.10  \n",
       "3             0.237493    -0.05  \n",
       "4             0.224111    -0.10  \n",
       "..                 ...      ...  \n",
       "76            0.232378    -0.23  \n",
       "77            0.233239    -0.23  \n",
       "78            0.229605    0.04   \n",
       "79            0.229199    -0.25  \n",
       "80            0.230595    -0.20  \n",
       "\n",
       "[81 rows x 9 columns]"
      ]
     },
     "execution_count": 41,
     "metadata": {},
     "output_type": "execute_result"
    }
   ],
   "source": [
    "add_skewness(df,ts.Close)\n",
    "df"
   ]
  },
  {
   "cell_type": "markdown",
   "metadata": {
    "extensions": {
     "jupyter_dashboards": {
      "version": 1,
      "views": {
       "grid_default": {},
       "report_default": {}
      }
     }
    }
   },
   "source": [
    "## Graphing some models:"
   ]
  },
  {
   "cell_type": "code",
   "execution_count": null,
   "metadata": {
    "extensions": {
     "jupyter_dashboards": {
      "version": 1,
      "views": {
       "grid_default": {},
       "report_default": {}
      }
     }
    }
   },
   "outputs": [],
   "source": [
    "# graphing \n",
    "def graphing(data, df):\n",
    "    \n",
    "    fig = px.line(data, x=ts.Close.index, y=[0])\n",
    "    fig.data[0].line.color = 'rgb(0, 0, 0)'\n",
    "    fig.data[0].name = \"Original Data\"\n",
    "    fig.add_scatter\n",
    "    \n",
    "    fig.show()\n",
    "    \n",
    "    for i in range(6):\n",
    "        model = sm.tsa.statespace.SARIMAX(normalised_Data, order = df['Order'][i], seasonal_order=df['SeasonalOrder'][i]).fit(disp=True)\n",
    "        model = model.predict()\n",
    "        fig = px.line(model, x=ts.Close.index, y=[0])\n",
    "        fig.data[0].line.color = 'rgb(0, 0, 0)'\n",
    "        fig.add_scatter\n",
    "    \n",
    "        fig.show()"
   ]
  },
  {
   "cell_type": "code",
   "execution_count": null,
   "metadata": {
    "extensions": {
     "jupyter_dashboards": {
      "version": 1,
      "views": {
       "grid_default": {},
       "report_default": {}
      }
     }
    },
    "scrolled": false
   },
   "outputs": [],
   "source": [
    "graphing(normalised_Data, df)"
   ]
  },
  {
   "cell_type": "code",
   "execution_count": 49,
   "metadata": {
    "extensions": {
     "jupyter_dashboards": {
      "version": 1,
      "views": {
       "grid_default": {},
       "report_default": {}
      }
     }
    }
   },
   "outputs": [
    {
     "name": "stdout",
     "output_type": "stream",
     "text": [
      "81\n"
     ]
    }
   ],
   "source": [
    "model_i = [5,7,9]\n",
    "model_i = df.shape[0]\n",
    "print(model_i)"
   ]
  },
  {
   "cell_type": "code",
   "execution_count": 74,
   "metadata": {
    "extensions": {
     "jupyter_dashboards": {
      "version": 1,
      "views": {
       "grid_default": {},
       "report_default": {}
      }
     }
    }
   },
   "outputs": [
    {
     "name": "stdout",
     "output_type": "stream",
     "text": [
      "Predicted Vals of 0 : \n",
      " [75.09690543 74.40079873 75.37361959 76.16918126 75.8096068  75.81395281\n",
      " 75.75816225]\n",
      "\n",
      " Conf int: \n",
      " [[2.97047772 3.01713847]\n",
      " [2.96622128 3.01288202]\n",
      " [2.97215681 3.01881754]\n",
      " [2.97694393 3.02360466]\n",
      " [2.97478762 3.02144835]\n",
      " [2.97481375 3.02147449]\n",
      " [2.97447813 3.02113886]] \n",
      "\n",
      "\n",
      "\n",
      " Std Err: \n",
      " [0.01190347 0.01190347 0.01190347 0.01190347 0.01190347 0.01190347\n",
      " 0.01190347] \n",
      "\n",
      "\n",
      "Predicted Vals of 1 : \n",
      " [75.06348623 75.53622359 76.08453097 76.14473846 76.39761218 76.80827227\n",
      " 76.86836289]\n",
      "\n",
      " Conf int: \n",
      " [[2.97708068 3.01012895]\n",
      " [2.97994631 3.01299459]\n",
      " [2.98324361 3.01629188]\n",
      " [2.98360404 3.01665215]\n",
      " [2.98511387 3.01816197]\n",
      " [2.98755324 3.02060135]\n",
      " [2.9879089  3.020957  ]] \n",
      "\n",
      "\n",
      "\n",
      " Std Err: \n",
      " [0.00843084 0.00843084 0.00843084 0.00843079 0.00843079 0.00843079\n",
      " 0.00843079] \n",
      "\n",
      "\n",
      "Predicted Vals of 2 : \n",
      " [75.08277796 75.36506694 75.83748058 75.95910589 76.3880664  76.62076479\n",
      " 76.98963512]\n",
      "\n",
      " Conf int: \n",
      " [[2.97657187 3.01087248]\n",
      " [2.97828508 3.01258569]\n",
      " [2.98113527 3.01543587]\n",
      " [2.98186567 3.01616627]\n",
      " [2.98443073 3.01873134]\n",
      " [2.98581509 3.0201157 ]\n",
      " [2.98799942 3.02230002]] \n",
      "\n",
      "\n",
      "\n",
      " Std Err: \n",
      " [0.00875031 0.00875031 0.00875031 0.00875031 0.00875031 0.00875031\n",
      " 0.00875031] \n",
      "\n",
      "\n",
      "Predicted Vals of 3 : \n",
      " [75.11998649 74.73792006 75.52777365 76.0598215  75.81755302 76.70618855\n",
      " 76.49027117]\n",
      "\n",
      " Conf int: \n",
      " [[2.97363872 3.01425814]\n",
      " [2.97130916 3.01192859]\n",
      " [2.97610969 3.01672913]\n",
      " [2.97931004 3.01992947]\n",
      " [2.97785605 3.01847548]\n",
      " [2.98316263 3.02378207]\n",
      " [2.98187996 3.0224994 ]] \n",
      "\n",
      "\n",
      "\n",
      " Std Err: \n",
      " [0.01036229 0.01036229 0.01036229 0.01036229 0.01036229 0.01036229\n",
      " 0.01036229] \n",
      "\n",
      "\n",
      "Predicted Vals of 4 : \n",
      " [75.06350338 75.53701544 76.08505454 76.14457166 76.3976312  76.80898328\n",
      " 76.86804128]\n",
      "\n",
      " Conf int: \n",
      " [[2.97709911 3.01011073]\n",
      " [2.97996942 3.01298104]\n",
      " [2.98326507 3.01627669]\n",
      " [2.98362138 3.01663282]\n",
      " [2.98513231 3.01814376]\n",
      " [2.98757579 3.02058723]\n",
      " [2.98792533 3.02093677]] \n",
      "\n",
      "\n",
      "\n",
      " Std Err: \n",
      " [0.00842149 0.00842149 0.00842149 0.00842144 0.00842144 0.00842144\n",
      " 0.00842144] \n",
      "\n",
      "\n",
      "Predicted Vals of 5 : \n",
      " [75.08240208 75.577216   76.1061162  76.16635281 76.35908675 76.81467455\n",
      " 76.85840507]\n",
      "\n",
      " Conf int: \n",
      " [[2.97722957 3.01021021]\n",
      " [2.98022762 3.01320826]\n",
      " [2.98340665 3.01638729]\n",
      " [2.98376716 3.0167476 ]\n",
      " [2.98491806 3.0178985 ]\n",
      " [2.98762499 3.02060542]\n",
      " [2.98788382 3.02086425]] \n",
      "\n",
      "\n",
      "\n",
      " Std Err: \n",
      " [0.00841358 0.00841358 0.00841358 0.00841353 0.00841353 0.00841353\n",
      " 0.00841353] \n",
      "\n",
      "\n",
      "Predicted Vals of 6 : \n",
      " [75.20678942 74.92333528 75.73152994 76.07810007 76.33591522 76.74774753\n",
      " 76.77444724]\n",
      "\n",
      " Conf int: \n",
      " [[2.97526977 3.0136817 ]\n",
      " [2.97354519 3.01195711]\n",
      " [2.97844221 3.01685413]\n",
      " [2.98052328 3.01893519]\n",
      " [2.98206414 3.02047605]\n",
      " [2.98451278 3.0229247 ]\n",
      " [2.984671   3.02308291]] \n",
      "\n",
      "\n",
      "\n",
      " Std Err: \n",
      " [0.00979914 0.00979914 0.00979914 0.00979914 0.00979914 0.00979914\n",
      " 0.00979914] \n",
      "\n",
      "\n",
      "Predicted Vals of 7 : \n",
      " [75.0615595  75.53557356 76.0853141  76.15225834 76.41340343 76.78296759\n",
      " 76.87790417]\n",
      "\n",
      " Conf int: \n",
      " [[2.97708655 3.01009963]\n",
      " [2.97995998 3.01297306]\n",
      " [2.9832659  3.01627897]\n",
      " [2.98366661 3.01667955]\n",
      " [2.98522554 3.01823848]\n",
      " [2.98742096 3.0204339 ]\n",
      " [2.98798292 3.02099587]] \n",
      "\n",
      "\n",
      "\n",
      " Std Err: \n",
      " [0.00842186 0.00842186 0.00842186 0.00842183 0.00842183 0.00842183\n",
      " 0.00842183] \n",
      "\n",
      "\n",
      "Predicted Vals of 8 : \n",
      " [75.06275263 75.5394092  76.08821201 76.13981401 76.39882316 76.81043282\n",
      " 76.86108239]\n",
      "\n",
      " Conf int: \n",
      " [[2.9770871  3.0101136 ]\n",
      " [2.97997644 3.01300294]\n",
      " [2.98327654 3.01630304]\n",
      " [2.98358548 3.01661179]\n",
      " [2.98513198 3.01815829]\n",
      " [2.98757693 3.02060325]\n",
      " [2.98787672 3.02090304]] \n",
      "\n",
      "\n",
      "\n",
      " Std Err: \n",
      " [0.00842528 0.00842528 0.00842528 0.00842523 0.00842523 0.00842523\n",
      " 0.00842523] \n",
      "\n",
      "\n",
      "Predicted Vals of 9 : \n",
      " [75.27785391 74.38770372 75.18824658 76.06596611 75.77997593 75.7177896\n",
      " 75.63820915]\n",
      "\n",
      " Conf int: \n",
      " [[2.97172662 3.01808718]\n",
      " [2.96629085 3.01265141]\n",
      " [2.97118287 3.01754343]\n",
      " [2.97647628 3.02283684]\n",
      " [2.97475947 3.02112003]\n",
      " [2.97438515 3.02074571]\n",
      " [2.9739056  3.02026616]] \n",
      "\n",
      "\n",
      "\n",
      " Std Err: \n",
      " [0.01182689 0.01182689 0.01182689 0.01182689 0.01182689 0.01182689\n",
      " 0.01182689] \n",
      "\n",
      "\n",
      "Predicted Vals of 10 : \n",
      " [75.19869213 75.51870352 76.02372368 76.13079683 76.37190167 76.77942422\n",
      " 76.85405752]\n",
      "\n",
      " Conf int: \n",
      " [[2.97803148 3.01082167]\n",
      " [2.97996952 3.01275972]\n",
      " [2.98300836 3.01579856]\n",
      " [2.98364968 3.01643968]\n",
      " [2.98508968 3.01787968]\n",
      " [2.98751144 3.02030144]\n",
      " [2.98795331 3.02074331]] \n",
      "\n",
      "\n",
      "\n",
      " Std Err: \n",
      " [0.008365   0.008365   0.008365   0.00836495 0.00836495 0.00836495\n",
      " 0.00836495] \n",
      "\n",
      "\n",
      "Predicted Vals of 11 : \n",
      " [75.19915646 75.5128825  76.01900888 76.13280672 76.37523263 76.77440049\n",
      " 76.86492452]\n",
      "\n",
      " Conf int: \n",
      " [[2.97803528 3.01082351]\n",
      " [2.97993534 3.01272357]\n",
      " [2.98298108 3.01576932]\n",
      " [2.98366267 3.01645075]\n",
      " [2.9851105  3.01789857]\n",
      " [2.98748264 3.02027071]\n",
      " [2.98801858 3.02080664]] \n",
      "\n",
      "\n",
      "\n",
      " Std Err: \n",
      " [0.0083645  0.0083645  0.0083645  0.00836446 0.00836446 0.00836446\n",
      " 0.00836446] \n",
      "\n",
      "\n",
      "Predicted Vals of 12 : \n",
      " [75.3105769  74.72806372 75.37607579 75.97555851 75.77721565 76.60614895\n",
      " 76.46544737]\n",
      "\n",
      " Conf int: \n",
      " [[2.97491485 3.01529571]\n",
      " [2.97136817 3.01174902]\n",
      " [2.97531162 3.01569247]\n",
      " [2.97892424 3.01930509]\n",
      " [2.97773272 3.01811357]\n",
      " [2.98268816 3.02306901]\n",
      " [2.98185151 3.02223236]] \n",
      "\n",
      "\n",
      "\n",
      " Std Err: \n",
      " [0.01030143 0.01030143 0.01030143 0.01030143 0.01030143 0.01030143\n",
      " 0.01030143] \n",
      "\n",
      "\n",
      "Predicted Vals of 13 : \n",
      " [75.19998331 75.51468937 76.02013702 76.13176214 76.3732089  76.77570198\n",
      " 76.85925268]\n",
      "\n",
      " Conf int: \n",
      " [[2.97803936 3.01082947]\n",
      " [2.97994531 3.01273543]\n",
      " [2.9829869  3.01577702]\n",
      " [2.98365549 3.01644543]\n",
      " [2.9850975  3.01788744]\n",
      " [2.98748942 3.02027936]\n",
      " [2.98798408 3.02077402]] \n",
      "\n",
      "\n",
      "\n",
      " Std Err: \n",
      " [0.00836498 0.00836498 0.00836498 0.00836493 0.00836493 0.00836493\n",
      " 0.00836493] \n",
      "\n",
      "\n",
      "Predicted Vals of 14 : \n",
      " [75.21881557 75.56062842 76.04806181 76.15928743 76.33554077 76.77850294\n",
      " 76.85254889]\n",
      "\n",
      " Conf int: \n",
      " [[2.97816193 3.01093554]\n",
      " [2.98023101 3.01300461]\n",
      " [2.9831625  3.01593611]\n",
      " [2.98382842 3.01660182]\n",
      " [2.98488116 3.01765456]\n",
      " [2.98751428 3.02028768]\n",
      " [2.98795269 3.02072609]] \n",
      "\n",
      "\n",
      "\n",
      " Std Err: \n",
      " [0.00836077 0.00836077 0.00836077 0.00836071 0.00836071 0.00836071\n",
      " 0.00836071] \n",
      "\n",
      "\n",
      "Predicted Vals of 15 : \n",
      " [75.41065087 74.92451211 75.60147807 76.0191048  76.30012222 76.70642424\n",
      " 76.76069314]\n",
      "\n",
      " Conf int: \n",
      " [[2.97662618 3.01479646]\n",
      " [2.97367319 3.01184347]\n",
      " [2.9777792  3.01594948]\n",
      " [2.98029064 3.01846091]\n",
      " [2.9819714  3.02014168]\n",
      " [2.98438861 3.02255888]\n",
      " [2.98471032 3.0228806 ]] \n",
      "\n",
      "\n",
      "\n",
      " Std Err: \n",
      " [0.0097375  0.00973749 0.00973749 0.00973749 0.00973749 0.00973749\n",
      " 0.00973749] \n",
      "\n",
      "\n",
      "Predicted Vals of 16 : \n",
      " [75.16870617 75.50444702 76.02484425 76.14778274 76.40571799 76.74674687\n",
      " 76.89868564]\n",
      "\n",
      " Conf int: \n",
      " [[2.97783556 3.0106534 ]\n",
      " [2.97986961 3.01268737]\n",
      " [2.98300129 3.01581906]\n",
      " [2.98373743 3.01655519]\n",
      " [2.98527734 3.0180951 ]\n",
      " [2.98730393 3.02012169]\n",
      " [2.98820341 3.02102118]] \n",
      "\n",
      "\n",
      "\n",
      " Std Err: \n",
      " [0.00837205 0.00837203 0.00837203 0.00837203 0.00837203 0.00837203\n",
      " 0.00837203] \n",
      "\n",
      "\n",
      "Predicted Vals of 17 : \n",
      " [75.15077364 75.50552011 76.02712079 76.13397573 76.40952601 76.78098473\n",
      " 76.97959856]\n",
      "\n",
      " Conf int: \n",
      " [[2.97768292 3.01058815]\n",
      " [2.97983236 3.01273758]\n",
      " [2.98297121 3.01587643]\n",
      " [2.98361109 3.01651632]\n",
      " [2.9852563  3.01816152]\n",
      " [2.98746307 3.0203683 ]\n",
      " [2.98863784 3.02154306]] \n",
      "\n",
      "\n",
      "\n",
      " Std Err: \n",
      " [0.00839434 0.00839434 0.00839434 0.00839434 0.00839434 0.00839434\n",
      " 0.00839434] \n",
      "\n",
      "\n",
      "Predicted Vals of 18 : \n",
      " [75.18955829 74.28635024 75.1789271  76.16030267 75.84159792 75.72986546\n",
      " 75.67875108]\n",
      "\n",
      " Conf int: \n",
      " [[2.9712232  3.01751904]\n",
      " [2.96569943 3.01199524]\n",
      " [2.97115865 3.01745447]\n",
      " [2.97707329 3.02336911]\n",
      " [2.97516241 3.02145823]\n",
      " [2.97449024 3.02078606]\n",
      " [2.97418235 3.02047817]] \n",
      "\n",
      "\n",
      "\n",
      " Std Err: \n",
      " [0.01181038 0.01181037 0.01181037 0.01181037 0.01181037 0.01181037\n",
      " 0.01181037] \n",
      "\n",
      "\n",
      "Predicted Vals of 19 : \n",
      " [75.16954845 75.48095119 76.02451173 76.14815086 76.37693064 76.78419882\n",
      " 76.86420436]\n",
      "\n",
      " Conf int: \n",
      " [[2.97785882 3.01064036]\n",
      " [2.97974572 3.01252726]\n",
      " [2.98301742 3.01579895]\n",
      " [2.98375784 3.01653918]\n",
      " [2.98512399 3.01790533]\n",
      " [2.98754405 3.0203254 ]\n",
      " [2.98801768 3.02079902]] \n",
      "\n",
      "\n",
      "\n",
      " Std Err: \n",
      " [0.00836279 0.00836279 0.00836279 0.00836274 0.00836274 0.00836274\n",
      " 0.00836274] \n",
      "\n",
      "\n",
      "Predicted Vals of 20 : \n",
      " [75.16517406 75.46086503 76.01465884 76.15655889 76.3866264  76.77425316\n",
      " 76.8922509 ]\n",
      "\n",
      " Conf int: \n",
      " [[2.97788133 3.01056472]\n",
      " [2.97967337 3.01235676]\n",
      " [2.98300743 3.01569082]\n",
      " [2.98385717 3.01654044]\n",
      " [2.98523082 3.01791408]\n",
      " [2.98753417 3.02021744]\n",
      " [2.98823261 3.02091588]] \n",
      "\n",
      "\n",
      "\n",
      " Std Err: \n",
      " [0.00833775 0.00833775 0.00833775 0.00833772 0.00833772 0.00833772\n",
      " 0.00833772] \n",
      "\n",
      "\n",
      "Predicted Vals of 21 : \n",
      " [75.22804794 74.62719678 75.36996705 76.05383152 75.82684986 76.62511963\n",
      " 76.51343935]\n",
      "\n",
      " Conf int: \n",
      " [[2.97440595 3.01480358]\n",
      " [2.97074233 3.01113995]\n",
      " [2.97526625 3.01566387]\n",
      " [2.97938506 3.01978268]\n",
      " [2.97802285 3.01842047]\n",
      " [2.98279245 3.02319006]\n",
      " [2.98212871 3.02252632]] \n",
      "\n",
      "\n",
      "\n",
      " Std Err: \n",
      " [0.01030571 0.0103057  0.0103057  0.0103057  0.0103057  0.0103057\n",
      " 0.0103057 ] \n",
      "\n",
      "\n",
      "Predicted Vals of 22 : \n",
      " [75.18114255 75.4531559  75.99485496 76.15132883 76.38550998 76.75157347\n",
      " 76.89866971]\n",
      "\n",
      " Conf int: \n",
      " [[2.97791039 3.01072963]\n",
      " [2.97955882 3.01237807]\n",
      " [2.98282077 3.01564001]\n",
      " [2.9837579  3.01657714]\n",
      " [2.98515618 3.01797542]\n",
      " [2.9873318  3.02015104]\n",
      " [2.98820258 3.02102182]] \n",
      "\n",
      "\n",
      "\n",
      " Std Err: \n",
      " [0.00837241 0.00837241 0.00837241 0.00837241 0.00837241 0.00837241\n",
      " 0.00837241] \n",
      "\n",
      "\n",
      "Predicted Vals of 23 : \n",
      " [75.18174809 75.50569657 76.03789689 76.16609504 76.35150046 76.77774738\n",
      " 76.86125012]\n",
      "\n",
      " Conf int: \n",
      " [[2.977948   3.01069938]\n",
      " [2.97991035 3.01266173]\n",
      " [2.98311271 3.01586409]\n",
      " [2.98388025 3.01663143]\n",
      " [2.98498745 3.01773863]\n",
      " [2.98752092 3.0202721 ]\n",
      " [2.98801528 3.02076646]] \n",
      "\n",
      "\n",
      "\n",
      " Std Err: \n",
      " [0.0083551  0.0083551  0.0083551  0.00835505 0.00835505 0.00835505\n",
      " 0.00835505] \n",
      "\n",
      "\n",
      "Predicted Vals of 24 : \n",
      " [75.37619023 74.87822664 75.59931611 76.04896115 76.32081672 76.71165696\n",
      " 76.76818208]\n",
      "\n",
      " Conf int: \n",
      " [[2.97642205 3.01458343]\n",
      " [2.97339531 3.01155667]\n",
      " [2.97777062 3.01593197]\n",
      " [2.98047402 3.01863537]\n",
      " [2.98209935 3.0202607 ]\n",
      " [2.9844241  3.02258545]\n",
      " [2.98475916 3.02292051]] \n",
      "\n",
      "\n",
      "\n",
      " Std Err: \n",
      " [0.00973523 0.00973522 0.00973522 0.00973522 0.00973522 0.00973522\n",
      " 0.00973522] \n",
      "\n",
      "\n",
      "Predicted Vals of 25 : \n",
      " [75.20053007 75.47513998 75.99507375 76.14910473 76.40639552 76.73327514\n",
      " 76.9241105 ]\n",
      "\n",
      " Conf int: \n",
      " [[2.9780324  3.01084307]\n",
      " [2.97969607 3.01250666]\n",
      " [2.98282641 3.015637  ]\n",
      " [2.98374892 3.01655951]\n",
      " [2.98528496 3.01809556]\n",
      " [2.98722766 3.02003825]\n",
      " [2.98835731 3.02116791]] \n",
      "\n",
      "\n",
      "\n",
      " Std Err: \n",
      " [0.00837022 0.0083702  0.0083702  0.0083702  0.0083702  0.0083702\n",
      " 0.0083702 ] \n",
      "\n",
      "\n",
      "Predicted Vals of 26 : \n",
      " [75.16120308 75.44813714 76.0063341  76.17769449 76.39650404 76.76458327\n",
      " 76.89744101]\n",
      "\n"
     ]
    },
    {
     "name": "stdout",
     "output_type": "stream",
     "text": [
      " Conf int: \n",
      " [[2.9778336  3.0105642 ]\n",
      " [2.97957279 3.0123034 ]\n",
      " [2.98293392 3.01566452]\n",
      " [2.98395996 3.01669044]\n",
      " [2.98526608 3.01799656]\n",
      " [2.98745327 3.02018375]\n",
      " [2.9882397  3.02097018]] \n",
      "\n",
      "\n",
      "\n",
      " Std Err: \n",
      " [0.0083498  0.0083498  0.0083498  0.00834977 0.00834977 0.00834977\n",
      " 0.00834977] \n",
      "\n",
      "\n",
      "Predicted Vals of 27 : \n",
      " [75.27206558 74.36513575 75.17203128 76.07843563 75.78937533 75.71208003\n",
      " 75.63813315]\n",
      "\n",
      " Conf int: \n",
      " [[2.97169839 3.01804521]\n",
      " [2.9661589  3.01250573]\n",
      " [2.97109126 3.01743809]\n",
      " [2.97655783 3.02290466]\n",
      " [2.97482289 3.02116971]\n",
      " [2.97435764 3.02070446]\n",
      " [2.97391201 3.02025884]] \n",
      "\n",
      "\n",
      "\n",
      " Std Err: \n",
      " [0.01182339 0.01182339 0.01182339 0.01182339 0.01182339 0.01182339\n",
      " 0.01182339] \n",
      "\n",
      "\n",
      "Predicted Vals of 28 : \n",
      " [75.19062091 75.50209463 76.02380032 76.13775041 76.3722185  76.78092132\n",
      " 76.85745674]\n",
      "\n",
      " Conf int: \n",
      " [[2.97798708 3.01076805]\n",
      " [2.97987379 3.01265476]\n",
      " [2.98301344 3.0157944 ]\n",
      " [2.9836959  3.01647668]\n",
      " [2.98509618 3.01787696]\n",
      " [2.98752492 3.02030569]\n",
      " [2.98797804 3.02075881]] \n",
      "\n",
      "\n",
      "\n",
      " Std Err: \n",
      " [0.00836265 0.00836265 0.00836265 0.0083626  0.0083626  0.0083626\n",
      " 0.0083626 ] \n",
      "\n",
      "\n",
      "Predicted Vals of 29 : \n",
      " [75.19258684 75.48631689 76.01108492 76.14179846 76.37797468 76.76714664\n",
      " 76.87763386]\n",
      "\n",
      " Conf int: \n",
      " [[2.97800138 3.01077763]\n",
      " [2.9797808  3.01255705]\n",
      " [2.98293958 3.01571582]\n",
      " [2.98372245 3.01649857]\n",
      " [2.98513283 3.01790894]\n",
      " [2.98744564 3.02022176]\n",
      " [2.98809974 3.02087585]] \n",
      "\n",
      "\n",
      "\n",
      " Std Err: \n",
      " [0.00836144 0.00836144 0.00836144 0.00836141 0.00836141 0.00836141\n",
      " 0.00836141] \n",
      "\n",
      "\n",
      "Predicted Vals of 30 : \n",
      " [75.30413858 74.70480194 75.36640949 75.98777006 75.78434056 76.60385914\n",
      " 76.47556702]\n",
      "\n",
      " Conf int: \n",
      " [[2.97487881 3.0152537 ]\n",
      " [2.97122884 3.01160373]\n",
      " [2.97525607 3.01563096]\n",
      " [2.97900046 3.01937535]\n",
      " [2.97777857 3.01815346]\n",
      " [2.98267754 3.02305243]\n",
      " [2.98191473 3.02228962]] \n",
      "\n",
      "\n",
      "\n",
      " Std Err: \n",
      " [0.01029991 0.01029991 0.01029991 0.01029991 0.01029991 0.01029991\n",
      " 0.01029991] \n",
      "\n",
      "\n",
      "Predicted Vals of 31 : \n",
      " [75.19155697 75.49726667 76.01984475 76.13911174 76.37412464 76.77675667\n",
      " 76.86411442]\n",
      "\n",
      " Conf int: \n",
      " [[2.97798797 3.01077854]\n",
      " [2.97983982 3.01263038]\n",
      " [2.98298493 3.01577549]\n",
      " [2.98369924 3.01648963]\n",
      " [2.98510274 3.01789313]\n",
      " [2.98749544 3.02028583]\n",
      " [2.98801262 3.02080301]] \n",
      "\n",
      "\n",
      "\n",
      " Std Err: \n",
      " [0.00836509 0.00836509 0.00836509 0.00836505 0.00836505 0.00836505\n",
      " 0.00836505] \n",
      "\n",
      "\n",
      "Predicted Vals of 32 : \n",
      " [75.21185506 75.5460111  76.04915377 76.16733356 76.33407713 76.77984324\n",
      " 76.85681968]\n",
      "\n",
      " Conf int: \n",
      " [[2.97813002 3.01088295]\n",
      " [2.98015309 3.01290601]\n",
      " [2.98317939 3.01593231]\n",
      " [2.98388689 3.0166396 ]\n",
      " [2.98488277 3.01763549]\n",
      " [2.98753257 3.02028528]\n",
      " [2.9879883  3.02074101]] \n",
      "\n",
      "\n",
      "\n",
      " Std Err: \n",
      " [0.00835549 0.00835549 0.00835549 0.00835544 0.00835544 0.00835544\n",
      " 0.00835544] \n",
      "\n",
      "\n",
      "Predicted Vals of 33 : \n",
      " [75.40776565 74.90043071 75.59202883 76.03047924 76.30462315 76.70775961\n",
      " 76.76463937]\n",
      "\n",
      " Conf int: \n",
      " [[2.97661318 3.01477455]\n",
      " [2.97353077 3.01169214]\n",
      " [2.97772664 3.01588801]\n",
      " [2.98036326 3.01852464]\n",
      " [2.98200271 3.02016409]\n",
      " [2.98440098 3.02256235]\n",
      " [2.98473816 3.02289953]] \n",
      "\n",
      "\n",
      "\n",
      " Std Err: \n",
      " [0.00973522 0.00973522 0.00973522 0.00973522 0.00973522 0.00973522\n",
      " 0.00973522] \n",
      "\n",
      "\n",
      "Predicted Vals of 34 : \n",
      " [75.19785475 75.49149718 76.01503692 76.14906797 76.39529123 76.74320345\n",
      " 76.87613536]\n",
      "\n",
      " Conf int: \n",
      " [[2.97802823 3.01081476]\n",
      " [2.97980697 3.0125935 ]\n",
      " [2.98295813 3.01574465]\n",
      " [2.98376079 3.01654721]\n",
      " [2.98523088 3.0180173 ]\n",
      " [2.9872986  3.02008502]\n",
      " [2.98808572 3.02087214]] \n",
      "\n",
      "\n",
      "\n",
      " Std Err: \n",
      " [0.00836406 0.00836406 0.00836406 0.00836404 0.00836404 0.00836404\n",
      " 0.00836404] \n",
      "\n",
      "\n",
      "Predicted Vals of 35 : \n",
      " [75.17349898 75.50163995 76.01742522 76.15775716 76.37829631 76.76609057\n",
      " 76.86312008]\n",
      "\n",
      " Conf int: \n",
      " [[2.97794682 3.01060036]\n",
      " [2.97993476 3.0125883 ]\n",
      " [2.98303894 3.01569248]\n",
      " [2.98387929 3.01653265]\n",
      " [2.98519612 3.01784948]\n",
      " [2.98750076 3.02015413]\n",
      " [2.98807525 3.02072862]] \n",
      "\n",
      "\n",
      "\n",
      " Std Err: \n",
      " [0.00833014 0.00833014 0.00833014 0.00833009 0.00833009 0.00833009\n",
      " 0.00833009] \n",
      "\n",
      "\n",
      "Predicted Vals of 36 : \n",
      " [75.0295089  74.43678535 75.21939325 76.24919548 75.72858026 75.82205653\n",
      " 75.67812867]\n",
      "\n",
      " Conf int: \n",
      " [[2.97055661 3.01623946]\n",
      " [2.96693144 3.01261425]\n",
      " [2.97171084 3.01739364]\n",
      " [2.97791109 3.02359389]\n",
      " [2.97478901 3.02047181]\n",
      " [2.97535144 3.02103425]\n",
      " [2.97448511 3.02016791]] \n",
      "\n",
      "\n",
      "\n",
      " Std Err: \n",
      " [0.011654   0.01165399 0.01165399 0.01165399 0.01165399 0.01165399\n",
      " 0.01165399] \n",
      "\n",
      "\n",
      "Predicted Vals of 37 : \n",
      " [75.13367503 75.45123237 76.05842181 76.15297535 76.38544943 76.77941367\n",
      " 76.89896371]\n",
      "\n",
      " Conf int: \n",
      " [[2.97762389 3.01043937]\n",
      " [2.97954907 3.01236455]\n",
      " [2.98320363 3.01601911]\n",
      " [2.98376968 3.01658506]\n",
      " [2.98515775 3.01797312]\n",
      " [2.98749869 3.02031407]\n",
      " [2.98820625 3.02102163]] \n",
      "\n",
      "\n",
      "\n",
      " Std Err: \n",
      " [0.00837145 0.00837145 0.00837145 0.00837142 0.00837142 0.00837142\n",
      " 0.00837142] \n",
      "\n",
      "\n",
      "Predicted Vals of 38 : \n",
      " [75.1627272  75.47648367 76.03964637 76.14924226 76.36999816 76.78536127\n",
      " 76.86047   ]\n",
      "\n",
      " Conf int: \n",
      " [[2.9778202  3.01059611]\n",
      " [2.97972153 3.01249744]\n",
      " [2.98311093 3.01588684]\n",
      " [2.98376718 3.0165429 ]\n",
      " [2.98508548 3.01786119]\n",
      " [2.98755375 3.02032947]\n",
      " [2.9879984  3.02077411]] \n",
      "\n",
      "\n",
      "\n",
      " Std Err: \n",
      " [0.00836136 0.00836136 0.00836136 0.00836131 0.00836131 0.00836131\n",
      " 0.00836131] \n",
      "\n",
      "\n",
      "Predicted Vals of 39 : \n",
      " [75.23841557 74.6512015  75.41885099 76.0447747  75.79368184 76.62218594\n",
      " 76.51635046]\n",
      "\n",
      " Conf int: \n",
      " [[2.97447703 3.01485833]\n",
      " [2.97089754 3.0112788 ]\n",
      " [2.97557031 3.01595157]\n",
      " [2.97933898 3.01972024]\n",
      " [2.97783158 3.01821284]\n",
      " [2.9827832  3.02316446]\n",
      " [2.9821542  3.02253546]] \n",
      "\n",
      "\n",
      "\n",
      " Std Err: \n",
      " [0.01030154 0.01030153 0.01030153 0.01030153 0.01030153 0.01030153\n",
      " 0.01030153] \n",
      "\n",
      "\n",
      "Predicted Vals of 40 : \n",
      " [75.16297529 75.47633105 76.03950006 76.14925043 76.36993244 76.78528059\n",
      " 76.86045963]\n",
      "\n",
      " Conf int: \n",
      " [[2.97782015 3.01059918]\n",
      " [2.97971905 3.01249808]\n",
      " [2.9831085  3.01588752]\n",
      " [2.98376567 3.0165445 ]\n",
      " [2.98508353 3.01786235]\n",
      " [2.98755172 3.02033054]\n",
      " [2.98799678 3.02077561]] \n",
      "\n",
      "\n",
      "\n",
      " Std Err: \n",
      " [0.00836215 0.00836215 0.00836215 0.0083621  0.0083621  0.0083621\n",
      " 0.0083621 ] \n",
      "\n",
      "\n",
      "Predicted Vals of 41 : \n",
      " [75.15763166 75.5228161  76.10055233 76.17781444 76.33105356 76.79840957\n",
      " 76.86802348]\n",
      "\n",
      " Conf int: \n",
      " [[2.97780512 3.01054928]\n",
      " [2.98001739 3.01276155]\n",
      " [2.98349159 3.01623575]\n",
      " [2.98395394 3.01669789]\n",
      " [2.98486912 3.01761307]\n",
      " [2.98764692 3.02039087]\n",
      " [2.98805897 3.02080292]] \n",
      "\n",
      "\n",
      "\n",
      " Std Err: \n",
      " [0.00835326 0.00835326 0.00835325 0.0083532  0.0083532  0.0083532\n",
      " 0.0083532 ] \n",
      "\n",
      "\n",
      "Predicted Vals of 42 : \n",
      " [75.34778635 74.83541323 75.64361351 76.0756691  76.30787642 76.72383408\n",
      " 76.77665744]\n",
      "\n",
      " Conf int: \n",
      " [[2.97624983 3.01441162]\n",
      " [2.97313376 3.01129554]\n",
      " [2.97803758 3.01619936]\n",
      " [2.98063379 3.01879556]\n",
      " [2.98202193 3.0201837 ]\n",
      " [2.9844961  3.02265787]\n",
      " [2.98480916 3.02297094]] \n",
      "\n",
      "\n",
      "\n",
      " Std Err: \n",
      " [0.00973533 0.00973533 0.00973533 0.00973533 0.00973533 0.00973533\n",
      " 0.00973533] \n",
      "\n",
      "\n",
      "Predicted Vals of 43 : \n",
      " [75.16139205 75.4309349  76.041557   76.16760344 76.39842403 76.72818438\n",
      " 76.88692323]\n",
      "\n",
      " Conf int: \n",
      " [[2.97778645 3.01061364]\n",
      " [2.97942045 3.01224764]\n",
      " [2.98309674 3.01592393]\n",
      " [2.9838513  3.01667842]\n",
      " [2.9852292  3.01805632]\n",
      " [2.98718922 3.02001634]\n",
      " [2.98812918 3.0209563 ]] \n",
      "\n",
      "\n",
      "\n",
      " Std Err: \n",
      " [0.00837444 0.00837444 0.00837444 0.00837442 0.00837442 0.00837442\n",
      " 0.00837442] \n",
      "\n",
      "\n",
      "Predicted Vals of 44 : \n",
      " [75.1475017  75.47665239 76.05325636 76.14831672 76.37506582 76.79212016\n",
      " 76.86608006]\n",
      "\n",
      " Conf int: \n",
      " [[2.97775997 3.01047134]\n",
      " [2.97975482 3.01246619]\n",
      " [2.98322474 3.01593611]\n",
      " [2.98379391 3.01650509]\n",
      " [2.98514796 3.01785913]\n",
      " [2.98762606 3.02033723]\n",
      " [2.98806386 3.02077503]] \n",
      "\n",
      "\n",
      "\n",
      " Std Err: \n",
      " [0.00834489 0.00834489 0.00834489 0.00834484 0.00834484 0.00834484\n",
      " 0.00834484] \n",
      "\n",
      "\n",
      "Predicted Vals of 45 : \n",
      " [75.18866426 74.34027641 75.20722608 76.1438221  75.79308437 75.72226384\n",
      " 75.67758625]\n",
      "\n",
      " Conf int: \n",
      " [[2.97126542 3.01746596]\n",
      " [2.96607911 3.0122796 ]\n",
      " [2.97137814 3.01757863]\n",
      " [2.97702237 3.02322286]\n",
      " [2.97491836 3.02111886]\n",
      " [2.97449213 3.02069263]\n",
      " [2.974223   3.02042349]] \n",
      "\n",
      "\n",
      "\n",
      " Std Err: \n",
      " [0.01178607 0.01178606 0.01178606 0.01178606 0.01178606 0.01178606\n",
      " 0.01178606] \n",
      "\n",
      "\n",
      "Predicted Vals of 46 : \n",
      " [75.17810263 75.49115333 76.04135748 76.13576316 76.3741301  76.78276045\n",
      " 76.8633835 ]\n",
      "\n",
      " Conf int: \n",
      " [[2.9779106  3.01069249]\n",
      " [2.97980721 3.0125891 ]\n",
      " [2.98311819 3.01590008]\n",
      " [2.98368354 3.01646525]\n",
      " [2.98510711 3.01788882]\n",
      " [2.98753535 3.02031706]\n",
      " [2.98801264 3.02079435]] \n",
      "\n",
      "\n",
      "\n",
      " Std Err: \n",
      " [0.00836288 0.00836288 0.00836288 0.00836283 0.00836283 0.00836283\n",
      " 0.00836283] \n",
      "\n",
      "\n",
      "Predicted Vals of 47 : \n",
      " [75.20858314 75.45524859 76.00013715 76.13940463 76.37532993 76.74565778\n",
      " 76.8870439 ]\n",
      "\n",
      " Conf int: \n",
      " [[2.97809639 3.01087686]\n",
      " [2.97959086 3.01237134]\n",
      " [2.98287183 3.0156523 ]\n",
      " [2.98370599 3.01648638]\n",
      " [2.98511492 3.01789531]\n",
      " [2.98731616 3.02009655]\n",
      " [2.98815326 3.02093364]] \n",
      "\n",
      "\n",
      "\n",
      " Std Err: \n",
      " [0.00836252 0.00836252 0.00836252 0.0083625  0.0083625  0.0083625\n",
      " 0.0083625 ] \n",
      "\n",
      "\n",
      "Predicted Vals of 48 : \n",
      " [75.25281494 74.66072497 75.40829865 76.03312466 75.79119657 76.61770828\n",
      " 76.50884155]\n",
      "\n",
      " Conf int: \n",
      " [[2.9745724  3.01493768]\n",
      " [2.97096387 3.01132911]\n",
      " [2.97551447 3.01587971]\n",
      " [2.97927718 3.01964242]\n",
      " [2.97782463 3.01818988]\n",
      " [2.98276462 3.02312987]\n",
      " [2.98211754 3.02248279]] \n",
      "\n",
      "\n",
      "\n",
      " Std Err: \n",
      " [0.01029746 0.01029745 0.01029745 0.01029745 0.01029745 0.01029745\n",
      " 0.01029745] \n",
      "\n",
      "\n",
      "Predicted Vals of 49 : \n",
      " [75.18266649 75.48932113 76.03155443 76.13297762 76.36774753 76.77390067\n",
      " 76.8481505 ]\n",
      "\n",
      " Conf int: \n",
      " [[2.97791244 3.01074609]\n",
      " [2.97977026 3.01260391]\n",
      " [2.98303357 3.01586721]\n",
      " [2.98364101 3.01647446]\n",
      " [2.98504319 3.01787664]\n",
      " [2.98745699 3.02029044]\n",
      " [2.98789663 3.02073008]] \n",
      "\n",
      "\n",
      "\n",
      " Std Err: \n",
      " [0.00837608 0.00837608 0.00837608 0.00837603 0.00837603 0.00837603\n",
      " 0.00837603] \n",
      "\n",
      "\n",
      "Predicted Vals of 50 : \n",
      " [75.19206443 75.52079711 76.06097094 76.15958162 76.34277049 76.78089163\n",
      " 76.85986126]\n",
      "\n",
      " Conf int: \n",
      " [[2.97801782 3.01075485]\n",
      " [2.98000875 3.01274578]\n",
      " [2.98325813 3.01599516]\n",
      " [2.98384847 3.0165853 ]\n",
      " [2.98494257 3.01767939]\n",
      " [2.98754672 3.02028355]\n",
      " [2.98801424 3.02075107]] \n",
      "\n",
      "\n",
      "\n",
      " Std Err: \n",
      " [0.00835144 0.00835144 0.00835144 0.00835139 0.00835138 0.00835138\n",
      " 0.00835138] \n",
      "\n",
      "\n",
      "Predicted Vals of 51 : \n",
      " [75.37754539 74.87357891 75.62218498 76.05003085 76.3093751  76.70789947\n",
      " 76.76328907]\n",
      "\n",
      " Conf int: \n",
      " [[2.97644268 3.0145792 ]\n",
      " [2.97337938 3.01151587]\n",
      " [2.97792101 3.01605749]\n",
      " [2.98049286 3.01862935]\n",
      " [2.98204351 3.02018   ]\n",
      " [2.98441425 3.02255074]\n",
      " [2.9847426  3.02287909]] \n",
      "\n",
      "\n",
      "\n",
      " Std Err: \n",
      " [0.00972888 0.00972887 0.00972887 0.00972887 0.00972887 0.00972887\n",
      " 0.00972887] \n",
      "\n",
      "\n",
      "Predicted Vals of 52 : \n",
      " [75.15449394 75.46910575 76.03500003 76.15476933 76.40392489 76.74216867\n",
      " 76.90163698]\n",
      "\n",
      " Conf int: \n",
      " [[2.97776527 3.010551  ]\n",
      " [2.97967202 3.01245775]\n",
      " [2.98307818 3.01586391]\n",
      " [2.98379523 3.01658097]\n",
      " [2.98528267 3.0180684 ]\n",
      " [2.98729281 3.02007854]\n",
      " [2.98823688 3.02102261]] \n",
      "\n",
      "\n",
      "\n",
      " Std Err: \n",
      " [0.00836386 0.00836386 0.00836386 0.00836386 0.00836386 0.00836386\n",
      " 0.00836386] \n",
      "\n",
      "\n",
      "Predicted Vals of 53 : \n",
      " [75.18194359 75.48920757 75.99989256 76.12557537 76.40530218 76.76160511\n",
      " 76.99531001]\n",
      "\n",
      " Conf int: \n",
      " [[2.97784777 3.01080198]\n",
      " [2.97970929 3.0126635 ]\n",
      " [2.98278349 3.0157377 ]\n",
      " [2.98353633 3.01649054]\n",
      " [2.98520664 3.01816085]\n",
      " [2.98732376 3.02027797]\n",
      " [2.98870612 3.02166033]] \n",
      "\n",
      "\n",
      "\n",
      " Std Err: \n",
      " [0.00840684 0.00840684 0.00840684 0.00840684 0.00840684 0.00840684\n",
      " 0.00840684] \n",
      "\n",
      "\n",
      "Predicted Vals of 54 : \n",
      " [75.17471856 74.29505855 75.19706612 76.16788601 75.82792767 75.72554728\n",
      " 75.68639206]\n",
      "\n",
      " Conf int: \n",
      " [[2.97114357 3.01741843]\n",
      " [2.96576354 3.0120384 ]\n",
      " [2.97127928 3.01755413]\n",
      " [2.97712912 3.02340398]\n",
      " [2.97509072 3.02136557]\n",
      " [2.97447472 3.02074958]\n",
      " [2.97423888 3.02051373]] \n",
      "\n",
      "\n",
      "\n",
      " Std Err: \n",
      " [0.01180503 0.01180503 0.01180503 0.01180503 0.01180503 0.01180503\n"
     ]
    },
    {
     "name": "stdout",
     "output_type": "stream",
     "text": [
      " 0.01180503] \n",
      "\n",
      "\n",
      "Predicted Vals of 55 : \n",
      " [75.16960852 75.47753129 76.02863048 76.14990104 76.37523973 76.78218056\n",
      " 76.86867154]\n",
      "\n",
      " Conf int: \n",
      " [[2.97785714 3.01064277]\n",
      " [2.979723   3.01250864]\n",
      " [2.98304005 3.01582568]\n",
      " [2.98376625 3.01655171]\n",
      " [2.98511185 3.01789731]\n",
      " [2.98753004 3.02031549]\n",
      " [2.98804205 3.0208275 ]] \n",
      "\n",
      "\n",
      "\n",
      " Std Err: \n",
      " [0.00836384 0.00836384 0.00836383 0.00836379 0.00836379 0.00836379\n",
      " 0.00836379] \n",
      "\n",
      "\n",
      "Predicted Vals of 56 : \n",
      " [75.16887045 75.47098536 76.02445685 76.15161793 76.37681099 76.777061\n",
      " 76.8741204 ]\n",
      "\n",
      " Conf int: \n",
      " [[2.97785624 3.01063471]\n",
      " [2.97968701 3.01246549]\n",
      " [2.98301862 3.01579709]\n",
      " [2.98378009 3.01655841]\n",
      " [2.98512479 3.0179031 ]\n",
      " [2.98750328 3.0202816 ]\n",
      " [2.98807785 3.02085617]] \n",
      "\n",
      "\n",
      "\n",
      " Std Err: \n",
      " [0.00836201 0.00836201 0.00836201 0.00836197 0.00836197 0.00836197\n",
      " 0.00836197] \n",
      "\n",
      "\n",
      "Predicted Vals of 57 : \n",
      " [75.26966441 74.68535191 75.38251199 76.01247706 75.79518881 76.61192546\n",
      " 76.48448398]\n",
      "\n",
      " Conf int: \n",
      " [[2.97467304 3.01504144]\n",
      " [2.97111305 3.01148145]\n",
      " [2.97535681 3.01572521]\n",
      " [2.97915185 3.01952025]\n",
      " [2.97784707 3.01821547]\n",
      " [2.9827287  3.0230971 ]\n",
      " [2.98197104 3.02233944]] \n",
      "\n",
      "\n",
      "\n",
      " Std Err: \n",
      " [0.01029825 0.01029825 0.01029825 0.01029825 0.01029825 0.01029825\n",
      " 0.01029825] \n",
      "\n",
      "\n",
      "Predicted Vals of 58 : \n",
      " [75.17309257 75.4495872  76.00665983 76.15685622 76.38651794 76.75851797\n",
      " 76.90634279]\n",
      "\n",
      " Conf int: \n",
      " [[2.97787379 3.01066845]\n",
      " [2.97954954 3.01234419]\n",
      " [2.98290385 3.0156985 ]\n",
      " [2.98380329 3.01659787]\n",
      " [2.98517452 3.01796909]\n",
      " [2.98738528 3.02017986]\n",
      " [2.98826028 3.02105486]] \n",
      "\n",
      "\n",
      "\n",
      " Std Err: \n",
      " [0.00836614 0.00836614 0.00836614 0.00836612 0.00836612 0.00836612\n",
      " 0.00836612] \n",
      "\n",
      "\n",
      "Predicted Vals of 59 : \n",
      " [75.17380555 75.49807837 76.04403061 76.167671   76.35104702 76.77789619\n",
      " 76.8625107 ]\n",
      "\n",
      " Conf int: \n",
      " [[2.97790403 3.01064687]\n",
      " [2.97986859 3.01261142]\n",
      " [2.98315374 3.01589657]\n",
      " [2.98389394 3.01663658]\n",
      " [2.98498902 3.01773166]\n",
      " [2.98752607 3.0202687 ]\n",
      " [2.98802701 3.02076965]] \n",
      "\n",
      "\n",
      "\n",
      " Std Err: \n",
      " [0.00835292 0.00835292 0.00835292 0.00835287 0.00835287 0.00835287\n",
      " 0.00835287] \n",
      "\n",
      "\n",
      "Predicted Vals of 60 : \n",
      " [75.37706183 74.8730619  75.60331342 76.05365791 76.31770424 76.70865476\n",
      " 76.76718385]\n",
      "\n",
      " Conf int: \n",
      " [[2.97642808 3.01458795]\n",
      " [2.97336454 3.01152441]\n",
      " [2.97779548 3.01595535]\n",
      " [2.9805029  3.01866277]\n",
      " [2.98208152 3.02024139]\n",
      " [2.98440704 3.02256691]\n",
      " [2.98475398 3.02291386]] \n",
      "\n",
      "\n",
      "\n",
      " Std Err: \n",
      " [0.00973484 0.00973484 0.00973484 0.00973484 0.00973484 0.00973484\n",
      " 0.00973484] \n",
      "\n",
      "\n",
      "Predicted Vals of 61 : \n",
      " [75.1656968  75.47215459 76.02509276 76.15981566 76.399079   76.75011546\n",
      " 76.89005581]\n",
      "\n",
      " Conf int: \n",
      " [[2.97782787 3.01062453]\n",
      " [2.97968499 3.01248165]\n",
      " [2.98301334 3.01581   ]\n",
      " [2.98382    3.01661657]\n",
      " [2.98524838 3.01804494]\n",
      " [2.98733449 3.02013106]\n",
      " [2.98816298 3.02095955]] \n",
      "\n",
      "\n",
      "\n",
      " Std Err: \n",
      " [0.00836665 0.00836665 0.00836665 0.00836662 0.00836662 0.00836662\n",
      " 0.00836662] \n",
      "\n",
      "\n",
      "Predicted Vals of 62 : \n",
      " [75.19605877 75.45811167 75.99756566 76.16816737 76.38419272 76.75280131\n",
      " 76.88382458]\n",
      "\n",
      " Conf int: \n",
      " [[2.97801172 3.01080946]\n",
      " [2.97959954 3.01239728]\n",
      " [2.98284778 3.01564552]\n",
      " [2.98386942 3.01666704]\n",
      " [2.98515914 3.01795675]\n",
      " [2.98734989 3.0201475 ]\n",
      " [2.9881256  3.02092322]] \n",
      "\n",
      "\n",
      "\n",
      " Std Err: \n",
      " [0.00836693 0.00836693 0.00836692 0.00836689 0.00836689 0.00836689\n",
      " 0.00836689] \n",
      "\n",
      "\n",
      "Predicted Vals of 63 : \n",
      " [75.05964092 74.40099477 75.23571933 76.22483246 75.75380468 75.78925299\n",
      " 75.69824687]\n",
      "\n",
      " Conf int: \n",
      " [[2.97071111 3.01645173]\n",
      " [2.96668257 3.01242314]\n",
      " [2.97178103 3.01752161]\n",
      " [2.97773666 3.02347724]\n",
      " [2.97491198 3.02065255]\n",
      " [2.97512528 3.02086585]\n",
      " [2.97457744 3.02031801]] \n",
      "\n",
      "\n",
      "\n",
      " Std Err: \n",
      " [0.01166874 0.01166873 0.01166873 0.01166873 0.01166873 0.01166873\n",
      " 0.01166873] \n",
      "\n",
      "\n",
      "Predicted Vals of 64 : \n",
      " [75.17046751 75.49190872 76.02810759 76.14219368 76.37572364 76.77910664\n",
      " 76.8708934 ]\n",
      "\n",
      " Conf int: \n",
      " [[2.9778677  3.01064265]\n",
      " [2.97981525 3.0125902 ]\n",
      " [2.98304226 3.01581721]\n",
      " [2.98372548 3.01650027]\n",
      " [2.98512007 3.01789486]\n",
      " [2.98751716 3.02029195]\n",
      " [2.98806053 3.02083532]] \n",
      "\n",
      "\n",
      "\n",
      " Std Err: \n",
      " [0.00836111 0.00836111 0.00836111 0.00836107 0.00836107 0.00836107\n",
      " 0.00836107] \n",
      "\n",
      "\n",
      "Predicted Vals of 65 : \n",
      " [75.19715132 75.41591946 75.88040212 76.01690136 76.3921038  76.65806087\n",
      " 77.00885503]\n",
      "\n",
      " Conf int: \n",
      " [[2.97767276 3.01116169]\n",
      " [2.97899874 3.01248767]\n",
      " [2.98179902 3.01528795]\n",
      " [2.9826181  3.01610703]\n",
      " [2.98486063 3.01834956]\n",
      " [2.98644235 3.01993128]\n",
      " [2.98851873 3.02200766]] \n",
      "\n",
      "\n",
      "\n",
      " Std Err: \n",
      " [0.00854325 0.00854325 0.00854325 0.00854325 0.00854325 0.00854325\n",
      " 0.00854325] \n",
      "\n",
      "\n",
      "Predicted Vals of 66 : \n",
      " [75.24006685 74.68235844 75.40959759 76.02510185 75.78629204 76.62312669\n",
      " 76.50352675]\n",
      "\n",
      " Conf int: \n",
      " [[2.97450461 3.01485078]\n",
      " [2.97110587 3.01145199]\n",
      " [2.97553189 3.01587801]\n",
      " [2.97923866 3.01958478]\n",
      " [2.97780469 3.01815081]\n",
      " [2.98280636 3.02315248]\n",
      " [2.98209549 3.02244161]] \n",
      "\n",
      "\n",
      "\n",
      " Std Err: \n",
      " [0.01029258 0.01029257 0.01029257 0.01029257 0.01029257 0.01029257\n",
      " 0.01029257] \n",
      "\n",
      "\n",
      "Predicted Vals of 67 : \n",
      " [75.14499502 75.49610219 75.94246698 76.03225427 76.43754468 76.72059626\n",
      " 77.08274225]\n",
      "\n",
      " Conf int: \n",
      " [[2.97758919 3.01061165]\n",
      " [2.97971684 3.01273929]\n",
      " [2.9824049  3.01542736]\n",
      " [2.98294336 3.01596581]\n",
      " [2.98536458 3.01838703]\n",
      " [2.98704656 3.02006901]\n",
      " [2.98918788 3.02221034]] \n",
      "\n",
      "\n",
      "\n",
      " Std Err: \n",
      " [0.00842425 0.00842425 0.00842425 0.00842425 0.00842425 0.00842425\n",
      " 0.00842425] \n",
      "\n",
      "\n",
      "Predicted Vals of 68 : \n",
      " [75.16286601 75.48314217 76.01702337 76.15976961 76.36649904 76.75533627\n",
      " 76.85154614]\n",
      "\n",
      " Conf int: \n",
      " [[2.97782992 3.01058808]\n",
      " [2.97977066 3.01252882]\n",
      " [2.98298422 3.01574238]\n",
      " [2.98383902 3.016597  ]\n",
      " [2.98507349 3.01783146]\n",
      " [2.98738473 3.0201427 ]\n",
      " [2.98795447 3.02071244]] \n",
      "\n",
      "\n",
      "\n",
      " Std Err: \n",
      " [0.00835683 0.00835683 0.00835683 0.00835678 0.00835678 0.00835678\n",
      " 0.00835678] \n",
      "\n",
      "\n",
      "Predicted Vals of 69 : \n",
      " [75.34110788 74.87772574 75.63294561 76.06098324 76.32231672 76.69408216\n",
      " 76.7457384 ]\n",
      "\n",
      " Conf int: \n",
      " [[2.97624439 3.01433615]\n",
      " [2.97342708 3.01151878]\n",
      " [2.97800829 3.01609999]\n",
      " [2.98058087 3.01867256]\n",
      " [2.98214313 3.02023482]\n",
      " [2.98435469 3.02244639]\n",
      " [2.98466098 3.02275268]] \n",
      "\n",
      "\n",
      "\n",
      " Std Err: \n",
      " [0.00971746 0.00971745 0.00971745 0.00971745 0.00971745 0.00971745\n",
      " 0.00971745] \n",
      "\n",
      "\n",
      "Predicted Vals of 70 : \n",
      " [75.17049486 75.44578726 75.95026187 76.09758506 76.40728078 76.72372831\n",
      " 77.02043056]\n",
      "\n",
      " Conf int: \n",
      " [[2.97787331 3.01063737]\n",
      " [2.97954186 3.01230591]\n",
      " [2.98258088 3.01534493]\n",
      " [2.98346388 3.01622793]\n",
      " [2.9853135  3.01807756]\n",
      " [2.98719433 3.01995838]\n",
      " [2.98894949 3.02171355]] \n",
      "\n",
      "\n",
      "\n",
      " Std Err: \n",
      " [0.00835833 0.00835833 0.00835833 0.00835833 0.00835833 0.00835833\n",
      " 0.00835833] \n",
      "\n",
      "\n",
      "Predicted Vals of 71 : \n",
      " [75.15772855 75.41811366 75.97758308 76.17041527 76.40867125 76.70209818\n",
      " 76.92377531]\n",
      "\n",
      " Conf int: \n",
      " [[2.97778688 3.0105687 ]\n",
      " [2.97936557 3.01214739]\n",
      " [2.9827359  3.01551773]\n",
      " [2.98389076 3.01667259]\n",
      " [2.9853129  3.01809473]\n",
      " [2.98705717 3.019839  ]\n",
      " [2.98836971 3.02115154]] \n",
      "\n",
      "\n",
      "\n",
      " Std Err: \n",
      " [0.00836286 0.00836286 0.00836286 0.00836286 0.00836286 0.00836286\n",
      " 0.00836286] \n",
      "\n",
      "\n",
      "Predicted Vals of 72 : \n",
      " [75.18226297 74.29337914 75.19071306 76.16296379 75.83321331 75.72803051\n",
      " 75.68296447]\n",
      "\n",
      " Conf int: \n",
      " [[2.97118237 3.01747126]\n",
      " [2.96574617 3.01203508]\n",
      " [2.97123367 3.01752259]\n",
      " [2.97709266 3.02338157]\n",
      " [2.97511546 3.02140438]\n",
      " [2.97448265 3.02077156]\n",
      " [2.9742112  3.02050011]] \n",
      "\n",
      "\n",
      "\n",
      " Std Err: \n",
      " [0.01180861 0.01180861 0.01180861 0.01180861 0.01180861 0.01180861\n",
      " 0.01180861] \n",
      "\n",
      "\n",
      "Predicted Vals of 73 : \n",
      " [75.22382275 75.54753101 76.09077073 76.14943895 76.37925563 76.7787554\n",
      " 76.86096534]\n",
      "\n",
      " Conf int: \n",
      " [[2.9782035  3.01095474]\n",
      " [2.98016311 3.01291435]\n",
      " [2.98342949 3.01618073]\n",
      " [2.98378068 3.01653175]\n",
      " [2.98515298 3.01790406]\n",
      " [2.98752694 3.02027802]\n",
      " [2.98801365 3.02076472]] \n",
      "\n",
      "\n",
      "\n",
      " Std Err: \n",
      " [0.00835506 0.00835506 0.00835506 0.00835502 0.00835502 0.00835502\n",
      " 0.00835502] \n",
      "\n",
      "\n",
      "Predicted Vals of 74 : \n",
      " [75.21357925 75.43967365 75.98340905 76.13850494 76.38734543 76.71066449\n",
      " 76.94466949]\n",
      "\n",
      " Conf int: \n",
      " [[2.9779617  3.01107221]\n",
      " [2.97933165 3.01244216]\n",
      " [2.9826065  3.01571701]\n",
      " [2.98353555 3.01664606]\n",
      " [2.98502148 3.01813199]\n",
      " [2.98694364 3.02005415]\n",
      " [2.98832885 3.02143936]] \n",
      "\n",
      "\n",
      "\n",
      " Std Err: \n",
      " [0.00844671 0.00844671 0.00844671 0.00844671 0.00844671 0.00844671\n",
      " 0.00844671] \n",
      "\n",
      "\n",
      "Predicted Vals of 75 : \n",
      " [75.26710445 74.6855659  75.38248003 76.0127196  75.79748053 76.61721031\n",
      " 76.48758381]\n",
      "\n",
      " Conf int: \n",
      " [[2.97465196 3.01503146]\n",
      " [2.97110882 3.0114883 ]\n",
      " [2.97535108 3.01573056]\n",
      " [2.97914776 3.01952724]\n",
      " [2.97785531 3.0182348 ]\n",
      " [2.98275454 3.02313403]\n",
      " [2.98198395 3.02236343]] \n",
      "\n",
      "\n",
      "\n",
      " Std Err: \n",
      " [0.01030108 0.01030108 0.01030108 0.01030108 0.01030108 0.01030108\n",
      " 0.01030108] \n",
      "\n",
      "\n",
      "Predicted Vals of 76 : \n",
      " [75.22178183 75.52899476 76.07888147 76.1512263  76.37531549 76.76299039\n",
      " 76.85529114]\n",
      "\n",
      " Conf int: \n",
      " [[2.97818963 3.01094384]\n",
      " [2.98004968 3.01280389]\n",
      " [2.98335681 3.01611102]\n",
      " [2.98378987 3.01654394]\n",
      " [2.985128   3.01788207]\n",
      " [2.98743204 3.02018611]\n",
      " [2.98797858 3.02073265]] \n",
      "\n",
      "\n",
      "\n",
      " Std Err: \n",
      " [0.00835582 0.00835582 0.00835582 0.00835578 0.00835578 0.00835578\n",
      " 0.00835578] \n",
      "\n",
      "\n",
      "Predicted Vals of 77 : \n",
      " [75.24907267 75.61110814 76.12853132 76.18826756 76.32804056 76.7979707\n",
      " 76.8534978 ]\n",
      "\n",
      " Conf int: \n",
      " [[2.97837672 3.01108796]\n",
      " [2.98056682 3.01327806]\n",
      " [2.98367551 3.01638675]\n",
      " [2.98403291 3.01674392]\n",
      " [2.98486762 3.01757863]\n",
      " [2.98766079 3.0203718 ]\n",
      " [2.9879895  3.02070051]] \n",
      "\n",
      "\n",
      "\n",
      " Std Err: \n",
      " [0.00834486 0.00834486 0.00834486 0.0083448  0.0083448  0.0083448\n",
      " 0.0083448 ] \n",
      "\n",
      "\n",
      "Predicted Vals of 78 : \n",
      " [75.38032143 74.87982814 75.60080383 76.04849737 76.31655442 76.7143332\n",
      " 76.77127439]\n",
      "\n",
      " Conf int: \n",
      " [[2.97644465 3.01461085]\n",
      " [2.97340267 3.01156886]\n",
      " [2.97777718 3.01594337]\n",
      " [2.98046882 3.01863501]\n",
      " [2.9820715  3.02023769]\n",
      " [2.98443755 3.02260374]\n",
      " [2.98477506 3.02294125]] \n",
      "\n",
      "\n",
      "\n",
      " Std Err: \n",
      " [0.00973645 0.00973645 0.00973645 0.00973645 0.00973645 0.00973645\n",
      " 0.00973645] \n",
      "\n",
      "\n",
      "Predicted Vals of 79 : \n",
      " [75.31812739 75.44647141 75.87014929 76.0176636  76.37214315 76.54381753\n",
      " 76.90189059]\n",
      "\n",
      " Conf int: \n",
      " [[2.97869728 3.01160479]\n",
      " [2.9794743  3.01238174]\n",
      " [2.98202817 3.01493561]\n",
      " [2.98291342 3.01582086]\n",
      " [2.9850324  3.01793984]\n",
      " [2.98605445 3.01896189]\n",
      " [2.98817753 3.02108497]] \n",
      "\n",
      "\n",
      "\n",
      " Std Err: \n",
      " [0.00839493 0.00839491 0.00839491 0.00839491 0.00839491 0.00839491\n",
      " 0.00839491] \n",
      "\n",
      "\n",
      "Predicted Vals of 80 : \n",
      " [75.18142277 75.51226469 76.052099   76.14714083 76.37193476 76.78668483\n",
      " 76.86786486]\n",
      "\n",
      " Conf int: \n",
      " [[2.97797737 3.01066606]\n",
      " [2.97998138 3.01267007]\n",
      " [2.98322915 3.01591784]\n",
      " [2.98379822 3.01648672]\n",
      " [2.98514063 3.01782913]\n",
      " [2.9876052  3.0202937 ]\n",
      " [2.98808576 3.02077425]] \n",
      "\n",
      "\n",
      "\n",
      " Std Err: \n",
      " [0.0083391  0.0083391  0.0083391  0.00833906 0.00833905 0.00833905\n",
      " 0.00833905] \n",
      "\n",
      "\n"
     ]
    }
   ],
   "source": [
    "fig_7 = px.line(test_7, x=test_7.index, y=test_7)\n",
    "fig_31 = px.line(test_31, x=test_31.index, y=test_31)\n",
    "\n",
    "for x in range(model_i):\n",
    "    model = df.model[x]\n",
    "    pred_7 = model.get_prediction(start=len(normalised_Data)-6, end=len(normalised_Data))\n",
    "\n",
    "    pred_31 = model.get_prediction(start=len(normalised_Data)-30, end=len(normalised_Data))\n",
    "\n",
    "    pred_7.predicted_mean = (pred_7.predicted_mean*fitted_lambda +1)**(1/fitted_lambda)\n",
    "    pred_31.predicted_mean = (pred_31.predicted_mean*fitted_lambda +1)**(1/fitted_lambda)\n",
    "\n",
    "    print(\"Predicted Vals of\", x, \": \\n\", pred_7.predicted_mean)\n",
    "    #print(model.summary_frame(alpha=0.05))   //mean isn't updated to reversed vals\n",
    "    #conf_int = (model.conf_int(0.5)*fitted_lambda +1)**(1/fitted_lambda)   //don't think we should be reveresing the conf_int\n",
    "    conf_int = (pred_7.conf_int(0.5))\n",
    "    se = (pred_7.se_mean)\n",
    "    print('\\n',\"Conf int: \\n\",conf_int,'\\n\\n')\n",
    "    print('\\n',\"Std Err: \\n\",se,'\\n\\n')\n",
    "\n",
    "    fig_7.add_scatter(x=test_7.index, y=pred_7.predicted_mean,name='('+''.join(str(e) for e in df.Order[x])+')'+'('+''.join(str(e) for e in df.SeasonalOrder[x])+')', mode='lines')\n",
    "    fig_31.add_scatter(x=test_31.index, y=pred_31.predicted_mean, mode='lines')\n",
    "\n"
   ]
  },
  {
   "cell_type": "code",
   "execution_count": 75,
   "metadata": {},
   "outputs": [
    {
     "data": {
      "application/vnd.plotly.v1+json": {
       "config": {
        "plotlyServerURL": "https://plot.ly"
       },
       "data": [
        {
         "hovertemplate": "Date=%{x}<br>y=%{y}<extra></extra>",
         "legendgroup": "",
         "line": {
          "color": "#636efa",
          "dash": "solid"
         },
         "mode": "lines",
         "name": "",
         "orientation": "v",
         "showlegend": false,
         "type": "scatter",
         "x": [
          "2017-12-20T00:00:00",
          "2017-12-21T00:00:00",
          "2017-12-22T00:00:00",
          "2017-12-26T00:00:00",
          "2017-12-27T00:00:00",
          "2017-12-28T00:00:00",
          "2017-12-29T00:00:00"
         ],
         "xaxis": "x",
         "y": [
          75.05000305175781,
          75.4000015258789,
          76.08999633789062,
          76.12999725341797,
          76.33999633789062,
          76.66999816894531,
          76.83000183105469
         ],
         "yaxis": "y"
        },
        {
         "mode": "lines",
         "name": "(010)(0107)",
         "type": "scatter",
         "x": [
          "2017-12-20T00:00:00",
          "2017-12-21T00:00:00",
          "2017-12-22T00:00:00",
          "2017-12-26T00:00:00",
          "2017-12-27T00:00:00",
          "2017-12-28T00:00:00",
          "2017-12-29T00:00:00"
         ],
         "y": [
          75.09690543153863,
          74.40079873290887,
          75.37361959125884,
          76.1691812622009,
          75.80960679684036,
          75.81395281483664,
          75.75816225448897
         ]
        },
        {
         "mode": "lines",
         "name": "(010)(0117)",
         "type": "scatter",
         "x": [
          "2017-12-20T00:00:00",
          "2017-12-21T00:00:00",
          "2017-12-22T00:00:00",
          "2017-12-26T00:00:00",
          "2017-12-27T00:00:00",
          "2017-12-28T00:00:00",
          "2017-12-29T00:00:00"
         ],
         "y": [
          75.0634862333205,
          75.53622358607723,
          76.08453097448454,
          76.1447384556932,
          76.39761217828939,
          76.80827227298121,
          76.86836288863493
         ]
        },
        {
         "mode": "lines",
         "name": "(010)(0127)",
         "type": "scatter",
         "x": [
          "2017-12-20T00:00:00",
          "2017-12-21T00:00:00",
          "2017-12-22T00:00:00",
          "2017-12-26T00:00:00",
          "2017-12-27T00:00:00",
          "2017-12-28T00:00:00",
          "2017-12-29T00:00:00"
         ],
         "y": [
          75.08277796192715,
          75.36506694237457,
          75.83748057556748,
          75.95910589397658,
          76.3880663989603,
          76.6207647866333,
          76.98963512042597
         ]
        },
        {
         "mode": "lines",
         "name": "(010)(1107)",
         "type": "scatter",
         "x": [
          "2017-12-20T00:00:00",
          "2017-12-21T00:00:00",
          "2017-12-22T00:00:00",
          "2017-12-26T00:00:00",
          "2017-12-27T00:00:00",
          "2017-12-28T00:00:00",
          "2017-12-29T00:00:00"
         ],
         "y": [
          75.11998648822869,
          74.73792005861404,
          75.52777364641575,
          76.05982150396997,
          75.8175530208124,
          76.70618854799052,
          76.49027117307666
         ]
        },
        {
         "mode": "lines",
         "name": "(010)(1117)",
         "type": "scatter",
         "x": [
          "2017-12-20T00:00:00",
          "2017-12-21T00:00:00",
          "2017-12-22T00:00:00",
          "2017-12-26T00:00:00",
          "2017-12-27T00:00:00",
          "2017-12-28T00:00:00",
          "2017-12-29T00:00:00"
         ],
         "y": [
          75.06350337681913,
          75.53701543898426,
          76.08505454207784,
          76.14457165913525,
          76.39763120497561,
          76.80898328091335,
          76.8680412808233
         ]
        },
        {
         "mode": "lines",
         "name": "(010)(1127)",
         "type": "scatter",
         "x": [
          "2017-12-20T00:00:00",
          "2017-12-21T00:00:00",
          "2017-12-22T00:00:00",
          "2017-12-26T00:00:00",
          "2017-12-27T00:00:00",
          "2017-12-28T00:00:00",
          "2017-12-29T00:00:00"
         ],
         "y": [
          75.08240207796321,
          75.57721599949235,
          76.10611619946182,
          76.16635280838712,
          76.35908675299544,
          76.81467455412692,
          76.85840507441934
         ]
        },
        {
         "mode": "lines",
         "name": "(010)(2107)",
         "type": "scatter",
         "x": [
          "2017-12-20T00:00:00",
          "2017-12-21T00:00:00",
          "2017-12-22T00:00:00",
          "2017-12-26T00:00:00",
          "2017-12-27T00:00:00",
          "2017-12-28T00:00:00",
          "2017-12-29T00:00:00"
         ],
         "y": [
          75.20678942196659,
          74.92333527652599,
          75.73152993719957,
          76.07810006845783,
          76.33591522240435,
          76.74774753206566,
          76.77444724255066
         ]
        },
        {
         "mode": "lines",
         "name": "(010)(2117)",
         "type": "scatter",
         "x": [
          "2017-12-20T00:00:00",
          "2017-12-21T00:00:00",
          "2017-12-22T00:00:00",
          "2017-12-26T00:00:00",
          "2017-12-27T00:00:00",
          "2017-12-28T00:00:00",
          "2017-12-29T00:00:00"
         ],
         "y": [
          75.06155949805446,
          75.53557356339765,
          76.08531410320714,
          76.15225834424638,
          76.41340343190038,
          76.78296759452932,
          76.87790417385965
         ]
        },
        {
         "mode": "lines",
         "name": "(010)(2127)",
         "type": "scatter",
         "x": [
          "2017-12-20T00:00:00",
          "2017-12-21T00:00:00",
          "2017-12-22T00:00:00",
          "2017-12-26T00:00:00",
          "2017-12-27T00:00:00",
          "2017-12-28T00:00:00",
          "2017-12-29T00:00:00"
         ],
         "y": [
          75.06275262974657,
          75.53940919921553,
          76.08821201485489,
          76.13981400665806,
          76.39882315634733,
          76.81043282206019,
          76.86108238821168
         ]
        },
        {
         "mode": "lines",
         "name": "(011)(0107)",
         "type": "scatter",
         "x": [
          "2017-12-20T00:00:00",
          "2017-12-21T00:00:00",
          "2017-12-22T00:00:00",
          "2017-12-26T00:00:00",
          "2017-12-27T00:00:00",
          "2017-12-28T00:00:00",
          "2017-12-29T00:00:00"
         ],
         "y": [
          75.2778539115102,
          74.3877037228173,
          75.18824658212917,
          76.06596610718127,
          75.77997593297657,
          75.71778960076769,
          75.63820915080079
         ]
        },
        {
         "mode": "lines",
         "name": "(011)(0117)",
         "type": "scatter",
         "x": [
          "2017-12-20T00:00:00",
          "2017-12-21T00:00:00",
          "2017-12-22T00:00:00",
          "2017-12-26T00:00:00",
          "2017-12-27T00:00:00",
          "2017-12-28T00:00:00",
          "2017-12-29T00:00:00"
         ],
         "y": [
          75.19869212786071,
          75.51870351848568,
          76.02372367958814,
          76.13079682594704,
          76.37190167295664,
          76.77942422056077,
          76.85405752498974
         ]
        },
        {
         "mode": "lines",
         "name": "(011)(0127)",
         "type": "scatter",
         "x": [
          "2017-12-20T00:00:00",
          "2017-12-21T00:00:00",
          "2017-12-22T00:00:00",
          "2017-12-26T00:00:00",
          "2017-12-27T00:00:00",
          "2017-12-28T00:00:00",
          "2017-12-29T00:00:00"
         ],
         "y": [
          75.19915646328243,
          75.51288250175078,
          76.01900888261459,
          76.1328067155114,
          76.37523263429131,
          76.77440049188742,
          76.86492451631054
         ]
        },
        {
         "mode": "lines",
         "name": "(011)(1107)",
         "type": "scatter",
         "x": [
          "2017-12-20T00:00:00",
          "2017-12-21T00:00:00",
          "2017-12-22T00:00:00",
          "2017-12-26T00:00:00",
          "2017-12-27T00:00:00",
          "2017-12-28T00:00:00",
          "2017-12-29T00:00:00"
         ],
         "y": [
          75.31057690289622,
          74.72806371658496,
          75.3760757887766,
          75.97555851210085,
          75.7772156542072,
          76.60614894642966,
          76.46544736797753
         ]
        },
        {
         "mode": "lines",
         "name": "(011)(1117)",
         "type": "scatter",
         "x": [
          "2017-12-20T00:00:00",
          "2017-12-21T00:00:00",
          "2017-12-22T00:00:00",
          "2017-12-26T00:00:00",
          "2017-12-27T00:00:00",
          "2017-12-28T00:00:00",
          "2017-12-29T00:00:00"
         ],
         "y": [
          75.1999833139206,
          75.51468936548672,
          76.0201370249583,
          76.13176213732827,
          76.37320890307033,
          76.77570197694193,
          76.85925268171408
         ]
        },
        {
         "mode": "lines",
         "name": "(011)(1127)",
         "type": "scatter",
         "x": [
          "2017-12-20T00:00:00",
          "2017-12-21T00:00:00",
          "2017-12-22T00:00:00",
          "2017-12-26T00:00:00",
          "2017-12-27T00:00:00",
          "2017-12-28T00:00:00",
          "2017-12-29T00:00:00"
         ],
         "y": [
          75.21881557099418,
          75.560628419931,
          76.04806181423801,
          76.15928743188971,
          76.33554076568777,
          76.77850294463896,
          76.85254889427588
         ]
        },
        {
         "mode": "lines",
         "name": "(011)(2107)",
         "type": "scatter",
         "x": [
          "2017-12-20T00:00:00",
          "2017-12-21T00:00:00",
          "2017-12-22T00:00:00",
          "2017-12-26T00:00:00",
          "2017-12-27T00:00:00",
          "2017-12-28T00:00:00",
          "2017-12-29T00:00:00"
         ],
         "y": [
          75.41065086770944,
          74.92451211323527,
          75.60147806502711,
          76.01910479807898,
          76.300122222606,
          76.70642423908528,
          76.76069313686288
         ]
        },
        {
         "mode": "lines",
         "name": "(011)(2117)",
         "type": "scatter",
         "x": [
          "2017-12-20T00:00:00",
          "2017-12-21T00:00:00",
          "2017-12-22T00:00:00",
          "2017-12-26T00:00:00",
          "2017-12-27T00:00:00",
          "2017-12-28T00:00:00",
          "2017-12-29T00:00:00"
         ],
         "y": [
          75.16870616576186,
          75.50444702220447,
          76.02484424851086,
          76.14778274419142,
          76.4057179864988,
          76.74674687391484,
          76.89868564097553
         ]
        },
        {
         "mode": "lines",
         "name": "(011)(2127)",
         "type": "scatter",
         "x": [
          "2017-12-20T00:00:00",
          "2017-12-21T00:00:00",
          "2017-12-22T00:00:00",
          "2017-12-26T00:00:00",
          "2017-12-27T00:00:00",
          "2017-12-28T00:00:00",
          "2017-12-29T00:00:00"
         ],
         "y": [
          75.15077363941691,
          75.5055201107592,
          76.02712079426409,
          76.1339757311954,
          76.40952600552501,
          76.78098472684235,
          76.97959855943894
         ]
        },
        {
         "mode": "lines",
         "name": "(012)(0107)",
         "type": "scatter",
         "x": [
          "2017-12-20T00:00:00",
          "2017-12-21T00:00:00",
          "2017-12-22T00:00:00",
          "2017-12-26T00:00:00",
          "2017-12-27T00:00:00",
          "2017-12-28T00:00:00",
          "2017-12-29T00:00:00"
         ],
         "y": [
          75.18955828659202,
          74.28635024426613,
          75.17892710207941,
          76.1603026697387,
          75.84159792381676,
          75.72986546474333,
          75.67875108458047
         ]
        },
        {
         "mode": "lines",
         "name": "(012)(0117)",
         "type": "scatter",
         "x": [
          "2017-12-20T00:00:00",
          "2017-12-21T00:00:00",
          "2017-12-22T00:00:00",
          "2017-12-26T00:00:00",
          "2017-12-27T00:00:00",
          "2017-12-28T00:00:00",
          "2017-12-29T00:00:00"
         ],
         "y": [
          75.16954844639356,
          75.48095118804643,
          76.02451173497181,
          76.148150859386,
          76.37693063740734,
          76.78419882499738,
          76.86420436386493
         ]
        },
        {
         "mode": "lines",
         "name": "(012)(0127)",
         "type": "scatter",
         "x": [
          "2017-12-20T00:00:00",
          "2017-12-21T00:00:00",
          "2017-12-22T00:00:00",
          "2017-12-26T00:00:00",
          "2017-12-27T00:00:00",
          "2017-12-28T00:00:00",
          "2017-12-29T00:00:00"
         ],
         "y": [
          75.16517406345983,
          75.460865034655,
          76.01465884368713,
          76.15655888570296,
          76.38662639523655,
          76.77425316131809,
          76.89225090161916
         ]
        },
        {
         "mode": "lines",
         "name": "(012)(1107)",
         "type": "scatter",
         "x": [
          "2017-12-20T00:00:00",
          "2017-12-21T00:00:00",
          "2017-12-22T00:00:00",
          "2017-12-26T00:00:00",
          "2017-12-27T00:00:00",
          "2017-12-28T00:00:00",
          "2017-12-29T00:00:00"
         ],
         "y": [
          75.22804794472646,
          74.62719678416161,
          75.36996704852277,
          76.0538315177628,
          75.82684986470477,
          76.62511962675416,
          76.51343934781973
         ]
        },
        {
         "mode": "lines",
         "name": "(012)(1117)",
         "type": "scatter",
         "x": [
          "2017-12-20T00:00:00",
          "2017-12-21T00:00:00",
          "2017-12-22T00:00:00",
          "2017-12-26T00:00:00",
          "2017-12-27T00:00:00",
          "2017-12-28T00:00:00",
          "2017-12-29T00:00:00"
         ],
         "y": [
          75.18114254518598,
          75.45315590067656,
          75.9948549582943,
          76.15132883042773,
          76.38550997577069,
          76.75157346669242,
          76.89866970614145
         ]
        },
        {
         "mode": "lines",
         "name": "(012)(1127)",
         "type": "scatter",
         "x": [
          "2017-12-20T00:00:00",
          "2017-12-21T00:00:00",
          "2017-12-22T00:00:00",
          "2017-12-26T00:00:00",
          "2017-12-27T00:00:00",
          "2017-12-28T00:00:00",
          "2017-12-29T00:00:00"
         ],
         "y": [
          75.1817480929716,
          75.50569656932237,
          76.0378968936382,
          76.1660950391314,
          76.35150046173804,
          76.77774737806111,
          76.86125011625504
         ]
        },
        {
         "mode": "lines",
         "name": "(012)(2107)",
         "type": "scatter",
         "x": [
          "2017-12-20T00:00:00",
          "2017-12-21T00:00:00",
          "2017-12-22T00:00:00",
          "2017-12-26T00:00:00",
          "2017-12-27T00:00:00",
          "2017-12-28T00:00:00",
          "2017-12-29T00:00:00"
         ],
         "y": [
          75.37619022847566,
          74.87822663550953,
          75.5993161089249,
          76.04896115216035,
          76.32081671802948,
          76.71165696145864,
          76.76818207709557
         ]
        },
        {
         "mode": "lines",
         "name": "(012)(2117)",
         "type": "scatter",
         "x": [
          "2017-12-20T00:00:00",
          "2017-12-21T00:00:00",
          "2017-12-22T00:00:00",
          "2017-12-26T00:00:00",
          "2017-12-27T00:00:00",
          "2017-12-28T00:00:00",
          "2017-12-29T00:00:00"
         ],
         "y": [
          75.2005300711678,
          75.47513998355235,
          75.99507375141667,
          76.14910472750728,
          76.40639552008369,
          76.73327514193666,
          76.92411049778957
         ]
        },
        {
         "mode": "lines",
         "name": "(012)(2127)",
         "type": "scatter",
         "x": [
          "2017-12-20T00:00:00",
          "2017-12-21T00:00:00",
          "2017-12-22T00:00:00",
          "2017-12-26T00:00:00",
          "2017-12-27T00:00:00",
          "2017-12-28T00:00:00",
          "2017-12-29T00:00:00"
         ],
         "y": [
          75.16120308485279,
          75.44813714332095,
          76.00633409785218,
          76.17769449006772,
          76.39650404212037,
          76.76458327080884,
          76.89744100790381
         ]
        },
        {
         "mode": "lines",
         "name": "(110)(0107)",
         "type": "scatter",
         "x": [
          "2017-12-20T00:00:00",
          "2017-12-21T00:00:00",
          "2017-12-22T00:00:00",
          "2017-12-26T00:00:00",
          "2017-12-27T00:00:00",
          "2017-12-28T00:00:00",
          "2017-12-29T00:00:00"
         ],
         "y": [
          75.27206557923671,
          74.36513574540207,
          75.17203128028547,
          76.07843563063881,
          75.7893753323017,
          75.71208003018495,
          75.63813315152527
         ]
        },
        {
         "mode": "lines",
         "name": "(110)(0117)",
         "type": "scatter",
         "x": [
          "2017-12-20T00:00:00",
          "2017-12-21T00:00:00",
          "2017-12-22T00:00:00",
          "2017-12-26T00:00:00",
          "2017-12-27T00:00:00",
          "2017-12-28T00:00:00",
          "2017-12-29T00:00:00"
         ],
         "y": [
          75.19062090978514,
          75.50209463266371,
          76.02380032327488,
          76.13775040578766,
          76.37221849860553,
          76.780921324494,
          76.85745674484957
         ]
        },
        {
         "mode": "lines",
         "name": "(110)(0127)",
         "type": "scatter",
         "x": [
          "2017-12-20T00:00:00",
          "2017-12-21T00:00:00",
          "2017-12-22T00:00:00",
          "2017-12-26T00:00:00",
          "2017-12-27T00:00:00",
          "2017-12-28T00:00:00",
          "2017-12-29T00:00:00"
         ],
         "y": [
          75.19258683929009,
          75.48631688519971,
          76.01108491599389,
          76.14179846135994,
          76.37797468320335,
          76.76714663674169,
          76.87763386456186
         ]
        },
        {
         "mode": "lines",
         "name": "(110)(1107)",
         "type": "scatter",
         "x": [
          "2017-12-20T00:00:00",
          "2017-12-21T00:00:00",
          "2017-12-22T00:00:00",
          "2017-12-26T00:00:00",
          "2017-12-27T00:00:00",
          "2017-12-28T00:00:00",
          "2017-12-29T00:00:00"
         ],
         "y": [
          75.3041385768199,
          74.70480194331442,
          75.3664094909512,
          75.98777005906263,
          75.78434055543588,
          76.6038591424897,
          76.47556702410458
         ]
        },
        {
         "mode": "lines",
         "name": "(110)(1117)",
         "type": "scatter",
         "x": [
          "2017-12-20T00:00:00",
          "2017-12-21T00:00:00",
          "2017-12-22T00:00:00",
          "2017-12-26T00:00:00",
          "2017-12-27T00:00:00",
          "2017-12-28T00:00:00",
          "2017-12-29T00:00:00"
         ],
         "y": [
          75.19155697125088,
          75.49726666815803,
          76.01984474927775,
          76.13911173565238,
          76.37412464407561,
          76.77675666550674,
          76.86411441520386
         ]
        },
        {
         "mode": "lines",
         "name": "(110)(1127)",
         "type": "scatter",
         "x": [
          "2017-12-20T00:00:00",
          "2017-12-21T00:00:00",
          "2017-12-22T00:00:00",
          "2017-12-26T00:00:00",
          "2017-12-27T00:00:00",
          "2017-12-28T00:00:00",
          "2017-12-29T00:00:00"
         ],
         "y": [
          75.21185505563692,
          75.5460110991958,
          76.04915377296855,
          76.1673335550021,
          76.33407712647762,
          76.77984324238092,
          76.85681968457494
         ]
        },
        {
         "mode": "lines",
         "name": "(110)(2107)",
         "type": "scatter",
         "x": [
          "2017-12-20T00:00:00",
          "2017-12-21T00:00:00",
          "2017-12-22T00:00:00",
          "2017-12-26T00:00:00",
          "2017-12-27T00:00:00",
          "2017-12-28T00:00:00",
          "2017-12-29T00:00:00"
         ],
         "y": [
          75.40776565182152,
          74.9004307127327,
          75.5920288257834,
          76.0304792391672,
          76.3046231520483,
          76.70775961417577,
          76.76463936614172
         ]
        },
        {
         "mode": "lines",
         "name": "(110)(2117)",
         "type": "scatter",
         "x": [
          "2017-12-20T00:00:00",
          "2017-12-21T00:00:00",
          "2017-12-22T00:00:00",
          "2017-12-26T00:00:00",
          "2017-12-27T00:00:00",
          "2017-12-28T00:00:00",
          "2017-12-29T00:00:00"
         ],
         "y": [
          75.19785474807306,
          75.49149717635765,
          76.01503691698487,
          76.14906796746587,
          76.39529123489277,
          76.74320344621766,
          76.876135360082
         ]
        },
        {
         "mode": "lines",
         "name": "(110)(2127)",
         "type": "scatter",
         "x": [
          "2017-12-20T00:00:00",
          "2017-12-21T00:00:00",
          "2017-12-22T00:00:00",
          "2017-12-26T00:00:00",
          "2017-12-27T00:00:00",
          "2017-12-28T00:00:00",
          "2017-12-29T00:00:00"
         ],
         "y": [
          75.17349897963463,
          75.50163994510243,
          76.01742521692536,
          76.15775716388175,
          76.37829630739044,
          76.76609056618162,
          76.8631200799711
         ]
        },
        {
         "mode": "lines",
         "name": "(111)(0107)",
         "type": "scatter",
         "x": [
          "2017-12-20T00:00:00",
          "2017-12-21T00:00:00",
          "2017-12-22T00:00:00",
          "2017-12-26T00:00:00",
          "2017-12-27T00:00:00",
          "2017-12-28T00:00:00",
          "2017-12-29T00:00:00"
         ],
         "y": [
          75.02950889611957,
          74.4367853451345,
          75.21939325206414,
          76.24919547884865,
          75.7285802607949,
          75.82205653428834,
          75.67812867460643
         ]
        },
        {
         "mode": "lines",
         "name": "(111)(0117)",
         "type": "scatter",
         "x": [
          "2017-12-20T00:00:00",
          "2017-12-21T00:00:00",
          "2017-12-22T00:00:00",
          "2017-12-26T00:00:00",
          "2017-12-27T00:00:00",
          "2017-12-28T00:00:00",
          "2017-12-29T00:00:00"
         ],
         "y": [
          75.13367503411297,
          75.45123236801774,
          76.05842180881453,
          76.15297534897184,
          76.38544942853807,
          76.77941367370313,
          76.8989637120528
         ]
        },
        {
         "mode": "lines",
         "name": "(111)(0127)",
         "type": "scatter",
         "x": [
          "2017-12-20T00:00:00",
          "2017-12-21T00:00:00",
          "2017-12-22T00:00:00",
          "2017-12-26T00:00:00",
          "2017-12-27T00:00:00",
          "2017-12-28T00:00:00",
          "2017-12-29T00:00:00"
         ],
         "y": [
          75.1627272012703,
          75.47648366767882,
          76.03964637127412,
          76.149242256223,
          76.36999815741036,
          76.78536126552466,
          76.8604699992497
         ]
        },
        {
         "mode": "lines",
         "name": "(111)(1107)",
         "type": "scatter",
         "x": [
          "2017-12-20T00:00:00",
          "2017-12-21T00:00:00",
          "2017-12-22T00:00:00",
          "2017-12-26T00:00:00",
          "2017-12-27T00:00:00",
          "2017-12-28T00:00:00",
          "2017-12-29T00:00:00"
         ],
         "y": [
          75.238415571122,
          74.65120149943591,
          75.41885098982635,
          76.0447746982623,
          75.79368184068889,
          76.62218593810454,
          76.51635046040472
         ]
        },
        {
         "mode": "lines",
         "name": "(111)(1117)",
         "type": "scatter",
         "x": [
          "2017-12-20T00:00:00",
          "2017-12-21T00:00:00",
          "2017-12-22T00:00:00",
          "2017-12-26T00:00:00",
          "2017-12-27T00:00:00",
          "2017-12-28T00:00:00",
          "2017-12-29T00:00:00"
         ],
         "y": [
          75.16297529188944,
          75.47633104946773,
          76.03950005575669,
          76.14925043248208,
          76.36993243777792,
          76.7852805861568,
          76.86045962770442
         ]
        },
        {
         "mode": "lines",
         "name": "(111)(1127)",
         "type": "scatter",
         "x": [
          "2017-12-20T00:00:00",
          "2017-12-21T00:00:00",
          "2017-12-22T00:00:00",
          "2017-12-26T00:00:00",
          "2017-12-27T00:00:00",
          "2017-12-28T00:00:00",
          "2017-12-29T00:00:00"
         ],
         "y": [
          75.15763165820177,
          75.52281610250364,
          76.10055233190218,
          76.17781443729889,
          76.33105355989917,
          76.79840957357699,
          76.8680234767109
         ]
        },
        {
         "mode": "lines",
         "name": "(111)(2107)",
         "type": "scatter",
         "x": [
          "2017-12-20T00:00:00",
          "2017-12-21T00:00:00",
          "2017-12-22T00:00:00",
          "2017-12-26T00:00:00",
          "2017-12-27T00:00:00",
          "2017-12-28T00:00:00",
          "2017-12-29T00:00:00"
         ],
         "y": [
          75.34778635185069,
          74.83541322648489,
          75.64361351449136,
          76.07566909600499,
          76.30787642498966,
          76.72383408187615,
          76.77665744435417
         ]
        },
        {
         "mode": "lines",
         "name": "(111)(2117)",
         "type": "scatter",
         "x": [
          "2017-12-20T00:00:00",
          "2017-12-21T00:00:00",
          "2017-12-22T00:00:00",
          "2017-12-26T00:00:00",
          "2017-12-27T00:00:00",
          "2017-12-28T00:00:00",
          "2017-12-29T00:00:00"
         ],
         "y": [
          75.16139204569335,
          75.43093489697544,
          76.0415569984032,
          76.16760343975838,
          76.39842402816464,
          76.72818437725492,
          76.88692322701087
         ]
        },
        {
         "mode": "lines",
         "name": "(111)(2127)",
         "type": "scatter",
         "x": [
          "2017-12-20T00:00:00",
          "2017-12-21T00:00:00",
          "2017-12-22T00:00:00",
          "2017-12-26T00:00:00",
          "2017-12-27T00:00:00",
          "2017-12-28T00:00:00",
          "2017-12-29T00:00:00"
         ],
         "y": [
          75.1475017022553,
          75.476652393828,
          76.05325636304795,
          76.1483167162634,
          76.37506581665154,
          76.79212016393909,
          76.86608006088224
         ]
        },
        {
         "mode": "lines",
         "name": "(112)(0107)",
         "type": "scatter",
         "x": [
          "2017-12-20T00:00:00",
          "2017-12-21T00:00:00",
          "2017-12-22T00:00:00",
          "2017-12-26T00:00:00",
          "2017-12-27T00:00:00",
          "2017-12-28T00:00:00",
          "2017-12-29T00:00:00"
         ],
         "y": [
          75.18866426190823,
          74.34027640692922,
          75.20722607747972,
          76.14382210017274,
          75.79308437381798,
          75.72226384071267,
          75.67758624719508
         ]
        },
        {
         "mode": "lines",
         "name": "(112)(0117)",
         "type": "scatter",
         "x": [
          "2017-12-20T00:00:00",
          "2017-12-21T00:00:00",
          "2017-12-22T00:00:00",
          "2017-12-26T00:00:00",
          "2017-12-27T00:00:00",
          "2017-12-28T00:00:00",
          "2017-12-29T00:00:00"
         ],
         "y": [
          75.17810262733045,
          75.49115333337633,
          76.04135748091245,
          76.13576316373494,
          76.3741300971575,
          76.78276045080402,
          76.86338349866473
         ]
        },
        {
         "mode": "lines",
         "name": "(112)(0127)",
         "type": "scatter",
         "x": [
          "2017-12-20T00:00:00",
          "2017-12-21T00:00:00",
          "2017-12-22T00:00:00",
          "2017-12-26T00:00:00",
          "2017-12-27T00:00:00",
          "2017-12-28T00:00:00",
          "2017-12-29T00:00:00"
         ],
         "y": [
          75.20858313724725,
          75.45524859138087,
          76.00013715397192,
          76.13940463497542,
          76.3753299310924,
          76.74565778329634,
          76.88704389705397
         ]
        },
        {
         "mode": "lines",
         "name": "(112)(1107)",
         "type": "scatter",
         "x": [
          "2017-12-20T00:00:00",
          "2017-12-21T00:00:00",
          "2017-12-22T00:00:00",
          "2017-12-26T00:00:00",
          "2017-12-27T00:00:00",
          "2017-12-28T00:00:00",
          "2017-12-29T00:00:00"
         ],
         "y": [
          75.25281494063952,
          74.66072496511673,
          75.408298653579,
          76.0331246646501,
          75.79119656586721,
          76.6177082793806,
          76.5088415508017
         ]
        },
        {
         "mode": "lines",
         "name": "(112)(1117)",
         "type": "scatter",
         "x": [
          "2017-12-20T00:00:00",
          "2017-12-21T00:00:00",
          "2017-12-22T00:00:00",
          "2017-12-26T00:00:00",
          "2017-12-27T00:00:00",
          "2017-12-28T00:00:00",
          "2017-12-29T00:00:00"
         ],
         "y": [
          75.18266648580914,
          75.48932112787963,
          76.03155442751506,
          76.13297761741279,
          76.36774752767698,
          76.7739006727575,
          76.84815050093414
         ]
        },
        {
         "mode": "lines",
         "name": "(112)(1127)",
         "type": "scatter",
         "x": [
          "2017-12-20T00:00:00",
          "2017-12-21T00:00:00",
          "2017-12-22T00:00:00",
          "2017-12-26T00:00:00",
          "2017-12-27T00:00:00",
          "2017-12-28T00:00:00",
          "2017-12-29T00:00:00"
         ],
         "y": [
          75.1920644280299,
          75.52079711333006,
          76.06097094012273,
          76.15958162095846,
          76.3427704883361,
          76.78089163334239,
          76.85986126432789
         ]
        },
        {
         "mode": "lines",
         "name": "(112)(2107)",
         "type": "scatter",
         "x": [
          "2017-12-20T00:00:00",
          "2017-12-21T00:00:00",
          "2017-12-22T00:00:00",
          "2017-12-26T00:00:00",
          "2017-12-27T00:00:00",
          "2017-12-28T00:00:00",
          "2017-12-29T00:00:00"
         ],
         "y": [
          75.3775453862139,
          74.87357890647515,
          75.62218497977847,
          76.05003084959208,
          76.30937509720282,
          76.70789946989768,
          76.76328907104575
         ]
        },
        {
         "mode": "lines",
         "name": "(112)(2117)",
         "type": "scatter",
         "x": [
          "2017-12-20T00:00:00",
          "2017-12-21T00:00:00",
          "2017-12-22T00:00:00",
          "2017-12-26T00:00:00",
          "2017-12-27T00:00:00",
          "2017-12-28T00:00:00",
          "2017-12-29T00:00:00"
         ],
         "y": [
          75.15449394471861,
          75.46910575484135,
          76.03500002854655,
          76.15476932819143,
          76.40392489033104,
          76.74216867331036,
          76.90163697949617
         ]
        },
        {
         "mode": "lines",
         "name": "(112)(2127)",
         "type": "scatter",
         "x": [
          "2017-12-20T00:00:00",
          "2017-12-21T00:00:00",
          "2017-12-22T00:00:00",
          "2017-12-26T00:00:00",
          "2017-12-27T00:00:00",
          "2017-12-28T00:00:00",
          "2017-12-29T00:00:00"
         ],
         "y": [
          75.18194358542213,
          75.48920757050163,
          75.9998925574354,
          76.12557537170545,
          76.40530218011774,
          76.76160511337532,
          76.99531001215985
         ]
        },
        {
         "mode": "lines",
         "name": "(210)(0107)",
         "type": "scatter",
         "x": [
          "2017-12-20T00:00:00",
          "2017-12-21T00:00:00",
          "2017-12-22T00:00:00",
          "2017-12-26T00:00:00",
          "2017-12-27T00:00:00",
          "2017-12-28T00:00:00",
          "2017-12-29T00:00:00"
         ],
         "y": [
          75.17471855713592,
          74.29505855259539,
          75.19706611766827,
          76.167886008573,
          75.82792766881366,
          75.725547276723,
          75.68639206442087
         ]
        },
        {
         "mode": "lines",
         "name": "(210)(0117)",
         "type": "scatter",
         "x": [
          "2017-12-20T00:00:00",
          "2017-12-21T00:00:00",
          "2017-12-22T00:00:00",
          "2017-12-26T00:00:00",
          "2017-12-27T00:00:00",
          "2017-12-28T00:00:00",
          "2017-12-29T00:00:00"
         ],
         "y": [
          75.16960852066356,
          75.47753128701696,
          76.02863048476416,
          76.14990103956163,
          76.3752397311989,
          76.78218056449516,
          76.86867153896918
         ]
        },
        {
         "mode": "lines",
         "name": "(210)(0127)",
         "type": "scatter",
         "x": [
          "2017-12-20T00:00:00",
          "2017-12-21T00:00:00",
          "2017-12-22T00:00:00",
          "2017-12-26T00:00:00",
          "2017-12-27T00:00:00",
          "2017-12-28T00:00:00",
          "2017-12-29T00:00:00"
         ],
         "y": [
          75.1688704515366,
          75.47098535630808,
          76.02445685183393,
          76.15161793494636,
          76.37681098960726,
          76.77706099663766,
          76.87412039612508
         ]
        },
        {
         "mode": "lines",
         "name": "(210)(1107)",
         "type": "scatter",
         "x": [
          "2017-12-20T00:00:00",
          "2017-12-21T00:00:00",
          "2017-12-22T00:00:00",
          "2017-12-26T00:00:00",
          "2017-12-27T00:00:00",
          "2017-12-28T00:00:00",
          "2017-12-29T00:00:00"
         ],
         "y": [
          75.26966441364242,
          74.68535190742217,
          75.38251198873752,
          76.01247706320099,
          75.79518880531064,
          76.61192545676339,
          76.48448397796986
         ]
        },
        {
         "mode": "lines",
         "name": "(210)(1117)",
         "type": "scatter",
         "x": [
          "2017-12-20T00:00:00",
          "2017-12-21T00:00:00",
          "2017-12-22T00:00:00",
          "2017-12-26T00:00:00",
          "2017-12-27T00:00:00",
          "2017-12-28T00:00:00",
          "2017-12-29T00:00:00"
         ],
         "y": [
          75.17309256835858,
          75.44958720267694,
          76.00665983408707,
          76.15685621688384,
          76.38651794148295,
          76.75851796715331,
          76.90634278989637
         ]
        },
        {
         "mode": "lines",
         "name": "(210)(1127)",
         "type": "scatter",
         "x": [
          "2017-12-20T00:00:00",
          "2017-12-21T00:00:00",
          "2017-12-22T00:00:00",
          "2017-12-26T00:00:00",
          "2017-12-27T00:00:00",
          "2017-12-28T00:00:00",
          "2017-12-29T00:00:00"
         ],
         "y": [
          75.17380555226002,
          75.49807836640363,
          76.04403061061994,
          76.16767100051693,
          76.35104701627593,
          76.77789618873948,
          76.86251069792158
         ]
        },
        {
         "mode": "lines",
         "name": "(210)(2107)",
         "type": "scatter",
         "x": [
          "2017-12-20T00:00:00",
          "2017-12-21T00:00:00",
          "2017-12-22T00:00:00",
          "2017-12-26T00:00:00",
          "2017-12-27T00:00:00",
          "2017-12-28T00:00:00",
          "2017-12-29T00:00:00"
         ],
         "y": [
          75.37706182527893,
          74.87306189621286,
          75.60331342087674,
          76.05365791341332,
          76.31770424072167,
          76.7086547603222,
          76.76718384794691
         ]
        },
        {
         "mode": "lines",
         "name": "(210)(2117)",
         "type": "scatter",
         "x": [
          "2017-12-20T00:00:00",
          "2017-12-21T00:00:00",
          "2017-12-22T00:00:00",
          "2017-12-26T00:00:00",
          "2017-12-27T00:00:00",
          "2017-12-28T00:00:00",
          "2017-12-29T00:00:00"
         ],
         "y": [
          75.16569679531891,
          75.47215458798868,
          76.02509275898605,
          76.15981566096454,
          76.39907899665069,
          76.75011545854251,
          76.89005580821966
         ]
        },
        {
         "mode": "lines",
         "name": "(210)(2127)",
         "type": "scatter",
         "x": [
          "2017-12-20T00:00:00",
          "2017-12-21T00:00:00",
          "2017-12-22T00:00:00",
          "2017-12-26T00:00:00",
          "2017-12-27T00:00:00",
          "2017-12-28T00:00:00",
          "2017-12-29T00:00:00"
         ],
         "y": [
          75.19605877142658,
          75.4581116708667,
          75.99756565916084,
          76.16816737360311,
          76.38419272320998,
          76.752801311146,
          76.8838245842249
         ]
        },
        {
         "mode": "lines",
         "name": "(211)(0107)",
         "type": "scatter",
         "x": [
          "2017-12-20T00:00:00",
          "2017-12-21T00:00:00",
          "2017-12-22T00:00:00",
          "2017-12-26T00:00:00",
          "2017-12-27T00:00:00",
          "2017-12-28T00:00:00",
          "2017-12-29T00:00:00"
         ],
         "y": [
          75.05964092319512,
          74.40099477030978,
          75.23571933437854,
          76.22483245623935,
          75.75380468083361,
          75.78925299369978,
          75.69824687362711
         ]
        },
        {
         "mode": "lines",
         "name": "(211)(0117)",
         "type": "scatter",
         "x": [
          "2017-12-20T00:00:00",
          "2017-12-21T00:00:00",
          "2017-12-22T00:00:00",
          "2017-12-26T00:00:00",
          "2017-12-27T00:00:00",
          "2017-12-28T00:00:00",
          "2017-12-29T00:00:00"
         ],
         "y": [
          75.17046750924158,
          75.49190872287942,
          76.02810758857632,
          76.14219367731351,
          76.37572364464694,
          76.77910664472442,
          76.87089340183377
         ]
        },
        {
         "mode": "lines",
         "name": "(211)(0127)",
         "type": "scatter",
         "x": [
          "2017-12-20T00:00:00",
          "2017-12-21T00:00:00",
          "2017-12-22T00:00:00",
          "2017-12-26T00:00:00",
          "2017-12-27T00:00:00",
          "2017-12-28T00:00:00",
          "2017-12-29T00:00:00"
         ],
         "y": [
          75.19715131523361,
          75.41591946052155,
          75.8804021190583,
          76.01690135694705,
          76.39210379786992,
          76.65806086840296,
          77.00885503310205
         ]
        },
        {
         "mode": "lines",
         "name": "(211)(1107)",
         "type": "scatter",
         "x": [
          "2017-12-20T00:00:00",
          "2017-12-21T00:00:00",
          "2017-12-22T00:00:00",
          "2017-12-26T00:00:00",
          "2017-12-27T00:00:00",
          "2017-12-28T00:00:00",
          "2017-12-29T00:00:00"
         ],
         "y": [
          75.24006684714817,
          74.68235844313364,
          75.40959759210583,
          76.02510184805695,
          75.78629204022717,
          76.6231266923013,
          76.50352675356686
         ]
        },
        {
         "mode": "lines",
         "name": "(211)(1117)",
         "type": "scatter",
         "x": [
          "2017-12-20T00:00:00",
          "2017-12-21T00:00:00",
          "2017-12-22T00:00:00",
          "2017-12-26T00:00:00",
          "2017-12-27T00:00:00",
          "2017-12-28T00:00:00",
          "2017-12-29T00:00:00"
         ],
         "y": [
          75.14499502399853,
          75.49610218922919,
          75.9424669782833,
          76.03225427346278,
          76.43754468192986,
          76.7205962613747,
          77.08274225416557
         ]
        },
        {
         "mode": "lines",
         "name": "(211)(1127)",
         "type": "scatter",
         "x": [
          "2017-12-20T00:00:00",
          "2017-12-21T00:00:00",
          "2017-12-22T00:00:00",
          "2017-12-26T00:00:00",
          "2017-12-27T00:00:00",
          "2017-12-28T00:00:00",
          "2017-12-29T00:00:00"
         ],
         "y": [
          75.16286601085216,
          75.48314216727293,
          76.01702337444749,
          76.15976961428419,
          76.36649904392583,
          76.75533626627156,
          76.85154614395465
         ]
        },
        {
         "mode": "lines",
         "name": "(211)(2107)",
         "type": "scatter",
         "x": [
          "2017-12-20T00:00:00",
          "2017-12-21T00:00:00",
          "2017-12-22T00:00:00",
          "2017-12-26T00:00:00",
          "2017-12-27T00:00:00",
          "2017-12-28T00:00:00",
          "2017-12-29T00:00:00"
         ],
         "y": [
          75.34110787745988,
          74.87772574204546,
          75.6329456056777,
          76.06098324076511,
          76.32231671749292,
          76.69408215552077,
          76.74573839773997
         ]
        },
        {
         "mode": "lines",
         "name": "(211)(2117)",
         "type": "scatter",
         "x": [
          "2017-12-20T00:00:00",
          "2017-12-21T00:00:00",
          "2017-12-22T00:00:00",
          "2017-12-26T00:00:00",
          "2017-12-27T00:00:00",
          "2017-12-28T00:00:00",
          "2017-12-29T00:00:00"
         ],
         "y": [
          75.17049485789447,
          75.44578726293123,
          75.95026187123726,
          76.09758505623914,
          76.40728077704472,
          76.72372831095663,
          77.02043056188798
         ]
        },
        {
         "mode": "lines",
         "name": "(211)(2127)",
         "type": "scatter",
         "x": [
          "2017-12-20T00:00:00",
          "2017-12-21T00:00:00",
          "2017-12-22T00:00:00",
          "2017-12-26T00:00:00",
          "2017-12-27T00:00:00",
          "2017-12-28T00:00:00",
          "2017-12-29T00:00:00"
         ],
         "y": [
          75.15772854600216,
          75.41811366392845,
          75.97758307581549,
          76.17041527346446,
          76.40867124767783,
          76.7020981766098,
          76.9237753062153
         ]
        },
        {
         "mode": "lines",
         "name": "(212)(0107)",
         "type": "scatter",
         "x": [
          "2017-12-20T00:00:00",
          "2017-12-21T00:00:00",
          "2017-12-22T00:00:00",
          "2017-12-26T00:00:00",
          "2017-12-27T00:00:00",
          "2017-12-28T00:00:00",
          "2017-12-29T00:00:00"
         ],
         "y": [
          75.18226297381646,
          74.29337914217123,
          75.19071306010429,
          76.16296378926337,
          75.83321330963307,
          75.72803051404779,
          75.68296446975329
         ]
        },
        {
         "mode": "lines",
         "name": "(212)(0117)",
         "type": "scatter",
         "x": [
          "2017-12-20T00:00:00",
          "2017-12-21T00:00:00",
          "2017-12-22T00:00:00",
          "2017-12-26T00:00:00",
          "2017-12-27T00:00:00",
          "2017-12-28T00:00:00",
          "2017-12-29T00:00:00"
         ],
         "y": [
          75.22382274738929,
          75.5475310139711,
          76.09077072623494,
          76.14943894764069,
          76.37925562788725,
          76.77875539998432,
          76.86096533941455
         ]
        },
        {
         "mode": "lines",
         "name": "(212)(0127)",
         "type": "scatter",
         "x": [
          "2017-12-20T00:00:00",
          "2017-12-21T00:00:00",
          "2017-12-22T00:00:00",
          "2017-12-26T00:00:00",
          "2017-12-27T00:00:00",
          "2017-12-28T00:00:00",
          "2017-12-29T00:00:00"
         ],
         "y": [
          75.21357925139773,
          75.43967364719022,
          75.98340904921298,
          76.13850494059808,
          76.3873454317851,
          76.71066448573642,
          76.94466949106433
         ]
        },
        {
         "mode": "lines",
         "name": "(212)(1107)",
         "type": "scatter",
         "x": [
          "2017-12-20T00:00:00",
          "2017-12-21T00:00:00",
          "2017-12-22T00:00:00",
          "2017-12-26T00:00:00",
          "2017-12-27T00:00:00",
          "2017-12-28T00:00:00",
          "2017-12-29T00:00:00"
         ],
         "y": [
          75.26710445028804,
          74.68556589858129,
          75.38248003156296,
          76.01271959524654,
          75.79748053287143,
          76.617210314482,
          76.48758380561313
         ]
        },
        {
         "mode": "lines",
         "name": "(212)(1117)",
         "type": "scatter",
         "x": [
          "2017-12-20T00:00:00",
          "2017-12-21T00:00:00",
          "2017-12-22T00:00:00",
          "2017-12-26T00:00:00",
          "2017-12-27T00:00:00",
          "2017-12-28T00:00:00",
          "2017-12-29T00:00:00"
         ],
         "y": [
          75.22178183429328,
          75.52899475876228,
          76.07888146838499,
          76.1512262959917,
          76.37531548726649,
          76.76299039283754,
          76.85529113524879
         ]
        },
        {
         "mode": "lines",
         "name": "(212)(1127)",
         "type": "scatter",
         "x": [
          "2017-12-20T00:00:00",
          "2017-12-21T00:00:00",
          "2017-12-22T00:00:00",
          "2017-12-26T00:00:00",
          "2017-12-27T00:00:00",
          "2017-12-28T00:00:00",
          "2017-12-29T00:00:00"
         ],
         "y": [
          75.24907267380227,
          75.61110813906224,
          76.12853132211444,
          76.18826756494515,
          76.32804055974263,
          76.79797069774395,
          76.8534978018532
         ]
        },
        {
         "mode": "lines",
         "name": "(212)(2107)",
         "type": "scatter",
         "x": [
          "2017-12-20T00:00:00",
          "2017-12-21T00:00:00",
          "2017-12-22T00:00:00",
          "2017-12-26T00:00:00",
          "2017-12-27T00:00:00",
          "2017-12-28T00:00:00",
          "2017-12-29T00:00:00"
         ],
         "y": [
          75.38032142953007,
          74.87982813649204,
          75.6008038251525,
          76.0484973695718,
          76.31655442385585,
          76.71433319754243,
          76.77127439260984
         ]
        },
        {
         "mode": "lines",
         "name": "(212)(2117)",
         "type": "scatter",
         "x": [
          "2017-12-20T00:00:00",
          "2017-12-21T00:00:00",
          "2017-12-22T00:00:00",
          "2017-12-26T00:00:00",
          "2017-12-27T00:00:00",
          "2017-12-28T00:00:00",
          "2017-12-29T00:00:00"
         ],
         "y": [
          75.31812739028162,
          75.44647140971313,
          75.87014929130616,
          76.01766360199865,
          76.3721431467727,
          76.54381753214489,
          76.90189059205134
         ]
        },
        {
         "mode": "lines",
         "name": "(212)(2127)",
         "type": "scatter",
         "x": [
          "2017-12-20T00:00:00",
          "2017-12-21T00:00:00",
          "2017-12-22T00:00:00",
          "2017-12-26T00:00:00",
          "2017-12-27T00:00:00",
          "2017-12-28T00:00:00",
          "2017-12-29T00:00:00"
         ],
         "y": [
          75.18142277068483,
          75.51226468967707,
          76.05209899931417,
          76.14714083459269,
          76.37193476326607,
          76.78668483232649,
          76.8678648640642
         ]
        }
       ],
       "layout": {
        "legend": {
         "tracegroupgap": 0
        },
        "margin": {
         "t": 60
        },
        "template": {
         "data": {
          "bar": [
           {
            "error_x": {
             "color": "#2a3f5f"
            },
            "error_y": {
             "color": "#2a3f5f"
            },
            "marker": {
             "line": {
              "color": "#E5ECF6",
              "width": 0.5
             }
            },
            "type": "bar"
           }
          ],
          "barpolar": [
           {
            "marker": {
             "line": {
              "color": "#E5ECF6",
              "width": 0.5
             }
            },
            "type": "barpolar"
           }
          ],
          "carpet": [
           {
            "aaxis": {
             "endlinecolor": "#2a3f5f",
             "gridcolor": "white",
             "linecolor": "white",
             "minorgridcolor": "white",
             "startlinecolor": "#2a3f5f"
            },
            "baxis": {
             "endlinecolor": "#2a3f5f",
             "gridcolor": "white",
             "linecolor": "white",
             "minorgridcolor": "white",
             "startlinecolor": "#2a3f5f"
            },
            "type": "carpet"
           }
          ],
          "choropleth": [
           {
            "colorbar": {
             "outlinewidth": 0,
             "ticks": ""
            },
            "type": "choropleth"
           }
          ],
          "contour": [
           {
            "colorbar": {
             "outlinewidth": 0,
             "ticks": ""
            },
            "colorscale": [
             [
              0,
              "#0d0887"
             ],
             [
              0.1111111111111111,
              "#46039f"
             ],
             [
              0.2222222222222222,
              "#7201a8"
             ],
             [
              0.3333333333333333,
              "#9c179e"
             ],
             [
              0.4444444444444444,
              "#bd3786"
             ],
             [
              0.5555555555555556,
              "#d8576b"
             ],
             [
              0.6666666666666666,
              "#ed7953"
             ],
             [
              0.7777777777777778,
              "#fb9f3a"
             ],
             [
              0.8888888888888888,
              "#fdca26"
             ],
             [
              1,
              "#f0f921"
             ]
            ],
            "type": "contour"
           }
          ],
          "contourcarpet": [
           {
            "colorbar": {
             "outlinewidth": 0,
             "ticks": ""
            },
            "type": "contourcarpet"
           }
          ],
          "heatmap": [
           {
            "colorbar": {
             "outlinewidth": 0,
             "ticks": ""
            },
            "colorscale": [
             [
              0,
              "#0d0887"
             ],
             [
              0.1111111111111111,
              "#46039f"
             ],
             [
              0.2222222222222222,
              "#7201a8"
             ],
             [
              0.3333333333333333,
              "#9c179e"
             ],
             [
              0.4444444444444444,
              "#bd3786"
             ],
             [
              0.5555555555555556,
              "#d8576b"
             ],
             [
              0.6666666666666666,
              "#ed7953"
             ],
             [
              0.7777777777777778,
              "#fb9f3a"
             ],
             [
              0.8888888888888888,
              "#fdca26"
             ],
             [
              1,
              "#f0f921"
             ]
            ],
            "type": "heatmap"
           }
          ],
          "heatmapgl": [
           {
            "colorbar": {
             "outlinewidth": 0,
             "ticks": ""
            },
            "colorscale": [
             [
              0,
              "#0d0887"
             ],
             [
              0.1111111111111111,
              "#46039f"
             ],
             [
              0.2222222222222222,
              "#7201a8"
             ],
             [
              0.3333333333333333,
              "#9c179e"
             ],
             [
              0.4444444444444444,
              "#bd3786"
             ],
             [
              0.5555555555555556,
              "#d8576b"
             ],
             [
              0.6666666666666666,
              "#ed7953"
             ],
             [
              0.7777777777777778,
              "#fb9f3a"
             ],
             [
              0.8888888888888888,
              "#fdca26"
             ],
             [
              1,
              "#f0f921"
             ]
            ],
            "type": "heatmapgl"
           }
          ],
          "histogram": [
           {
            "marker": {
             "colorbar": {
              "outlinewidth": 0,
              "ticks": ""
             }
            },
            "type": "histogram"
           }
          ],
          "histogram2d": [
           {
            "colorbar": {
             "outlinewidth": 0,
             "ticks": ""
            },
            "colorscale": [
             [
              0,
              "#0d0887"
             ],
             [
              0.1111111111111111,
              "#46039f"
             ],
             [
              0.2222222222222222,
              "#7201a8"
             ],
             [
              0.3333333333333333,
              "#9c179e"
             ],
             [
              0.4444444444444444,
              "#bd3786"
             ],
             [
              0.5555555555555556,
              "#d8576b"
             ],
             [
              0.6666666666666666,
              "#ed7953"
             ],
             [
              0.7777777777777778,
              "#fb9f3a"
             ],
             [
              0.8888888888888888,
              "#fdca26"
             ],
             [
              1,
              "#f0f921"
             ]
            ],
            "type": "histogram2d"
           }
          ],
          "histogram2dcontour": [
           {
            "colorbar": {
             "outlinewidth": 0,
             "ticks": ""
            },
            "colorscale": [
             [
              0,
              "#0d0887"
             ],
             [
              0.1111111111111111,
              "#46039f"
             ],
             [
              0.2222222222222222,
              "#7201a8"
             ],
             [
              0.3333333333333333,
              "#9c179e"
             ],
             [
              0.4444444444444444,
              "#bd3786"
             ],
             [
              0.5555555555555556,
              "#d8576b"
             ],
             [
              0.6666666666666666,
              "#ed7953"
             ],
             [
              0.7777777777777778,
              "#fb9f3a"
             ],
             [
              0.8888888888888888,
              "#fdca26"
             ],
             [
              1,
              "#f0f921"
             ]
            ],
            "type": "histogram2dcontour"
           }
          ],
          "mesh3d": [
           {
            "colorbar": {
             "outlinewidth": 0,
             "ticks": ""
            },
            "type": "mesh3d"
           }
          ],
          "parcoords": [
           {
            "line": {
             "colorbar": {
              "outlinewidth": 0,
              "ticks": ""
             }
            },
            "type": "parcoords"
           }
          ],
          "pie": [
           {
            "automargin": true,
            "type": "pie"
           }
          ],
          "scatter": [
           {
            "marker": {
             "colorbar": {
              "outlinewidth": 0,
              "ticks": ""
             }
            },
            "type": "scatter"
           }
          ],
          "scatter3d": [
           {
            "line": {
             "colorbar": {
              "outlinewidth": 0,
              "ticks": ""
             }
            },
            "marker": {
             "colorbar": {
              "outlinewidth": 0,
              "ticks": ""
             }
            },
            "type": "scatter3d"
           }
          ],
          "scattercarpet": [
           {
            "marker": {
             "colorbar": {
              "outlinewidth": 0,
              "ticks": ""
             }
            },
            "type": "scattercarpet"
           }
          ],
          "scattergeo": [
           {
            "marker": {
             "colorbar": {
              "outlinewidth": 0,
              "ticks": ""
             }
            },
            "type": "scattergeo"
           }
          ],
          "scattergl": [
           {
            "marker": {
             "colorbar": {
              "outlinewidth": 0,
              "ticks": ""
             }
            },
            "type": "scattergl"
           }
          ],
          "scattermapbox": [
           {
            "marker": {
             "colorbar": {
              "outlinewidth": 0,
              "ticks": ""
             }
            },
            "type": "scattermapbox"
           }
          ],
          "scatterpolar": [
           {
            "marker": {
             "colorbar": {
              "outlinewidth": 0,
              "ticks": ""
             }
            },
            "type": "scatterpolar"
           }
          ],
          "scatterpolargl": [
           {
            "marker": {
             "colorbar": {
              "outlinewidth": 0,
              "ticks": ""
             }
            },
            "type": "scatterpolargl"
           }
          ],
          "scatterternary": [
           {
            "marker": {
             "colorbar": {
              "outlinewidth": 0,
              "ticks": ""
             }
            },
            "type": "scatterternary"
           }
          ],
          "surface": [
           {
            "colorbar": {
             "outlinewidth": 0,
             "ticks": ""
            },
            "colorscale": [
             [
              0,
              "#0d0887"
             ],
             [
              0.1111111111111111,
              "#46039f"
             ],
             [
              0.2222222222222222,
              "#7201a8"
             ],
             [
              0.3333333333333333,
              "#9c179e"
             ],
             [
              0.4444444444444444,
              "#bd3786"
             ],
             [
              0.5555555555555556,
              "#d8576b"
             ],
             [
              0.6666666666666666,
              "#ed7953"
             ],
             [
              0.7777777777777778,
              "#fb9f3a"
             ],
             [
              0.8888888888888888,
              "#fdca26"
             ],
             [
              1,
              "#f0f921"
             ]
            ],
            "type": "surface"
           }
          ],
          "table": [
           {
            "cells": {
             "fill": {
              "color": "#EBF0F8"
             },
             "line": {
              "color": "white"
             }
            },
            "header": {
             "fill": {
              "color": "#C8D4E3"
             },
             "line": {
              "color": "white"
             }
            },
            "type": "table"
           }
          ]
         },
         "layout": {
          "annotationdefaults": {
           "arrowcolor": "#2a3f5f",
           "arrowhead": 0,
           "arrowwidth": 1
          },
          "autotypenumbers": "strict",
          "coloraxis": {
           "colorbar": {
            "outlinewidth": 0,
            "ticks": ""
           }
          },
          "colorscale": {
           "diverging": [
            [
             0,
             "#8e0152"
            ],
            [
             0.1,
             "#c51b7d"
            ],
            [
             0.2,
             "#de77ae"
            ],
            [
             0.3,
             "#f1b6da"
            ],
            [
             0.4,
             "#fde0ef"
            ],
            [
             0.5,
             "#f7f7f7"
            ],
            [
             0.6,
             "#e6f5d0"
            ],
            [
             0.7,
             "#b8e186"
            ],
            [
             0.8,
             "#7fbc41"
            ],
            [
             0.9,
             "#4d9221"
            ],
            [
             1,
             "#276419"
            ]
           ],
           "sequential": [
            [
             0,
             "#0d0887"
            ],
            [
             0.1111111111111111,
             "#46039f"
            ],
            [
             0.2222222222222222,
             "#7201a8"
            ],
            [
             0.3333333333333333,
             "#9c179e"
            ],
            [
             0.4444444444444444,
             "#bd3786"
            ],
            [
             0.5555555555555556,
             "#d8576b"
            ],
            [
             0.6666666666666666,
             "#ed7953"
            ],
            [
             0.7777777777777778,
             "#fb9f3a"
            ],
            [
             0.8888888888888888,
             "#fdca26"
            ],
            [
             1,
             "#f0f921"
            ]
           ],
           "sequentialminus": [
            [
             0,
             "#0d0887"
            ],
            [
             0.1111111111111111,
             "#46039f"
            ],
            [
             0.2222222222222222,
             "#7201a8"
            ],
            [
             0.3333333333333333,
             "#9c179e"
            ],
            [
             0.4444444444444444,
             "#bd3786"
            ],
            [
             0.5555555555555556,
             "#d8576b"
            ],
            [
             0.6666666666666666,
             "#ed7953"
            ],
            [
             0.7777777777777778,
             "#fb9f3a"
            ],
            [
             0.8888888888888888,
             "#fdca26"
            ],
            [
             1,
             "#f0f921"
            ]
           ]
          },
          "colorway": [
           "#636efa",
           "#EF553B",
           "#00cc96",
           "#ab63fa",
           "#FFA15A",
           "#19d3f3",
           "#FF6692",
           "#B6E880",
           "#FF97FF",
           "#FECB52"
          ],
          "font": {
           "color": "#2a3f5f"
          },
          "geo": {
           "bgcolor": "white",
           "lakecolor": "white",
           "landcolor": "#E5ECF6",
           "showlakes": true,
           "showland": true,
           "subunitcolor": "white"
          },
          "hoverlabel": {
           "align": "left"
          },
          "hovermode": "closest",
          "mapbox": {
           "style": "light"
          },
          "paper_bgcolor": "white",
          "plot_bgcolor": "#E5ECF6",
          "polar": {
           "angularaxis": {
            "gridcolor": "white",
            "linecolor": "white",
            "ticks": ""
           },
           "bgcolor": "#E5ECF6",
           "radialaxis": {
            "gridcolor": "white",
            "linecolor": "white",
            "ticks": ""
           }
          },
          "scene": {
           "xaxis": {
            "backgroundcolor": "#E5ECF6",
            "gridcolor": "white",
            "gridwidth": 2,
            "linecolor": "white",
            "showbackground": true,
            "ticks": "",
            "zerolinecolor": "white"
           },
           "yaxis": {
            "backgroundcolor": "#E5ECF6",
            "gridcolor": "white",
            "gridwidth": 2,
            "linecolor": "white",
            "showbackground": true,
            "ticks": "",
            "zerolinecolor": "white"
           },
           "zaxis": {
            "backgroundcolor": "#E5ECF6",
            "gridcolor": "white",
            "gridwidth": 2,
            "linecolor": "white",
            "showbackground": true,
            "ticks": "",
            "zerolinecolor": "white"
           }
          },
          "shapedefaults": {
           "line": {
            "color": "#2a3f5f"
           }
          },
          "ternary": {
           "aaxis": {
            "gridcolor": "white",
            "linecolor": "white",
            "ticks": ""
           },
           "baxis": {
            "gridcolor": "white",
            "linecolor": "white",
            "ticks": ""
           },
           "bgcolor": "#E5ECF6",
           "caxis": {
            "gridcolor": "white",
            "linecolor": "white",
            "ticks": ""
           }
          },
          "title": {
           "x": 0.05
          },
          "xaxis": {
           "automargin": true,
           "gridcolor": "white",
           "linecolor": "white",
           "ticks": "",
           "title": {
            "standoff": 15
           },
           "zerolinecolor": "white",
           "zerolinewidth": 2
          },
          "yaxis": {
           "automargin": true,
           "gridcolor": "white",
           "linecolor": "white",
           "ticks": "",
           "title": {
            "standoff": 15
           },
           "zerolinecolor": "white",
           "zerolinewidth": 2
          }
         }
        },
        "xaxis": {
         "anchor": "y",
         "domain": [
          0,
          1
         ],
         "title": {
          "text": "Date"
         }
        },
        "yaxis": {
         "anchor": "x",
         "domain": [
          0,
          1
         ],
         "title": {
          "text": "y"
         }
        }
       }
      },
      "text/html": [
       "<div>                            <div id=\"d465deaa-1823-4d45-a40c-2dc22e00449c\" class=\"plotly-graph-div\" style=\"height:525px; width:100%;\"></div>            <script type=\"text/javascript\">                require([\"plotly\"], function(Plotly) {                    window.PLOTLYENV=window.PLOTLYENV || {};                                    if (document.getElementById(\"d465deaa-1823-4d45-a40c-2dc22e00449c\")) {                    Plotly.newPlot(                        \"d465deaa-1823-4d45-a40c-2dc22e00449c\",                        [{\"hovertemplate\": \"Date=%{x}<br>y=%{y}<extra></extra>\", \"legendgroup\": \"\", \"line\": {\"color\": \"#636efa\", \"dash\": \"solid\"}, \"mode\": \"lines\", \"name\": \"\", \"orientation\": \"v\", \"showlegend\": false, \"type\": \"scatter\", \"x\": [\"2017-12-20T00:00:00\", \"2017-12-21T00:00:00\", \"2017-12-22T00:00:00\", \"2017-12-26T00:00:00\", \"2017-12-27T00:00:00\", \"2017-12-28T00:00:00\", \"2017-12-29T00:00:00\"], \"xaxis\": \"x\", \"y\": [75.05000305175781, 75.4000015258789, 76.08999633789062, 76.12999725341797, 76.33999633789062, 76.66999816894531, 76.83000183105469], \"yaxis\": \"y\"}, {\"mode\": \"lines\", \"name\": \"(010)(0107)\", \"type\": \"scatter\", \"x\": [\"2017-12-20T00:00:00\", \"2017-12-21T00:00:00\", \"2017-12-22T00:00:00\", \"2017-12-26T00:00:00\", \"2017-12-27T00:00:00\", \"2017-12-28T00:00:00\", \"2017-12-29T00:00:00\"], \"y\": [75.09690543153863, 74.40079873290887, 75.37361959125884, 76.1691812622009, 75.80960679684036, 75.81395281483664, 75.75816225448897]}, {\"mode\": \"lines\", \"name\": \"(010)(0117)\", \"type\": \"scatter\", \"x\": [\"2017-12-20T00:00:00\", \"2017-12-21T00:00:00\", \"2017-12-22T00:00:00\", \"2017-12-26T00:00:00\", \"2017-12-27T00:00:00\", \"2017-12-28T00:00:00\", \"2017-12-29T00:00:00\"], \"y\": [75.0634862333205, 75.53622358607723, 76.08453097448454, 76.1447384556932, 76.39761217828939, 76.80827227298121, 76.86836288863493]}, {\"mode\": \"lines\", \"name\": \"(010)(0127)\", \"type\": \"scatter\", \"x\": [\"2017-12-20T00:00:00\", \"2017-12-21T00:00:00\", \"2017-12-22T00:00:00\", \"2017-12-26T00:00:00\", \"2017-12-27T00:00:00\", \"2017-12-28T00:00:00\", \"2017-12-29T00:00:00\"], \"y\": [75.08277796192715, 75.36506694237457, 75.83748057556748, 75.95910589397658, 76.3880663989603, 76.6207647866333, 76.98963512042597]}, {\"mode\": \"lines\", \"name\": \"(010)(1107)\", \"type\": \"scatter\", \"x\": [\"2017-12-20T00:00:00\", \"2017-12-21T00:00:00\", \"2017-12-22T00:00:00\", \"2017-12-26T00:00:00\", \"2017-12-27T00:00:00\", \"2017-12-28T00:00:00\", \"2017-12-29T00:00:00\"], \"y\": [75.11998648822869, 74.73792005861404, 75.52777364641575, 76.05982150396997, 75.8175530208124, 76.70618854799052, 76.49027117307666]}, {\"mode\": \"lines\", \"name\": \"(010)(1117)\", \"type\": \"scatter\", \"x\": [\"2017-12-20T00:00:00\", \"2017-12-21T00:00:00\", \"2017-12-22T00:00:00\", \"2017-12-26T00:00:00\", \"2017-12-27T00:00:00\", \"2017-12-28T00:00:00\", \"2017-12-29T00:00:00\"], \"y\": [75.06350337681913, 75.53701543898426, 76.08505454207784, 76.14457165913525, 76.39763120497561, 76.80898328091335, 76.8680412808233]}, {\"mode\": \"lines\", \"name\": \"(010)(1127)\", \"type\": \"scatter\", \"x\": [\"2017-12-20T00:00:00\", \"2017-12-21T00:00:00\", \"2017-12-22T00:00:00\", \"2017-12-26T00:00:00\", \"2017-12-27T00:00:00\", \"2017-12-28T00:00:00\", \"2017-12-29T00:00:00\"], \"y\": [75.08240207796321, 75.57721599949235, 76.10611619946182, 76.16635280838712, 76.35908675299544, 76.81467455412692, 76.85840507441934]}, {\"mode\": \"lines\", \"name\": \"(010)(2107)\", \"type\": \"scatter\", \"x\": [\"2017-12-20T00:00:00\", \"2017-12-21T00:00:00\", \"2017-12-22T00:00:00\", \"2017-12-26T00:00:00\", \"2017-12-27T00:00:00\", \"2017-12-28T00:00:00\", \"2017-12-29T00:00:00\"], \"y\": [75.20678942196659, 74.92333527652599, 75.73152993719957, 76.07810006845783, 76.33591522240435, 76.74774753206566, 76.77444724255066]}, {\"mode\": \"lines\", \"name\": \"(010)(2117)\", \"type\": \"scatter\", \"x\": [\"2017-12-20T00:00:00\", \"2017-12-21T00:00:00\", \"2017-12-22T00:00:00\", \"2017-12-26T00:00:00\", \"2017-12-27T00:00:00\", \"2017-12-28T00:00:00\", \"2017-12-29T00:00:00\"], \"y\": [75.06155949805446, 75.53557356339765, 76.08531410320714, 76.15225834424638, 76.41340343190038, 76.78296759452932, 76.87790417385965]}, {\"mode\": \"lines\", \"name\": \"(010)(2127)\", \"type\": \"scatter\", \"x\": [\"2017-12-20T00:00:00\", \"2017-12-21T00:00:00\", \"2017-12-22T00:00:00\", \"2017-12-26T00:00:00\", \"2017-12-27T00:00:00\", \"2017-12-28T00:00:00\", \"2017-12-29T00:00:00\"], \"y\": [75.06275262974657, 75.53940919921553, 76.08821201485489, 76.13981400665806, 76.39882315634733, 76.81043282206019, 76.86108238821168]}, {\"mode\": \"lines\", \"name\": \"(011)(0107)\", \"type\": \"scatter\", \"x\": [\"2017-12-20T00:00:00\", \"2017-12-21T00:00:00\", \"2017-12-22T00:00:00\", \"2017-12-26T00:00:00\", \"2017-12-27T00:00:00\", \"2017-12-28T00:00:00\", \"2017-12-29T00:00:00\"], \"y\": [75.2778539115102, 74.3877037228173, 75.18824658212917, 76.06596610718127, 75.77997593297657, 75.71778960076769, 75.63820915080079]}, {\"mode\": \"lines\", \"name\": \"(011)(0117)\", \"type\": \"scatter\", \"x\": [\"2017-12-20T00:00:00\", \"2017-12-21T00:00:00\", \"2017-12-22T00:00:00\", \"2017-12-26T00:00:00\", \"2017-12-27T00:00:00\", \"2017-12-28T00:00:00\", \"2017-12-29T00:00:00\"], \"y\": [75.19869212786071, 75.51870351848568, 76.02372367958814, 76.13079682594704, 76.37190167295664, 76.77942422056077, 76.85405752498974]}, {\"mode\": \"lines\", \"name\": \"(011)(0127)\", \"type\": \"scatter\", \"x\": [\"2017-12-20T00:00:00\", \"2017-12-21T00:00:00\", \"2017-12-22T00:00:00\", \"2017-12-26T00:00:00\", \"2017-12-27T00:00:00\", \"2017-12-28T00:00:00\", \"2017-12-29T00:00:00\"], \"y\": [75.19915646328243, 75.51288250175078, 76.01900888261459, 76.1328067155114, 76.37523263429131, 76.77440049188742, 76.86492451631054]}, {\"mode\": \"lines\", \"name\": \"(011)(1107)\", \"type\": \"scatter\", \"x\": [\"2017-12-20T00:00:00\", \"2017-12-21T00:00:00\", \"2017-12-22T00:00:00\", \"2017-12-26T00:00:00\", \"2017-12-27T00:00:00\", \"2017-12-28T00:00:00\", \"2017-12-29T00:00:00\"], \"y\": [75.31057690289622, 74.72806371658496, 75.3760757887766, 75.97555851210085, 75.7772156542072, 76.60614894642966, 76.46544736797753]}, {\"mode\": \"lines\", \"name\": \"(011)(1117)\", \"type\": \"scatter\", \"x\": [\"2017-12-20T00:00:00\", \"2017-12-21T00:00:00\", \"2017-12-22T00:00:00\", \"2017-12-26T00:00:00\", \"2017-12-27T00:00:00\", \"2017-12-28T00:00:00\", \"2017-12-29T00:00:00\"], \"y\": [75.1999833139206, 75.51468936548672, 76.0201370249583, 76.13176213732827, 76.37320890307033, 76.77570197694193, 76.85925268171408]}, {\"mode\": \"lines\", \"name\": \"(011)(1127)\", \"type\": \"scatter\", \"x\": [\"2017-12-20T00:00:00\", \"2017-12-21T00:00:00\", \"2017-12-22T00:00:00\", \"2017-12-26T00:00:00\", \"2017-12-27T00:00:00\", \"2017-12-28T00:00:00\", \"2017-12-29T00:00:00\"], \"y\": [75.21881557099418, 75.560628419931, 76.04806181423801, 76.15928743188971, 76.33554076568777, 76.77850294463896, 76.85254889427588]}, {\"mode\": \"lines\", \"name\": \"(011)(2107)\", \"type\": \"scatter\", \"x\": [\"2017-12-20T00:00:00\", \"2017-12-21T00:00:00\", \"2017-12-22T00:00:00\", \"2017-12-26T00:00:00\", \"2017-12-27T00:00:00\", \"2017-12-28T00:00:00\", \"2017-12-29T00:00:00\"], \"y\": [75.41065086770944, 74.92451211323527, 75.60147806502711, 76.01910479807898, 76.300122222606, 76.70642423908528, 76.76069313686288]}, {\"mode\": \"lines\", \"name\": \"(011)(2117)\", \"type\": \"scatter\", \"x\": [\"2017-12-20T00:00:00\", \"2017-12-21T00:00:00\", \"2017-12-22T00:00:00\", \"2017-12-26T00:00:00\", \"2017-12-27T00:00:00\", \"2017-12-28T00:00:00\", \"2017-12-29T00:00:00\"], \"y\": [75.16870616576186, 75.50444702220447, 76.02484424851086, 76.14778274419142, 76.4057179864988, 76.74674687391484, 76.89868564097553]}, {\"mode\": \"lines\", \"name\": \"(011)(2127)\", \"type\": \"scatter\", \"x\": [\"2017-12-20T00:00:00\", \"2017-12-21T00:00:00\", \"2017-12-22T00:00:00\", \"2017-12-26T00:00:00\", \"2017-12-27T00:00:00\", \"2017-12-28T00:00:00\", \"2017-12-29T00:00:00\"], \"y\": [75.15077363941691, 75.5055201107592, 76.02712079426409, 76.1339757311954, 76.40952600552501, 76.78098472684235, 76.97959855943894]}, {\"mode\": \"lines\", \"name\": \"(012)(0107)\", \"type\": \"scatter\", \"x\": [\"2017-12-20T00:00:00\", \"2017-12-21T00:00:00\", \"2017-12-22T00:00:00\", \"2017-12-26T00:00:00\", \"2017-12-27T00:00:00\", \"2017-12-28T00:00:00\", \"2017-12-29T00:00:00\"], \"y\": [75.18955828659202, 74.28635024426613, 75.17892710207941, 76.1603026697387, 75.84159792381676, 75.72986546474333, 75.67875108458047]}, {\"mode\": \"lines\", \"name\": \"(012)(0117)\", \"type\": \"scatter\", \"x\": [\"2017-12-20T00:00:00\", \"2017-12-21T00:00:00\", \"2017-12-22T00:00:00\", \"2017-12-26T00:00:00\", \"2017-12-27T00:00:00\", \"2017-12-28T00:00:00\", \"2017-12-29T00:00:00\"], \"y\": [75.16954844639356, 75.48095118804643, 76.02451173497181, 76.148150859386, 76.37693063740734, 76.78419882499738, 76.86420436386493]}, {\"mode\": \"lines\", \"name\": \"(012)(0127)\", \"type\": \"scatter\", \"x\": [\"2017-12-20T00:00:00\", \"2017-12-21T00:00:00\", \"2017-12-22T00:00:00\", \"2017-12-26T00:00:00\", \"2017-12-27T00:00:00\", \"2017-12-28T00:00:00\", \"2017-12-29T00:00:00\"], \"y\": [75.16517406345983, 75.460865034655, 76.01465884368713, 76.15655888570296, 76.38662639523655, 76.77425316131809, 76.89225090161916]}, {\"mode\": \"lines\", \"name\": \"(012)(1107)\", \"type\": \"scatter\", \"x\": [\"2017-12-20T00:00:00\", \"2017-12-21T00:00:00\", \"2017-12-22T00:00:00\", \"2017-12-26T00:00:00\", \"2017-12-27T00:00:00\", \"2017-12-28T00:00:00\", \"2017-12-29T00:00:00\"], \"y\": [75.22804794472646, 74.62719678416161, 75.36996704852277, 76.0538315177628, 75.82684986470477, 76.62511962675416, 76.51343934781973]}, {\"mode\": \"lines\", \"name\": \"(012)(1117)\", \"type\": \"scatter\", \"x\": [\"2017-12-20T00:00:00\", \"2017-12-21T00:00:00\", \"2017-12-22T00:00:00\", \"2017-12-26T00:00:00\", \"2017-12-27T00:00:00\", \"2017-12-28T00:00:00\", \"2017-12-29T00:00:00\"], \"y\": [75.18114254518598, 75.45315590067656, 75.9948549582943, 76.15132883042773, 76.38550997577069, 76.75157346669242, 76.89866970614145]}, {\"mode\": \"lines\", \"name\": \"(012)(1127)\", \"type\": \"scatter\", \"x\": [\"2017-12-20T00:00:00\", \"2017-12-21T00:00:00\", \"2017-12-22T00:00:00\", \"2017-12-26T00:00:00\", \"2017-12-27T00:00:00\", \"2017-12-28T00:00:00\", \"2017-12-29T00:00:00\"], \"y\": [75.1817480929716, 75.50569656932237, 76.0378968936382, 76.1660950391314, 76.35150046173804, 76.77774737806111, 76.86125011625504]}, {\"mode\": \"lines\", \"name\": \"(012)(2107)\", \"type\": \"scatter\", \"x\": [\"2017-12-20T00:00:00\", \"2017-12-21T00:00:00\", \"2017-12-22T00:00:00\", \"2017-12-26T00:00:00\", \"2017-12-27T00:00:00\", \"2017-12-28T00:00:00\", \"2017-12-29T00:00:00\"], \"y\": [75.37619022847566, 74.87822663550953, 75.5993161089249, 76.04896115216035, 76.32081671802948, 76.71165696145864, 76.76818207709557]}, {\"mode\": \"lines\", \"name\": \"(012)(2117)\", \"type\": \"scatter\", \"x\": [\"2017-12-20T00:00:00\", \"2017-12-21T00:00:00\", \"2017-12-22T00:00:00\", \"2017-12-26T00:00:00\", \"2017-12-27T00:00:00\", \"2017-12-28T00:00:00\", \"2017-12-29T00:00:00\"], \"y\": [75.2005300711678, 75.47513998355235, 75.99507375141667, 76.14910472750728, 76.40639552008369, 76.73327514193666, 76.92411049778957]}, {\"mode\": \"lines\", \"name\": \"(012)(2127)\", \"type\": \"scatter\", \"x\": [\"2017-12-20T00:00:00\", \"2017-12-21T00:00:00\", \"2017-12-22T00:00:00\", \"2017-12-26T00:00:00\", \"2017-12-27T00:00:00\", \"2017-12-28T00:00:00\", \"2017-12-29T00:00:00\"], \"y\": [75.16120308485279, 75.44813714332095, 76.00633409785218, 76.17769449006772, 76.39650404212037, 76.76458327080884, 76.89744100790381]}, {\"mode\": \"lines\", \"name\": \"(110)(0107)\", \"type\": \"scatter\", \"x\": [\"2017-12-20T00:00:00\", \"2017-12-21T00:00:00\", \"2017-12-22T00:00:00\", \"2017-12-26T00:00:00\", \"2017-12-27T00:00:00\", \"2017-12-28T00:00:00\", \"2017-12-29T00:00:00\"], \"y\": [75.27206557923671, 74.36513574540207, 75.17203128028547, 76.07843563063881, 75.7893753323017, 75.71208003018495, 75.63813315152527]}, {\"mode\": \"lines\", \"name\": \"(110)(0117)\", \"type\": \"scatter\", \"x\": [\"2017-12-20T00:00:00\", \"2017-12-21T00:00:00\", \"2017-12-22T00:00:00\", \"2017-12-26T00:00:00\", \"2017-12-27T00:00:00\", \"2017-12-28T00:00:00\", \"2017-12-29T00:00:00\"], \"y\": [75.19062090978514, 75.50209463266371, 76.02380032327488, 76.13775040578766, 76.37221849860553, 76.780921324494, 76.85745674484957]}, {\"mode\": \"lines\", \"name\": \"(110)(0127)\", \"type\": \"scatter\", \"x\": [\"2017-12-20T00:00:00\", \"2017-12-21T00:00:00\", \"2017-12-22T00:00:00\", \"2017-12-26T00:00:00\", \"2017-12-27T00:00:00\", \"2017-12-28T00:00:00\", \"2017-12-29T00:00:00\"], \"y\": [75.19258683929009, 75.48631688519971, 76.01108491599389, 76.14179846135994, 76.37797468320335, 76.76714663674169, 76.87763386456186]}, {\"mode\": \"lines\", \"name\": \"(110)(1107)\", \"type\": \"scatter\", \"x\": [\"2017-12-20T00:00:00\", \"2017-12-21T00:00:00\", \"2017-12-22T00:00:00\", \"2017-12-26T00:00:00\", \"2017-12-27T00:00:00\", \"2017-12-28T00:00:00\", \"2017-12-29T00:00:00\"], \"y\": [75.3041385768199, 74.70480194331442, 75.3664094909512, 75.98777005906263, 75.78434055543588, 76.6038591424897, 76.47556702410458]}, {\"mode\": \"lines\", \"name\": \"(110)(1117)\", \"type\": \"scatter\", \"x\": [\"2017-12-20T00:00:00\", \"2017-12-21T00:00:00\", \"2017-12-22T00:00:00\", \"2017-12-26T00:00:00\", \"2017-12-27T00:00:00\", \"2017-12-28T00:00:00\", \"2017-12-29T00:00:00\"], \"y\": [75.19155697125088, 75.49726666815803, 76.01984474927775, 76.13911173565238, 76.37412464407561, 76.77675666550674, 76.86411441520386]}, {\"mode\": \"lines\", \"name\": \"(110)(1127)\", \"type\": \"scatter\", \"x\": [\"2017-12-20T00:00:00\", \"2017-12-21T00:00:00\", \"2017-12-22T00:00:00\", \"2017-12-26T00:00:00\", \"2017-12-27T00:00:00\", \"2017-12-28T00:00:00\", \"2017-12-29T00:00:00\"], \"y\": [75.21185505563692, 75.5460110991958, 76.04915377296855, 76.1673335550021, 76.33407712647762, 76.77984324238092, 76.85681968457494]}, {\"mode\": \"lines\", \"name\": \"(110)(2107)\", \"type\": \"scatter\", \"x\": [\"2017-12-20T00:00:00\", \"2017-12-21T00:00:00\", \"2017-12-22T00:00:00\", \"2017-12-26T00:00:00\", \"2017-12-27T00:00:00\", \"2017-12-28T00:00:00\", \"2017-12-29T00:00:00\"], \"y\": [75.40776565182152, 74.9004307127327, 75.5920288257834, 76.0304792391672, 76.3046231520483, 76.70775961417577, 76.76463936614172]}, {\"mode\": \"lines\", \"name\": \"(110)(2117)\", \"type\": \"scatter\", \"x\": [\"2017-12-20T00:00:00\", \"2017-12-21T00:00:00\", \"2017-12-22T00:00:00\", \"2017-12-26T00:00:00\", \"2017-12-27T00:00:00\", \"2017-12-28T00:00:00\", \"2017-12-29T00:00:00\"], \"y\": [75.19785474807306, 75.49149717635765, 76.01503691698487, 76.14906796746587, 76.39529123489277, 76.74320344621766, 76.876135360082]}, {\"mode\": \"lines\", \"name\": \"(110)(2127)\", \"type\": \"scatter\", \"x\": [\"2017-12-20T00:00:00\", \"2017-12-21T00:00:00\", \"2017-12-22T00:00:00\", \"2017-12-26T00:00:00\", \"2017-12-27T00:00:00\", \"2017-12-28T00:00:00\", \"2017-12-29T00:00:00\"], \"y\": [75.17349897963463, 75.50163994510243, 76.01742521692536, 76.15775716388175, 76.37829630739044, 76.76609056618162, 76.8631200799711]}, {\"mode\": \"lines\", \"name\": \"(111)(0107)\", \"type\": \"scatter\", \"x\": [\"2017-12-20T00:00:00\", \"2017-12-21T00:00:00\", \"2017-12-22T00:00:00\", \"2017-12-26T00:00:00\", \"2017-12-27T00:00:00\", \"2017-12-28T00:00:00\", \"2017-12-29T00:00:00\"], \"y\": [75.02950889611957, 74.4367853451345, 75.21939325206414, 76.24919547884865, 75.7285802607949, 75.82205653428834, 75.67812867460643]}, {\"mode\": \"lines\", \"name\": \"(111)(0117)\", \"type\": \"scatter\", \"x\": [\"2017-12-20T00:00:00\", \"2017-12-21T00:00:00\", \"2017-12-22T00:00:00\", \"2017-12-26T00:00:00\", \"2017-12-27T00:00:00\", \"2017-12-28T00:00:00\", \"2017-12-29T00:00:00\"], \"y\": [75.13367503411297, 75.45123236801774, 76.05842180881453, 76.15297534897184, 76.38544942853807, 76.77941367370313, 76.8989637120528]}, {\"mode\": \"lines\", \"name\": \"(111)(0127)\", \"type\": \"scatter\", \"x\": [\"2017-12-20T00:00:00\", \"2017-12-21T00:00:00\", \"2017-12-22T00:00:00\", \"2017-12-26T00:00:00\", \"2017-12-27T00:00:00\", \"2017-12-28T00:00:00\", \"2017-12-29T00:00:00\"], \"y\": [75.1627272012703, 75.47648366767882, 76.03964637127412, 76.149242256223, 76.36999815741036, 76.78536126552466, 76.8604699992497]}, {\"mode\": \"lines\", \"name\": \"(111)(1107)\", \"type\": \"scatter\", \"x\": [\"2017-12-20T00:00:00\", \"2017-12-21T00:00:00\", \"2017-12-22T00:00:00\", \"2017-12-26T00:00:00\", \"2017-12-27T00:00:00\", \"2017-12-28T00:00:00\", \"2017-12-29T00:00:00\"], \"y\": [75.238415571122, 74.65120149943591, 75.41885098982635, 76.0447746982623, 75.79368184068889, 76.62218593810454, 76.51635046040472]}, {\"mode\": \"lines\", \"name\": \"(111)(1117)\", \"type\": \"scatter\", \"x\": [\"2017-12-20T00:00:00\", \"2017-12-21T00:00:00\", \"2017-12-22T00:00:00\", \"2017-12-26T00:00:00\", \"2017-12-27T00:00:00\", \"2017-12-28T00:00:00\", \"2017-12-29T00:00:00\"], \"y\": [75.16297529188944, 75.47633104946773, 76.03950005575669, 76.14925043248208, 76.36993243777792, 76.7852805861568, 76.86045962770442]}, {\"mode\": \"lines\", \"name\": \"(111)(1127)\", \"type\": \"scatter\", \"x\": [\"2017-12-20T00:00:00\", \"2017-12-21T00:00:00\", \"2017-12-22T00:00:00\", \"2017-12-26T00:00:00\", \"2017-12-27T00:00:00\", \"2017-12-28T00:00:00\", \"2017-12-29T00:00:00\"], \"y\": [75.15763165820177, 75.52281610250364, 76.10055233190218, 76.17781443729889, 76.33105355989917, 76.79840957357699, 76.8680234767109]}, {\"mode\": \"lines\", \"name\": \"(111)(2107)\", \"type\": \"scatter\", \"x\": [\"2017-12-20T00:00:00\", \"2017-12-21T00:00:00\", \"2017-12-22T00:00:00\", \"2017-12-26T00:00:00\", \"2017-12-27T00:00:00\", \"2017-12-28T00:00:00\", \"2017-12-29T00:00:00\"], \"y\": [75.34778635185069, 74.83541322648489, 75.64361351449136, 76.07566909600499, 76.30787642498966, 76.72383408187615, 76.77665744435417]}, {\"mode\": \"lines\", \"name\": \"(111)(2117)\", \"type\": \"scatter\", \"x\": [\"2017-12-20T00:00:00\", \"2017-12-21T00:00:00\", \"2017-12-22T00:00:00\", \"2017-12-26T00:00:00\", \"2017-12-27T00:00:00\", \"2017-12-28T00:00:00\", \"2017-12-29T00:00:00\"], \"y\": [75.16139204569335, 75.43093489697544, 76.0415569984032, 76.16760343975838, 76.39842402816464, 76.72818437725492, 76.88692322701087]}, {\"mode\": \"lines\", \"name\": \"(111)(2127)\", \"type\": \"scatter\", \"x\": [\"2017-12-20T00:00:00\", \"2017-12-21T00:00:00\", \"2017-12-22T00:00:00\", \"2017-12-26T00:00:00\", \"2017-12-27T00:00:00\", \"2017-12-28T00:00:00\", \"2017-12-29T00:00:00\"], \"y\": [75.1475017022553, 75.476652393828, 76.05325636304795, 76.1483167162634, 76.37506581665154, 76.79212016393909, 76.86608006088224]}, {\"mode\": \"lines\", \"name\": \"(112)(0107)\", \"type\": \"scatter\", \"x\": [\"2017-12-20T00:00:00\", \"2017-12-21T00:00:00\", \"2017-12-22T00:00:00\", \"2017-12-26T00:00:00\", \"2017-12-27T00:00:00\", \"2017-12-28T00:00:00\", \"2017-12-29T00:00:00\"], \"y\": [75.18866426190823, 74.34027640692922, 75.20722607747972, 76.14382210017274, 75.79308437381798, 75.72226384071267, 75.67758624719508]}, {\"mode\": \"lines\", \"name\": \"(112)(0117)\", \"type\": \"scatter\", \"x\": [\"2017-12-20T00:00:00\", \"2017-12-21T00:00:00\", \"2017-12-22T00:00:00\", \"2017-12-26T00:00:00\", \"2017-12-27T00:00:00\", \"2017-12-28T00:00:00\", \"2017-12-29T00:00:00\"], \"y\": [75.17810262733045, 75.49115333337633, 76.04135748091245, 76.13576316373494, 76.3741300971575, 76.78276045080402, 76.86338349866473]}, {\"mode\": \"lines\", \"name\": \"(112)(0127)\", \"type\": \"scatter\", \"x\": [\"2017-12-20T00:00:00\", \"2017-12-21T00:00:00\", \"2017-12-22T00:00:00\", \"2017-12-26T00:00:00\", \"2017-12-27T00:00:00\", \"2017-12-28T00:00:00\", \"2017-12-29T00:00:00\"], \"y\": [75.20858313724725, 75.45524859138087, 76.00013715397192, 76.13940463497542, 76.3753299310924, 76.74565778329634, 76.88704389705397]}, {\"mode\": \"lines\", \"name\": \"(112)(1107)\", \"type\": \"scatter\", \"x\": [\"2017-12-20T00:00:00\", \"2017-12-21T00:00:00\", \"2017-12-22T00:00:00\", \"2017-12-26T00:00:00\", \"2017-12-27T00:00:00\", \"2017-12-28T00:00:00\", \"2017-12-29T00:00:00\"], \"y\": [75.25281494063952, 74.66072496511673, 75.408298653579, 76.0331246646501, 75.79119656586721, 76.6177082793806, 76.5088415508017]}, {\"mode\": \"lines\", \"name\": \"(112)(1117)\", \"type\": \"scatter\", \"x\": [\"2017-12-20T00:00:00\", \"2017-12-21T00:00:00\", \"2017-12-22T00:00:00\", \"2017-12-26T00:00:00\", \"2017-12-27T00:00:00\", \"2017-12-28T00:00:00\", \"2017-12-29T00:00:00\"], \"y\": [75.18266648580914, 75.48932112787963, 76.03155442751506, 76.13297761741279, 76.36774752767698, 76.7739006727575, 76.84815050093414]}, {\"mode\": \"lines\", \"name\": \"(112)(1127)\", \"type\": \"scatter\", \"x\": [\"2017-12-20T00:00:00\", \"2017-12-21T00:00:00\", \"2017-12-22T00:00:00\", \"2017-12-26T00:00:00\", \"2017-12-27T00:00:00\", \"2017-12-28T00:00:00\", \"2017-12-29T00:00:00\"], \"y\": [75.1920644280299, 75.52079711333006, 76.06097094012273, 76.15958162095846, 76.3427704883361, 76.78089163334239, 76.85986126432789]}, {\"mode\": \"lines\", \"name\": \"(112)(2107)\", \"type\": \"scatter\", \"x\": [\"2017-12-20T00:00:00\", \"2017-12-21T00:00:00\", \"2017-12-22T00:00:00\", \"2017-12-26T00:00:00\", \"2017-12-27T00:00:00\", \"2017-12-28T00:00:00\", \"2017-12-29T00:00:00\"], \"y\": [75.3775453862139, 74.87357890647515, 75.62218497977847, 76.05003084959208, 76.30937509720282, 76.70789946989768, 76.76328907104575]}, {\"mode\": \"lines\", \"name\": \"(112)(2117)\", \"type\": \"scatter\", \"x\": [\"2017-12-20T00:00:00\", \"2017-12-21T00:00:00\", \"2017-12-22T00:00:00\", \"2017-12-26T00:00:00\", \"2017-12-27T00:00:00\", \"2017-12-28T00:00:00\", \"2017-12-29T00:00:00\"], \"y\": [75.15449394471861, 75.46910575484135, 76.03500002854655, 76.15476932819143, 76.40392489033104, 76.74216867331036, 76.90163697949617]}, {\"mode\": \"lines\", \"name\": \"(112)(2127)\", \"type\": \"scatter\", \"x\": [\"2017-12-20T00:00:00\", \"2017-12-21T00:00:00\", \"2017-12-22T00:00:00\", \"2017-12-26T00:00:00\", \"2017-12-27T00:00:00\", \"2017-12-28T00:00:00\", \"2017-12-29T00:00:00\"], \"y\": [75.18194358542213, 75.48920757050163, 75.9998925574354, 76.12557537170545, 76.40530218011774, 76.76160511337532, 76.99531001215985]}, {\"mode\": \"lines\", \"name\": \"(210)(0107)\", \"type\": \"scatter\", \"x\": [\"2017-12-20T00:00:00\", \"2017-12-21T00:00:00\", \"2017-12-22T00:00:00\", \"2017-12-26T00:00:00\", \"2017-12-27T00:00:00\", \"2017-12-28T00:00:00\", \"2017-12-29T00:00:00\"], \"y\": [75.17471855713592, 74.29505855259539, 75.19706611766827, 76.167886008573, 75.82792766881366, 75.725547276723, 75.68639206442087]}, {\"mode\": \"lines\", \"name\": \"(210)(0117)\", \"type\": \"scatter\", \"x\": [\"2017-12-20T00:00:00\", \"2017-12-21T00:00:00\", \"2017-12-22T00:00:00\", \"2017-12-26T00:00:00\", \"2017-12-27T00:00:00\", \"2017-12-28T00:00:00\", \"2017-12-29T00:00:00\"], \"y\": [75.16960852066356, 75.47753128701696, 76.02863048476416, 76.14990103956163, 76.3752397311989, 76.78218056449516, 76.86867153896918]}, {\"mode\": \"lines\", \"name\": \"(210)(0127)\", \"type\": \"scatter\", \"x\": [\"2017-12-20T00:00:00\", \"2017-12-21T00:00:00\", \"2017-12-22T00:00:00\", \"2017-12-26T00:00:00\", \"2017-12-27T00:00:00\", \"2017-12-28T00:00:00\", \"2017-12-29T00:00:00\"], \"y\": [75.1688704515366, 75.47098535630808, 76.02445685183393, 76.15161793494636, 76.37681098960726, 76.77706099663766, 76.87412039612508]}, {\"mode\": \"lines\", \"name\": \"(210)(1107)\", \"type\": \"scatter\", \"x\": [\"2017-12-20T00:00:00\", \"2017-12-21T00:00:00\", \"2017-12-22T00:00:00\", \"2017-12-26T00:00:00\", \"2017-12-27T00:00:00\", \"2017-12-28T00:00:00\", \"2017-12-29T00:00:00\"], \"y\": [75.26966441364242, 74.68535190742217, 75.38251198873752, 76.01247706320099, 75.79518880531064, 76.61192545676339, 76.48448397796986]}, {\"mode\": \"lines\", \"name\": \"(210)(1117)\", \"type\": \"scatter\", \"x\": [\"2017-12-20T00:00:00\", \"2017-12-21T00:00:00\", \"2017-12-22T00:00:00\", \"2017-12-26T00:00:00\", \"2017-12-27T00:00:00\", \"2017-12-28T00:00:00\", \"2017-12-29T00:00:00\"], \"y\": [75.17309256835858, 75.44958720267694, 76.00665983408707, 76.15685621688384, 76.38651794148295, 76.75851796715331, 76.90634278989637]}, {\"mode\": \"lines\", \"name\": \"(210)(1127)\", \"type\": \"scatter\", \"x\": [\"2017-12-20T00:00:00\", \"2017-12-21T00:00:00\", \"2017-12-22T00:00:00\", \"2017-12-26T00:00:00\", \"2017-12-27T00:00:00\", \"2017-12-28T00:00:00\", \"2017-12-29T00:00:00\"], \"y\": [75.17380555226002, 75.49807836640363, 76.04403061061994, 76.16767100051693, 76.35104701627593, 76.77789618873948, 76.86251069792158]}, {\"mode\": \"lines\", \"name\": \"(210)(2107)\", \"type\": \"scatter\", \"x\": [\"2017-12-20T00:00:00\", \"2017-12-21T00:00:00\", \"2017-12-22T00:00:00\", \"2017-12-26T00:00:00\", \"2017-12-27T00:00:00\", \"2017-12-28T00:00:00\", \"2017-12-29T00:00:00\"], \"y\": [75.37706182527893, 74.87306189621286, 75.60331342087674, 76.05365791341332, 76.31770424072167, 76.7086547603222, 76.76718384794691]}, {\"mode\": \"lines\", \"name\": \"(210)(2117)\", \"type\": \"scatter\", \"x\": [\"2017-12-20T00:00:00\", \"2017-12-21T00:00:00\", \"2017-12-22T00:00:00\", \"2017-12-26T00:00:00\", \"2017-12-27T00:00:00\", \"2017-12-28T00:00:00\", \"2017-12-29T00:00:00\"], \"y\": [75.16569679531891, 75.47215458798868, 76.02509275898605, 76.15981566096454, 76.39907899665069, 76.75011545854251, 76.89005580821966]}, {\"mode\": \"lines\", \"name\": \"(210)(2127)\", \"type\": \"scatter\", \"x\": [\"2017-12-20T00:00:00\", \"2017-12-21T00:00:00\", \"2017-12-22T00:00:00\", \"2017-12-26T00:00:00\", \"2017-12-27T00:00:00\", \"2017-12-28T00:00:00\", \"2017-12-29T00:00:00\"], \"y\": [75.19605877142658, 75.4581116708667, 75.99756565916084, 76.16816737360311, 76.38419272320998, 76.752801311146, 76.8838245842249]}, {\"mode\": \"lines\", \"name\": \"(211)(0107)\", \"type\": \"scatter\", \"x\": [\"2017-12-20T00:00:00\", \"2017-12-21T00:00:00\", \"2017-12-22T00:00:00\", \"2017-12-26T00:00:00\", \"2017-12-27T00:00:00\", \"2017-12-28T00:00:00\", \"2017-12-29T00:00:00\"], \"y\": [75.05964092319512, 74.40099477030978, 75.23571933437854, 76.22483245623935, 75.75380468083361, 75.78925299369978, 75.69824687362711]}, {\"mode\": \"lines\", \"name\": \"(211)(0117)\", \"type\": \"scatter\", \"x\": [\"2017-12-20T00:00:00\", \"2017-12-21T00:00:00\", \"2017-12-22T00:00:00\", \"2017-12-26T00:00:00\", \"2017-12-27T00:00:00\", \"2017-12-28T00:00:00\", \"2017-12-29T00:00:00\"], \"y\": [75.17046750924158, 75.49190872287942, 76.02810758857632, 76.14219367731351, 76.37572364464694, 76.77910664472442, 76.87089340183377]}, {\"mode\": \"lines\", \"name\": \"(211)(0127)\", \"type\": \"scatter\", \"x\": [\"2017-12-20T00:00:00\", \"2017-12-21T00:00:00\", \"2017-12-22T00:00:00\", \"2017-12-26T00:00:00\", \"2017-12-27T00:00:00\", \"2017-12-28T00:00:00\", \"2017-12-29T00:00:00\"], \"y\": [75.19715131523361, 75.41591946052155, 75.8804021190583, 76.01690135694705, 76.39210379786992, 76.65806086840296, 77.00885503310205]}, {\"mode\": \"lines\", \"name\": \"(211)(1107)\", \"type\": \"scatter\", \"x\": [\"2017-12-20T00:00:00\", \"2017-12-21T00:00:00\", \"2017-12-22T00:00:00\", \"2017-12-26T00:00:00\", \"2017-12-27T00:00:00\", \"2017-12-28T00:00:00\", \"2017-12-29T00:00:00\"], \"y\": [75.24006684714817, 74.68235844313364, 75.40959759210583, 76.02510184805695, 75.78629204022717, 76.6231266923013, 76.50352675356686]}, {\"mode\": \"lines\", \"name\": \"(211)(1117)\", \"type\": \"scatter\", \"x\": [\"2017-12-20T00:00:00\", \"2017-12-21T00:00:00\", \"2017-12-22T00:00:00\", \"2017-12-26T00:00:00\", \"2017-12-27T00:00:00\", \"2017-12-28T00:00:00\", \"2017-12-29T00:00:00\"], \"y\": [75.14499502399853, 75.49610218922919, 75.9424669782833, 76.03225427346278, 76.43754468192986, 76.7205962613747, 77.08274225416557]}, {\"mode\": \"lines\", \"name\": \"(211)(1127)\", \"type\": \"scatter\", \"x\": [\"2017-12-20T00:00:00\", \"2017-12-21T00:00:00\", \"2017-12-22T00:00:00\", \"2017-12-26T00:00:00\", \"2017-12-27T00:00:00\", \"2017-12-28T00:00:00\", \"2017-12-29T00:00:00\"], \"y\": [75.16286601085216, 75.48314216727293, 76.01702337444749, 76.15976961428419, 76.36649904392583, 76.75533626627156, 76.85154614395465]}, {\"mode\": \"lines\", \"name\": \"(211)(2107)\", \"type\": \"scatter\", \"x\": [\"2017-12-20T00:00:00\", \"2017-12-21T00:00:00\", \"2017-12-22T00:00:00\", \"2017-12-26T00:00:00\", \"2017-12-27T00:00:00\", \"2017-12-28T00:00:00\", \"2017-12-29T00:00:00\"], \"y\": [75.34110787745988, 74.87772574204546, 75.6329456056777, 76.06098324076511, 76.32231671749292, 76.69408215552077, 76.74573839773997]}, {\"mode\": \"lines\", \"name\": \"(211)(2117)\", \"type\": \"scatter\", \"x\": [\"2017-12-20T00:00:00\", \"2017-12-21T00:00:00\", \"2017-12-22T00:00:00\", \"2017-12-26T00:00:00\", \"2017-12-27T00:00:00\", \"2017-12-28T00:00:00\", \"2017-12-29T00:00:00\"], \"y\": [75.17049485789447, 75.44578726293123, 75.95026187123726, 76.09758505623914, 76.40728077704472, 76.72372831095663, 77.02043056188798]}, {\"mode\": \"lines\", \"name\": \"(211)(2127)\", \"type\": \"scatter\", \"x\": [\"2017-12-20T00:00:00\", \"2017-12-21T00:00:00\", \"2017-12-22T00:00:00\", \"2017-12-26T00:00:00\", \"2017-12-27T00:00:00\", \"2017-12-28T00:00:00\", \"2017-12-29T00:00:00\"], \"y\": [75.15772854600216, 75.41811366392845, 75.97758307581549, 76.17041527346446, 76.40867124767783, 76.7020981766098, 76.9237753062153]}, {\"mode\": \"lines\", \"name\": \"(212)(0107)\", \"type\": \"scatter\", \"x\": [\"2017-12-20T00:00:00\", \"2017-12-21T00:00:00\", \"2017-12-22T00:00:00\", \"2017-12-26T00:00:00\", \"2017-12-27T00:00:00\", \"2017-12-28T00:00:00\", \"2017-12-29T00:00:00\"], \"y\": [75.18226297381646, 74.29337914217123, 75.19071306010429, 76.16296378926337, 75.83321330963307, 75.72803051404779, 75.68296446975329]}, {\"mode\": \"lines\", \"name\": \"(212)(0117)\", \"type\": \"scatter\", \"x\": [\"2017-12-20T00:00:00\", \"2017-12-21T00:00:00\", \"2017-12-22T00:00:00\", \"2017-12-26T00:00:00\", \"2017-12-27T00:00:00\", \"2017-12-28T00:00:00\", \"2017-12-29T00:00:00\"], \"y\": [75.22382274738929, 75.5475310139711, 76.09077072623494, 76.14943894764069, 76.37925562788725, 76.77875539998432, 76.86096533941455]}, {\"mode\": \"lines\", \"name\": \"(212)(0127)\", \"type\": \"scatter\", \"x\": [\"2017-12-20T00:00:00\", \"2017-12-21T00:00:00\", \"2017-12-22T00:00:00\", \"2017-12-26T00:00:00\", \"2017-12-27T00:00:00\", \"2017-12-28T00:00:00\", \"2017-12-29T00:00:00\"], \"y\": [75.21357925139773, 75.43967364719022, 75.98340904921298, 76.13850494059808, 76.3873454317851, 76.71066448573642, 76.94466949106433]}, {\"mode\": \"lines\", \"name\": \"(212)(1107)\", \"type\": \"scatter\", \"x\": [\"2017-12-20T00:00:00\", \"2017-12-21T00:00:00\", \"2017-12-22T00:00:00\", \"2017-12-26T00:00:00\", \"2017-12-27T00:00:00\", \"2017-12-28T00:00:00\", \"2017-12-29T00:00:00\"], \"y\": [75.26710445028804, 74.68556589858129, 75.38248003156296, 76.01271959524654, 75.79748053287143, 76.617210314482, 76.48758380561313]}, {\"mode\": \"lines\", \"name\": \"(212)(1117)\", \"type\": \"scatter\", \"x\": [\"2017-12-20T00:00:00\", \"2017-12-21T00:00:00\", \"2017-12-22T00:00:00\", \"2017-12-26T00:00:00\", \"2017-12-27T00:00:00\", \"2017-12-28T00:00:00\", \"2017-12-29T00:00:00\"], \"y\": [75.22178183429328, 75.52899475876228, 76.07888146838499, 76.1512262959917, 76.37531548726649, 76.76299039283754, 76.85529113524879]}, {\"mode\": \"lines\", \"name\": \"(212)(1127)\", \"type\": \"scatter\", \"x\": [\"2017-12-20T00:00:00\", \"2017-12-21T00:00:00\", \"2017-12-22T00:00:00\", \"2017-12-26T00:00:00\", \"2017-12-27T00:00:00\", \"2017-12-28T00:00:00\", \"2017-12-29T00:00:00\"], \"y\": [75.24907267380227, 75.61110813906224, 76.12853132211444, 76.18826756494515, 76.32804055974263, 76.79797069774395, 76.8534978018532]}, {\"mode\": \"lines\", \"name\": \"(212)(2107)\", \"type\": \"scatter\", \"x\": [\"2017-12-20T00:00:00\", \"2017-12-21T00:00:00\", \"2017-12-22T00:00:00\", \"2017-12-26T00:00:00\", \"2017-12-27T00:00:00\", \"2017-12-28T00:00:00\", \"2017-12-29T00:00:00\"], \"y\": [75.38032142953007, 74.87982813649204, 75.6008038251525, 76.0484973695718, 76.31655442385585, 76.71433319754243, 76.77127439260984]}, {\"mode\": \"lines\", \"name\": \"(212)(2117)\", \"type\": \"scatter\", \"x\": [\"2017-12-20T00:00:00\", \"2017-12-21T00:00:00\", \"2017-12-22T00:00:00\", \"2017-12-26T00:00:00\", \"2017-12-27T00:00:00\", \"2017-12-28T00:00:00\", \"2017-12-29T00:00:00\"], \"y\": [75.31812739028162, 75.44647140971313, 75.87014929130616, 76.01766360199865, 76.3721431467727, 76.54381753214489, 76.90189059205134]}, {\"mode\": \"lines\", \"name\": \"(212)(2127)\", \"type\": \"scatter\", \"x\": [\"2017-12-20T00:00:00\", \"2017-12-21T00:00:00\", \"2017-12-22T00:00:00\", \"2017-12-26T00:00:00\", \"2017-12-27T00:00:00\", \"2017-12-28T00:00:00\", \"2017-12-29T00:00:00\"], \"y\": [75.18142277068483, 75.51226468967707, 76.05209899931417, 76.14714083459269, 76.37193476326607, 76.78668483232649, 76.8678648640642]}],                        {\"legend\": {\"tracegroupgap\": 0}, \"margin\": {\"t\": 60}, \"template\": {\"data\": {\"bar\": [{\"error_x\": {\"color\": \"#2a3f5f\"}, \"error_y\": {\"color\": \"#2a3f5f\"}, \"marker\": {\"line\": {\"color\": \"#E5ECF6\", \"width\": 0.5}}, \"type\": \"bar\"}], \"barpolar\": [{\"marker\": {\"line\": {\"color\": \"#E5ECF6\", \"width\": 0.5}}, \"type\": \"barpolar\"}], \"carpet\": [{\"aaxis\": {\"endlinecolor\": \"#2a3f5f\", \"gridcolor\": \"white\", \"linecolor\": \"white\", \"minorgridcolor\": \"white\", \"startlinecolor\": \"#2a3f5f\"}, \"baxis\": {\"endlinecolor\": \"#2a3f5f\", \"gridcolor\": \"white\", \"linecolor\": \"white\", \"minorgridcolor\": \"white\", \"startlinecolor\": \"#2a3f5f\"}, \"type\": \"carpet\"}], \"choropleth\": [{\"colorbar\": {\"outlinewidth\": 0, \"ticks\": \"\"}, \"type\": \"choropleth\"}], \"contour\": [{\"colorbar\": {\"outlinewidth\": 0, \"ticks\": \"\"}, \"colorscale\": [[0.0, \"#0d0887\"], [0.1111111111111111, \"#46039f\"], [0.2222222222222222, \"#7201a8\"], [0.3333333333333333, \"#9c179e\"], [0.4444444444444444, \"#bd3786\"], [0.5555555555555556, \"#d8576b\"], [0.6666666666666666, \"#ed7953\"], [0.7777777777777778, \"#fb9f3a\"], [0.8888888888888888, \"#fdca26\"], [1.0, \"#f0f921\"]], \"type\": \"contour\"}], \"contourcarpet\": [{\"colorbar\": {\"outlinewidth\": 0, \"ticks\": \"\"}, \"type\": \"contourcarpet\"}], \"heatmap\": [{\"colorbar\": {\"outlinewidth\": 0, \"ticks\": \"\"}, \"colorscale\": [[0.0, \"#0d0887\"], [0.1111111111111111, \"#46039f\"], [0.2222222222222222, \"#7201a8\"], [0.3333333333333333, \"#9c179e\"], [0.4444444444444444, \"#bd3786\"], [0.5555555555555556, \"#d8576b\"], [0.6666666666666666, \"#ed7953\"], [0.7777777777777778, \"#fb9f3a\"], [0.8888888888888888, \"#fdca26\"], [1.0, \"#f0f921\"]], \"type\": \"heatmap\"}], \"heatmapgl\": [{\"colorbar\": {\"outlinewidth\": 0, \"ticks\": \"\"}, \"colorscale\": [[0.0, \"#0d0887\"], [0.1111111111111111, \"#46039f\"], [0.2222222222222222, \"#7201a8\"], [0.3333333333333333, \"#9c179e\"], [0.4444444444444444, \"#bd3786\"], [0.5555555555555556, \"#d8576b\"], [0.6666666666666666, \"#ed7953\"], [0.7777777777777778, \"#fb9f3a\"], [0.8888888888888888, \"#fdca26\"], [1.0, \"#f0f921\"]], \"type\": \"heatmapgl\"}], \"histogram\": [{\"marker\": {\"colorbar\": {\"outlinewidth\": 0, \"ticks\": \"\"}}, \"type\": \"histogram\"}], \"histogram2d\": [{\"colorbar\": {\"outlinewidth\": 0, \"ticks\": \"\"}, \"colorscale\": [[0.0, \"#0d0887\"], [0.1111111111111111, \"#46039f\"], [0.2222222222222222, \"#7201a8\"], [0.3333333333333333, \"#9c179e\"], [0.4444444444444444, \"#bd3786\"], [0.5555555555555556, \"#d8576b\"], [0.6666666666666666, \"#ed7953\"], [0.7777777777777778, \"#fb9f3a\"], [0.8888888888888888, \"#fdca26\"], [1.0, \"#f0f921\"]], \"type\": \"histogram2d\"}], \"histogram2dcontour\": [{\"colorbar\": {\"outlinewidth\": 0, \"ticks\": \"\"}, \"colorscale\": [[0.0, \"#0d0887\"], [0.1111111111111111, \"#46039f\"], [0.2222222222222222, \"#7201a8\"], [0.3333333333333333, \"#9c179e\"], [0.4444444444444444, \"#bd3786\"], [0.5555555555555556, \"#d8576b\"], [0.6666666666666666, \"#ed7953\"], [0.7777777777777778, \"#fb9f3a\"], [0.8888888888888888, \"#fdca26\"], [1.0, \"#f0f921\"]], \"type\": \"histogram2dcontour\"}], \"mesh3d\": [{\"colorbar\": {\"outlinewidth\": 0, \"ticks\": \"\"}, \"type\": \"mesh3d\"}], \"parcoords\": [{\"line\": {\"colorbar\": {\"outlinewidth\": 0, \"ticks\": \"\"}}, \"type\": \"parcoords\"}], \"pie\": [{\"automargin\": true, \"type\": \"pie\"}], \"scatter\": [{\"marker\": {\"colorbar\": {\"outlinewidth\": 0, \"ticks\": \"\"}}, \"type\": \"scatter\"}], \"scatter3d\": [{\"line\": {\"colorbar\": {\"outlinewidth\": 0, \"ticks\": \"\"}}, \"marker\": {\"colorbar\": {\"outlinewidth\": 0, \"ticks\": \"\"}}, \"type\": \"scatter3d\"}], \"scattercarpet\": [{\"marker\": {\"colorbar\": {\"outlinewidth\": 0, \"ticks\": \"\"}}, \"type\": \"scattercarpet\"}], \"scattergeo\": [{\"marker\": {\"colorbar\": {\"outlinewidth\": 0, \"ticks\": \"\"}}, \"type\": \"scattergeo\"}], \"scattergl\": [{\"marker\": {\"colorbar\": {\"outlinewidth\": 0, \"ticks\": \"\"}}, \"type\": \"scattergl\"}], \"scattermapbox\": [{\"marker\": {\"colorbar\": {\"outlinewidth\": 0, \"ticks\": \"\"}}, \"type\": \"scattermapbox\"}], \"scatterpolar\": [{\"marker\": {\"colorbar\": {\"outlinewidth\": 0, \"ticks\": \"\"}}, \"type\": \"scatterpolar\"}], \"scatterpolargl\": [{\"marker\": {\"colorbar\": {\"outlinewidth\": 0, \"ticks\": \"\"}}, \"type\": \"scatterpolargl\"}], \"scatterternary\": [{\"marker\": {\"colorbar\": {\"outlinewidth\": 0, \"ticks\": \"\"}}, \"type\": \"scatterternary\"}], \"surface\": [{\"colorbar\": {\"outlinewidth\": 0, \"ticks\": \"\"}, \"colorscale\": [[0.0, \"#0d0887\"], [0.1111111111111111, \"#46039f\"], [0.2222222222222222, \"#7201a8\"], [0.3333333333333333, \"#9c179e\"], [0.4444444444444444, \"#bd3786\"], [0.5555555555555556, \"#d8576b\"], [0.6666666666666666, \"#ed7953\"], [0.7777777777777778, \"#fb9f3a\"], [0.8888888888888888, \"#fdca26\"], [1.0, \"#f0f921\"]], \"type\": \"surface\"}], \"table\": [{\"cells\": {\"fill\": {\"color\": \"#EBF0F8\"}, \"line\": {\"color\": \"white\"}}, \"header\": {\"fill\": {\"color\": \"#C8D4E3\"}, \"line\": {\"color\": \"white\"}}, \"type\": \"table\"}]}, \"layout\": {\"annotationdefaults\": {\"arrowcolor\": \"#2a3f5f\", \"arrowhead\": 0, \"arrowwidth\": 1}, \"autotypenumbers\": \"strict\", \"coloraxis\": {\"colorbar\": {\"outlinewidth\": 0, \"ticks\": \"\"}}, \"colorscale\": {\"diverging\": [[0, \"#8e0152\"], [0.1, \"#c51b7d\"], [0.2, \"#de77ae\"], [0.3, \"#f1b6da\"], [0.4, \"#fde0ef\"], [0.5, \"#f7f7f7\"], [0.6, \"#e6f5d0\"], [0.7, \"#b8e186\"], [0.8, \"#7fbc41\"], [0.9, \"#4d9221\"], [1, \"#276419\"]], \"sequential\": [[0.0, \"#0d0887\"], [0.1111111111111111, \"#46039f\"], [0.2222222222222222, \"#7201a8\"], [0.3333333333333333, \"#9c179e\"], [0.4444444444444444, \"#bd3786\"], [0.5555555555555556, \"#d8576b\"], [0.6666666666666666, \"#ed7953\"], [0.7777777777777778, \"#fb9f3a\"], [0.8888888888888888, \"#fdca26\"], [1.0, \"#f0f921\"]], \"sequentialminus\": [[0.0, \"#0d0887\"], [0.1111111111111111, \"#46039f\"], [0.2222222222222222, \"#7201a8\"], [0.3333333333333333, \"#9c179e\"], [0.4444444444444444, \"#bd3786\"], [0.5555555555555556, \"#d8576b\"], [0.6666666666666666, \"#ed7953\"], [0.7777777777777778, \"#fb9f3a\"], [0.8888888888888888, \"#fdca26\"], [1.0, \"#f0f921\"]]}, \"colorway\": [\"#636efa\", \"#EF553B\", \"#00cc96\", \"#ab63fa\", \"#FFA15A\", \"#19d3f3\", \"#FF6692\", \"#B6E880\", \"#FF97FF\", \"#FECB52\"], \"font\": {\"color\": \"#2a3f5f\"}, \"geo\": {\"bgcolor\": \"white\", \"lakecolor\": \"white\", \"landcolor\": \"#E5ECF6\", \"showlakes\": true, \"showland\": true, \"subunitcolor\": \"white\"}, \"hoverlabel\": {\"align\": \"left\"}, \"hovermode\": \"closest\", \"mapbox\": {\"style\": \"light\"}, \"paper_bgcolor\": \"white\", \"plot_bgcolor\": \"#E5ECF6\", \"polar\": {\"angularaxis\": {\"gridcolor\": \"white\", \"linecolor\": \"white\", \"ticks\": \"\"}, \"bgcolor\": \"#E5ECF6\", \"radialaxis\": {\"gridcolor\": \"white\", \"linecolor\": \"white\", \"ticks\": \"\"}}, \"scene\": {\"xaxis\": {\"backgroundcolor\": \"#E5ECF6\", \"gridcolor\": \"white\", \"gridwidth\": 2, \"linecolor\": \"white\", \"showbackground\": true, \"ticks\": \"\", \"zerolinecolor\": \"white\"}, \"yaxis\": {\"backgroundcolor\": \"#E5ECF6\", \"gridcolor\": \"white\", \"gridwidth\": 2, \"linecolor\": \"white\", \"showbackground\": true, \"ticks\": \"\", \"zerolinecolor\": \"white\"}, \"zaxis\": {\"backgroundcolor\": \"#E5ECF6\", \"gridcolor\": \"white\", \"gridwidth\": 2, \"linecolor\": \"white\", \"showbackground\": true, \"ticks\": \"\", \"zerolinecolor\": \"white\"}}, \"shapedefaults\": {\"line\": {\"color\": \"#2a3f5f\"}}, \"ternary\": {\"aaxis\": {\"gridcolor\": \"white\", \"linecolor\": \"white\", \"ticks\": \"\"}, \"baxis\": {\"gridcolor\": \"white\", \"linecolor\": \"white\", \"ticks\": \"\"}, \"bgcolor\": \"#E5ECF6\", \"caxis\": {\"gridcolor\": \"white\", \"linecolor\": \"white\", \"ticks\": \"\"}}, \"title\": {\"x\": 0.05}, \"xaxis\": {\"automargin\": true, \"gridcolor\": \"white\", \"linecolor\": \"white\", \"ticks\": \"\", \"title\": {\"standoff\": 15}, \"zerolinecolor\": \"white\", \"zerolinewidth\": 2}, \"yaxis\": {\"automargin\": true, \"gridcolor\": \"white\", \"linecolor\": \"white\", \"ticks\": \"\", \"title\": {\"standoff\": 15}, \"zerolinecolor\": \"white\", \"zerolinewidth\": 2}}}, \"xaxis\": {\"anchor\": \"y\", \"domain\": [0.0, 1.0], \"title\": {\"text\": \"Date\"}}, \"yaxis\": {\"anchor\": \"x\", \"domain\": [0.0, 1.0], \"title\": {\"text\": \"y\"}}},                        {\"responsive\": true}                    ).then(function(){\n",
       "                            \n",
       "var gd = document.getElementById('d465deaa-1823-4d45-a40c-2dc22e00449c');\n",
       "var x = new MutationObserver(function (mutations, observer) {{\n",
       "        var display = window.getComputedStyle(gd).display;\n",
       "        if (!display || display === 'none') {{\n",
       "            console.log([gd, 'removed!']);\n",
       "            Plotly.purge(gd);\n",
       "            observer.disconnect();\n",
       "        }}\n",
       "}});\n",
       "\n",
       "// Listen for the removal of the full notebook cells\n",
       "var notebookContainer = gd.closest('#notebook-container');\n",
       "if (notebookContainer) {{\n",
       "    x.observe(notebookContainer, {childList: true});\n",
       "}}\n",
       "\n",
       "// Listen for the clearing of the current output cell\n",
       "var outputEl = gd.closest('.output');\n",
       "if (outputEl) {{\n",
       "    x.observe(outputEl, {childList: true});\n",
       "}}\n",
       "\n",
       "                        })                };                });            </script>        </div>"
      ]
     },
     "metadata": {},
     "output_type": "display_data"
    },
    {
     "data": {
      "application/vnd.plotly.v1+json": {
       "config": {
        "plotlyServerURL": "https://plot.ly"
       },
       "data": [
        {
         "hovertemplate": "Date=%{x}<br>y=%{y}<extra></extra>",
         "legendgroup": "",
         "line": {
          "color": "#636efa",
          "dash": "solid"
         },
         "mode": "lines",
         "name": "",
         "orientation": "v",
         "showlegend": false,
         "type": "scatter",
         "x": [
          "2017-11-15T00:00:00",
          "2017-11-16T00:00:00",
          "2017-11-17T00:00:00",
          "2017-11-20T00:00:00",
          "2017-11-21T00:00:00",
          "2017-11-22T00:00:00",
          "2017-11-24T00:00:00",
          "2017-11-27T00:00:00",
          "2017-11-28T00:00:00",
          "2017-11-29T00:00:00",
          "2017-11-30T00:00:00",
          "2017-12-01T00:00:00",
          "2017-12-04T00:00:00",
          "2017-12-05T00:00:00",
          "2017-12-06T00:00:00",
          "2017-12-07T00:00:00",
          "2017-12-08T00:00:00",
          "2017-12-11T00:00:00",
          "2017-12-12T00:00:00",
          "2017-12-13T00:00:00",
          "2017-12-14T00:00:00",
          "2017-12-15T00:00:00",
          "2017-12-18T00:00:00",
          "2017-12-19T00:00:00",
          "2017-12-20T00:00:00",
          "2017-12-21T00:00:00",
          "2017-12-22T00:00:00",
          "2017-12-26T00:00:00",
          "2017-12-27T00:00:00",
          "2017-12-28T00:00:00",
          "2017-12-29T00:00:00"
         ],
         "xaxis": "x",
         "y": [
          75.93000030517578,
          75.97000122070312,
          75.94999694824219,
          76.88999938964844,
          77.23999786376953,
          77.16999816894531,
          77.25,
          77.2300033569336,
          78.33999633789062,
          78.55999755859375,
          79.16000366210938,
          79.26000213623047,
          78.93000030517578,
          78.51000213623047,
          78.31999969482422,
          77.79000091552734,
          78.77999877929688,
          79.22000122070312,
          79.2699966430664,
          78.20999908447266,
          77.47000122070312,
          77.51000213623047,
          76.97000122070312,
          76.11000061035156,
          75.05000305175781,
          75.4000015258789,
          76.08999633789062,
          76.12999725341797,
          76.33999633789062,
          76.66999816894531,
          76.83000183105469
         ],
         "yaxis": "y"
        },
        {
         "mode": "lines",
         "type": "scatter",
         "x": [
          "2017-11-15T00:00:00",
          "2017-11-16T00:00:00",
          "2017-11-17T00:00:00",
          "2017-11-20T00:00:00",
          "2017-11-21T00:00:00",
          "2017-11-22T00:00:00",
          "2017-11-24T00:00:00",
          "2017-11-27T00:00:00",
          "2017-11-28T00:00:00",
          "2017-11-29T00:00:00",
          "2017-11-30T00:00:00",
          "2017-12-01T00:00:00",
          "2017-12-04T00:00:00",
          "2017-12-05T00:00:00",
          "2017-12-06T00:00:00",
          "2017-12-07T00:00:00",
          "2017-12-08T00:00:00",
          "2017-12-11T00:00:00",
          "2017-12-12T00:00:00",
          "2017-12-13T00:00:00",
          "2017-12-14T00:00:00",
          "2017-12-15T00:00:00",
          "2017-12-18T00:00:00",
          "2017-12-19T00:00:00",
          "2017-12-20T00:00:00",
          "2017-12-21T00:00:00",
          "2017-12-22T00:00:00",
          "2017-12-26T00:00:00",
          "2017-12-27T00:00:00",
          "2017-12-28T00:00:00",
          "2017-12-29T00:00:00"
         ],
         "y": [
          75.98326168788387,
          76.73693101753317,
          76.99188952888701,
          76.72186417767367,
          79.18918572098697,
          77.74547970851269,
          77.20920143005877,
          77.27081472057473,
          78.31925313666329,
          79.53832732835463,
          79.52224765179514,
          79.18783453190758,
          79.01216239030634,
          78.48961937721964,
          79.4485496935616,
          78.00817730943645,
          79.38199229679859,
          79.32008919125776,
          78.9399456451247,
          77.79452122792792,
          77.28296810173312,
          76.98646950280889,
          77.94766715087499,
          76.53242945840033,
          75.09690349773484,
          74.40079912728646,
          75.37361959125874,
          76.16918226613616,
          75.80960679684006,
          75.81395281483664,
          75.75816225448887
         ]
        },
        {
         "mode": "lines",
         "type": "scatter",
         "x": [
          "2017-11-15T00:00:00",
          "2017-11-16T00:00:00",
          "2017-11-17T00:00:00",
          "2017-11-20T00:00:00",
          "2017-11-21T00:00:00",
          "2017-11-22T00:00:00",
          "2017-11-24T00:00:00",
          "2017-11-27T00:00:00",
          "2017-11-28T00:00:00",
          "2017-11-29T00:00:00",
          "2017-11-30T00:00:00",
          "2017-12-01T00:00:00",
          "2017-12-04T00:00:00",
          "2017-12-05T00:00:00",
          "2017-12-06T00:00:00",
          "2017-12-07T00:00:00",
          "2017-12-08T00:00:00",
          "2017-12-11T00:00:00",
          "2017-12-12T00:00:00",
          "2017-12-13T00:00:00",
          "2017-12-14T00:00:00",
          "2017-12-15T00:00:00",
          "2017-12-18T00:00:00",
          "2017-12-19T00:00:00",
          "2017-12-20T00:00:00",
          "2017-12-21T00:00:00",
          "2017-12-22T00:00:00",
          "2017-12-26T00:00:00",
          "2017-12-27T00:00:00",
          "2017-12-28T00:00:00",
          "2017-12-29T00:00:00"
         ],
         "y": [
          75.98787748363873,
          76.10781152312083,
          75.98497986300336,
          76.90204441083019,
          77.3876568956087,
          77.16868056481472,
          77.26585287158933,
          77.28897973117184,
          78.4822414027316,
          78.60017162767602,
          79.17387475613467,
          79.41133006582345,
          78.92898320872713,
          78.52601416906464,
          78.3842182593301,
          77.93137615714218,
          78.82255216857341,
          79.23423071848588,
          79.41940685759884,
          78.20732318670522,
          77.48494940616911,
          77.57107507680507,
          77.11295263845619,
          76.15237916032137,
          75.0634862333205,
          75.53622358607723,
          76.08453097448454,
          76.1447384556932,
          76.39761217828939,
          76.80827227298121,
          76.86836288863493
         ]
        },
        {
         "mode": "lines",
         "type": "scatter",
         "x": [
          "2017-11-15T00:00:00",
          "2017-11-16T00:00:00",
          "2017-11-17T00:00:00",
          "2017-11-20T00:00:00",
          "2017-11-21T00:00:00",
          "2017-11-22T00:00:00",
          "2017-11-24T00:00:00",
          "2017-11-27T00:00:00",
          "2017-11-28T00:00:00",
          "2017-11-29T00:00:00",
          "2017-11-30T00:00:00",
          "2017-12-01T00:00:00",
          "2017-12-04T00:00:00",
          "2017-12-05T00:00:00",
          "2017-12-06T00:00:00",
          "2017-12-07T00:00:00",
          "2017-12-08T00:00:00",
          "2017-12-11T00:00:00",
          "2017-12-12T00:00:00",
          "2017-12-13T00:00:00",
          "2017-12-14T00:00:00",
          "2017-12-15T00:00:00",
          "2017-12-18T00:00:00",
          "2017-12-19T00:00:00",
          "2017-12-20T00:00:00",
          "2017-12-21T00:00:00",
          "2017-12-22T00:00:00",
          "2017-12-26T00:00:00",
          "2017-12-27T00:00:00",
          "2017-12-28T00:00:00",
          "2017-12-29T00:00:00"
         ],
         "y": [
          76.08981153202711,
          76.00940990119499,
          76.32608763435492,
          76.85835840082467,
          77.63593260484494,
          77.071207174618,
          77.01177011335626,
          77.37752886299035,
          78.3248352000581,
          79.01345450709285,
          79.20512608462622,
          79.48808551107174,
          78.81703379757367,
          78.29376526507363,
          78.64965014629976,
          77.8195557902049,
          79.2315327745057,
          79.25504255995351,
          79.42251212330814,
          78.03486930428105,
          77.25071409475858,
          77.63505960240738,
          77.15560749730021,
          76.5344154367372,
          75.0827779619181,
          75.36506694235608,
          75.83748057554195,
          75.95910589397924,
          76.38806639895579,
          76.62076478662979,
          76.9896351204123
         ]
        },
        {
         "mode": "lines",
         "type": "scatter",
         "x": [
          "2017-11-15T00:00:00",
          "2017-11-16T00:00:00",
          "2017-11-17T00:00:00",
          "2017-11-20T00:00:00",
          "2017-11-21T00:00:00",
          "2017-11-22T00:00:00",
          "2017-11-24T00:00:00",
          "2017-11-27T00:00:00",
          "2017-11-28T00:00:00",
          "2017-11-29T00:00:00",
          "2017-11-30T00:00:00",
          "2017-12-01T00:00:00",
          "2017-12-04T00:00:00",
          "2017-12-05T00:00:00",
          "2017-12-06T00:00:00",
          "2017-12-07T00:00:00",
          "2017-12-08T00:00:00",
          "2017-12-11T00:00:00",
          "2017-12-12T00:00:00",
          "2017-12-13T00:00:00",
          "2017-12-14T00:00:00",
          "2017-12-15T00:00:00",
          "2017-12-18T00:00:00",
          "2017-12-19T00:00:00",
          "2017-12-20T00:00:00",
          "2017-12-21T00:00:00",
          "2017-12-22T00:00:00",
          "2017-12-26T00:00:00",
          "2017-12-27T00:00:00",
          "2017-12-28T00:00:00",
          "2017-12-29T00:00:00"
         ],
         "y": [
          75.98312525922115,
          76.39042426017006,
          76.6088235214305,
          76.67837341450218,
          78.63218147119572,
          77.05619758101584,
          77.00083568900237,
          77.27746133855894,
          78.71892114024277,
          79.59040781859387,
          79.25825264786002,
          80.20266193152626,
          79.26168353112917,
          78.47920171554708,
          78.91227614263937,
          77.89077448970689,
          79.56820823094658,
          79.44891583998817,
          79.06651224554781,
          78.03810623676733,
          77.36494549675983,
          77.78625427484253,
          77.57209652971943,
          76.60878756316819,
          75.11998631182813,
          74.73792009039731,
          75.52777364644027,
          76.05982157308513,
          75.8175530207896,
          76.70618854798619,
          76.49027117314246
         ]
        },
        {
         "mode": "lines",
         "type": "scatter",
         "x": [
          "2017-11-15T00:00:00",
          "2017-11-16T00:00:00",
          "2017-11-17T00:00:00",
          "2017-11-20T00:00:00",
          "2017-11-21T00:00:00",
          "2017-11-22T00:00:00",
          "2017-11-24T00:00:00",
          "2017-11-27T00:00:00",
          "2017-11-28T00:00:00",
          "2017-11-29T00:00:00",
          "2017-11-30T00:00:00",
          "2017-12-01T00:00:00",
          "2017-12-04T00:00:00",
          "2017-12-05T00:00:00",
          "2017-12-06T00:00:00",
          "2017-12-07T00:00:00",
          "2017-12-08T00:00:00",
          "2017-12-11T00:00:00",
          "2017-12-12T00:00:00",
          "2017-12-13T00:00:00",
          "2017-12-14T00:00:00",
          "2017-12-15T00:00:00",
          "2017-12-18T00:00:00",
          "2017-12-19T00:00:00",
          "2017-12-20T00:00:00",
          "2017-12-21T00:00:00",
          "2017-12-22T00:00:00",
          "2017-12-26T00:00:00",
          "2017-12-27T00:00:00",
          "2017-12-28T00:00:00",
          "2017-12-29T00:00:00"
         ],
         "y": [
          75.98769414928682,
          76.10797558333525,
          75.98398334904056,
          76.90215143375644,
          77.38742473834017,
          77.16874391703344,
          77.26569969865527,
          77.28879860198897,
          78.48268506514765,
          78.59913623221674,
          79.17379496225706,
          79.41177795709766,
          78.92921147925867,
          78.52585311503718,
          78.38363777834743,
          77.931732671985,
          78.82161899543384,
          79.23423393816127,
          79.41995745380544,
          78.20772850716214,
          77.48485462718081,
          77.57106496510472,
          77.11302108830735,
          76.15152257328744,
          75.06350337681913,
          75.53701543898426,
          76.08505454207784,
          76.14457165913525,
          76.39763120497561,
          76.80898328091335,
          76.8680412808233
         ]
        },
        {
         "mode": "lines",
         "type": "scatter",
         "x": [
          "2017-11-15T00:00:00",
          "2017-11-16T00:00:00",
          "2017-11-17T00:00:00",
          "2017-11-20T00:00:00",
          "2017-11-21T00:00:00",
          "2017-11-22T00:00:00",
          "2017-11-24T00:00:00",
          "2017-11-27T00:00:00",
          "2017-11-28T00:00:00",
          "2017-11-29T00:00:00",
          "2017-11-30T00:00:00",
          "2017-12-01T00:00:00",
          "2017-12-04T00:00:00",
          "2017-12-05T00:00:00",
          "2017-12-06T00:00:00",
          "2017-12-07T00:00:00",
          "2017-12-08T00:00:00",
          "2017-12-11T00:00:00",
          "2017-12-12T00:00:00",
          "2017-12-13T00:00:00",
          "2017-12-14T00:00:00",
          "2017-12-15T00:00:00",
          "2017-12-18T00:00:00",
          "2017-12-19T00:00:00",
          "2017-12-20T00:00:00",
          "2017-12-21T00:00:00",
          "2017-12-22T00:00:00",
          "2017-12-26T00:00:00",
          "2017-12-27T00:00:00",
          "2017-12-28T00:00:00",
          "2017-12-29T00:00:00"
         ],
         "y": [
          75.93815650288411,
          76.12852221038482,
          75.99186388085941,
          76.88526286582601,
          77.34549585563285,
          77.15063678128598,
          77.24026463312056,
          77.33365755392943,
          78.46994733193029,
          78.58259870800758,
          79.19516101036788,
          79.46178879018007,
          78.95452617235003,
          78.54711203643637,
          78.34286645187777,
          77.95418731086194,
          78.8254313227953,
          79.21500253707603,
          79.37555597015056,
          78.18558908838845,
          77.45872877261976,
          77.60041861193899,
          77.10741600396321,
          76.13403709619945,
          75.08240207796321,
          75.57721599949235,
          76.10611619946182,
          76.16635280838712,
          76.35908675299544,
          76.81467455412692,
          76.85840507441934
         ]
        },
        {
         "mode": "lines",
         "type": "scatter",
         "x": [
          "2017-11-15T00:00:00",
          "2017-11-16T00:00:00",
          "2017-11-17T00:00:00",
          "2017-11-20T00:00:00",
          "2017-11-21T00:00:00",
          "2017-11-22T00:00:00",
          "2017-11-24T00:00:00",
          "2017-11-27T00:00:00",
          "2017-11-28T00:00:00",
          "2017-11-29T00:00:00",
          "2017-11-30T00:00:00",
          "2017-12-01T00:00:00",
          "2017-12-04T00:00:00",
          "2017-12-05T00:00:00",
          "2017-12-06T00:00:00",
          "2017-12-07T00:00:00",
          "2017-12-08T00:00:00",
          "2017-12-11T00:00:00",
          "2017-12-12T00:00:00",
          "2017-12-13T00:00:00",
          "2017-12-14T00:00:00",
          "2017-12-15T00:00:00",
          "2017-12-18T00:00:00",
          "2017-12-19T00:00:00",
          "2017-12-20T00:00:00",
          "2017-12-21T00:00:00",
          "2017-12-22T00:00:00",
          "2017-12-26T00:00:00",
          "2017-12-27T00:00:00",
          "2017-12-28T00:00:00",
          "2017-12-29T00:00:00"
         ],
         "y": [
          75.92965255678597,
          75.70453800931266,
          76.39503081733093,
          76.94266430150806,
          78.17474703522971,
          76.7574576154958,
          77.03276802935581,
          77.27947629286008,
          78.61042749093727,
          79.34441958564604,
          79.14508598994686,
          80.1530922396193,
          78.8754998400581,
          78.33603695968044,
          78.74766862439154,
          78.11451224140971,
          79.66165274155284,
          79.31603156224334,
          79.77200834276832,
          78.27740563607026,
          77.38420697662086,
          77.69576927525608,
          77.37686702175992,
          76.75050229615974,
          75.20678917336139,
          74.92333530491781,
          75.7315299372145,
          76.07810012745976,
          76.33591522239522,
          76.74774753205813,
          76.77444724258237
         ]
        },
        {
         "mode": "lines",
         "type": "scatter",
         "x": [
          "2017-11-15T00:00:00",
          "2017-11-16T00:00:00",
          "2017-11-17T00:00:00",
          "2017-11-20T00:00:00",
          "2017-11-21T00:00:00",
          "2017-11-22T00:00:00",
          "2017-11-24T00:00:00",
          "2017-11-27T00:00:00",
          "2017-11-28T00:00:00",
          "2017-11-29T00:00:00",
          "2017-11-30T00:00:00",
          "2017-12-01T00:00:00",
          "2017-12-04T00:00:00",
          "2017-12-05T00:00:00",
          "2017-12-06T00:00:00",
          "2017-12-07T00:00:00",
          "2017-12-08T00:00:00",
          "2017-12-11T00:00:00",
          "2017-12-12T00:00:00",
          "2017-12-13T00:00:00",
          "2017-12-14T00:00:00",
          "2017-12-15T00:00:00",
          "2017-12-18T00:00:00",
          "2017-12-19T00:00:00",
          "2017-12-20T00:00:00",
          "2017-12-21T00:00:00",
          "2017-12-22T00:00:00",
          "2017-12-26T00:00:00",
          "2017-12-27T00:00:00",
          "2017-12-28T00:00:00",
          "2017-12-29T00:00:00"
         ],
         "y": [
          75.99252025706382,
          76.10004001494072,
          75.99646030266891,
          76.9065886991395,
          77.3656406287958,
          77.17834518124508,
          77.27932061680364,
          77.29367164917474,
          78.45997406982745,
          78.59729349279388,
          79.17700093222652,
          79.36651309308172,
          78.91088722089286,
          78.53113598588259,
          78.3900912250524,
          77.9252409519387,
          78.82235653379323,
          79.22696723529616,
          79.41469192660661,
          78.19900656552782,
          77.48938463485645,
          77.55567101325585,
          77.1029902020062,
          76.15966383997763,
          75.06155949805446,
          75.53557356339765,
          76.08531410320714,
          76.15225834424638,
          76.41340343190038,
          76.78296759452932,
          76.87790417385965
         ]
        },
        {
         "mode": "lines",
         "type": "scatter",
         "x": [
          "2017-11-15T00:00:00",
          "2017-11-16T00:00:00",
          "2017-11-17T00:00:00",
          "2017-11-20T00:00:00",
          "2017-11-21T00:00:00",
          "2017-11-22T00:00:00",
          "2017-11-24T00:00:00",
          "2017-11-27T00:00:00",
          "2017-11-28T00:00:00",
          "2017-11-29T00:00:00",
          "2017-11-30T00:00:00",
          "2017-12-01T00:00:00",
          "2017-12-04T00:00:00",
          "2017-12-05T00:00:00",
          "2017-12-06T00:00:00",
          "2017-12-07T00:00:00",
          "2017-12-08T00:00:00",
          "2017-12-11T00:00:00",
          "2017-12-12T00:00:00",
          "2017-12-13T00:00:00",
          "2017-12-14T00:00:00",
          "2017-12-15T00:00:00",
          "2017-12-18T00:00:00",
          "2017-12-19T00:00:00",
          "2017-12-20T00:00:00",
          "2017-12-21T00:00:00",
          "2017-12-22T00:00:00",
          "2017-12-26T00:00:00",
          "2017-12-27T00:00:00",
          "2017-12-28T00:00:00",
          "2017-12-29T00:00:00"
         ],
         "y": [
          75.9889299482082,
          76.10917279609308,
          75.97713649071073,
          76.90386544661658,
          77.39451379181595,
          77.17212825103084,
          77.26638564229498,
          77.28299295883176,
          78.490753242925,
          78.58902528511638,
          79.17305666426338,
          79.41347585819958,
          78.93196071422514,
          78.52084740398986,
          78.38432887140571,
          77.93292529453464,
          78.81386650460959,
          79.23584547954978,
          79.42753314216993,
          78.21134041906917,
          77.48568608987769,
          77.56524756741831,
          77.1203875639026,
          76.14141925329768,
          75.06275262974657,
          75.53940919921553,
          76.08821201485489,
          76.13981400665806,
          76.39882315634733,
          76.81043282206019,
          76.86108238821168
         ]
        },
        {
         "mode": "lines",
         "type": "scatter",
         "x": [
          "2017-11-15T00:00:00",
          "2017-11-16T00:00:00",
          "2017-11-17T00:00:00",
          "2017-11-20T00:00:00",
          "2017-11-21T00:00:00",
          "2017-11-22T00:00:00",
          "2017-11-24T00:00:00",
          "2017-11-27T00:00:00",
          "2017-11-28T00:00:00",
          "2017-11-29T00:00:00",
          "2017-11-30T00:00:00",
          "2017-12-01T00:00:00",
          "2017-12-04T00:00:00",
          "2017-12-05T00:00:00",
          "2017-12-06T00:00:00",
          "2017-12-07T00:00:00",
          "2017-12-08T00:00:00",
          "2017-12-11T00:00:00",
          "2017-12-12T00:00:00",
          "2017-12-13T00:00:00",
          "2017-12-14T00:00:00",
          "2017-12-15T00:00:00",
          "2017-12-18T00:00:00",
          "2017-12-19T00:00:00",
          "2017-12-20T00:00:00",
          "2017-12-21T00:00:00",
          "2017-12-22T00:00:00",
          "2017-12-26T00:00:00",
          "2017-12-27T00:00:00",
          "2017-12-28T00:00:00",
          "2017-12-29T00:00:00"
         ],
         "y": [
          75.92025578896364,
          76.73145124920433,
          77.07784127194512,
          76.74222581518406,
          79.13321036287782,
          77.95815944448793,
          77.28584455974205,
          77.27689271243177,
          78.2027703286584,
          79.49878731031134,
          79.55922958692875,
          79.2202964195214,
          79.04372966325329,
          78.54747400268278,
          79.47368658553226,
          78.1899360812179,
          79.31694578390612,
          79.3306475050783,
          78.94651046352283,
          77.87377193473218,
          77.32666059696933,
          76.96665300201154,
          77.94729732924898,
          76.73115646696942,
          75.27785196303637,
          74.3877036398258,
          75.18824657298293,
          76.06596690429554,
          75.77997601933168,
          75.71778961015553,
          75.63820915182112
         ]
        },
        {
         "mode": "lines",
         "type": "scatter",
         "x": [
          "2017-11-15T00:00:00",
          "2017-11-16T00:00:00",
          "2017-11-17T00:00:00",
          "2017-11-20T00:00:00",
          "2017-11-21T00:00:00",
          "2017-11-22T00:00:00",
          "2017-11-24T00:00:00",
          "2017-11-27T00:00:00",
          "2017-11-28T00:00:00",
          "2017-11-29T00:00:00",
          "2017-11-30T00:00:00",
          "2017-12-01T00:00:00",
          "2017-12-04T00:00:00",
          "2017-12-05T00:00:00",
          "2017-12-06T00:00:00",
          "2017-12-07T00:00:00",
          "2017-12-08T00:00:00",
          "2017-12-11T00:00:00",
          "2017-12-12T00:00:00",
          "2017-12-13T00:00:00",
          "2017-12-14T00:00:00",
          "2017-12-15T00:00:00",
          "2017-12-18T00:00:00",
          "2017-12-19T00:00:00",
          "2017-12-20T00:00:00",
          "2017-12-21T00:00:00",
          "2017-12-22T00:00:00",
          "2017-12-26T00:00:00",
          "2017-12-27T00:00:00",
          "2017-12-28T00:00:00",
          "2017-12-29T00:00:00"
         ],
         "y": [
          75.98206300946006,
          76.11375551792956,
          75.99501754637909,
          76.8017174152531,
          77.34268943039454,
          77.19106243440258,
          77.25706228014475,
          77.28967266211687,
          78.36824990968562,
          78.56958283808166,
          79.10789473826046,
          79.39886866014045,
          78.98445074372326,
          78.57683230865838,
          78.41009439604215,
          78.00546416550199,
          78.72592278535606,
          79.17908565051607,
          79.41404913011095,
          78.34442647877555,
          77.58033482177744,
          77.57640695556816,
          77.18503642311715,
          76.2629297726809,
          75.19869212786071,
          75.51870351848568,
          76.02372367958814,
          76.13079682594704,
          76.37190167295664,
          76.77942422056077,
          76.85405752498974
         ]
        },
        {
         "mode": "lines",
         "type": "scatter",
         "x": [
          "2017-11-15T00:00:00",
          "2017-11-16T00:00:00",
          "2017-11-17T00:00:00",
          "2017-11-20T00:00:00",
          "2017-11-21T00:00:00",
          "2017-11-22T00:00:00",
          "2017-11-24T00:00:00",
          "2017-11-27T00:00:00",
          "2017-11-28T00:00:00",
          "2017-11-29T00:00:00",
          "2017-11-30T00:00:00",
          "2017-12-01T00:00:00",
          "2017-12-04T00:00:00",
          "2017-12-05T00:00:00",
          "2017-12-06T00:00:00",
          "2017-12-07T00:00:00",
          "2017-12-08T00:00:00",
          "2017-12-11T00:00:00",
          "2017-12-12T00:00:00",
          "2017-12-13T00:00:00",
          "2017-12-14T00:00:00",
          "2017-12-15T00:00:00",
          "2017-12-18T00:00:00",
          "2017-12-19T00:00:00",
          "2017-12-20T00:00:00",
          "2017-12-21T00:00:00",
          "2017-12-22T00:00:00",
          "2017-12-26T00:00:00",
          "2017-12-27T00:00:00",
          "2017-12-28T00:00:00",
          "2017-12-29T00:00:00"
         ],
         "y": [
          75.98527682981242,
          76.10801764058523,
          76.00433988169691,
          76.802250059382,
          77.33641174027005,
          77.18607796619295,
          77.2592778406524,
          77.292877122656,
          78.36280076844194,
          78.57998107154933,
          79.10842548616546,
          79.39321159932017,
          78.97967960409973,
          78.5789959875892,
          78.41342526964407,
          77.99971666603886,
          78.73689254847443,
          79.17984244439658,
          79.40825487637848,
          78.33955740693939,
          77.58232528169924,
          77.58012082765813,
          77.17957980212667,
          76.27347186829293,
          75.19915646328243,
          75.51288250175078,
          76.01900888261459,
          76.1328067155114,
          76.37523263429131,
          76.77440049188742,
          76.86492451631054
         ]
        },
        {
         "mode": "lines",
         "type": "scatter",
         "x": [
          "2017-11-15T00:00:00",
          "2017-11-16T00:00:00",
          "2017-11-17T00:00:00",
          "2017-11-20T00:00:00",
          "2017-11-21T00:00:00",
          "2017-11-22T00:00:00",
          "2017-11-24T00:00:00",
          "2017-11-27T00:00:00",
          "2017-11-28T00:00:00",
          "2017-11-29T00:00:00",
          "2017-11-30T00:00:00",
          "2017-12-01T00:00:00",
          "2017-12-04T00:00:00",
          "2017-12-05T00:00:00",
          "2017-12-06T00:00:00",
          "2017-12-07T00:00:00",
          "2017-12-08T00:00:00",
          "2017-12-11T00:00:00",
          "2017-12-12T00:00:00",
          "2017-12-13T00:00:00",
          "2017-12-14T00:00:00",
          "2017-12-15T00:00:00",
          "2017-12-18T00:00:00",
          "2017-12-19T00:00:00",
          "2017-12-20T00:00:00",
          "2017-12-21T00:00:00",
          "2017-12-22T00:00:00",
          "2017-12-26T00:00:00",
          "2017-12-27T00:00:00",
          "2017-12-28T00:00:00",
          "2017-12-29T00:00:00"
         ],
         "y": [
          75.93248285322939,
          76.38621978992902,
          76.65772820659063,
          76.6525634414179,
          78.56513406461698,
          77.20975983253969,
          76.99637251738652,
          77.2513966201195,
          78.59616387312761,
          79.59449482393893,
          79.30654579177796,
          80.20791394845162,
          79.40342727215288,
          78.57800955043433,
          78.94120074612103,
          78.01811848691116,
          79.48196492979378,
          79.47812280606622,
          79.08957585787297,
          78.13518173759599,
          77.43853392754447,
          77.77826223088029,
          77.66239556518873,
          76.78107756666543,
          75.31057704374032,
          74.7280637265314,
          75.37607579088885,
          75.97555850195843,
          75.77721565045273,
          76.60614894627538,
          76.46544736783942
         ]
        },
        {
         "mode": "lines",
         "type": "scatter",
         "x": [
          "2017-11-15T00:00:00",
          "2017-11-16T00:00:00",
          "2017-11-17T00:00:00",
          "2017-11-20T00:00:00",
          "2017-11-21T00:00:00",
          "2017-11-22T00:00:00",
          "2017-11-24T00:00:00",
          "2017-11-27T00:00:00",
          "2017-11-28T00:00:00",
          "2017-11-29T00:00:00",
          "2017-11-30T00:00:00",
          "2017-12-01T00:00:00",
          "2017-12-04T00:00:00",
          "2017-12-05T00:00:00",
          "2017-12-06T00:00:00",
          "2017-12-07T00:00:00",
          "2017-12-08T00:00:00",
          "2017-12-11T00:00:00",
          "2017-12-12T00:00:00",
          "2017-12-13T00:00:00",
          "2017-12-14T00:00:00",
          "2017-12-15T00:00:00",
          "2017-12-18T00:00:00",
          "2017-12-19T00:00:00",
          "2017-12-20T00:00:00",
          "2017-12-21T00:00:00",
          "2017-12-22T00:00:00",
          "2017-12-26T00:00:00",
          "2017-12-27T00:00:00",
          "2017-12-28T00:00:00",
          "2017-12-29T00:00:00"
         ],
         "y": [
          75.98371187499386,
          76.11096338644889,
          76.00102225205474,
          76.80132206601512,
          77.33992820196796,
          77.18887561778841,
          77.2582982210577,
          77.291469182888,
          78.36433595604062,
          78.57573376144872,
          79.10801226111982,
          79.39543490827893,
          78.9821694236751,
          78.57842215844127,
          78.41286320816353,
          78.00287792743869,
          78.73188605713197,
          79.17917464569202,
          79.41040178479709,
          78.34229298486854,
          77.5820373200346,
          77.57821826564103,
          77.18295290231713,
          76.2699418689197,
          75.1999833139206,
          75.51468936548672,
          76.0201370249583,
          76.13176213732827,
          76.37320890307033,
          76.77570197694193,
          76.85925268171408
         ]
        },
        {
         "mode": "lines",
         "type": "scatter",
         "x": [
          "2017-11-15T00:00:00",
          "2017-11-16T00:00:00",
          "2017-11-17T00:00:00",
          "2017-11-20T00:00:00",
          "2017-11-21T00:00:00",
          "2017-11-22T00:00:00",
          "2017-11-24T00:00:00",
          "2017-11-27T00:00:00",
          "2017-11-28T00:00:00",
          "2017-11-29T00:00:00",
          "2017-11-30T00:00:00",
          "2017-12-01T00:00:00",
          "2017-12-04T00:00:00",
          "2017-12-05T00:00:00",
          "2017-12-06T00:00:00",
          "2017-12-07T00:00:00",
          "2017-12-08T00:00:00",
          "2017-12-11T00:00:00",
          "2017-12-12T00:00:00",
          "2017-12-13T00:00:00",
          "2017-12-14T00:00:00",
          "2017-12-15T00:00:00",
          "2017-12-18T00:00:00",
          "2017-12-19T00:00:00",
          "2017-12-20T00:00:00",
          "2017-12-21T00:00:00",
          "2017-12-22T00:00:00",
          "2017-12-26T00:00:00",
          "2017-12-27T00:00:00",
          "2017-12-28T00:00:00",
          "2017-12-29T00:00:00"
         ],
         "y": [
          75.93430262055678,
          76.12687638274878,
          76.0124340061193,
          76.78398765217449,
          77.2892887616986,
          77.16171974267462,
          77.2281069037179,
          77.3370142962528,
          78.35326156426054,
          78.55889958925117,
          79.12880515731257,
          79.45144148269745,
          79.01537481670732,
          78.60622031155124,
          78.37186994208523,
          78.02227246040917,
          78.73992351947976,
          79.15888411269441,
          79.35832636155021,
          78.31161928468725,
          77.55094245756513,
          77.60800736908925,
          77.17714585465362,
          76.2532850649791,
          75.21881557099418,
          75.560628419931,
          76.04806181423801,
          76.15928743188971,
          76.33554076568777,
          76.77850294463896,
          76.85254889427588
         ]
        },
        {
         "mode": "lines",
         "type": "scatter",
         "x": [
          "2017-11-15T00:00:00",
          "2017-11-16T00:00:00",
          "2017-11-17T00:00:00",
          "2017-11-20T00:00:00",
          "2017-11-21T00:00:00",
          "2017-11-22T00:00:00",
          "2017-11-24T00:00:00",
          "2017-11-27T00:00:00",
          "2017-11-28T00:00:00",
          "2017-11-29T00:00:00",
          "2017-11-30T00:00:00",
          "2017-12-01T00:00:00",
          "2017-12-04T00:00:00",
          "2017-12-05T00:00:00",
          "2017-12-06T00:00:00",
          "2017-12-07T00:00:00",
          "2017-12-08T00:00:00",
          "2017-12-11T00:00:00",
          "2017-12-12T00:00:00",
          "2017-12-13T00:00:00",
          "2017-12-14T00:00:00",
          "2017-12-15T00:00:00",
          "2017-12-18T00:00:00",
          "2017-12-19T00:00:00",
          "2017-12-20T00:00:00",
          "2017-12-21T00:00:00",
          "2017-12-22T00:00:00",
          "2017-12-26T00:00:00",
          "2017-12-27T00:00:00",
          "2017-12-28T00:00:00",
          "2017-12-29T00:00:00"
         ],
         "y": [
          75.91437530809395,
          75.69836828506581,
          76.36677931468338,
          76.88417090866922,
          78.13447592031314,
          76.86343744487569,
          76.98977106161512,
          77.252672914385,
          78.48801390056018,
          79.33630839517724,
          79.1646822619183,
          80.14233448383716,
          79.00925339301124,
          78.39127675486144,
          78.7556491598244,
          78.22182731626451,
          79.59846743025815,
          79.35811188044202,
          79.78188518998074,
          78.45072194267662,
          77.49250615313186,
          77.69381609922452,
          77.45753744034977,
          76.90059320290305,
          75.41065095818404,
          74.92451212381206,
          75.60147806629853,
          76.0191047893222,
          76.30012222163549,
          76.70642423896625,
          76.76069313684967
         ]
        },
        {
         "mode": "lines",
         "type": "scatter",
         "x": [
          "2017-11-15T00:00:00",
          "2017-11-16T00:00:00",
          "2017-11-17T00:00:00",
          "2017-11-20T00:00:00",
          "2017-11-21T00:00:00",
          "2017-11-22T00:00:00",
          "2017-11-24T00:00:00",
          "2017-11-27T00:00:00",
          "2017-11-28T00:00:00",
          "2017-11-29T00:00:00",
          "2017-11-30T00:00:00",
          "2017-12-01T00:00:00",
          "2017-12-04T00:00:00",
          "2017-12-05T00:00:00",
          "2017-12-06T00:00:00",
          "2017-12-07T00:00:00",
          "2017-12-08T00:00:00",
          "2017-12-11T00:00:00",
          "2017-12-12T00:00:00",
          "2017-12-13T00:00:00",
          "2017-12-14T00:00:00",
          "2017-12-15T00:00:00",
          "2017-12-18T00:00:00",
          "2017-12-19T00:00:00",
          "2017-12-20T00:00:00",
          "2017-12-21T00:00:00",
          "2017-12-22T00:00:00",
          "2017-12-26T00:00:00",
          "2017-12-27T00:00:00",
          "2017-12-28T00:00:00",
          "2017-12-29T00:00:00"
         ],
         "y": [
          75.99986057965579,
          76.08645328762297,
          76.02907886943537,
          76.82962686415723,
          77.3086970954942,
          77.18020296708093,
          77.27941174084947,
          77.3048760829509,
          78.35157395654754,
          78.60023650019335,
          79.12564610430759,
          79.33801478659251,
          78.93530050644789,
          78.57414646780893,
          78.41769275202262,
          77.96632241727507,
          78.77347767638409,
          79.18569961076763,
          79.39498658945851,
          78.29383720261029,
          77.56753281711987,
          77.56809645109041,
          77.14012756183473,
          76.27516200723993,
          75.16870616576186,
          75.50444702220447,
          76.02484447976127,
          76.14778280651174,
          76.40571806853546,
          76.74674698639667,
          76.898685684062
         ]
        },
        {
         "mode": "lines",
         "type": "scatter",
         "x": [
          "2017-11-15T00:00:00",
          "2017-11-16T00:00:00",
          "2017-11-17T00:00:00",
          "2017-11-20T00:00:00",
          "2017-11-21T00:00:00",
          "2017-11-22T00:00:00",
          "2017-11-24T00:00:00",
          "2017-11-27T00:00:00",
          "2017-11-28T00:00:00",
          "2017-11-29T00:00:00",
          "2017-11-30T00:00:00",
          "2017-12-01T00:00:00",
          "2017-12-04T00:00:00",
          "2017-12-05T00:00:00",
          "2017-12-06T00:00:00",
          "2017-12-07T00:00:00",
          "2017-12-08T00:00:00",
          "2017-12-11T00:00:00",
          "2017-12-12T00:00:00",
          "2017-12-13T00:00:00",
          "2017-12-14T00:00:00",
          "2017-12-15T00:00:00",
          "2017-12-18T00:00:00",
          "2017-12-19T00:00:00",
          "2017-12-20T00:00:00",
          "2017-12-21T00:00:00",
          "2017-12-22T00:00:00",
          "2017-12-26T00:00:00",
          "2017-12-27T00:00:00",
          "2017-12-28T00:00:00",
          "2017-12-29T00:00:00"
         ],
         "y": [
          76.02169047201333,
          76.06178157709377,
          76.04467221421497,
          76.83833946349965,
          77.27656097558267,
          77.11518010498679,
          77.29137947585252,
          77.3055659588716,
          78.35543225306617,
          78.65827601923588,
          79.13205381601503,
          79.37739675650833,
          78.93645363618563,
          78.55143058400361,
          78.40700658791972,
          77.92698320486345,
          78.83901613519348,
          79.2061788074361,
          79.37020955701162,
          78.2521512627138,
          77.57032859500808,
          77.62152125673263,
          77.08932917373062,
          76.30422742310667,
          75.15077391912907,
          75.50552031822932,
          76.02712086912722,
          76.13397578222401,
          76.40952601688149,
          76.78098466598469,
          76.97959837858485
         ]
        },
        {
         "mode": "lines",
         "type": "scatter",
         "x": [
          "2017-11-15T00:00:00",
          "2017-11-16T00:00:00",
          "2017-11-17T00:00:00",
          "2017-11-20T00:00:00",
          "2017-11-21T00:00:00",
          "2017-11-22T00:00:00",
          "2017-11-24T00:00:00",
          "2017-11-27T00:00:00",
          "2017-11-28T00:00:00",
          "2017-11-29T00:00:00",
          "2017-11-30T00:00:00",
          "2017-12-01T00:00:00",
          "2017-12-04T00:00:00",
          "2017-12-05T00:00:00",
          "2017-12-06T00:00:00",
          "2017-12-07T00:00:00",
          "2017-12-08T00:00:00",
          "2017-12-11T00:00:00",
          "2017-12-12T00:00:00",
          "2017-12-13T00:00:00",
          "2017-12-14T00:00:00",
          "2017-12-15T00:00:00",
          "2017-12-18T00:00:00",
          "2017-12-19T00:00:00",
          "2017-12-20T00:00:00",
          "2017-12-21T00:00:00",
          "2017-12-22T00:00:00",
          "2017-12-26T00:00:00",
          "2017-12-27T00:00:00",
          "2017-12-28T00:00:00",
          "2017-12-29T00:00:00"
         ],
         "y": [
          76.00447712675613,
          76.7702894056111,
          77.08461481950492,
          76.69869560351846,
          79.11425650431454,
          77.99673091017277,
          77.18864994643415,
          77.22531231666159,
          78.19336160071789,
          79.55858916276284,
          79.58838751192295,
          79.20336621126044,
          79.02542768692086,
          78.53335820143789,
          79.44469032822812,
          78.18398796134811,
          79.2212784870352,
          79.3533908721996,
          78.94934609397247,
          77.87351918016968,
          77.28895598777414,
          76.93947436870525,
          77.95637064625879,
          76.74366121551543,
          75.18955892108522,
          74.28635010790443,
          75.17892706281488,
          76.16030336375796,
          75.84159800485035,
          75.72986543611776,
          75.67875107687533
         ]
        },
        {
         "mode": "lines",
         "type": "scatter",
         "x": [
          "2017-11-15T00:00:00",
          "2017-11-16T00:00:00",
          "2017-11-17T00:00:00",
          "2017-11-20T00:00:00",
          "2017-11-21T00:00:00",
          "2017-11-22T00:00:00",
          "2017-11-24T00:00:00",
          "2017-11-27T00:00:00",
          "2017-11-28T00:00:00",
          "2017-11-29T00:00:00",
          "2017-11-30T00:00:00",
          "2017-12-01T00:00:00",
          "2017-12-04T00:00:00",
          "2017-12-05T00:00:00",
          "2017-12-06T00:00:00",
          "2017-12-07T00:00:00",
          "2017-12-08T00:00:00",
          "2017-12-11T00:00:00",
          "2017-12-12T00:00:00",
          "2017-12-13T00:00:00",
          "2017-12-14T00:00:00",
          "2017-12-15T00:00:00",
          "2017-12-18T00:00:00",
          "2017-12-19T00:00:00",
          "2017-12-20T00:00:00",
          "2017-12-21T00:00:00",
          "2017-12-22T00:00:00",
          "2017-12-26T00:00:00",
          "2017-12-27T00:00:00",
          "2017-12-28T00:00:00",
          "2017-12-29T00:00:00"
         ],
         "y": [
          76.00883703811716,
          76.11560651957942,
          75.99576924388623,
          76.79585612159836,
          77.36597636756623,
          77.20575147074945,
          77.2535720066297,
          77.29094376263293,
          78.36553353134876,
          78.60011683517011,
          79.11599696837378,
          79.41454652306439,
          78.99024535056697,
          78.56510968325856,
          78.39628910922964,
          77.99713506909153,
          78.70849116829399,
          79.19843756967782,
          79.4296767649081,
          78.3490897916665,
          77.54902082075732,
          77.54903082734047,
          77.18093891651165,
          76.24953723252358,
          75.16954844639356,
          75.48095118804643,
          76.02451173497181,
          76.148150859386,
          76.37693063740734,
          76.78419882499738,
          76.86420436386493
         ]
        },
        {
         "mode": "lines",
         "type": "scatter",
         "x": [
          "2017-11-15T00:00:00",
          "2017-11-16T00:00:00",
          "2017-11-17T00:00:00",
          "2017-11-20T00:00:00",
          "2017-11-21T00:00:00",
          "2017-11-22T00:00:00",
          "2017-11-24T00:00:00",
          "2017-11-27T00:00:00",
          "2017-11-28T00:00:00",
          "2017-11-29T00:00:00",
          "2017-11-30T00:00:00",
          "2017-12-01T00:00:00",
          "2017-12-04T00:00:00",
          "2017-12-05T00:00:00",
          "2017-12-06T00:00:00",
          "2017-12-07T00:00:00",
          "2017-12-08T00:00:00",
          "2017-12-11T00:00:00",
          "2017-12-12T00:00:00",
          "2017-12-13T00:00:00",
          "2017-12-14T00:00:00",
          "2017-12-15T00:00:00",
          "2017-12-18T00:00:00",
          "2017-12-19T00:00:00",
          "2017-12-20T00:00:00",
          "2017-12-21T00:00:00",
          "2017-12-22T00:00:00",
          "2017-12-26T00:00:00",
          "2017-12-27T00:00:00",
          "2017-12-28T00:00:00",
          "2017-12-29T00:00:00"
         ],
         "y": [
          76.02173297016148,
          76.10130253889628,
          76.01592684517779,
          76.79700819758195,
          77.35356608864177,
          77.19575687076181,
          77.2581244802294,
          77.29895871115912,
          78.35267361766728,
          78.62897180117945,
          79.1191298217418,
          79.40369566348522,
          78.97957789333354,
          78.56774572192501,
          78.4006405752386,
          77.9815566578815,
          78.73031651452371,
          79.20463977629338,
          79.41900076806479,
          78.33812698603819,
          77.5475742069649,
          77.55344395912849,
          77.1664779874288,
          76.27048994467842,
          75.16517406345983,
          75.460865034655,
          76.01465884368713,
          76.15655888570296,
          76.38662639523655,
          76.77425316131809,
          76.89225090161916
         ]
        },
        {
         "mode": "lines",
         "type": "scatter",
         "x": [
          "2017-11-15T00:00:00",
          "2017-11-16T00:00:00",
          "2017-11-17T00:00:00",
          "2017-11-20T00:00:00",
          "2017-11-21T00:00:00",
          "2017-11-22T00:00:00",
          "2017-11-24T00:00:00",
          "2017-11-27T00:00:00",
          "2017-11-28T00:00:00",
          "2017-11-29T00:00:00",
          "2017-11-30T00:00:00",
          "2017-12-01T00:00:00",
          "2017-12-04T00:00:00",
          "2017-12-05T00:00:00",
          "2017-12-06T00:00:00",
          "2017-12-07T00:00:00",
          "2017-12-08T00:00:00",
          "2017-12-11T00:00:00",
          "2017-12-12T00:00:00",
          "2017-12-13T00:00:00",
          "2017-12-14T00:00:00",
          "2017-12-15T00:00:00",
          "2017-12-18T00:00:00",
          "2017-12-19T00:00:00",
          "2017-12-20T00:00:00",
          "2017-12-21T00:00:00",
          "2017-12-22T00:00:00",
          "2017-12-26T00:00:00",
          "2017-12-27T00:00:00",
          "2017-12-28T00:00:00",
          "2017-12-29T00:00:00"
         ],
         "y": [
          76.03107062079177,
          76.41867973648169,
          76.65932615646398,
          76.62616109529954,
          78.57331516757971,
          77.24851060132393,
          76.9246667410789,
          77.24258142928618,
          78.60912552200467,
          79.6580485449555,
          79.31229006650685,
          80.18104487483839,
          79.4011857043072,
          78.51264167948429,
          78.88553716085228,
          78.00462863684591,
          79.4169954591982,
          79.51474118270121,
          79.08354764578422,
          78.12382633570132,
          77.392070908132,
          77.73684066494567,
          77.66650520631734,
          76.74426835427245,
          75.22804839682102,
          74.6271967513717,
          75.36996702187903,
          76.05383154940507,
          75.82684986992273,
          76.62511962560444,
          76.5134393473991
         ]
        },
        {
         "mode": "lines",
         "type": "scatter",
         "x": [
          "2017-11-15T00:00:00",
          "2017-11-16T00:00:00",
          "2017-11-17T00:00:00",
          "2017-11-20T00:00:00",
          "2017-11-21T00:00:00",
          "2017-11-22T00:00:00",
          "2017-11-24T00:00:00",
          "2017-11-27T00:00:00",
          "2017-11-28T00:00:00",
          "2017-11-29T00:00:00",
          "2017-11-30T00:00:00",
          "2017-12-01T00:00:00",
          "2017-12-04T00:00:00",
          "2017-12-05T00:00:00",
          "2017-12-06T00:00:00",
          "2017-12-07T00:00:00",
          "2017-12-08T00:00:00",
          "2017-12-11T00:00:00",
          "2017-12-12T00:00:00",
          "2017-12-13T00:00:00",
          "2017-12-14T00:00:00",
          "2017-12-15T00:00:00",
          "2017-12-18T00:00:00",
          "2017-12-19T00:00:00",
          "2017-12-20T00:00:00",
          "2017-12-21T00:00:00",
          "2017-12-22T00:00:00",
          "2017-12-26T00:00:00",
          "2017-12-27T00:00:00",
          "2017-12-28T00:00:00",
          "2017-12-29T00:00:00"
         ],
         "y": [
          76.01677918320881,
          76.09456437421704,
          76.04483192427412,
          76.79923744740388,
          77.34649538892918,
          77.18616349822793,
          77.26307822508015,
          77.3047076407181,
          78.33893659069759,
          78.64568565499431,
          79.12101159966168,
          79.38408691013392,
          78.96812089434361,
          78.5764462740236,
          78.42321776830552,
          77.97525044234371,
          78.7635740328241,
          79.19952960611965,
          79.39602173814887,
          78.32320905399246,
          77.5624957719603,
          77.56671994175932,
          77.16424718573137,
          76.30309492560177,
          75.18114254518598,
          75.45315590067656,
          75.9948549582943,
          76.15132883042773,
          76.38550997577069,
          76.75157346669242,
          76.89866970614145
         ]
        },
        {
         "mode": "lines",
         "type": "scatter",
         "x": [
          "2017-11-15T00:00:00",
          "2017-11-16T00:00:00",
          "2017-11-17T00:00:00",
          "2017-11-20T00:00:00",
          "2017-11-21T00:00:00",
          "2017-11-22T00:00:00",
          "2017-11-24T00:00:00",
          "2017-11-27T00:00:00",
          "2017-11-28T00:00:00",
          "2017-11-29T00:00:00",
          "2017-11-30T00:00:00",
          "2017-12-01T00:00:00",
          "2017-12-04T00:00:00",
          "2017-12-05T00:00:00",
          "2017-12-06T00:00:00",
          "2017-12-07T00:00:00",
          "2017-12-08T00:00:00",
          "2017-12-11T00:00:00",
          "2017-12-12T00:00:00",
          "2017-12-13T00:00:00",
          "2017-12-14T00:00:00",
          "2017-12-15T00:00:00",
          "2017-12-18T00:00:00",
          "2017-12-19T00:00:00",
          "2017-12-20T00:00:00",
          "2017-12-21T00:00:00",
          "2017-12-22T00:00:00",
          "2017-12-26T00:00:00",
          "2017-12-27T00:00:00",
          "2017-12-28T00:00:00",
          "2017-12-29T00:00:00"
         ],
         "y": [
          75.97374223282429,
          76.12054003151802,
          76.00893925096376,
          76.78453204433707,
          77.33331947450667,
          77.19023817255497,
          77.23531340937117,
          77.32509788876507,
          78.36099331852046,
          78.5906208286317,
          79.13029636110168,
          79.44890733043773,
          79.00847143289961,
          78.5823740083691,
          78.36853158878984,
          78.00475050710625,
          78.71809603114816,
          79.18552104659105,
          79.39524550542804,
          78.33022671620294,
          77.52947389423406,
          77.56906606322602,
          77.18150939614416,
          76.23982715833459,
          75.1817480929716,
          75.50569656932237,
          76.0378968936382,
          76.1660950391314,
          76.35150046173804,
          76.77774737806111,
          76.86125011625504
         ]
        },
        {
         "mode": "lines",
         "type": "scatter",
         "x": [
          "2017-11-15T00:00:00",
          "2017-11-16T00:00:00",
          "2017-11-17T00:00:00",
          "2017-11-20T00:00:00",
          "2017-11-21T00:00:00",
          "2017-11-22T00:00:00",
          "2017-11-24T00:00:00",
          "2017-11-27T00:00:00",
          "2017-11-28T00:00:00",
          "2017-11-29T00:00:00",
          "2017-11-30T00:00:00",
          "2017-12-01T00:00:00",
          "2017-12-04T00:00:00",
          "2017-12-05T00:00:00",
          "2017-12-06T00:00:00",
          "2017-12-07T00:00:00",
          "2017-12-08T00:00:00",
          "2017-12-11T00:00:00",
          "2017-12-12T00:00:00",
          "2017-12-13T00:00:00",
          "2017-12-14T00:00:00",
          "2017-12-15T00:00:00",
          "2017-12-18T00:00:00",
          "2017-12-19T00:00:00",
          "2017-12-20T00:00:00",
          "2017-12-21T00:00:00",
          "2017-12-22T00:00:00",
          "2017-12-26T00:00:00",
          "2017-12-27T00:00:00",
          "2017-12-28T00:00:00",
          "2017-12-29T00:00:00"
         ],
         "y": [
          75.95347542537037,
          75.70078174427772,
          76.36794380124017,
          76.8934303886813,
          78.14750881849508,
          76.87279248599314,
          76.96997386347155,
          77.25965297991624,
          78.49337540544454,
          79.36055410152993,
          79.16911892785969,
          80.1323295140492,
          79.00410909628509,
          78.36117193110833,
          78.74204666087905,
          78.22070859678132,
          79.57609348251222,
          79.36663976981288,
          79.77975035038875,
          78.44703032607129,
          77.45459175154714,
          77.66177492942494,
          77.45470053181845,
          76.88325028032067,
          75.37619013117413,
          74.87822656066928,
          75.59931610396421,
          76.04896119197282,
          76.32081672179498,
          76.71165696106809,
          76.76818207683858
         ]
        },
        {
         "mode": "lines",
         "type": "scatter",
         "x": [
          "2017-11-15T00:00:00",
          "2017-11-16T00:00:00",
          "2017-11-17T00:00:00",
          "2017-11-20T00:00:00",
          "2017-11-21T00:00:00",
          "2017-11-22T00:00:00",
          "2017-11-24T00:00:00",
          "2017-11-27T00:00:00",
          "2017-11-28T00:00:00",
          "2017-11-29T00:00:00",
          "2017-11-30T00:00:00",
          "2017-12-01T00:00:00",
          "2017-12-04T00:00:00",
          "2017-12-05T00:00:00",
          "2017-12-06T00:00:00",
          "2017-12-07T00:00:00",
          "2017-12-08T00:00:00",
          "2017-12-11T00:00:00",
          "2017-12-12T00:00:00",
          "2017-12-13T00:00:00",
          "2017-12-14T00:00:00",
          "2017-12-15T00:00:00",
          "2017-12-18T00:00:00",
          "2017-12-19T00:00:00",
          "2017-12-20T00:00:00",
          "2017-12-21T00:00:00",
          "2017-12-22T00:00:00",
          "2017-12-26T00:00:00",
          "2017-12-27T00:00:00",
          "2017-12-28T00:00:00",
          "2017-12-29T00:00:00"
         ],
         "y": [
          76.01369492323116,
          76.07357784191797,
          76.05084953315128,
          76.803940912622,
          77.28917550918135,
          77.17241348044938,
          77.27610506069573,
          77.31271890494276,
          78.3094589899589,
          78.62551669029735,
          79.1131333693282,
          79.33402856735594,
          78.94067522508936,
          78.58555690105172,
          78.42694651612142,
          77.968865026772,
          78.76889238723177,
          79.18206550900173,
          79.3851434474341,
          78.31990008798819,
          77.58505718471729,
          77.57464229113228,
          77.14426992505497,
          76.32516151260414,
          75.20052678334892,
          75.47514703807158,
          75.99507941300784,
          76.14910645783488,
          76.40639673050303,
          76.73327482537591,
          76.92410846232609
         ]
        },
        {
         "mode": "lines",
         "type": "scatter",
         "x": [
          "2017-11-15T00:00:00",
          "2017-11-16T00:00:00",
          "2017-11-17T00:00:00",
          "2017-11-20T00:00:00",
          "2017-11-21T00:00:00",
          "2017-11-22T00:00:00",
          "2017-11-24T00:00:00",
          "2017-11-27T00:00:00",
          "2017-11-28T00:00:00",
          "2017-11-29T00:00:00",
          "2017-11-30T00:00:00",
          "2017-12-01T00:00:00",
          "2017-12-04T00:00:00",
          "2017-12-05T00:00:00",
          "2017-12-06T00:00:00",
          "2017-12-07T00:00:00",
          "2017-12-08T00:00:00",
          "2017-12-11T00:00:00",
          "2017-12-12T00:00:00",
          "2017-12-13T00:00:00",
          "2017-12-14T00:00:00",
          "2017-12-15T00:00:00",
          "2017-12-18T00:00:00",
          "2017-12-19T00:00:00",
          "2017-12-20T00:00:00",
          "2017-12-21T00:00:00",
          "2017-12-22T00:00:00",
          "2017-12-26T00:00:00",
          "2017-12-27T00:00:00",
          "2017-12-28T00:00:00",
          "2017-12-29T00:00:00"
         ],
         "y": [
          76.01661938079816,
          76.08067664415508,
          76.01385530426047,
          76.79722717252623,
          77.3437189234555,
          77.21009674850943,
          77.23718896389492,
          77.3120151196365,
          78.35920142586924,
          78.62287582012947,
          79.11520478685173,
          79.3995641145056,
          78.96495968552873,
          78.58404750177456,
          78.38437365723624,
          77.97353532305154,
          78.72157249587502,
          79.2067597147999,
          79.43456871780795,
          78.36044355433621,
          77.52658876517889,
          77.5446789228079,
          77.17087724699314,
          76.26333192501392,
          75.16120308485279,
          75.44813714332095,
          76.00633409785218,
          76.17769449006772,
          76.39650404212037,
          76.76458327080884,
          76.89744100790381
         ]
        },
        {
         "mode": "lines",
         "type": "scatter",
         "x": [
          "2017-11-15T00:00:00",
          "2017-11-16T00:00:00",
          "2017-11-17T00:00:00",
          "2017-11-20T00:00:00",
          "2017-11-21T00:00:00",
          "2017-11-22T00:00:00",
          "2017-11-24T00:00:00",
          "2017-11-27T00:00:00",
          "2017-11-28T00:00:00",
          "2017-11-29T00:00:00",
          "2017-11-30T00:00:00",
          "2017-12-01T00:00:00",
          "2017-12-04T00:00:00",
          "2017-12-05T00:00:00",
          "2017-12-06T00:00:00",
          "2017-12-07T00:00:00",
          "2017-12-08T00:00:00",
          "2017-12-11T00:00:00",
          "2017-12-12T00:00:00",
          "2017-12-13T00:00:00",
          "2017-12-14T00:00:00",
          "2017-12-15T00:00:00",
          "2017-12-18T00:00:00",
          "2017-12-19T00:00:00",
          "2017-12-20T00:00:00",
          "2017-12-21T00:00:00",
          "2017-12-22T00:00:00",
          "2017-12-26T00:00:00",
          "2017-12-27T00:00:00",
          "2017-12-28T00:00:00",
          "2017-12-29T00:00:00"
         ],
         "y": [
          75.93356036610614,
          76.73853158357505,
          77.0867693020639,
          76.73397792324698,
          79.12531183005723,
          77.98520590642384,
          77.26807020198424,
          77.2683315549107,
          78.19084523388308,
          79.50914118853119,
          79.56750654482803,
          79.21902840308817,
          79.04290298913827,
          78.54930126800573,
          79.46910404527475,
          78.20449745125431,
          79.28861967454141,
          79.33942005222295,
          78.94588945520891,
          77.88062689655924,
          77.32148324244004,
          76.95956340388058,
          77.94966079935759,
          76.750341014779,
          75.27206619753342,
          74.36513579937025,
          75.17203127023633,
          76.07843529673896,
          75.78937529863062,
          75.71208012137248,
          75.63813315593309
         ]
        },
        {
         "mode": "lines",
         "type": "scatter",
         "x": [
          "2017-11-15T00:00:00",
          "2017-11-16T00:00:00",
          "2017-11-17T00:00:00",
          "2017-11-20T00:00:00",
          "2017-11-21T00:00:00",
          "2017-11-22T00:00:00",
          "2017-11-24T00:00:00",
          "2017-11-27T00:00:00",
          "2017-11-28T00:00:00",
          "2017-11-29T00:00:00",
          "2017-11-30T00:00:00",
          "2017-12-01T00:00:00",
          "2017-12-04T00:00:00",
          "2017-12-05T00:00:00",
          "2017-12-06T00:00:00",
          "2017-12-07T00:00:00",
          "2017-12-08T00:00:00",
          "2017-12-11T00:00:00",
          "2017-12-12T00:00:00",
          "2017-12-13T00:00:00",
          "2017-12-14T00:00:00",
          "2017-12-15T00:00:00",
          "2017-12-18T00:00:00",
          "2017-12-19T00:00:00",
          "2017-12-20T00:00:00",
          "2017-12-21T00:00:00",
          "2017-12-22T00:00:00",
          "2017-12-26T00:00:00",
          "2017-12-27T00:00:00",
          "2017-12-28T00:00:00",
          "2017-12-29T00:00:00"
         ],
         "y": [
          75.99173922949569,
          76.11437333983791,
          75.99536374733921,
          76.79526464134581,
          77.35265189685124,
          77.19774722231946,
          77.25445459941197,
          77.29048220924078,
          78.36302273983429,
          78.58228454193726,
          79.10759639870838,
          79.40611543141841,
          78.98876936078464,
          78.57292509349818,
          78.40502200117471,
          78.00521514516961,
          78.71372854957828,
          79.18697143804745,
          79.42031407220009,
          78.35139491704675,
          77.56892808608661,
          77.56525260433986,
          77.18713205917953,
          76.25988067476241,
          75.19062090978514,
          75.50209463266371,
          76.02380032327488,
          76.13775040578766,
          76.37221849860553,
          76.780921324494,
          76.85745674484957
         ]
        },
        {
         "mode": "lines",
         "type": "scatter",
         "x": [
          "2017-11-15T00:00:00",
          "2017-11-16T00:00:00",
          "2017-11-17T00:00:00",
          "2017-11-20T00:00:00",
          "2017-11-21T00:00:00",
          "2017-11-22T00:00:00",
          "2017-11-24T00:00:00",
          "2017-11-27T00:00:00",
          "2017-11-28T00:00:00",
          "2017-11-29T00:00:00",
          "2017-11-30T00:00:00",
          "2017-12-01T00:00:00",
          "2017-12-04T00:00:00",
          "2017-12-05T00:00:00",
          "2017-12-06T00:00:00",
          "2017-12-07T00:00:00",
          "2017-12-08T00:00:00",
          "2017-12-11T00:00:00",
          "2017-12-12T00:00:00",
          "2017-12-13T00:00:00",
          "2017-12-14T00:00:00",
          "2017-12-15T00:00:00",
          "2017-12-18T00:00:00",
          "2017-12-19T00:00:00",
          "2017-12-20T00:00:00",
          "2017-12-21T00:00:00",
          "2017-12-22T00:00:00",
          "2017-12-26T00:00:00",
          "2017-12-27T00:00:00",
          "2017-12-28T00:00:00",
          "2017-12-29T00:00:00"
         ],
         "y": [
          75.99860746575285,
          76.10337819902772,
          76.01811538933869,
          76.79636908701224,
          77.3430503049971,
          77.18876592006394,
          77.25920204664811,
          77.2974797011009,
          78.35037252254158,
          78.60682864816694,
          79.11009237887036,
          79.3930541440798,
          78.97854036954716,
          78.5776081283155,
          78.41512389309192,
          77.99334608462047,
          78.7385548066492,
          79.18920307166735,
          79.40623436901095,
          78.33982061832417,
          77.57281573639105,
          77.571937399724,
          77.17734245656767,
          76.28407977775532,
          75.19258683929009,
          75.48631688519971,
          76.01108491599389,
          76.14179846135994,
          76.37797468320335,
          76.76714663674169,
          76.87763386456186
         ]
        },
        {
         "mode": "lines",
         "type": "scatter",
         "x": [
          "2017-11-15T00:00:00",
          "2017-11-16T00:00:00",
          "2017-11-17T00:00:00",
          "2017-11-20T00:00:00",
          "2017-11-21T00:00:00",
          "2017-11-22T00:00:00",
          "2017-11-24T00:00:00",
          "2017-11-27T00:00:00",
          "2017-11-28T00:00:00",
          "2017-11-29T00:00:00",
          "2017-11-30T00:00:00",
          "2017-12-01T00:00:00",
          "2017-12-04T00:00:00",
          "2017-12-05T00:00:00",
          "2017-12-06T00:00:00",
          "2017-12-07T00:00:00",
          "2017-12-08T00:00:00",
          "2017-12-11T00:00:00",
          "2017-12-12T00:00:00",
          "2017-12-13T00:00:00",
          "2017-12-14T00:00:00",
          "2017-12-15T00:00:00",
          "2017-12-18T00:00:00",
          "2017-12-19T00:00:00",
          "2017-12-20T00:00:00",
          "2017-12-21T00:00:00",
          "2017-12-22T00:00:00",
          "2017-12-26T00:00:00",
          "2017-12-27T00:00:00",
          "2017-12-28T00:00:00",
          "2017-12-29T00:00:00"
         ],
         "y": [
          75.95087378957076,
          76.39200004287396,
          76.6617370842173,
          76.64488024805367,
          78.56350279104656,
          77.22860782267489,
          76.97777715996386,
          77.2500642165099,
          78.5905501131515,
          79.60963798578734,
          79.30952154951135,
          80.20244957941487,
          79.41297357829608,
          78.56837660822264,
          78.9314155592338,
          78.02384717585832,
          79.46025207596031,
          79.49049649303396,
          79.0877638410482,
          78.1394287680497,
          77.43234316739841,
          77.7688615733248,
          77.669821140567,
          76.78280263225237,
          75.30413824101922,
          74.70480192373329,
          75.36640949299786,
          75.98777016561688,
          75.78434056787218,
          76.60385914249753,
          76.47556702410509
         ]
        },
        {
         "mode": "lines",
         "type": "scatter",
         "x": [
          "2017-11-15T00:00:00",
          "2017-11-16T00:00:00",
          "2017-11-17T00:00:00",
          "2017-11-20T00:00:00",
          "2017-11-21T00:00:00",
          "2017-11-22T00:00:00",
          "2017-11-24T00:00:00",
          "2017-11-27T00:00:00",
          "2017-11-28T00:00:00",
          "2017-11-29T00:00:00",
          "2017-11-30T00:00:00",
          "2017-12-01T00:00:00",
          "2017-12-04T00:00:00",
          "2017-12-05T00:00:00",
          "2017-12-06T00:00:00",
          "2017-12-07T00:00:00",
          "2017-12-08T00:00:00",
          "2017-12-11T00:00:00",
          "2017-12-12T00:00:00",
          "2017-12-13T00:00:00",
          "2017-12-14T00:00:00",
          "2017-12-15T00:00:00",
          "2017-12-18T00:00:00",
          "2017-12-19T00:00:00",
          "2017-12-20T00:00:00",
          "2017-12-21T00:00:00",
          "2017-12-22T00:00:00",
          "2017-12-26T00:00:00",
          "2017-12-27T00:00:00",
          "2017-12-28T00:00:00",
          "2017-12-29T00:00:00"
         ],
         "y": [
          75.99395306435204,
          76.11081415319269,
          76.00236174737059,
          76.79527579758484,
          77.34910312847596,
          77.19485981850751,
          77.25600119234139,
          77.29272484008321,
          78.35874780766768,
          78.58979412114748,
          79.1080417911531,
          79.4019977215,
          78.98573951685397,
          78.57463572197682,
          78.40804528321874,
          78.0016678060504,
          78.72113436411666,
          79.1874568420557,
          79.41596004705113,
          78.34831192527824,
          77.57055122540581,
          77.56750511385366,
          77.18409982743559,
          76.26774684171153,
          75.19155697125088,
          75.49726666815803,
          76.01984474927775,
          76.13911173565238,
          76.37412464407561,
          76.77675666550674,
          76.86411441520386
         ]
        },
        {
         "mode": "lines",
         "type": "scatter",
         "x": [
          "2017-11-15T00:00:00",
          "2017-11-16T00:00:00",
          "2017-11-17T00:00:00",
          "2017-11-20T00:00:00",
          "2017-11-21T00:00:00",
          "2017-11-22T00:00:00",
          "2017-11-24T00:00:00",
          "2017-11-27T00:00:00",
          "2017-11-28T00:00:00",
          "2017-11-29T00:00:00",
          "2017-11-30T00:00:00",
          "2017-12-01T00:00:00",
          "2017-12-04T00:00:00",
          "2017-12-05T00:00:00",
          "2017-12-06T00:00:00",
          "2017-12-07T00:00:00",
          "2017-12-08T00:00:00",
          "2017-12-11T00:00:00",
          "2017-12-12T00:00:00",
          "2017-12-13T00:00:00",
          "2017-12-14T00:00:00",
          "2017-12-15T00:00:00",
          "2017-12-18T00:00:00",
          "2017-12-19T00:00:00",
          "2017-12-20T00:00:00",
          "2017-12-21T00:00:00",
          "2017-12-22T00:00:00",
          "2017-12-26T00:00:00",
          "2017-12-27T00:00:00",
          "2017-12-28T00:00:00",
          "2017-12-29T00:00:00"
         ],
         "y": [
          75.94193422064635,
          76.12774371992096,
          76.01437432574068,
          76.77629326466612,
          77.29620468550056,
          77.16688465409482,
          77.2246866122379,
          77.34015139198566,
          78.34713987819119,
          78.57098281087623,
          79.12955756322994,
          79.46151151115144,
          79.02125069350278,
          78.60328352847125,
          78.36489072924608,
          78.02252130560578,
          78.72877935807365,
          79.16569345683476,
          79.3614727361675,
          78.31716466555443,
          77.53872780593744,
          77.5985948774121,
          77.1789284804628,
          76.24989466271795,
          75.21185505563692,
          75.5460110991958,
          76.04915377296855,
          76.1673335550021,
          76.33407712647762,
          76.77984324238092,
          76.85681968457494
         ]
        },
        {
         "mode": "lines",
         "type": "scatter",
         "x": [
          "2017-11-15T00:00:00",
          "2017-11-16T00:00:00",
          "2017-11-17T00:00:00",
          "2017-11-20T00:00:00",
          "2017-11-21T00:00:00",
          "2017-11-22T00:00:00",
          "2017-11-24T00:00:00",
          "2017-11-27T00:00:00",
          "2017-11-28T00:00:00",
          "2017-11-29T00:00:00",
          "2017-11-30T00:00:00",
          "2017-12-01T00:00:00",
          "2017-12-04T00:00:00",
          "2017-12-05T00:00:00",
          "2017-12-06T00:00:00",
          "2017-12-07T00:00:00",
          "2017-12-08T00:00:00",
          "2017-12-11T00:00:00",
          "2017-12-12T00:00:00",
          "2017-12-13T00:00:00",
          "2017-12-14T00:00:00",
          "2017-12-15T00:00:00",
          "2017-12-18T00:00:00",
          "2017-12-19T00:00:00",
          "2017-12-20T00:00:00",
          "2017-12-21T00:00:00",
          "2017-12-22T00:00:00",
          "2017-12-26T00:00:00",
          "2017-12-27T00:00:00",
          "2017-12-28T00:00:00",
          "2017-12-29T00:00:00"
         ],
         "y": [
          75.93277109961026,
          75.69974237357583,
          76.36549924345383,
          76.8833781493939,
          78.13870013823521,
          76.87574768080998,
          76.97401729147253,
          77.2559007614445,
          78.48250879802383,
          79.3505033307779,
          79.16705147246145,
          80.13919169008102,
          79.02010822431058,
          78.3794143729931,
          78.74959336258469,
          78.22857803437228,
          79.58086721898869,
          79.36863483427607,
          79.77754025349151,
          78.46200135963751,
          77.479871023718,
          77.68070898619683,
          77.46355308271883,
          76.90181216446969,
          75.40776601030963,
          74.9004307461843,
          75.59202883057756,
          76.03047916926081,
          76.30462314772976,
          76.70775960035644,
          76.7646393643744
         ]
        },
        {
         "mode": "lines",
         "type": "scatter",
         "x": [
          "2017-11-15T00:00:00",
          "2017-11-16T00:00:00",
          "2017-11-17T00:00:00",
          "2017-11-20T00:00:00",
          "2017-11-21T00:00:00",
          "2017-11-22T00:00:00",
          "2017-11-24T00:00:00",
          "2017-11-27T00:00:00",
          "2017-11-28T00:00:00",
          "2017-11-29T00:00:00",
          "2017-11-30T00:00:00",
          "2017-12-01T00:00:00",
          "2017-12-04T00:00:00",
          "2017-12-05T00:00:00",
          "2017-12-06T00:00:00",
          "2017-12-07T00:00:00",
          "2017-12-08T00:00:00",
          "2017-12-11T00:00:00",
          "2017-12-12T00:00:00",
          "2017-12-13T00:00:00",
          "2017-12-14T00:00:00",
          "2017-12-15T00:00:00",
          "2017-12-18T00:00:00",
          "2017-12-19T00:00:00",
          "2017-12-20T00:00:00",
          "2017-12-21T00:00:00",
          "2017-12-22T00:00:00",
          "2017-12-26T00:00:00",
          "2017-12-27T00:00:00",
          "2017-12-28T00:00:00",
          "2017-12-29T00:00:00"
         ],
         "y": [
          76.00262627291612,
          76.09950243542383,
          76.02038505386894,
          76.79715594882404,
          77.31722310534165,
          77.20314912127756,
          77.27478926336913,
          77.30226798726129,
          78.32199579554344,
          78.58612129005482,
          79.10820085473956,
          79.34271420167661,
          78.95696715934629,
          78.5817608940945,
          78.41906303549264,
          77.99643232376584,
          78.71848175886139,
          79.17599913922363,
          79.40624680429032,
          78.34294601772805,
          77.5803645064929,
          77.54986318456415,
          77.17089537307254,
          76.28618056621583,
          75.19785474807306,
          75.49149717635765,
          76.01503691698487,
          76.14906796746587,
          76.39529123489277,
          76.74320344621766,
          76.876135360082
         ]
        },
        {
         "mode": "lines",
         "type": "scatter",
         "x": [
          "2017-11-15T00:00:00",
          "2017-11-16T00:00:00",
          "2017-11-17T00:00:00",
          "2017-11-20T00:00:00",
          "2017-11-21T00:00:00",
          "2017-11-22T00:00:00",
          "2017-11-24T00:00:00",
          "2017-11-27T00:00:00",
          "2017-11-28T00:00:00",
          "2017-11-29T00:00:00",
          "2017-11-30T00:00:00",
          "2017-12-01T00:00:00",
          "2017-12-04T00:00:00",
          "2017-12-05T00:00:00",
          "2017-12-06T00:00:00",
          "2017-12-07T00:00:00",
          "2017-12-08T00:00:00",
          "2017-12-11T00:00:00",
          "2017-12-12T00:00:00",
          "2017-12-13T00:00:00",
          "2017-12-14T00:00:00",
          "2017-12-15T00:00:00",
          "2017-12-18T00:00:00",
          "2017-12-19T00:00:00",
          "2017-12-20T00:00:00",
          "2017-12-21T00:00:00",
          "2017-12-22T00:00:00",
          "2017-12-26T00:00:00",
          "2017-12-27T00:00:00",
          "2017-12-28T00:00:00",
          "2017-12-29T00:00:00"
         ],
         "y": [
          75.97062511210498,
          76.09260930100697,
          76.00254136687906,
          76.81422262106895,
          77.34271198512589,
          77.20650302897931,
          77.23656727136576,
          77.3125525193098,
          78.39045185282308,
          78.57708945310752,
          79.11865772086342,
          79.39955926879225,
          78.95586966787992,
          78.58585585971869,
          78.38689405530522,
          77.9832800967442,
          78.7397273360703,
          79.19102270735199,
          79.42287709436236,
          78.34437358112525,
          77.53895206884468,
          77.5713673384594,
          77.18107916197214,
          76.23985439577103,
          75.17349897963463,
          75.50163994510243,
          76.01742521692536,
          76.15775716388175,
          76.37829630739044,
          76.76609056618162,
          76.8631200799711
         ]
        },
        {
         "mode": "lines",
         "type": "scatter",
         "x": [
          "2017-11-15T00:00:00",
          "2017-11-16T00:00:00",
          "2017-11-17T00:00:00",
          "2017-11-20T00:00:00",
          "2017-11-21T00:00:00",
          "2017-11-22T00:00:00",
          "2017-11-24T00:00:00",
          "2017-11-27T00:00:00",
          "2017-11-28T00:00:00",
          "2017-11-29T00:00:00",
          "2017-11-30T00:00:00",
          "2017-12-01T00:00:00",
          "2017-12-04T00:00:00",
          "2017-12-05T00:00:00",
          "2017-12-06T00:00:00",
          "2017-12-07T00:00:00",
          "2017-12-08T00:00:00",
          "2017-12-11T00:00:00",
          "2017-12-12T00:00:00",
          "2017-12-13T00:00:00",
          "2017-12-14T00:00:00",
          "2017-12-15T00:00:00",
          "2017-12-18T00:00:00",
          "2017-12-19T00:00:00",
          "2017-12-20T00:00:00",
          "2017-12-21T00:00:00",
          "2017-12-22T00:00:00",
          "2017-12-26T00:00:00",
          "2017-12-27T00:00:00",
          "2017-12-28T00:00:00",
          "2017-12-29T00:00:00"
         ],
         "y": [
          76.00839265036556,
          76.71592433674685,
          77.06784779271095,
          76.66387946204792,
          79.20239403146375,
          77.88000042466808,
          77.1297749102639,
          77.33813411140656,
          78.18208722093138,
          79.64158025383888,
          79.46059328287171,
          79.25992250000499,
          78.96872635186449,
          78.56323071366488,
          79.39652753575139,
          78.17166709330328,
          79.18130036441251,
          79.50576159207169,
          78.78430126277125,
          77.97957640981103,
          77.14795807579429,
          77.08652465030376,
          77.861197703289,
          76.73831411826164,
          75.02950900254156,
          74.43678590218333,
          75.21939276433515,
          76.24919599562368,
          75.72858112609296,
          75.82205578488166,
          75.67812932124474
         ]
        },
        {
         "mode": "lines",
         "type": "scatter",
         "x": [
          "2017-11-15T00:00:00",
          "2017-11-16T00:00:00",
          "2017-11-17T00:00:00",
          "2017-11-20T00:00:00",
          "2017-11-21T00:00:00",
          "2017-11-22T00:00:00",
          "2017-11-24T00:00:00",
          "2017-11-27T00:00:00",
          "2017-11-28T00:00:00",
          "2017-11-29T00:00:00",
          "2017-11-30T00:00:00",
          "2017-12-01T00:00:00",
          "2017-12-04T00:00:00",
          "2017-12-05T00:00:00",
          "2017-12-06T00:00:00",
          "2017-12-07T00:00:00",
          "2017-12-08T00:00:00",
          "2017-12-11T00:00:00",
          "2017-12-12T00:00:00",
          "2017-12-13T00:00:00",
          "2017-12-14T00:00:00",
          "2017-12-15T00:00:00",
          "2017-12-18T00:00:00",
          "2017-12-19T00:00:00",
          "2017-12-20T00:00:00",
          "2017-12-21T00:00:00",
          "2017-12-22T00:00:00",
          "2017-12-26T00:00:00",
          "2017-12-27T00:00:00",
          "2017-12-28T00:00:00",
          "2017-12-29T00:00:00"
         ],
         "y": [
          75.97556265168873,
          76.10606035034684,
          76.01669364694813,
          76.81638040751163,
          77.38851715557679,
          77.16956561216463,
          77.25772266825949,
          77.30751982384041,
          78.36485470142486,
          78.67453184190812,
          79.09903453400072,
          79.42889028359095,
          78.94441047960878,
          78.55566584685154,
          78.39984241422907,
          77.96785648692396,
          78.74414432700809,
          79.25740476539767,
          79.3882190617171,
          78.3132758411598,
          77.49470018035866,
          77.57487346564953,
          77.1572793394041,
          76.23965573870922,
          75.13367503411297,
          75.45123236801774,
          76.05842180881453,
          76.15297534897184,
          76.38544942853807,
          76.77941367370313,
          76.8989637120528
         ]
        },
        {
         "mode": "lines",
         "type": "scatter",
         "x": [
          "2017-11-15T00:00:00",
          "2017-11-16T00:00:00",
          "2017-11-17T00:00:00",
          "2017-11-20T00:00:00",
          "2017-11-21T00:00:00",
          "2017-11-22T00:00:00",
          "2017-11-24T00:00:00",
          "2017-11-27T00:00:00",
          "2017-11-28T00:00:00",
          "2017-11-29T00:00:00",
          "2017-11-30T00:00:00",
          "2017-12-01T00:00:00",
          "2017-12-04T00:00:00",
          "2017-12-05T00:00:00",
          "2017-12-06T00:00:00",
          "2017-12-07T00:00:00",
          "2017-12-08T00:00:00",
          "2017-12-11T00:00:00",
          "2017-12-12T00:00:00",
          "2017-12-13T00:00:00",
          "2017-12-14T00:00:00",
          "2017-12-15T00:00:00",
          "2017-12-18T00:00:00",
          "2017-12-19T00:00:00",
          "2017-12-20T00:00:00",
          "2017-12-21T00:00:00",
          "2017-12-22T00:00:00",
          "2017-12-26T00:00:00",
          "2017-12-27T00:00:00",
          "2017-12-28T00:00:00",
          "2017-12-29T00:00:00"
         ],
         "y": [
          75.99448671082246,
          76.11372589660846,
          75.99738278528463,
          76.79478699230765,
          77.38529992078958,
          77.20160419685598,
          77.24791294472358,
          77.29403146066245,
          78.36571757083539,
          78.61460160093932,
          79.10610601830084,
          79.42308051559374,
          78.98492109468883,
          78.5581024134381,
          78.39830883487174,
          77.99948989424878,
          78.70344832067808,
          79.21654269632691,
          79.42383049729197,
          78.34451567447111,
          77.53218523647368,
          77.55154669575086,
          77.19006881215871,
          76.2392808221255,
          75.1627272012703,
          75.47648366767882,
          76.03964637127412,
          76.149242256223,
          76.36999815741036,
          76.78536126552466,
          76.8604699992497
         ]
        },
        {
         "mode": "lines",
         "type": "scatter",
         "x": [
          "2017-11-15T00:00:00",
          "2017-11-16T00:00:00",
          "2017-11-17T00:00:00",
          "2017-11-20T00:00:00",
          "2017-11-21T00:00:00",
          "2017-11-22T00:00:00",
          "2017-11-24T00:00:00",
          "2017-11-27T00:00:00",
          "2017-11-28T00:00:00",
          "2017-11-29T00:00:00",
          "2017-11-30T00:00:00",
          "2017-12-01T00:00:00",
          "2017-12-04T00:00:00",
          "2017-12-05T00:00:00",
          "2017-12-06T00:00:00",
          "2017-12-07T00:00:00",
          "2017-12-08T00:00:00",
          "2017-12-11T00:00:00",
          "2017-12-12T00:00:00",
          "2017-12-13T00:00:00",
          "2017-12-14T00:00:00",
          "2017-12-15T00:00:00",
          "2017-12-18T00:00:00",
          "2017-12-19T00:00:00",
          "2017-12-20T00:00:00",
          "2017-12-21T00:00:00",
          "2017-12-22T00:00:00",
          "2017-12-26T00:00:00",
          "2017-12-27T00:00:00",
          "2017-12-28T00:00:00",
          "2017-12-29T00:00:00"
         ],
         "y": [
          75.9892910725343,
          76.38894761820225,
          76.658898945601,
          76.6233340466855,
          78.59502405680666,
          77.23433749552431,
          76.89496823919106,
          77.30244317028603,
          78.58703092152017,
          79.67193268219026,
          79.26755928778437,
          80.19798002981472,
          79.40503234840557,
          78.49512275845002,
          78.9225218053447,
          78.01013051830276,
          79.40949369887464,
          79.56314803658407,
          79.03243642449507,
          78.14860861551983,
          77.37588527716785,
          77.76479631936243,
          77.67345132345083,
          76.72363365474271,
          75.23841456288379,
          74.65120210725819,
          75.41885069699636,
          76.0447749771142,
          75.79368190056162,
          76.62218590929515,
          76.51635047406793
         ]
        },
        {
         "mode": "lines",
         "type": "scatter",
         "x": [
          "2017-11-15T00:00:00",
          "2017-11-16T00:00:00",
          "2017-11-17T00:00:00",
          "2017-11-20T00:00:00",
          "2017-11-21T00:00:00",
          "2017-11-22T00:00:00",
          "2017-11-24T00:00:00",
          "2017-11-27T00:00:00",
          "2017-11-28T00:00:00",
          "2017-11-29T00:00:00",
          "2017-11-30T00:00:00",
          "2017-12-01T00:00:00",
          "2017-12-04T00:00:00",
          "2017-12-05T00:00:00",
          "2017-12-06T00:00:00",
          "2017-12-07T00:00:00",
          "2017-12-08T00:00:00",
          "2017-12-11T00:00:00",
          "2017-12-12T00:00:00",
          "2017-12-13T00:00:00",
          "2017-12-14T00:00:00",
          "2017-12-15T00:00:00",
          "2017-12-18T00:00:00",
          "2017-12-19T00:00:00",
          "2017-12-20T00:00:00",
          "2017-12-21T00:00:00",
          "2017-12-22T00:00:00",
          "2017-12-26T00:00:00",
          "2017-12-27T00:00:00",
          "2017-12-28T00:00:00",
          "2017-12-29T00:00:00"
         ],
         "y": [
          75.99451711290897,
          76.11373373195424,
          75.9974494751374,
          76.79453876192976,
          77.38528203048716,
          77.20168106586839,
          77.2478782908879,
          77.29404460258739,
          78.36543887263998,
          78.61465144326453,
          79.10596476663851,
          79.423085782266,
          78.98505372079154,
          78.55819253389575,
          78.39836727841372,
          77.99963877679734,
          78.70322367537177,
          79.21647845355808,
          79.42382220747213,
          78.34481888244854,
          77.53232666275294,
          77.55151181656615,
          77.19024201307587,
          76.23953425968057,
          75.16297529188944,
          75.47633104946773,
          76.03950005575669,
          76.14925043248208,
          76.36993243777792,
          76.7852805861568,
          76.86045962770442
         ]
        },
        {
         "mode": "lines",
         "type": "scatter",
         "x": [
          "2017-11-15T00:00:00",
          "2017-11-16T00:00:00",
          "2017-11-17T00:00:00",
          "2017-11-20T00:00:00",
          "2017-11-21T00:00:00",
          "2017-11-22T00:00:00",
          "2017-11-24T00:00:00",
          "2017-11-27T00:00:00",
          "2017-11-28T00:00:00",
          "2017-11-29T00:00:00",
          "2017-11-30T00:00:00",
          "2017-12-01T00:00:00",
          "2017-12-04T00:00:00",
          "2017-12-05T00:00:00",
          "2017-12-06T00:00:00",
          "2017-12-07T00:00:00",
          "2017-12-08T00:00:00",
          "2017-12-11T00:00:00",
          "2017-12-12T00:00:00",
          "2017-12-13T00:00:00",
          "2017-12-14T00:00:00",
          "2017-12-15T00:00:00",
          "2017-12-18T00:00:00",
          "2017-12-19T00:00:00",
          "2017-12-20T00:00:00",
          "2017-12-21T00:00:00",
          "2017-12-22T00:00:00",
          "2017-12-26T00:00:00",
          "2017-12-27T00:00:00",
          "2017-12-28T00:00:00",
          "2017-12-29T00:00:00"
         ],
         "y": [
          75.90964776634846,
          76.14010100221392,
          76.00925052222809,
          76.78802084965102,
          77.34655363891017,
          77.15094809557415,
          77.21966617041048,
          77.3531541171548,
          78.36504087341304,
          78.6238560381202,
          79.1241020448022,
          79.51110479597824,
          78.99384711700435,
          78.57923154282065,
          78.34095468787056,
          78.00750670493358,
          78.72607234166186,
          79.2264237447528,
          79.34620012200403,
          78.29230297608656,
          77.45787810246998,
          77.60108445710269,
          77.16576803015198,
          76.19118803805434,
          75.15763165820177,
          75.52281610250364,
          76.10055233190218,
          76.17781443729889,
          76.33105355989917,
          76.79840957357699,
          76.8680234767109
         ]
        },
        {
         "mode": "lines",
         "type": "scatter",
         "x": [
          "2017-11-15T00:00:00",
          "2017-11-16T00:00:00",
          "2017-11-17T00:00:00",
          "2017-11-20T00:00:00",
          "2017-11-21T00:00:00",
          "2017-11-22T00:00:00",
          "2017-11-24T00:00:00",
          "2017-11-27T00:00:00",
          "2017-11-28T00:00:00",
          "2017-11-29T00:00:00",
          "2017-11-30T00:00:00",
          "2017-12-01T00:00:00",
          "2017-12-04T00:00:00",
          "2017-12-05T00:00:00",
          "2017-12-06T00:00:00",
          "2017-12-07T00:00:00",
          "2017-12-08T00:00:00",
          "2017-12-11T00:00:00",
          "2017-12-12T00:00:00",
          "2017-12-13T00:00:00",
          "2017-12-14T00:00:00",
          "2017-12-15T00:00:00",
          "2017-12-18T00:00:00",
          "2017-12-19T00:00:00",
          "2017-12-20T00:00:00",
          "2017-12-21T00:00:00",
          "2017-12-22T00:00:00",
          "2017-12-26T00:00:00",
          "2017-12-27T00:00:00",
          "2017-12-28T00:00:00",
          "2017-12-29T00:00:00"
         ],
         "y": [
          75.95474152756512,
          75.68819266915382,
          76.37532398314713,
          76.8967809085195,
          78.16332448376816,
          76.87314488528108,
          76.922880861774,
          77.30992465766509,
          78.47633618081947,
          79.41459786819728,
          79.13235861066053,
          80.14625599434595,
          79.01360786538208,
          78.31149197652789,
          78.76120200604662,
          78.21455973819104,
          79.53774054963961,
          79.42379469122596,
          79.72568665110849,
          78.47121159399072,
          77.38270875833742,
          77.68242929033401,
          77.46406088862172,
          76.85059864863358,
          75.3477859881734,
          74.83541351360235,
          75.64361337378611,
          76.075669168267,
          76.30787642778931,
          76.72383408053771,
          76.77665744499058
         ]
        },
        {
         "mode": "lines",
         "type": "scatter",
         "x": [
          "2017-11-15T00:00:00",
          "2017-11-16T00:00:00",
          "2017-11-17T00:00:00",
          "2017-11-20T00:00:00",
          "2017-11-21T00:00:00",
          "2017-11-22T00:00:00",
          "2017-11-24T00:00:00",
          "2017-11-27T00:00:00",
          "2017-11-28T00:00:00",
          "2017-11-29T00:00:00",
          "2017-11-30T00:00:00",
          "2017-12-01T00:00:00",
          "2017-12-04T00:00:00",
          "2017-12-05T00:00:00",
          "2017-12-06T00:00:00",
          "2017-12-07T00:00:00",
          "2017-12-08T00:00:00",
          "2017-12-11T00:00:00",
          "2017-12-12T00:00:00",
          "2017-12-13T00:00:00",
          "2017-12-14T00:00:00",
          "2017-12-15T00:00:00",
          "2017-12-18T00:00:00",
          "2017-12-19T00:00:00",
          "2017-12-20T00:00:00",
          "2017-12-21T00:00:00",
          "2017-12-22T00:00:00",
          "2017-12-26T00:00:00",
          "2017-12-27T00:00:00",
          "2017-12-28T00:00:00",
          "2017-12-29T00:00:00"
         ],
         "y": [
          75.99081352420406,
          76.09904342151,
          76.03995822103204,
          76.79395039902901,
          77.36545475275196,
          77.20441819567363,
          77.27520606894798,
          77.3153540521684,
          78.29656123412535,
          78.66044564617074,
          79.09455246085345,
          79.35139185773065,
          78.92787505726031,
          78.568538165506,
          78.42061468137354,
          77.9843231268848,
          78.70059473690935,
          79.23652096812972,
          79.38743439931108,
          78.33545059852482,
          77.51511490543018,
          77.5304974635196,
          77.17138566874938,
          76.27045794973067,
          75.16139204569335,
          75.43093489697544,
          76.0415569984032,
          76.16760343975838,
          76.39842402816464,
          76.72818437725492,
          76.88692322701087
         ]
        },
        {
         "mode": "lines",
         "type": "scatter",
         "x": [
          "2017-11-15T00:00:00",
          "2017-11-16T00:00:00",
          "2017-11-17T00:00:00",
          "2017-11-20T00:00:00",
          "2017-11-21T00:00:00",
          "2017-11-22T00:00:00",
          "2017-11-24T00:00:00",
          "2017-11-27T00:00:00",
          "2017-11-28T00:00:00",
          "2017-11-29T00:00:00",
          "2017-11-30T00:00:00",
          "2017-12-01T00:00:00",
          "2017-12-04T00:00:00",
          "2017-12-05T00:00:00",
          "2017-12-06T00:00:00",
          "2017-12-07T00:00:00",
          "2017-12-08T00:00:00",
          "2017-12-11T00:00:00",
          "2017-12-12T00:00:00",
          "2017-12-13T00:00:00",
          "2017-12-14T00:00:00",
          "2017-12-15T00:00:00",
          "2017-12-18T00:00:00",
          "2017-12-19T00:00:00",
          "2017-12-20T00:00:00",
          "2017-12-21T00:00:00",
          "2017-12-22T00:00:00",
          "2017-12-26T00:00:00",
          "2017-12-27T00:00:00",
          "2017-12-28T00:00:00",
          "2017-12-29T00:00:00"
         ],
         "y": [
          75.99062327808917,
          76.11092009007187,
          75.99179829854126,
          76.8034212746889,
          77.39266320439802,
          77.1951833257057,
          77.24959954595914,
          77.29295701868112,
          78.3766188613194,
          78.62039040722073,
          79.10319942376395,
          79.42860781277733,
          78.97631165070918,
          78.55008030943314,
          78.39391448684087,
          77.99128401133748,
          78.70526935392301,
          79.23017740963604,
          79.42596105984417,
          78.33700200677865,
          77.5190920369646,
          77.55242428448715,
          77.18482608666065,
          76.22318645059273,
          75.1475017022553,
          75.476652393828,
          76.05325636304795,
          76.1483167162634,
          76.37506581665154,
          76.79212016393909,
          76.86608006088224
         ]
        },
        {
         "mode": "lines",
         "type": "scatter",
         "x": [
          "2017-11-15T00:00:00",
          "2017-11-16T00:00:00",
          "2017-11-17T00:00:00",
          "2017-11-20T00:00:00",
          "2017-11-21T00:00:00",
          "2017-11-22T00:00:00",
          "2017-11-24T00:00:00",
          "2017-11-27T00:00:00",
          "2017-11-28T00:00:00",
          "2017-11-29T00:00:00",
          "2017-11-30T00:00:00",
          "2017-12-01T00:00:00",
          "2017-12-04T00:00:00",
          "2017-12-05T00:00:00",
          "2017-12-06T00:00:00",
          "2017-12-07T00:00:00",
          "2017-12-08T00:00:00",
          "2017-12-11T00:00:00",
          "2017-12-12T00:00:00",
          "2017-12-13T00:00:00",
          "2017-12-14T00:00:00",
          "2017-12-15T00:00:00",
          "2017-12-18T00:00:00",
          "2017-12-19T00:00:00",
          "2017-12-20T00:00:00",
          "2017-12-21T00:00:00",
          "2017-12-22T00:00:00",
          "2017-12-26T00:00:00",
          "2017-12-27T00:00:00",
          "2017-12-28T00:00:00",
          "2017-12-29T00:00:00"
         ],
         "y": [
          75.9709294172129,
          76.73917368235067,
          77.08165654960432,
          76.69944885210661,
          79.14080670944497,
          77.99178435950498,
          77.17053215344406,
          77.29362186604044,
          78.18497540448986,
          79.56388549140294,
          79.54995898313516,
          79.20871466281649,
          79.03465061752152,
          78.53899497801649,
          79.44997701058719,
          78.19752173384636,
          79.21892381348763,
          79.40904642325235,
          78.90439941750162,
          77.89457047459203,
          77.28012052437856,
          76.96609035853145,
          77.95698737296047,
          76.73667900745166,
          75.18866440333478,
          74.34027683776189,
          75.20722582042573,
          76.14382205466825,
          75.79308443615112,
          75.72226381123167,
          75.67758626153791
         ]
        },
        {
         "mode": "lines",
         "type": "scatter",
         "x": [
          "2017-11-15T00:00:00",
          "2017-11-16T00:00:00",
          "2017-11-17T00:00:00",
          "2017-11-20T00:00:00",
          "2017-11-21T00:00:00",
          "2017-11-22T00:00:00",
          "2017-11-24T00:00:00",
          "2017-11-27T00:00:00",
          "2017-11-28T00:00:00",
          "2017-11-29T00:00:00",
          "2017-11-30T00:00:00",
          "2017-12-01T00:00:00",
          "2017-12-04T00:00:00",
          "2017-12-05T00:00:00",
          "2017-12-06T00:00:00",
          "2017-12-07T00:00:00",
          "2017-12-08T00:00:00",
          "2017-12-11T00:00:00",
          "2017-12-12T00:00:00",
          "2017-12-13T00:00:00",
          "2017-12-14T00:00:00",
          "2017-12-15T00:00:00",
          "2017-12-18T00:00:00",
          "2017-12-19T00:00:00",
          "2017-12-20T00:00:00",
          "2017-12-21T00:00:00",
          "2017-12-22T00:00:00",
          "2017-12-26T00:00:00",
          "2017-12-27T00:00:00",
          "2017-12-28T00:00:00",
          "2017-12-29T00:00:00"
         ],
         "y": [
          75.9681682599517,
          76.12505541905547,
          75.98962430909125,
          76.80089216869736,
          77.36745045465719,
          77.18717256414035,
          77.25530513030934,
          77.29406714056726,
          78.36097411367608,
          78.6084856948185,
          79.09098619961465,
          79.4267459542765,
          78.96976402182764,
          78.57399349485515,
          78.39920097017098,
          78.0043557798905,
          78.70780947096179,
          79.21550304223626,
          79.4037250387247,
          78.35490366214982,
          77.53949651798769,
          77.57707632278584,
          77.18077710947965,
          76.25231263243545,
          75.17810262733045,
          75.49115333337633,
          76.04135748091245,
          76.13576316373494,
          76.3741300971575,
          76.78276045080402,
          76.86338349866473
         ]
        },
        {
         "mode": "lines",
         "type": "scatter",
         "x": [
          "2017-11-15T00:00:00",
          "2017-11-16T00:00:00",
          "2017-11-17T00:00:00",
          "2017-11-20T00:00:00",
          "2017-11-21T00:00:00",
          "2017-11-22T00:00:00",
          "2017-11-24T00:00:00",
          "2017-11-27T00:00:00",
          "2017-11-28T00:00:00",
          "2017-11-29T00:00:00",
          "2017-11-30T00:00:00",
          "2017-12-01T00:00:00",
          "2017-12-04T00:00:00",
          "2017-12-05T00:00:00",
          "2017-12-06T00:00:00",
          "2017-12-07T00:00:00",
          "2017-12-08T00:00:00",
          "2017-12-11T00:00:00",
          "2017-12-12T00:00:00",
          "2017-12-13T00:00:00",
          "2017-12-14T00:00:00",
          "2017-12-15T00:00:00",
          "2017-12-18T00:00:00",
          "2017-12-19T00:00:00",
          "2017-12-20T00:00:00",
          "2017-12-21T00:00:00",
          "2017-12-22T00:00:00",
          "2017-12-26T00:00:00",
          "2017-12-27T00:00:00",
          "2017-12-28T00:00:00",
          "2017-12-29T00:00:00"
         ],
         "y": [
          75.98369678704208,
          76.10544023682402,
          76.0419311015732,
          76.7857182887703,
          77.35126835555218,
          77.18098864635502,
          77.26091137546061,
          77.30642989682616,
          78.3191624319567,
          78.64721012306276,
          79.09305540420472,
          79.39323792308073,
          78.96537274578554,
          78.58742731840721,
          78.43165948775956,
          77.99501091458245,
          78.74365258156689,
          79.20629122255659,
          79.37745747146785,
          78.34975753937745,
          77.56675592661733,
          77.58326862925142,
          77.18210338053983,
          76.31695093870292,
          75.20858313724725,
          75.45524859138087,
          76.00013715397192,
          76.13940463497542,
          76.3753299310924,
          76.74565778329634,
          76.88704389705397
         ]
        },
        {
         "mode": "lines",
         "type": "scatter",
         "x": [
          "2017-11-15T00:00:00",
          "2017-11-16T00:00:00",
          "2017-11-17T00:00:00",
          "2017-11-20T00:00:00",
          "2017-11-21T00:00:00",
          "2017-11-22T00:00:00",
          "2017-11-24T00:00:00",
          "2017-11-27T00:00:00",
          "2017-11-28T00:00:00",
          "2017-11-29T00:00:00",
          "2017-11-30T00:00:00",
          "2017-12-01T00:00:00",
          "2017-12-04T00:00:00",
          "2017-12-05T00:00:00",
          "2017-12-06T00:00:00",
          "2017-12-07T00:00:00",
          "2017-12-08T00:00:00",
          "2017-12-11T00:00:00",
          "2017-12-12T00:00:00",
          "2017-12-13T00:00:00",
          "2017-12-14T00:00:00",
          "2017-12-15T00:00:00",
          "2017-12-18T00:00:00",
          "2017-12-19T00:00:00",
          "2017-12-20T00:00:00",
          "2017-12-21T00:00:00",
          "2017-12-22T00:00:00",
          "2017-12-26T00:00:00",
          "2017-12-27T00:00:00",
          "2017-12-28T00:00:00",
          "2017-12-29T00:00:00"
         ],
         "y": [
          75.98086028093448,
          76.38943319557158,
          76.66003895473959,
          76.62669842616762,
          78.58898561539839,
          77.23499223082479,
          76.90912836200764,
          77.2940814031293,
          78.58496889351696,
          79.66184367526937,
          79.27440977531846,
          80.19971862286991,
          79.40797664487265,
          78.509193245358,
          78.92518072129786,
          78.01401553365163,
          79.4172285044619,
          79.55164858922564,
          79.04113807957474,
          78.14942563225594,
          77.38594211273671,
          77.76630931993923,
          77.6737155948199,
          76.73617369728737,
          75.25281418084666,
          74.6607254990336,
          75.40829838645999,
          76.03312487554858,
          75.79119661288914,
          76.61770825921805,
          76.50884156065037
         ]
        },
        {
         "mode": "lines",
         "type": "scatter",
         "x": [
          "2017-11-15T00:00:00",
          "2017-11-16T00:00:00",
          "2017-11-17T00:00:00",
          "2017-11-20T00:00:00",
          "2017-11-21T00:00:00",
          "2017-11-22T00:00:00",
          "2017-11-24T00:00:00",
          "2017-11-27T00:00:00",
          "2017-11-28T00:00:00",
          "2017-11-29T00:00:00",
          "2017-11-30T00:00:00",
          "2017-12-01T00:00:00",
          "2017-12-04T00:00:00",
          "2017-12-05T00:00:00",
          "2017-12-06T00:00:00",
          "2017-12-07T00:00:00",
          "2017-12-08T00:00:00",
          "2017-12-11T00:00:00",
          "2017-12-12T00:00:00",
          "2017-12-13T00:00:00",
          "2017-12-14T00:00:00",
          "2017-12-15T00:00:00",
          "2017-12-18T00:00:00",
          "2017-12-19T00:00:00",
          "2017-12-20T00:00:00",
          "2017-12-21T00:00:00",
          "2017-12-22T00:00:00",
          "2017-12-26T00:00:00",
          "2017-12-27T00:00:00",
          "2017-12-28T00:00:00",
          "2017-12-29T00:00:00"
         ],
         "y": [
          75.96615415449504,
          76.13325684832817,
          75.9940538817361,
          76.8011640671225,
          77.37763640571117,
          77.19637392592139,
          77.25470109307301,
          77.29242336729416,
          78.36017906328333,
          78.60700784229076,
          79.09408253446057,
          79.42483482762668,
          78.9715653074897,
          78.57758594167478,
          78.40687253152842,
          78.01135608299583,
          78.70867930644292,
          79.2124127009162,
          79.39935315739788,
          78.35622480523973,
          77.54180840814642,
          77.57498058748875,
          77.187417376602,
          76.25916090964571,
          75.18266648580914,
          75.48932112787963,
          76.03155442751506,
          76.13297761741279,
          76.36774752767698,
          76.7739006727575,
          76.84815050093414
         ]
        },
        {
         "mode": "lines",
         "type": "scatter",
         "x": [
          "2017-11-15T00:00:00",
          "2017-11-16T00:00:00",
          "2017-11-17T00:00:00",
          "2017-11-20T00:00:00",
          "2017-11-21T00:00:00",
          "2017-11-22T00:00:00",
          "2017-11-24T00:00:00",
          "2017-11-27T00:00:00",
          "2017-11-28T00:00:00",
          "2017-11-29T00:00:00",
          "2017-11-30T00:00:00",
          "2017-12-01T00:00:00",
          "2017-12-04T00:00:00",
          "2017-12-05T00:00:00",
          "2017-12-06T00:00:00",
          "2017-12-07T00:00:00",
          "2017-12-08T00:00:00",
          "2017-12-11T00:00:00",
          "2017-12-12T00:00:00",
          "2017-12-13T00:00:00",
          "2017-12-14T00:00:00",
          "2017-12-15T00:00:00",
          "2017-12-18T00:00:00",
          "2017-12-19T00:00:00",
          "2017-12-20T00:00:00",
          "2017-12-21T00:00:00",
          "2017-12-22T00:00:00",
          "2017-12-26T00:00:00",
          "2017-12-27T00:00:00",
          "2017-12-28T00:00:00",
          "2017-12-29T00:00:00"
         ],
         "y": [
          75.93320998007319,
          76.12931193396709,
          76.00708455991347,
          76.78255307012357,
          77.33282525941142,
          77.16799008088886,
          77.23178402639107,
          77.33264605104424,
          78.35453754460578,
          78.59633012123453,
          79.11132024006898,
          79.46726510488523,
          78.99834030963171,
          78.58974690513689,
          78.3682846378125,
          78.01389200538087,
          78.71791083130532,
          79.19821810499978,
          79.36784468544224,
          78.3277889909316,
          77.51676489163218,
          77.59452084678964,
          77.18310992085271,
          76.23510448185156,
          75.1920644280299,
          75.52079711333006,
          76.06097094012273,
          76.15958162095846,
          76.3427704883361,
          76.78089163334239,
          76.85986126432789
         ]
        },
        {
         "mode": "lines",
         "type": "scatter",
         "x": [
          "2017-11-15T00:00:00",
          "2017-11-16T00:00:00",
          "2017-11-17T00:00:00",
          "2017-11-20T00:00:00",
          "2017-11-21T00:00:00",
          "2017-11-22T00:00:00",
          "2017-11-24T00:00:00",
          "2017-11-27T00:00:00",
          "2017-11-28T00:00:00",
          "2017-11-29T00:00:00",
          "2017-11-30T00:00:00",
          "2017-12-01T00:00:00",
          "2017-12-04T00:00:00",
          "2017-12-05T00:00:00",
          "2017-12-06T00:00:00",
          "2017-12-07T00:00:00",
          "2017-12-08T00:00:00",
          "2017-12-11T00:00:00",
          "2017-12-12T00:00:00",
          "2017-12-13T00:00:00",
          "2017-12-14T00:00:00",
          "2017-12-15T00:00:00",
          "2017-12-18T00:00:00",
          "2017-12-19T00:00:00",
          "2017-12-20T00:00:00",
          "2017-12-21T00:00:00",
          "2017-12-22T00:00:00",
          "2017-12-26T00:00:00",
          "2017-12-27T00:00:00",
          "2017-12-28T00:00:00",
          "2017-12-29T00:00:00"
         ],
         "y": [
          75.93699422147598,
          75.69236280022892,
          76.37304021336995,
          76.89334636249016,
          78.15219877550284,
          76.87421265088926,
          76.95633155146061,
          77.28328666473332,
          78.47563532395327,
          79.37689672367182,
          79.1485455906631,
          80.13541327790573,
          79.00483352567994,
          78.34758054469923,
          78.76182862167549,
          78.22101695993894,
          79.56467196378175,
          79.39090864711629,
          79.75516502490154,
          78.46363962605894,
          77.43165534764624,
          77.67930830286653,
          77.46084294480838,
          76.87593251339665,
          75.37754395242392,
          74.8735794854524,
          75.62218466765675,
          76.05003117566355,
          76.30937510954948,
          76.70789947358014,
          76.76328906969628
         ]
        },
        {
         "mode": "lines",
         "type": "scatter",
         "x": [
          "2017-11-15T00:00:00",
          "2017-11-16T00:00:00",
          "2017-11-17T00:00:00",
          "2017-11-20T00:00:00",
          "2017-11-21T00:00:00",
          "2017-11-22T00:00:00",
          "2017-11-24T00:00:00",
          "2017-11-27T00:00:00",
          "2017-11-28T00:00:00",
          "2017-11-29T00:00:00",
          "2017-11-30T00:00:00",
          "2017-12-01T00:00:00",
          "2017-12-04T00:00:00",
          "2017-12-05T00:00:00",
          "2017-12-06T00:00:00",
          "2017-12-07T00:00:00",
          "2017-12-08T00:00:00",
          "2017-12-11T00:00:00",
          "2017-12-12T00:00:00",
          "2017-12-13T00:00:00",
          "2017-12-14T00:00:00",
          "2017-12-15T00:00:00",
          "2017-12-18T00:00:00",
          "2017-12-19T00:00:00",
          "2017-12-20T00:00:00",
          "2017-12-21T00:00:00",
          "2017-12-22T00:00:00",
          "2017-12-26T00:00:00",
          "2017-12-27T00:00:00",
          "2017-12-28T00:00:00",
          "2017-12-29T00:00:00"
         ],
         "y": [
          75.99264880813101,
          76.09228404946073,
          76.03572293217086,
          76.82363070724541,
          77.33828224076082,
          77.18170961064517,
          77.27733376912232,
          77.31001975342285,
          78.33854994921984,
          78.64042581248553,
          79.11536241054625,
          79.35402574075985,
          78.92683167288038,
          78.5693156519073,
          78.41729074909885,
          77.96424395357236,
          78.75957611184428,
          79.21724195011367,
          79.38532265032286,
          78.29987954329427,
          77.53424409225535,
          77.56063044136539,
          77.14421023054317,
          76.2699289209436,
          75.15449394471861,
          75.46910575484135,
          76.03500002175497,
          76.15476933255803,
          76.40392488281427,
          76.7421686775206,
          76.90163695874922
         ]
        },
        {
         "mode": "lines",
         "type": "scatter",
         "x": [
          "2017-11-15T00:00:00",
          "2017-11-16T00:00:00",
          "2017-11-17T00:00:00",
          "2017-11-20T00:00:00",
          "2017-11-21T00:00:00",
          "2017-11-22T00:00:00",
          "2017-11-24T00:00:00",
          "2017-11-27T00:00:00",
          "2017-11-28T00:00:00",
          "2017-11-29T00:00:00",
          "2017-11-30T00:00:00",
          "2017-12-01T00:00:00",
          "2017-12-04T00:00:00",
          "2017-12-05T00:00:00",
          "2017-12-06T00:00:00",
          "2017-12-07T00:00:00",
          "2017-12-08T00:00:00",
          "2017-12-11T00:00:00",
          "2017-12-12T00:00:00",
          "2017-12-13T00:00:00",
          "2017-12-14T00:00:00",
          "2017-12-15T00:00:00",
          "2017-12-18T00:00:00",
          "2017-12-19T00:00:00",
          "2017-12-20T00:00:00",
          "2017-12-21T00:00:00",
          "2017-12-22T00:00:00",
          "2017-12-26T00:00:00",
          "2017-12-27T00:00:00",
          "2017-12-28T00:00:00",
          "2017-12-29T00:00:00"
         ],
         "y": [
          76.0238635441688,
          76.05171855291981,
          76.06640979745303,
          76.8231895579997,
          77.26249982353015,
          77.1047256663636,
          77.28645427398008,
          77.31096171765812,
          78.31935335641734,
          78.67571094580009,
          79.12683850694935,
          79.36838511995659,
          78.93405470184977,
          78.55503087545914,
          78.42004213100307,
          77.9262760679982,
          78.84518035112684,
          79.2033188602108,
          79.35590234008122,
          78.26132732114353,
          77.5821740321341,
          77.63041980633687,
          77.09303510853772,
          76.34657421823417,
          75.1819431891019,
          75.48921088234853,
          75.9998951715467,
          76.12557603384421,
          76.40530276070648,
          76.76160480735213,
          76.99531102675941
         ]
        },
        {
         "mode": "lines",
         "type": "scatter",
         "x": [
          "2017-11-15T00:00:00",
          "2017-11-16T00:00:00",
          "2017-11-17T00:00:00",
          "2017-11-20T00:00:00",
          "2017-11-21T00:00:00",
          "2017-11-22T00:00:00",
          "2017-11-24T00:00:00",
          "2017-11-27T00:00:00",
          "2017-11-28T00:00:00",
          "2017-11-29T00:00:00",
          "2017-11-30T00:00:00",
          "2017-12-01T00:00:00",
          "2017-12-04T00:00:00",
          "2017-12-05T00:00:00",
          "2017-12-06T00:00:00",
          "2017-12-07T00:00:00",
          "2017-12-08T00:00:00",
          "2017-12-11T00:00:00",
          "2017-12-12T00:00:00",
          "2017-12-13T00:00:00",
          "2017-12-14T00:00:00",
          "2017-12-15T00:00:00",
          "2017-12-18T00:00:00",
          "2017-12-19T00:00:00",
          "2017-12-20T00:00:00",
          "2017-12-21T00:00:00",
          "2017-12-22T00:00:00",
          "2017-12-26T00:00:00",
          "2017-12-27T00:00:00",
          "2017-12-28T00:00:00",
          "2017-12-29T00:00:00"
         ],
         "y": [
          76.0040968191588,
          76.75937076605415,
          77.08137543891469,
          76.69412368431404,
          79.1232658791081,
          77.99934881342224,
          77.16644988837737,
          77.2439726983126,
          78.1982766008805,
          79.56501680061514,
          79.57739698228066,
          79.19875255798226,
          79.02843598295784,
          78.53364206418942,
          79.44291720602206,
          78.18632897863702,
          79.21022302210275,
          79.37729257567575,
          78.9376028969443,
          77.87390742718281,
          77.28405680848377,
          76.94497412277828,
          77.96091720333901,
          76.73866575407264,
          75.17471996302889,
          74.29505842453173,
          75.19706604691578,
          76.16788548945665,
          75.8279276190984,
          75.72554730036956,
          75.68639206442077
         ]
        },
        {
         "mode": "lines",
         "type": "scatter",
         "x": [
          "2017-11-15T00:00:00",
          "2017-11-16T00:00:00",
          "2017-11-17T00:00:00",
          "2017-11-20T00:00:00",
          "2017-11-21T00:00:00",
          "2017-11-22T00:00:00",
          "2017-11-24T00:00:00",
          "2017-11-27T00:00:00",
          "2017-11-28T00:00:00",
          "2017-11-29T00:00:00",
          "2017-11-30T00:00:00",
          "2017-12-01T00:00:00",
          "2017-12-04T00:00:00",
          "2017-12-05T00:00:00",
          "2017-12-06T00:00:00",
          "2017-12-07T00:00:00",
          "2017-12-08T00:00:00",
          "2017-12-11T00:00:00",
          "2017-12-12T00:00:00",
          "2017-12-13T00:00:00",
          "2017-12-14T00:00:00",
          "2017-12-15T00:00:00",
          "2017-12-18T00:00:00",
          "2017-12-19T00:00:00",
          "2017-12-20T00:00:00",
          "2017-12-21T00:00:00",
          "2017-12-22T00:00:00",
          "2017-12-26T00:00:00",
          "2017-12-27T00:00:00",
          "2017-12-28T00:00:00",
          "2017-12-29T00:00:00"
         ],
         "y": [
          76.00457266532305,
          76.1101734762846,
          76.00026406954822,
          76.79417457492681,
          77.36823111609469,
          77.20134944185108,
          77.25161895227163,
          77.29385257584948,
          78.36120366730108,
          78.6094224379275,
          79.11065393940642,
          79.4140926771384,
          78.98683797481353,
          78.56400611953082,
          78.39864767083638,
          77.99688580701938,
          78.70992078066818,
          79.20509912123094,
          79.42480911062297,
          78.34690286592446,
          77.54532226745188,
          77.5528587409173,
          77.18361269909046,
          76.25244742599847,
          75.16960852066356,
          75.47753128701696,
          76.02863048476416,
          76.14990103956163,
          76.3752397311989,
          76.78218056449516,
          76.86867153896918
         ]
        },
        {
         "mode": "lines",
         "type": "scatter",
         "x": [
          "2017-11-15T00:00:00",
          "2017-11-16T00:00:00",
          "2017-11-17T00:00:00",
          "2017-11-20T00:00:00",
          "2017-11-21T00:00:00",
          "2017-11-22T00:00:00",
          "2017-11-24T00:00:00",
          "2017-11-27T00:00:00",
          "2017-11-28T00:00:00",
          "2017-11-29T00:00:00",
          "2017-11-30T00:00:00",
          "2017-12-01T00:00:00",
          "2017-12-04T00:00:00",
          "2017-12-05T00:00:00",
          "2017-12-06T00:00:00",
          "2017-12-07T00:00:00",
          "2017-12-08T00:00:00",
          "2017-12-11T00:00:00",
          "2017-12-12T00:00:00",
          "2017-12-13T00:00:00",
          "2017-12-14T00:00:00",
          "2017-12-15T00:00:00",
          "2017-12-18T00:00:00",
          "2017-12-19T00:00:00",
          "2017-12-20T00:00:00",
          "2017-12-21T00:00:00",
          "2017-12-22T00:00:00",
          "2017-12-26T00:00:00",
          "2017-12-27T00:00:00",
          "2017-12-28T00:00:00",
          "2017-12-29T00:00:00"
         ],
         "y": [
          76.00703064946573,
          76.10717826591551,
          76.00838948317812,
          76.79523158869834,
          77.36738490148207,
          77.19922111907614,
          77.25316976184459,
          77.29611833103252,
          78.35788345660274,
          78.61871663382856,
          79.11247882494143,
          79.40989052114408,
          78.98325489536417,
          78.56499137433096,
          78.40253806917424,
          77.99260339223969,
          78.7187975132614,
          79.20678340265712,
          79.4198937881586,
          78.34173497577724,
          77.54522242740765,
          77.5541498351591,
          77.18064526414729,
          76.25944718630672,
          75.1688704515366,
          75.47098535630808,
          76.02445685183393,
          76.15161793494636,
          76.37681098960726,
          76.77706099663766,
          76.87412039612508
         ]
        },
        {
         "mode": "lines",
         "type": "scatter",
         "x": [
          "2017-11-15T00:00:00",
          "2017-11-16T00:00:00",
          "2017-11-17T00:00:00",
          "2017-11-20T00:00:00",
          "2017-11-21T00:00:00",
          "2017-11-22T00:00:00",
          "2017-11-24T00:00:00",
          "2017-11-27T00:00:00",
          "2017-11-28T00:00:00",
          "2017-11-29T00:00:00",
          "2017-11-30T00:00:00",
          "2017-12-01T00:00:00",
          "2017-12-04T00:00:00",
          "2017-12-05T00:00:00",
          "2017-12-06T00:00:00",
          "2017-12-07T00:00:00",
          "2017-12-08T00:00:00",
          "2017-12-11T00:00:00",
          "2017-12-12T00:00:00",
          "2017-12-13T00:00:00",
          "2017-12-14T00:00:00",
          "2017-12-15T00:00:00",
          "2017-12-18T00:00:00",
          "2017-12-19T00:00:00",
          "2017-12-20T00:00:00",
          "2017-12-21T00:00:00",
          "2017-12-22T00:00:00",
          "2017-12-26T00:00:00",
          "2017-12-27T00:00:00",
          "2017-12-28T00:00:00",
          "2017-12-29T00:00:00"
         ],
         "y": [
          75.97355748272732,
          76.39712009709379,
          76.65914072065432,
          76.64201755997517,
          78.57554049832913,
          77.22546703264604,
          76.9615163862428,
          77.25495165330271,
          78.60236579439793,
          79.6223191491301,
          79.30436276861677,
          80.1920764010299,
          79.39893327645198,
          78.54418152899004,
          78.92218057017354,
          78.01160883535111,
          79.45290270573929,
          79.49858116286339,
          79.08072736794809,
          78.12759304023504,
          77.4150153529798,
          77.75894226956383,
          77.66508736370984,
          76.75753605058385,
          75.26966425942244,
          74.68535190583601,
          75.38251199339815,
          76.01247711331405,
          75.79518880710339,
          76.61192545597379,
          76.48448397804275
         ]
        },
        {
         "mode": "lines",
         "type": "scatter",
         "x": [
          "2017-11-15T00:00:00",
          "2017-11-16T00:00:00",
          "2017-11-17T00:00:00",
          "2017-11-20T00:00:00",
          "2017-11-21T00:00:00",
          "2017-11-22T00:00:00",
          "2017-11-24T00:00:00",
          "2017-11-27T00:00:00",
          "2017-11-28T00:00:00",
          "2017-11-29T00:00:00",
          "2017-11-30T00:00:00",
          "2017-12-01T00:00:00",
          "2017-12-04T00:00:00",
          "2017-12-05T00:00:00",
          "2017-12-06T00:00:00",
          "2017-12-07T00:00:00",
          "2017-12-08T00:00:00",
          "2017-12-11T00:00:00",
          "2017-12-12T00:00:00",
          "2017-12-13T00:00:00",
          "2017-12-14T00:00:00",
          "2017-12-15T00:00:00",
          "2017-12-18T00:00:00",
          "2017-12-19T00:00:00",
          "2017-12-20T00:00:00",
          "2017-12-21T00:00:00",
          "2017-12-22T00:00:00",
          "2017-12-26T00:00:00",
          "2017-12-27T00:00:00",
          "2017-12-28T00:00:00",
          "2017-12-29T00:00:00"
         ],
         "y": [
          76.01731200820775,
          76.08874892875336,
          76.03921672669108,
          76.79740920424837,
          77.34830367639601,
          77.18360477929089,
          77.2593833149338,
          77.30650931769104,
          78.3383743079346,
          78.65246240255968,
          79.11573905350018,
          79.39042000209007,
          78.96770598081255,
          78.57143350068208,
          78.41531940758307,
          77.9742724138046,
          78.75363053026841,
          79.21037351507772,
          79.3995498293696,
          78.3257226001085,
          77.55122235790186,
          77.56560735839874,
          77.1642689699756,
          76.29447610199689,
          75.17309256835858,
          75.44958720267694,
          76.00665983408707,
          76.15685621688384,
          76.38651794148295,
          76.75851796715331,
          76.90634278989637
         ]
        },
        {
         "mode": "lines",
         "type": "scatter",
         "x": [
          "2017-11-15T00:00:00",
          "2017-11-16T00:00:00",
          "2017-11-17T00:00:00",
          "2017-11-20T00:00:00",
          "2017-11-21T00:00:00",
          "2017-11-22T00:00:00",
          "2017-11-24T00:00:00",
          "2017-11-27T00:00:00",
          "2017-11-28T00:00:00",
          "2017-11-29T00:00:00",
          "2017-11-30T00:00:00",
          "2017-12-01T00:00:00",
          "2017-12-04T00:00:00",
          "2017-12-05T00:00:00",
          "2017-12-06T00:00:00",
          "2017-12-07T00:00:00",
          "2017-12-08T00:00:00",
          "2017-12-11T00:00:00",
          "2017-12-12T00:00:00",
          "2017-12-13T00:00:00",
          "2017-12-14T00:00:00",
          "2017-12-15T00:00:00",
          "2017-12-18T00:00:00",
          "2017-12-19T00:00:00",
          "2017-12-20T00:00:00",
          "2017-12-21T00:00:00",
          "2017-12-22T00:00:00",
          "2017-12-26T00:00:00",
          "2017-12-27T00:00:00",
          "2017-12-28T00:00:00",
          "2017-12-29T00:00:00"
         ],
         "y": [
          75.97205014193165,
          76.1152700245041,
          76.00881825267075,
          76.78505716831921,
          77.34623013623363,
          77.19159167920316,
          77.23331086034166,
          77.32494359554283,
          78.36323586362519,
          78.60047527392476,
          79.12525142548017,
          79.44982403551073,
          79.00275470388411,
          78.57551952033369,
          78.3691229661593,
          78.00278053004347,
          78.71440235862914,
          79.1973530182915,
          79.39832536915499,
          78.33032021647942,
          77.51983747289397,
          77.56670416045837,
          77.18663594124243,
          76.23379724005572,
          75.17380555226002,
          75.49807836640363,
          76.04403061061994,
          76.16767100051693,
          76.35104701627593,
          76.77789618873948,
          76.86251069792158
         ]
        },
        {
         "mode": "lines",
         "type": "scatter",
         "x": [
          "2017-11-15T00:00:00",
          "2017-11-16T00:00:00",
          "2017-11-17T00:00:00",
          "2017-11-20T00:00:00",
          "2017-11-21T00:00:00",
          "2017-11-22T00:00:00",
          "2017-11-24T00:00:00",
          "2017-11-27T00:00:00",
          "2017-11-28T00:00:00",
          "2017-11-29T00:00:00",
          "2017-11-30T00:00:00",
          "2017-12-01T00:00:00",
          "2017-12-04T00:00:00",
          "2017-12-05T00:00:00",
          "2017-12-06T00:00:00",
          "2017-12-07T00:00:00",
          "2017-12-08T00:00:00",
          "2017-12-11T00:00:00",
          "2017-12-12T00:00:00",
          "2017-12-13T00:00:00",
          "2017-12-14T00:00:00",
          "2017-12-15T00:00:00",
          "2017-12-18T00:00:00",
          "2017-12-19T00:00:00",
          "2017-12-20T00:00:00",
          "2017-12-21T00:00:00",
          "2017-12-22T00:00:00",
          "2017-12-26T00:00:00",
          "2017-12-27T00:00:00",
          "2017-12-28T00:00:00",
          "2017-12-29T00:00:00"
         ],
         "y": [
          75.95335461233688,
          75.69580002974067,
          76.36817082341013,
          76.89355781170501,
          78.14922908742139,
          76.87657025195192,
          76.96265485190678,
          77.26552658254633,
          78.48876786409964,
          79.36521273475968,
          79.16569250536848,
          80.12910985650241,
          79.00811448749769,
          78.35540979922773,
          78.74573004779513,
          78.22539277113106,
          79.56869733919012,
          79.37482076374869,
          79.77510099031801,
          78.45241740799007,
          77.4488857661368,
          77.66141275439566,
          77.46122901448514,
          76.88267483130791,
          75.37706145703736,
          74.87306186466762,
          75.60331342629263,
          76.0536579909148,
          76.31770425099548,
          76.70865475926632,
          76.76718384791087
         ]
        },
        {
         "mode": "lines",
         "type": "scatter",
         "x": [
          "2017-11-15T00:00:00",
          "2017-11-16T00:00:00",
          "2017-11-17T00:00:00",
          "2017-11-20T00:00:00",
          "2017-11-21T00:00:00",
          "2017-11-22T00:00:00",
          "2017-11-24T00:00:00",
          "2017-11-27T00:00:00",
          "2017-11-28T00:00:00",
          "2017-11-29T00:00:00",
          "2017-11-30T00:00:00",
          "2017-12-01T00:00:00",
          "2017-12-04T00:00:00",
          "2017-12-05T00:00:00",
          "2017-12-06T00:00:00",
          "2017-12-07T00:00:00",
          "2017-12-08T00:00:00",
          "2017-12-11T00:00:00",
          "2017-12-12T00:00:00",
          "2017-12-13T00:00:00",
          "2017-12-14T00:00:00",
          "2017-12-15T00:00:00",
          "2017-12-18T00:00:00",
          "2017-12-19T00:00:00",
          "2017-12-20T00:00:00",
          "2017-12-21T00:00:00",
          "2017-12-22T00:00:00",
          "2017-12-26T00:00:00",
          "2017-12-27T00:00:00",
          "2017-12-28T00:00:00",
          "2017-12-29T00:00:00"
         ],
         "y": [
          76.01329549483792,
          76.09373982116877,
          76.0234798937088,
          76.80715679435406,
          77.33516358906226,
          77.20024558494461,
          77.2716706242219,
          77.30452570708869,
          78.33505031276508,
          78.61569876481757,
          79.11822459870388,
          79.35640500809474,
          78.95196114074425,
          78.56968745808152,
          78.41040120638745,
          77.97971989149988,
          78.72949068508092,
          79.19914113225477,
          79.40979480098774,
          78.32385561998235,
          77.55014857695812,
          77.54344721338373,
          77.1596508688005,
          76.26960442614583,
          75.16569679531891,
          75.47215458798868,
          76.02509275898605,
          76.15981566096454,
          76.39907899665069,
          76.75011545854251,
          76.89005580821966
         ]
        },
        {
         "mode": "lines",
         "type": "scatter",
         "x": [
          "2017-11-15T00:00:00",
          "2017-11-16T00:00:00",
          "2017-11-17T00:00:00",
          "2017-11-20T00:00:00",
          "2017-11-21T00:00:00",
          "2017-11-22T00:00:00",
          "2017-11-24T00:00:00",
          "2017-11-27T00:00:00",
          "2017-11-28T00:00:00",
          "2017-11-29T00:00:00",
          "2017-11-30T00:00:00",
          "2017-12-01T00:00:00",
          "2017-12-04T00:00:00",
          "2017-12-05T00:00:00",
          "2017-12-06T00:00:00",
          "2017-12-07T00:00:00",
          "2017-12-08T00:00:00",
          "2017-12-11T00:00:00",
          "2017-12-12T00:00:00",
          "2017-12-13T00:00:00",
          "2017-12-14T00:00:00",
          "2017-12-15T00:00:00",
          "2017-12-18T00:00:00",
          "2017-12-19T00:00:00",
          "2017-12-20T00:00:00",
          "2017-12-21T00:00:00",
          "2017-12-22T00:00:00",
          "2017-12-26T00:00:00",
          "2017-12-27T00:00:00",
          "2017-12-28T00:00:00",
          "2017-12-29T00:00:00"
         ],
         "y": [
          75.99490378483223,
          76.08019446083733,
          76.020331791065,
          76.78249759790378,
          77.33783039085841,
          77.20939842467253,
          77.23267511449006,
          77.31415766582258,
          78.34241986403471,
          78.61027646917717,
          79.09750870580041,
          79.39205881561253,
          78.96781206662924,
          78.59654598708757,
          78.3988298752067,
          77.99141070417035,
          78.71348366041778,
          79.19528817012132,
          79.42260704829538,
          78.37978924402496,
          77.54926390114164,
          77.558154650469,
          77.19316414421976,
          76.28491595547234,
          75.19605877142658,
          75.4581116708667,
          75.99756565916084,
          76.16816737360311,
          76.38419272320998,
          76.752801311146,
          76.8838245842249
         ]
        },
        {
         "mode": "lines",
         "type": "scatter",
         "x": [
          "2017-11-15T00:00:00",
          "2017-11-16T00:00:00",
          "2017-11-17T00:00:00",
          "2017-11-20T00:00:00",
          "2017-11-21T00:00:00",
          "2017-11-22T00:00:00",
          "2017-11-24T00:00:00",
          "2017-11-27T00:00:00",
          "2017-11-28T00:00:00",
          "2017-11-29T00:00:00",
          "2017-11-30T00:00:00",
          "2017-12-01T00:00:00",
          "2017-12-04T00:00:00",
          "2017-12-05T00:00:00",
          "2017-12-06T00:00:00",
          "2017-12-07T00:00:00",
          "2017-12-08T00:00:00",
          "2017-12-11T00:00:00",
          "2017-12-12T00:00:00",
          "2017-12-13T00:00:00",
          "2017-12-14T00:00:00",
          "2017-12-15T00:00:00",
          "2017-12-18T00:00:00",
          "2017-12-19T00:00:00",
          "2017-12-20T00:00:00",
          "2017-12-21T00:00:00",
          "2017-12-22T00:00:00",
          "2017-12-26T00:00:00",
          "2017-12-27T00:00:00",
          "2017-12-28T00:00:00",
          "2017-12-29T00:00:00"
         ],
         "y": [
          75.98870205241911,
          76.7350305397815,
          77.05864190801891,
          76.67415141255756,
          79.18468465224112,
          77.91563851384193,
          77.10759861045425,
          77.34928373410641,
          78.16703262557817,
          79.64675745621793,
          79.46717282554036,
          79.25210937372158,
          78.980940881074,
          78.55473401690215,
          79.4079315937733,
          78.17464197374088,
          79.17597319612058,
          79.5019403720173,
          78.79851947287099,
          77.96561107202956,
          77.17088993206978,
          77.05665020808061,
          77.89262993980817,
          76.72563629115449,
          75.05964057902834,
          74.40099553537,
          75.23571871137442,
          76.22483308584782,
          75.75380511415379,
          75.78925264171792,
          75.6982471560985
         ]
        },
        {
         "mode": "lines",
         "type": "scatter",
         "x": [
          "2017-11-15T00:00:00",
          "2017-11-16T00:00:00",
          "2017-11-17T00:00:00",
          "2017-11-20T00:00:00",
          "2017-11-21T00:00:00",
          "2017-11-22T00:00:00",
          "2017-11-24T00:00:00",
          "2017-11-27T00:00:00",
          "2017-11-28T00:00:00",
          "2017-11-29T00:00:00",
          "2017-11-30T00:00:00",
          "2017-12-01T00:00:00",
          "2017-12-04T00:00:00",
          "2017-12-05T00:00:00",
          "2017-12-06T00:00:00",
          "2017-12-07T00:00:00",
          "2017-12-08T00:00:00",
          "2017-12-11T00:00:00",
          "2017-12-12T00:00:00",
          "2017-12-13T00:00:00",
          "2017-12-14T00:00:00",
          "2017-12-15T00:00:00",
          "2017-12-18T00:00:00",
          "2017-12-19T00:00:00",
          "2017-12-20T00:00:00",
          "2017-12-21T00:00:00",
          "2017-12-22T00:00:00",
          "2017-12-26T00:00:00",
          "2017-12-27T00:00:00",
          "2017-12-28T00:00:00",
          "2017-12-29T00:00:00"
         ],
         "y": [
          75.97951411613803,
          76.12042690694574,
          75.99546874894787,
          76.80581596071872,
          77.35635108417652,
          77.18923551748517,
          77.25575518527397,
          77.29710939922697,
          78.35659016634037,
          78.61587042161425,
          79.09410420973921,
          79.42267446892579,
          78.96318343285942,
          78.58190156214735,
          78.39560874341832,
          78.0045624077848,
          78.71282158680155,
          79.21839607729251,
          79.3947409048069,
          78.35748065696666,
          77.5356277096998,
          77.58575503920478,
          77.1657907009944,
          76.27091282296942,
          75.17046750924158,
          75.49190872287942,
          76.02810758857632,
          76.14219367731351,
          76.37572364464694,
          76.77910664472442,
          76.87089340183377
         ]
        },
        {
         "mode": "lines",
         "type": "scatter",
         "x": [
          "2017-11-15T00:00:00",
          "2017-11-16T00:00:00",
          "2017-11-17T00:00:00",
          "2017-11-20T00:00:00",
          "2017-11-21T00:00:00",
          "2017-11-22T00:00:00",
          "2017-11-24T00:00:00",
          "2017-11-27T00:00:00",
          "2017-11-28T00:00:00",
          "2017-11-29T00:00:00",
          "2017-11-30T00:00:00",
          "2017-12-01T00:00:00",
          "2017-12-04T00:00:00",
          "2017-12-05T00:00:00",
          "2017-12-06T00:00:00",
          "2017-12-07T00:00:00",
          "2017-12-08T00:00:00",
          "2017-12-11T00:00:00",
          "2017-12-12T00:00:00",
          "2017-12-13T00:00:00",
          "2017-12-14T00:00:00",
          "2017-12-15T00:00:00",
          "2017-12-18T00:00:00",
          "2017-12-19T00:00:00",
          "2017-12-20T00:00:00",
          "2017-12-21T00:00:00",
          "2017-12-22T00:00:00",
          "2017-12-26T00:00:00",
          "2017-12-27T00:00:00",
          "2017-12-28T00:00:00",
          "2017-12-29T00:00:00"
         ],
         "y": [
          76.03503822556206,
          75.99983007161882,
          76.18831404248554,
          76.8382051983997,
          77.39458539315868,
          77.09445340438825,
          77.12893688480432,
          77.327551061158,
          78.27082449760097,
          78.81515828710174,
          79.17304633169344,
          79.39438753440643,
          78.87526892726075,
          78.43030812755885,
          78.50736763494348,
          77.87387151350683,
          78.99394161675366,
          79.23490326178329,
          79.39075394092984,
          78.18040960501094,
          77.41954463572362,
          77.60616854978967,
          77.1154270312714,
          76.47099434329887,
          75.19715111387734,
          75.41592330951593,
          75.88040465876448,
          76.01690139525775,
          76.39210478496125,
          76.65806053984946,
          77.0088572800795
         ]
        },
        {
         "mode": "lines",
         "type": "scatter",
         "x": [
          "2017-11-15T00:00:00",
          "2017-11-16T00:00:00",
          "2017-11-17T00:00:00",
          "2017-11-20T00:00:00",
          "2017-11-21T00:00:00",
          "2017-11-22T00:00:00",
          "2017-11-24T00:00:00",
          "2017-11-27T00:00:00",
          "2017-11-28T00:00:00",
          "2017-11-29T00:00:00",
          "2017-11-30T00:00:00",
          "2017-12-01T00:00:00",
          "2017-12-04T00:00:00",
          "2017-12-05T00:00:00",
          "2017-12-06T00:00:00",
          "2017-12-07T00:00:00",
          "2017-12-08T00:00:00",
          "2017-12-11T00:00:00",
          "2017-12-12T00:00:00",
          "2017-12-13T00:00:00",
          "2017-12-14T00:00:00",
          "2017-12-15T00:00:00",
          "2017-12-18T00:00:00",
          "2017-12-19T00:00:00",
          "2017-12-20T00:00:00",
          "2017-12-21T00:00:00",
          "2017-12-22T00:00:00",
          "2017-12-26T00:00:00",
          "2017-12-27T00:00:00",
          "2017-12-28T00:00:00",
          "2017-12-29T00:00:00"
         ],
         "y": [
          75.95720094073576,
          76.4002727265204,
          76.65079044607351,
          76.63392230246367,
          78.59166357728937,
          77.2227318776461,
          76.91231459104088,
          77.31504630336775,
          78.55692963170088,
          79.6905121357859,
          79.23274695012238,
          80.24404076539709,
          79.36954665502226,
          78.53484284842429,
          78.92009095837572,
          78.01614223395173,
          79.41705153986993,
          79.56795136329025,
          79.00659327667826,
          78.18899545263396,
          77.3461710110311,
          77.81217928374285,
          77.63539939746416,
          76.75848741553261,
          75.24006509232089,
          74.6823601692847,
          75.40959617305374,
          76.02510310060482,
          75.78629203935772,
          76.62312674820886,
          76.50352670821279
         ]
        },
        {
         "mode": "lines",
         "type": "scatter",
         "x": [
          "2017-11-15T00:00:00",
          "2017-11-16T00:00:00",
          "2017-11-17T00:00:00",
          "2017-11-20T00:00:00",
          "2017-11-21T00:00:00",
          "2017-11-22T00:00:00",
          "2017-11-24T00:00:00",
          "2017-11-27T00:00:00",
          "2017-11-28T00:00:00",
          "2017-11-29T00:00:00",
          "2017-11-30T00:00:00",
          "2017-12-01T00:00:00",
          "2017-12-04T00:00:00",
          "2017-12-05T00:00:00",
          "2017-12-06T00:00:00",
          "2017-12-07T00:00:00",
          "2017-12-08T00:00:00",
          "2017-12-11T00:00:00",
          "2017-12-12T00:00:00",
          "2017-12-13T00:00:00",
          "2017-12-14T00:00:00",
          "2017-12-15T00:00:00",
          "2017-12-18T00:00:00",
          "2017-12-19T00:00:00",
          "2017-12-20T00:00:00",
          "2017-12-21T00:00:00",
          "2017-12-22T00:00:00",
          "2017-12-26T00:00:00",
          "2017-12-27T00:00:00",
          "2017-12-28T00:00:00",
          "2017-12-29T00:00:00"
         ],
         "y": [
          76.04866418778437,
          75.94874837487264,
          76.13923900293457,
          76.87509395422616,
          77.30026137197025,
          77.04268118117588,
          77.14977659412642,
          77.3266772304112,
          78.32818367906837,
          78.75723867515279,
          79.18097183049555,
          79.38556606406657,
          78.85704981322786,
          78.41962020541594,
          78.449424207401,
          77.82352687424371,
          79.0228014687854,
          79.2133178704017,
          79.42952263789623,
          78.12889256423497,
          77.43800075636369,
          77.62824328652424,
          77.04571895146002,
          76.4005591564476,
          75.14499474079405,
          75.49610607684558,
          75.94246935793082,
          76.03225432534234,
          76.43754557385049,
          76.72059579028958,
          77.08274432159786
         ]
        },
        {
         "mode": "lines",
         "type": "scatter",
         "x": [
          "2017-11-15T00:00:00",
          "2017-11-16T00:00:00",
          "2017-11-17T00:00:00",
          "2017-11-20T00:00:00",
          "2017-11-21T00:00:00",
          "2017-11-22T00:00:00",
          "2017-11-24T00:00:00",
          "2017-11-27T00:00:00",
          "2017-11-28T00:00:00",
          "2017-11-29T00:00:00",
          "2017-11-30T00:00:00",
          "2017-12-01T00:00:00",
          "2017-12-04T00:00:00",
          "2017-12-05T00:00:00",
          "2017-12-06T00:00:00",
          "2017-12-07T00:00:00",
          "2017-12-08T00:00:00",
          "2017-12-11T00:00:00",
          "2017-12-12T00:00:00",
          "2017-12-13T00:00:00",
          "2017-12-14T00:00:00",
          "2017-12-15T00:00:00",
          "2017-12-18T00:00:00",
          "2017-12-19T00:00:00",
          "2017-12-20T00:00:00",
          "2017-12-21T00:00:00",
          "2017-12-22T00:00:00",
          "2017-12-26T00:00:00",
          "2017-12-27T00:00:00",
          "2017-12-28T00:00:00",
          "2017-12-29T00:00:00"
         ],
         "y": [
          75.94290798966337,
          76.11535086452312,
          76.00159292336213,
          76.81200302086292,
          77.36998159828741,
          77.21383285709005,
          77.23313253770418,
          77.32017477010048,
          78.37968512831772,
          78.60892026750747,
          79.10023905325836,
          79.43166974345739,
          78.93624935206151,
          78.59803598424315,
          78.37785098468865,
          77.99852965847447,
          78.71769121285303,
          79.22466656071724,
          79.39327218580073,
          78.37055933089681,
          77.49710403154683,
          77.58667208793148,
          77.18153384039147,
          76.24775813789203,
          75.16286601085216,
          75.48314216727293,
          76.01702337444749,
          76.15976961428419,
          76.36649904392583,
          76.75533626627156,
          76.85154614395465
         ]
        },
        {
         "mode": "lines",
         "type": "scatter",
         "x": [
          "2017-11-15T00:00:00",
          "2017-11-16T00:00:00",
          "2017-11-17T00:00:00",
          "2017-11-20T00:00:00",
          "2017-11-21T00:00:00",
          "2017-11-22T00:00:00",
          "2017-11-24T00:00:00",
          "2017-11-27T00:00:00",
          "2017-11-28T00:00:00",
          "2017-11-29T00:00:00",
          "2017-11-30T00:00:00",
          "2017-12-01T00:00:00",
          "2017-12-04T00:00:00",
          "2017-12-05T00:00:00",
          "2017-12-06T00:00:00",
          "2017-12-07T00:00:00",
          "2017-12-08T00:00:00",
          "2017-12-11T00:00:00",
          "2017-12-12T00:00:00",
          "2017-12-13T00:00:00",
          "2017-12-14T00:00:00",
          "2017-12-15T00:00:00",
          "2017-12-18T00:00:00",
          "2017-12-19T00:00:00",
          "2017-12-20T00:00:00",
          "2017-12-21T00:00:00",
          "2017-12-22T00:00:00",
          "2017-12-26T00:00:00",
          "2017-12-27T00:00:00",
          "2017-12-28T00:00:00",
          "2017-12-29T00:00:00"
         ],
         "y": [
          75.94688370246932,
          75.67703660172164,
          76.38853511836646,
          76.89963576110361,
          78.16824560810952,
          76.87088691054726,
          76.96438222373183,
          77.29800104778326,
          78.45539316859775,
          79.39445946268303,
          79.1218936847883,
          80.13631822398773,
          78.95164893078763,
          78.3493306305779,
          78.76702160380027,
          78.22298998004212,
          79.55998054876395,
          79.39729483727633,
          79.7424946337225,
          78.4782735653264,
          77.38253067206934,
          77.69202592479564,
          77.42592931004674,
          76.88685629273485,
          75.34110577981548,
          74.87772792047251,
          75.63294381175996,
          76.06098480669266,
          76.32231637899389,
          76.69408249381816,
          76.74573811928896
         ]
        },
        {
         "mode": "lines",
         "type": "scatter",
         "x": [
          "2017-11-15T00:00:00",
          "2017-11-16T00:00:00",
          "2017-11-17T00:00:00",
          "2017-11-20T00:00:00",
          "2017-11-21T00:00:00",
          "2017-11-22T00:00:00",
          "2017-11-24T00:00:00",
          "2017-11-27T00:00:00",
          "2017-11-28T00:00:00",
          "2017-11-29T00:00:00",
          "2017-11-30T00:00:00",
          "2017-12-01T00:00:00",
          "2017-12-04T00:00:00",
          "2017-12-05T00:00:00",
          "2017-12-06T00:00:00",
          "2017-12-07T00:00:00",
          "2017-12-08T00:00:00",
          "2017-12-11T00:00:00",
          "2017-12-12T00:00:00",
          "2017-12-13T00:00:00",
          "2017-12-14T00:00:00",
          "2017-12-15T00:00:00",
          "2017-12-18T00:00:00",
          "2017-12-19T00:00:00",
          "2017-12-20T00:00:00",
          "2017-12-21T00:00:00",
          "2017-12-22T00:00:00",
          "2017-12-26T00:00:00",
          "2017-12-27T00:00:00",
          "2017-12-28T00:00:00",
          "2017-12-29T00:00:00"
         ],
         "y": [
          76.02287954137198,
          76.00324328474537,
          76.10951049275994,
          76.85128849231705,
          77.3006752971634,
          77.07973876256253,
          77.21416701892312,
          77.32099175411646,
          78.318450002005,
          78.74354893586336,
          79.15163430840072,
          79.38540827796716,
          78.89173501889512,
          78.5173570779836,
          78.4349635805238,
          77.87671379404233,
          78.92302127585502,
          79.23724976413854,
          79.36451284408663,
          78.21334184532103,
          77.49908663141842,
          77.63069975625338,
          77.0744416769121,
          76.38230217237457,
          75.1704945485537,
          75.44579127108312,
          75.95026473231628,
          76.09758552527877,
          76.40728159844394,
          76.7237278705022,
          77.02043231166101
         ]
        },
        {
         "mode": "lines",
         "type": "scatter",
         "x": [
          "2017-11-15T00:00:00",
          "2017-11-16T00:00:00",
          "2017-11-17T00:00:00",
          "2017-11-20T00:00:00",
          "2017-11-21T00:00:00",
          "2017-11-22T00:00:00",
          "2017-11-24T00:00:00",
          "2017-11-27T00:00:00",
          "2017-11-28T00:00:00",
          "2017-11-29T00:00:00",
          "2017-11-30T00:00:00",
          "2017-12-01T00:00:00",
          "2017-12-04T00:00:00",
          "2017-12-05T00:00:00",
          "2017-12-06T00:00:00",
          "2017-12-07T00:00:00",
          "2017-12-08T00:00:00",
          "2017-12-11T00:00:00",
          "2017-12-12T00:00:00",
          "2017-12-13T00:00:00",
          "2017-12-14T00:00:00",
          "2017-12-15T00:00:00",
          "2017-12-18T00:00:00",
          "2017-12-19T00:00:00",
          "2017-12-20T00:00:00",
          "2017-12-21T00:00:00",
          "2017-12-22T00:00:00",
          "2017-12-26T00:00:00",
          "2017-12-27T00:00:00",
          "2017-12-28T00:00:00",
          "2017-12-29T00:00:00"
         ],
         "y": [
          75.98082320581582,
          76.0559604313285,
          76.07934569651157,
          76.83734528687478,
          77.33979986374058,
          77.17500700598683,
          77.23104367287216,
          77.33323773190908,
          78.3402466979764,
          78.69871520009545,
          79.11105482866009,
          79.36151595139711,
          78.89116475694246,
          78.60993837366362,
          78.4265939636095,
          77.94137460825293,
          78.81669323973802,
          79.24084946327442,
          79.35916687020135,
          78.31154613422187,
          77.49501648084997,
          77.59288328213827,
          77.13234711925989,
          76.33223586027967,
          75.1577283055114,
          75.41811609287637,
          75.9775849906174,
          76.17041570485857,
          76.40867167172017,
          76.70209809350577,
          76.92377599133901
         ]
        },
        {
         "mode": "lines",
         "type": "scatter",
         "x": [
          "2017-11-15T00:00:00",
          "2017-11-16T00:00:00",
          "2017-11-17T00:00:00",
          "2017-11-20T00:00:00",
          "2017-11-21T00:00:00",
          "2017-11-22T00:00:00",
          "2017-11-24T00:00:00",
          "2017-11-27T00:00:00",
          "2017-11-28T00:00:00",
          "2017-11-29T00:00:00",
          "2017-11-30T00:00:00",
          "2017-12-01T00:00:00",
          "2017-12-04T00:00:00",
          "2017-12-05T00:00:00",
          "2017-12-06T00:00:00",
          "2017-12-07T00:00:00",
          "2017-12-08T00:00:00",
          "2017-12-11T00:00:00",
          "2017-12-12T00:00:00",
          "2017-12-13T00:00:00",
          "2017-12-14T00:00:00",
          "2017-12-15T00:00:00",
          "2017-12-18T00:00:00",
          "2017-12-19T00:00:00",
          "2017-12-20T00:00:00",
          "2017-12-21T00:00:00",
          "2017-12-22T00:00:00",
          "2017-12-26T00:00:00",
          "2017-12-27T00:00:00",
          "2017-12-28T00:00:00",
          "2017-12-29T00:00:00"
         ],
         "y": [
          76.00301179958356,
          76.76366954981937,
          77.08168011099103,
          76.6974241303202,
          79.11991251637981,
          77.99495811904787,
          77.1790726067183,
          77.23561415258786,
          78.19798723387889,
          79.56053158485373,
          79.58165047560867,
          79.20084506900251,
          79.02716486924245,
          78.5333886856104,
          79.4442531804405,
          78.18332146199431,
          79.21896670256506,
          79.36454568699673,
          78.94380701043069,
          77.8723496111463,
          77.28712485178126,
          76.94312223326003,
          77.95859698251877,
          76.73865641701514,
          75.18226513110419,
          74.29337910689634,
          75.19071292876758,
          76.1629628537595,
          75.83321321466599,
          75.7280305543831,
          75.68296447435232
         ]
        },
        {
         "mode": "lines",
         "type": "scatter",
         "x": [
          "2017-11-15T00:00:00",
          "2017-11-16T00:00:00",
          "2017-11-17T00:00:00",
          "2017-11-20T00:00:00",
          "2017-11-21T00:00:00",
          "2017-11-22T00:00:00",
          "2017-11-24T00:00:00",
          "2017-11-27T00:00:00",
          "2017-11-28T00:00:00",
          "2017-11-29T00:00:00",
          "2017-11-30T00:00:00",
          "2017-12-01T00:00:00",
          "2017-12-04T00:00:00",
          "2017-12-05T00:00:00",
          "2017-12-06T00:00:00",
          "2017-12-07T00:00:00",
          "2017-12-08T00:00:00",
          "2017-12-11T00:00:00",
          "2017-12-12T00:00:00",
          "2017-12-13T00:00:00",
          "2017-12-14T00:00:00",
          "2017-12-15T00:00:00",
          "2017-12-18T00:00:00",
          "2017-12-19T00:00:00",
          "2017-12-20T00:00:00",
          "2017-12-21T00:00:00",
          "2017-12-22T00:00:00",
          "2017-12-26T00:00:00",
          "2017-12-27T00:00:00",
          "2017-12-28T00:00:00",
          "2017-12-29T00:00:00"
         ],
         "y": [
          75.8979997454002,
          76.08089881894156,
          75.9662419973634,
          76.78581200647969,
          77.34231301978868,
          77.14534549506176,
          77.23636644579305,
          77.28388482740263,
          78.34733665994982,
          78.59449593218628,
          79.05430087590945,
          79.39758461331559,
          78.93360537456135,
          78.56552008410317,
          78.40870706360437,
          78.01320667525617,
          78.73546104302623,
          79.22761369756414,
          79.37952274614574,
          78.33951873976693,
          77.54864064445582,
          77.62003418070509,
          77.20813923955251,
          76.28612230238964,
          75.22382274738929,
          75.5475310139711,
          76.09077072623494,
          76.14943894764069,
          76.37925562788725,
          76.77875539998432,
          76.86096533941455
         ]
        },
        {
         "mode": "lines",
         "type": "scatter",
         "x": [
          "2017-11-15T00:00:00",
          "2017-11-16T00:00:00",
          "2017-11-17T00:00:00",
          "2017-11-20T00:00:00",
          "2017-11-21T00:00:00",
          "2017-11-22T00:00:00",
          "2017-11-24T00:00:00",
          "2017-11-27T00:00:00",
          "2017-11-28T00:00:00",
          "2017-11-29T00:00:00",
          "2017-11-30T00:00:00",
          "2017-12-01T00:00:00",
          "2017-12-04T00:00:00",
          "2017-12-05T00:00:00",
          "2017-12-06T00:00:00",
          "2017-12-07T00:00:00",
          "2017-12-08T00:00:00",
          "2017-12-11T00:00:00",
          "2017-12-12T00:00:00",
          "2017-12-13T00:00:00",
          "2017-12-14T00:00:00",
          "2017-12-15T00:00:00",
          "2017-12-18T00:00:00",
          "2017-12-19T00:00:00",
          "2017-12-20T00:00:00",
          "2017-12-21T00:00:00",
          "2017-12-22T00:00:00",
          "2017-12-26T00:00:00",
          "2017-12-27T00:00:00",
          "2017-12-28T00:00:00",
          "2017-12-29T00:00:00"
         ],
         "y": [
          75.98455291548571,
          76.04702621559079,
          76.09368479632866,
          76.80581864036806,
          77.31932577246047,
          77.13376040029104,
          77.25423524428672,
          77.32139088650726,
          78.2944535264672,
          78.7045205272715,
          79.10600132717848,
          79.35200659629658,
          78.92147795640805,
          78.57420433383719,
          78.4551300356205,
          77.94880644960034,
          78.83164025757554,
          79.22526087332483,
          79.34122396167652,
          78.28674432630844,
          77.5584523513103,
          77.61179227805152,
          77.1494764126463,
          76.37099148748474,
          75.213579961951,
          75.43967426182836,
          75.98340923518178,
          76.13850512205262,
          76.38734553299393,
          76.71066443412558,
          76.94466899701973
         ]
        },
        {
         "mode": "lines",
         "type": "scatter",
         "x": [
          "2017-11-15T00:00:00",
          "2017-11-16T00:00:00",
          "2017-11-17T00:00:00",
          "2017-11-20T00:00:00",
          "2017-11-21T00:00:00",
          "2017-11-22T00:00:00",
          "2017-11-24T00:00:00",
          "2017-11-27T00:00:00",
          "2017-11-28T00:00:00",
          "2017-11-29T00:00:00",
          "2017-11-30T00:00:00",
          "2017-12-01T00:00:00",
          "2017-12-04T00:00:00",
          "2017-12-05T00:00:00",
          "2017-12-06T00:00:00",
          "2017-12-07T00:00:00",
          "2017-12-08T00:00:00",
          "2017-12-11T00:00:00",
          "2017-12-12T00:00:00",
          "2017-12-13T00:00:00",
          "2017-12-14T00:00:00",
          "2017-12-15T00:00:00",
          "2017-12-18T00:00:00",
          "2017-12-19T00:00:00",
          "2017-12-20T00:00:00",
          "2017-12-21T00:00:00",
          "2017-12-22T00:00:00",
          "2017-12-26T00:00:00",
          "2017-12-27T00:00:00",
          "2017-12-28T00:00:00",
          "2017-12-29T00:00:00"
         ],
         "y": [
          75.97558890609083,
          76.39814622588032,
          76.65738586086857,
          76.6423458309195,
          78.57345035004808,
          77.22082324948637,
          76.96259323482978,
          77.25273218133033,
          78.60559087782454,
          79.62219387097672,
          79.30467590279498,
          80.19561050816374,
          79.39767781286453,
          78.54386892409667,
          78.91838243393201,
          78.00825502303925,
          79.45531409346366,
          79.49620729161991,
          79.08268873424994,
          78.12681906815604,
          77.4147887648958,
          77.76101829261283,
          77.66186010613349,
          76.75625289460335,
          75.26710371402979,
          74.68556587582697,
          75.38248004783448,
          76.01271983065462,
          75.7974805545414,
          76.61721031151555,
          76.48758380513159
         ]
        },
        {
         "mode": "lines",
         "type": "scatter",
         "x": [
          "2017-11-15T00:00:00",
          "2017-11-16T00:00:00",
          "2017-11-17T00:00:00",
          "2017-11-20T00:00:00",
          "2017-11-21T00:00:00",
          "2017-11-22T00:00:00",
          "2017-11-24T00:00:00",
          "2017-11-27T00:00:00",
          "2017-11-28T00:00:00",
          "2017-11-29T00:00:00",
          "2017-11-30T00:00:00",
          "2017-12-01T00:00:00",
          "2017-12-04T00:00:00",
          "2017-12-05T00:00:00",
          "2017-12-06T00:00:00",
          "2017-12-07T00:00:00",
          "2017-12-08T00:00:00",
          "2017-12-11T00:00:00",
          "2017-12-12T00:00:00",
          "2017-12-13T00:00:00",
          "2017-12-14T00:00:00",
          "2017-12-15T00:00:00",
          "2017-12-18T00:00:00",
          "2017-12-19T00:00:00",
          "2017-12-20T00:00:00",
          "2017-12-21T00:00:00",
          "2017-12-22T00:00:00",
          "2017-12-26T00:00:00",
          "2017-12-27T00:00:00",
          "2017-12-28T00:00:00",
          "2017-12-29T00:00:00"
         ],
         "y": [
          75.90082432281129,
          76.08354686724412,
          75.98504240094152,
          76.78654213315872,
          77.35907111294286,
          77.15129359176117,
          77.23784230789757,
          77.28684789909113,
          78.3427924450622,
          78.61461470405203,
          79.06126934043264,
          79.39179417859755,
          78.93066980777783,
          78.56579745388528,
          78.42236115153558,
          78.00944707832441,
          78.75075980052574,
          79.23218822280423,
          79.36970244616705,
          78.32978256964057,
          77.5445947326413,
          77.61484326041919,
          77.2109572180739,
          76.29720511281513,
          75.22178183429328,
          75.52899475876228,
          76.07888146838499,
          76.1512262959917,
          76.37531548726649,
          76.76299039283754,
          76.85529113524879
         ]
        },
        {
         "mode": "lines",
         "type": "scatter",
         "x": [
          "2017-11-15T00:00:00",
          "2017-11-16T00:00:00",
          "2017-11-17T00:00:00",
          "2017-11-20T00:00:00",
          "2017-11-21T00:00:00",
          "2017-11-22T00:00:00",
          "2017-11-24T00:00:00",
          "2017-11-27T00:00:00",
          "2017-11-28T00:00:00",
          "2017-11-29T00:00:00",
          "2017-11-30T00:00:00",
          "2017-12-01T00:00:00",
          "2017-12-04T00:00:00",
          "2017-12-05T00:00:00",
          "2017-12-06T00:00:00",
          "2017-12-07T00:00:00",
          "2017-12-08T00:00:00",
          "2017-12-11T00:00:00",
          "2017-12-12T00:00:00",
          "2017-12-13T00:00:00",
          "2017-12-14T00:00:00",
          "2017-12-15T00:00:00",
          "2017-12-18T00:00:00",
          "2017-12-19T00:00:00",
          "2017-12-20T00:00:00",
          "2017-12-21T00:00:00",
          "2017-12-22T00:00:00",
          "2017-12-26T00:00:00",
          "2017-12-27T00:00:00",
          "2017-12-28T00:00:00",
          "2017-12-29T00:00:00"
         ],
         "y": [
          75.84084544259855,
          76.11558654111597,
          75.98079157411061,
          76.75726276502361,
          77.27821123284613,
          77.11134469993715,
          77.19418657065637,
          77.34047756611594,
          78.32440148860597,
          78.57159458018636,
          79.08826476570876,
          79.47811710818907,
          78.98149689308498,
          78.60400758049737,
          78.35494983265131,
          78.04924417235559,
          78.74211423028635,
          79.19613550459341,
          79.311546036263,
          78.29913971594638,
          77.50327478663145,
          77.65611565849927,
          77.18966697775821,
          76.25842183202974,
          75.24907267380227,
          75.61110813906224,
          76.12853132211444,
          76.18826756494515,
          76.32804055974263,
          76.79797069774395,
          76.8534978018532
         ]
        },
        {
         "mode": "lines",
         "type": "scatter",
         "x": [
          "2017-11-15T00:00:00",
          "2017-11-16T00:00:00",
          "2017-11-17T00:00:00",
          "2017-11-20T00:00:00",
          "2017-11-21T00:00:00",
          "2017-11-22T00:00:00",
          "2017-11-24T00:00:00",
          "2017-11-27T00:00:00",
          "2017-11-28T00:00:00",
          "2017-11-29T00:00:00",
          "2017-11-30T00:00:00",
          "2017-12-01T00:00:00",
          "2017-12-04T00:00:00",
          "2017-12-05T00:00:00",
          "2017-12-06T00:00:00",
          "2017-12-07T00:00:00",
          "2017-12-08T00:00:00",
          "2017-12-11T00:00:00",
          "2017-12-12T00:00:00",
          "2017-12-13T00:00:00",
          "2017-12-14T00:00:00",
          "2017-12-15T00:00:00",
          "2017-12-18T00:00:00",
          "2017-12-19T00:00:00",
          "2017-12-20T00:00:00",
          "2017-12-21T00:00:00",
          "2017-12-22T00:00:00",
          "2017-12-26T00:00:00",
          "2017-12-27T00:00:00",
          "2017-12-28T00:00:00",
          "2017-12-29T00:00:00"
         ],
         "y": [
          75.95131323393622,
          75.69772526335628,
          76.36595572844399,
          76.89142356073314,
          78.14510902115758,
          76.87166572255295,
          76.96552299542898,
          77.26177285856514,
          78.49235857086916,
          79.36248306858042,
          79.16622657762922,
          80.1369063464312,
          79.01056196211239,
          78.36102708813726,
          78.74196768429444,
          78.22261824428556,
          79.57392469746895,
          79.37164300540661,
          79.77698068250213,
          78.452090269433,
          77.45550640724204,
          77.668145130891,
          77.45771336971248,
          76.885201071241,
          75.38032146210624,
          74.87982813947983,
          75.60080382404404,
          76.04849735427972,
          76.3165544234042,
          76.71433319780168,
          76.77127439267096
         ]
        },
        {
         "mode": "lines",
         "type": "scatter",
         "x": [
          "2017-11-15T00:00:00",
          "2017-11-16T00:00:00",
          "2017-11-17T00:00:00",
          "2017-11-20T00:00:00",
          "2017-11-21T00:00:00",
          "2017-11-22T00:00:00",
          "2017-11-24T00:00:00",
          "2017-11-27T00:00:00",
          "2017-11-28T00:00:00",
          "2017-11-29T00:00:00",
          "2017-11-30T00:00:00",
          "2017-12-01T00:00:00",
          "2017-12-04T00:00:00",
          "2017-12-05T00:00:00",
          "2017-12-06T00:00:00",
          "2017-12-07T00:00:00",
          "2017-12-08T00:00:00",
          "2017-12-11T00:00:00",
          "2017-12-12T00:00:00",
          "2017-12-13T00:00:00",
          "2017-12-14T00:00:00",
          "2017-12-15T00:00:00",
          "2017-12-18T00:00:00",
          "2017-12-19T00:00:00",
          "2017-12-20T00:00:00",
          "2017-12-21T00:00:00",
          "2017-12-22T00:00:00",
          "2017-12-26T00:00:00",
          "2017-12-27T00:00:00",
          "2017-12-28T00:00:00",
          "2017-12-29T00:00:00"
         ],
         "y": [
          75.95982462247846,
          76.00643802276109,
          76.19399083565305,
          76.80847219025713,
          77.3572361318499,
          77.15778811023246,
          77.17295475563553,
          77.32316471458023,
          78.1563977378918,
          78.71983102458557,
          79.13475415336377,
          79.24246793520471,
          78.83787737722317,
          78.47729727974934,
          78.55518716753514,
          77.9493901040139,
          78.90458876890325,
          79.1938463106534,
          79.34472763650189,
          78.23535586815629,
          77.49761955551703,
          77.55795542705683,
          77.17417089789296,
          76.52407756938288,
          75.31812426684718,
          75.44647658699922,
          75.87015394026017,
          76.01766441161554,
          76.37214507288185,
          76.54381726263863,
          76.90189170682727
         ]
        },
        {
         "mode": "lines",
         "type": "scatter",
         "x": [
          "2017-11-15T00:00:00",
          "2017-11-16T00:00:00",
          "2017-11-17T00:00:00",
          "2017-11-20T00:00:00",
          "2017-11-21T00:00:00",
          "2017-11-22T00:00:00",
          "2017-11-24T00:00:00",
          "2017-11-27T00:00:00",
          "2017-11-28T00:00:00",
          "2017-11-29T00:00:00",
          "2017-11-30T00:00:00",
          "2017-12-01T00:00:00",
          "2017-12-04T00:00:00",
          "2017-12-05T00:00:00",
          "2017-12-06T00:00:00",
          "2017-12-07T00:00:00",
          "2017-12-08T00:00:00",
          "2017-12-11T00:00:00",
          "2017-12-12T00:00:00",
          "2017-12-13T00:00:00",
          "2017-12-14T00:00:00",
          "2017-12-15T00:00:00",
          "2017-12-18T00:00:00",
          "2017-12-19T00:00:00",
          "2017-12-20T00:00:00",
          "2017-12-21T00:00:00",
          "2017-12-22T00:00:00",
          "2017-12-26T00:00:00",
          "2017-12-27T00:00:00",
          "2017-12-28T00:00:00",
          "2017-12-29T00:00:00"
         ],
         "y": [
          75.95977239073733,
          76.09650989525167,
          75.98668873975323,
          76.79868369417994,
          77.35132484301229,
          77.18326535976837,
          77.24250917644392,
          77.30181023669694,
          78.37157242556837,
          78.58951366275211,
          79.0919663502627,
          79.41672377211682,
          78.96675513012175,
          78.56902313533483,
          78.3900600898468,
          77.99937713190496,
          78.71414389278044,
          79.20969873105062,
          79.41425968378765,
          78.34808103221586,
          77.54110191665448,
          77.58186372105867,
          77.189789847229,
          76.24078178826376,
          75.18142277068483,
          75.51226468967707,
          76.05209899931417,
          76.14714083459269,
          76.37193476326607,
          76.78668483232649,
          76.8678648640642
         ]
        }
       ],
       "layout": {
        "legend": {
         "tracegroupgap": 0
        },
        "margin": {
         "t": 60
        },
        "template": {
         "data": {
          "bar": [
           {
            "error_x": {
             "color": "#2a3f5f"
            },
            "error_y": {
             "color": "#2a3f5f"
            },
            "marker": {
             "line": {
              "color": "#E5ECF6",
              "width": 0.5
             }
            },
            "type": "bar"
           }
          ],
          "barpolar": [
           {
            "marker": {
             "line": {
              "color": "#E5ECF6",
              "width": 0.5
             }
            },
            "type": "barpolar"
           }
          ],
          "carpet": [
           {
            "aaxis": {
             "endlinecolor": "#2a3f5f",
             "gridcolor": "white",
             "linecolor": "white",
             "minorgridcolor": "white",
             "startlinecolor": "#2a3f5f"
            },
            "baxis": {
             "endlinecolor": "#2a3f5f",
             "gridcolor": "white",
             "linecolor": "white",
             "minorgridcolor": "white",
             "startlinecolor": "#2a3f5f"
            },
            "type": "carpet"
           }
          ],
          "choropleth": [
           {
            "colorbar": {
             "outlinewidth": 0,
             "ticks": ""
            },
            "type": "choropleth"
           }
          ],
          "contour": [
           {
            "colorbar": {
             "outlinewidth": 0,
             "ticks": ""
            },
            "colorscale": [
             [
              0,
              "#0d0887"
             ],
             [
              0.1111111111111111,
              "#46039f"
             ],
             [
              0.2222222222222222,
              "#7201a8"
             ],
             [
              0.3333333333333333,
              "#9c179e"
             ],
             [
              0.4444444444444444,
              "#bd3786"
             ],
             [
              0.5555555555555556,
              "#d8576b"
             ],
             [
              0.6666666666666666,
              "#ed7953"
             ],
             [
              0.7777777777777778,
              "#fb9f3a"
             ],
             [
              0.8888888888888888,
              "#fdca26"
             ],
             [
              1,
              "#f0f921"
             ]
            ],
            "type": "contour"
           }
          ],
          "contourcarpet": [
           {
            "colorbar": {
             "outlinewidth": 0,
             "ticks": ""
            },
            "type": "contourcarpet"
           }
          ],
          "heatmap": [
           {
            "colorbar": {
             "outlinewidth": 0,
             "ticks": ""
            },
            "colorscale": [
             [
              0,
              "#0d0887"
             ],
             [
              0.1111111111111111,
              "#46039f"
             ],
             [
              0.2222222222222222,
              "#7201a8"
             ],
             [
              0.3333333333333333,
              "#9c179e"
             ],
             [
              0.4444444444444444,
              "#bd3786"
             ],
             [
              0.5555555555555556,
              "#d8576b"
             ],
             [
              0.6666666666666666,
              "#ed7953"
             ],
             [
              0.7777777777777778,
              "#fb9f3a"
             ],
             [
              0.8888888888888888,
              "#fdca26"
             ],
             [
              1,
              "#f0f921"
             ]
            ],
            "type": "heatmap"
           }
          ],
          "heatmapgl": [
           {
            "colorbar": {
             "outlinewidth": 0,
             "ticks": ""
            },
            "colorscale": [
             [
              0,
              "#0d0887"
             ],
             [
              0.1111111111111111,
              "#46039f"
             ],
             [
              0.2222222222222222,
              "#7201a8"
             ],
             [
              0.3333333333333333,
              "#9c179e"
             ],
             [
              0.4444444444444444,
              "#bd3786"
             ],
             [
              0.5555555555555556,
              "#d8576b"
             ],
             [
              0.6666666666666666,
              "#ed7953"
             ],
             [
              0.7777777777777778,
              "#fb9f3a"
             ],
             [
              0.8888888888888888,
              "#fdca26"
             ],
             [
              1,
              "#f0f921"
             ]
            ],
            "type": "heatmapgl"
           }
          ],
          "histogram": [
           {
            "marker": {
             "colorbar": {
              "outlinewidth": 0,
              "ticks": ""
             }
            },
            "type": "histogram"
           }
          ],
          "histogram2d": [
           {
            "colorbar": {
             "outlinewidth": 0,
             "ticks": ""
            },
            "colorscale": [
             [
              0,
              "#0d0887"
             ],
             [
              0.1111111111111111,
              "#46039f"
             ],
             [
              0.2222222222222222,
              "#7201a8"
             ],
             [
              0.3333333333333333,
              "#9c179e"
             ],
             [
              0.4444444444444444,
              "#bd3786"
             ],
             [
              0.5555555555555556,
              "#d8576b"
             ],
             [
              0.6666666666666666,
              "#ed7953"
             ],
             [
              0.7777777777777778,
              "#fb9f3a"
             ],
             [
              0.8888888888888888,
              "#fdca26"
             ],
             [
              1,
              "#f0f921"
             ]
            ],
            "type": "histogram2d"
           }
          ],
          "histogram2dcontour": [
           {
            "colorbar": {
             "outlinewidth": 0,
             "ticks": ""
            },
            "colorscale": [
             [
              0,
              "#0d0887"
             ],
             [
              0.1111111111111111,
              "#46039f"
             ],
             [
              0.2222222222222222,
              "#7201a8"
             ],
             [
              0.3333333333333333,
              "#9c179e"
             ],
             [
              0.4444444444444444,
              "#bd3786"
             ],
             [
              0.5555555555555556,
              "#d8576b"
             ],
             [
              0.6666666666666666,
              "#ed7953"
             ],
             [
              0.7777777777777778,
              "#fb9f3a"
             ],
             [
              0.8888888888888888,
              "#fdca26"
             ],
             [
              1,
              "#f0f921"
             ]
            ],
            "type": "histogram2dcontour"
           }
          ],
          "mesh3d": [
           {
            "colorbar": {
             "outlinewidth": 0,
             "ticks": ""
            },
            "type": "mesh3d"
           }
          ],
          "parcoords": [
           {
            "line": {
             "colorbar": {
              "outlinewidth": 0,
              "ticks": ""
             }
            },
            "type": "parcoords"
           }
          ],
          "pie": [
           {
            "automargin": true,
            "type": "pie"
           }
          ],
          "scatter": [
           {
            "marker": {
             "colorbar": {
              "outlinewidth": 0,
              "ticks": ""
             }
            },
            "type": "scatter"
           }
          ],
          "scatter3d": [
           {
            "line": {
             "colorbar": {
              "outlinewidth": 0,
              "ticks": ""
             }
            },
            "marker": {
             "colorbar": {
              "outlinewidth": 0,
              "ticks": ""
             }
            },
            "type": "scatter3d"
           }
          ],
          "scattercarpet": [
           {
            "marker": {
             "colorbar": {
              "outlinewidth": 0,
              "ticks": ""
             }
            },
            "type": "scattercarpet"
           }
          ],
          "scattergeo": [
           {
            "marker": {
             "colorbar": {
              "outlinewidth": 0,
              "ticks": ""
             }
            },
            "type": "scattergeo"
           }
          ],
          "scattergl": [
           {
            "marker": {
             "colorbar": {
              "outlinewidth": 0,
              "ticks": ""
             }
            },
            "type": "scattergl"
           }
          ],
          "scattermapbox": [
           {
            "marker": {
             "colorbar": {
              "outlinewidth": 0,
              "ticks": ""
             }
            },
            "type": "scattermapbox"
           }
          ],
          "scatterpolar": [
           {
            "marker": {
             "colorbar": {
              "outlinewidth": 0,
              "ticks": ""
             }
            },
            "type": "scatterpolar"
           }
          ],
          "scatterpolargl": [
           {
            "marker": {
             "colorbar": {
              "outlinewidth": 0,
              "ticks": ""
             }
            },
            "type": "scatterpolargl"
           }
          ],
          "scatterternary": [
           {
            "marker": {
             "colorbar": {
              "outlinewidth": 0,
              "ticks": ""
             }
            },
            "type": "scatterternary"
           }
          ],
          "surface": [
           {
            "colorbar": {
             "outlinewidth": 0,
             "ticks": ""
            },
            "colorscale": [
             [
              0,
              "#0d0887"
             ],
             [
              0.1111111111111111,
              "#46039f"
             ],
             [
              0.2222222222222222,
              "#7201a8"
             ],
             [
              0.3333333333333333,
              "#9c179e"
             ],
             [
              0.4444444444444444,
              "#bd3786"
             ],
             [
              0.5555555555555556,
              "#d8576b"
             ],
             [
              0.6666666666666666,
              "#ed7953"
             ],
             [
              0.7777777777777778,
              "#fb9f3a"
             ],
             [
              0.8888888888888888,
              "#fdca26"
             ],
             [
              1,
              "#f0f921"
             ]
            ],
            "type": "surface"
           }
          ],
          "table": [
           {
            "cells": {
             "fill": {
              "color": "#EBF0F8"
             },
             "line": {
              "color": "white"
             }
            },
            "header": {
             "fill": {
              "color": "#C8D4E3"
             },
             "line": {
              "color": "white"
             }
            },
            "type": "table"
           }
          ]
         },
         "layout": {
          "annotationdefaults": {
           "arrowcolor": "#2a3f5f",
           "arrowhead": 0,
           "arrowwidth": 1
          },
          "autotypenumbers": "strict",
          "coloraxis": {
           "colorbar": {
            "outlinewidth": 0,
            "ticks": ""
           }
          },
          "colorscale": {
           "diverging": [
            [
             0,
             "#8e0152"
            ],
            [
             0.1,
             "#c51b7d"
            ],
            [
             0.2,
             "#de77ae"
            ],
            [
             0.3,
             "#f1b6da"
            ],
            [
             0.4,
             "#fde0ef"
            ],
            [
             0.5,
             "#f7f7f7"
            ],
            [
             0.6,
             "#e6f5d0"
            ],
            [
             0.7,
             "#b8e186"
            ],
            [
             0.8,
             "#7fbc41"
            ],
            [
             0.9,
             "#4d9221"
            ],
            [
             1,
             "#276419"
            ]
           ],
           "sequential": [
            [
             0,
             "#0d0887"
            ],
            [
             0.1111111111111111,
             "#46039f"
            ],
            [
             0.2222222222222222,
             "#7201a8"
            ],
            [
             0.3333333333333333,
             "#9c179e"
            ],
            [
             0.4444444444444444,
             "#bd3786"
            ],
            [
             0.5555555555555556,
             "#d8576b"
            ],
            [
             0.6666666666666666,
             "#ed7953"
            ],
            [
             0.7777777777777778,
             "#fb9f3a"
            ],
            [
             0.8888888888888888,
             "#fdca26"
            ],
            [
             1,
             "#f0f921"
            ]
           ],
           "sequentialminus": [
            [
             0,
             "#0d0887"
            ],
            [
             0.1111111111111111,
             "#46039f"
            ],
            [
             0.2222222222222222,
             "#7201a8"
            ],
            [
             0.3333333333333333,
             "#9c179e"
            ],
            [
             0.4444444444444444,
             "#bd3786"
            ],
            [
             0.5555555555555556,
             "#d8576b"
            ],
            [
             0.6666666666666666,
             "#ed7953"
            ],
            [
             0.7777777777777778,
             "#fb9f3a"
            ],
            [
             0.8888888888888888,
             "#fdca26"
            ],
            [
             1,
             "#f0f921"
            ]
           ]
          },
          "colorway": [
           "#636efa",
           "#EF553B",
           "#00cc96",
           "#ab63fa",
           "#FFA15A",
           "#19d3f3",
           "#FF6692",
           "#B6E880",
           "#FF97FF",
           "#FECB52"
          ],
          "font": {
           "color": "#2a3f5f"
          },
          "geo": {
           "bgcolor": "white",
           "lakecolor": "white",
           "landcolor": "#E5ECF6",
           "showlakes": true,
           "showland": true,
           "subunitcolor": "white"
          },
          "hoverlabel": {
           "align": "left"
          },
          "hovermode": "closest",
          "mapbox": {
           "style": "light"
          },
          "paper_bgcolor": "white",
          "plot_bgcolor": "#E5ECF6",
          "polar": {
           "angularaxis": {
            "gridcolor": "white",
            "linecolor": "white",
            "ticks": ""
           },
           "bgcolor": "#E5ECF6",
           "radialaxis": {
            "gridcolor": "white",
            "linecolor": "white",
            "ticks": ""
           }
          },
          "scene": {
           "xaxis": {
            "backgroundcolor": "#E5ECF6",
            "gridcolor": "white",
            "gridwidth": 2,
            "linecolor": "white",
            "showbackground": true,
            "ticks": "",
            "zerolinecolor": "white"
           },
           "yaxis": {
            "backgroundcolor": "#E5ECF6",
            "gridcolor": "white",
            "gridwidth": 2,
            "linecolor": "white",
            "showbackground": true,
            "ticks": "",
            "zerolinecolor": "white"
           },
           "zaxis": {
            "backgroundcolor": "#E5ECF6",
            "gridcolor": "white",
            "gridwidth": 2,
            "linecolor": "white",
            "showbackground": true,
            "ticks": "",
            "zerolinecolor": "white"
           }
          },
          "shapedefaults": {
           "line": {
            "color": "#2a3f5f"
           }
          },
          "ternary": {
           "aaxis": {
            "gridcolor": "white",
            "linecolor": "white",
            "ticks": ""
           },
           "baxis": {
            "gridcolor": "white",
            "linecolor": "white",
            "ticks": ""
           },
           "bgcolor": "#E5ECF6",
           "caxis": {
            "gridcolor": "white",
            "linecolor": "white",
            "ticks": ""
           }
          },
          "title": {
           "x": 0.05
          },
          "xaxis": {
           "automargin": true,
           "gridcolor": "white",
           "linecolor": "white",
           "ticks": "",
           "title": {
            "standoff": 15
           },
           "zerolinecolor": "white",
           "zerolinewidth": 2
          },
          "yaxis": {
           "automargin": true,
           "gridcolor": "white",
           "linecolor": "white",
           "ticks": "",
           "title": {
            "standoff": 15
           },
           "zerolinecolor": "white",
           "zerolinewidth": 2
          }
         }
        },
        "xaxis": {
         "anchor": "y",
         "domain": [
          0,
          1
         ],
         "title": {
          "text": "Date"
         }
        },
        "yaxis": {
         "anchor": "x",
         "domain": [
          0,
          1
         ],
         "title": {
          "text": "y"
         }
        }
       }
      },
      "text/html": [
       "<div>                            <div id=\"ee3dbc09-a855-4f69-bf2d-2d6618469ef7\" class=\"plotly-graph-div\" style=\"height:525px; width:100%;\"></div>            <script type=\"text/javascript\">                require([\"plotly\"], function(Plotly) {                    window.PLOTLYENV=window.PLOTLYENV || {};                                    if (document.getElementById(\"ee3dbc09-a855-4f69-bf2d-2d6618469ef7\")) {                    Plotly.newPlot(                        \"ee3dbc09-a855-4f69-bf2d-2d6618469ef7\",                        [{\"hovertemplate\": \"Date=%{x}<br>y=%{y}<extra></extra>\", \"legendgroup\": \"\", \"line\": {\"color\": \"#636efa\", \"dash\": \"solid\"}, \"mode\": \"lines\", \"name\": \"\", \"orientation\": \"v\", \"showlegend\": false, \"type\": \"scatter\", \"x\": [\"2017-11-15T00:00:00\", \"2017-11-16T00:00:00\", \"2017-11-17T00:00:00\", \"2017-11-20T00:00:00\", \"2017-11-21T00:00:00\", \"2017-11-22T00:00:00\", \"2017-11-24T00:00:00\", \"2017-11-27T00:00:00\", \"2017-11-28T00:00:00\", \"2017-11-29T00:00:00\", \"2017-11-30T00:00:00\", \"2017-12-01T00:00:00\", \"2017-12-04T00:00:00\", \"2017-12-05T00:00:00\", \"2017-12-06T00:00:00\", \"2017-12-07T00:00:00\", \"2017-12-08T00:00:00\", \"2017-12-11T00:00:00\", \"2017-12-12T00:00:00\", \"2017-12-13T00:00:00\", \"2017-12-14T00:00:00\", \"2017-12-15T00:00:00\", \"2017-12-18T00:00:00\", \"2017-12-19T00:00:00\", \"2017-12-20T00:00:00\", \"2017-12-21T00:00:00\", \"2017-12-22T00:00:00\", \"2017-12-26T00:00:00\", \"2017-12-27T00:00:00\", \"2017-12-28T00:00:00\", \"2017-12-29T00:00:00\"], \"xaxis\": \"x\", \"y\": [75.93000030517578, 75.97000122070312, 75.94999694824219, 76.88999938964844, 77.23999786376953, 77.16999816894531, 77.25, 77.2300033569336, 78.33999633789062, 78.55999755859375, 79.16000366210938, 79.26000213623047, 78.93000030517578, 78.51000213623047, 78.31999969482422, 77.79000091552734, 78.77999877929688, 79.22000122070312, 79.2699966430664, 78.20999908447266, 77.47000122070312, 77.51000213623047, 76.97000122070312, 76.11000061035156, 75.05000305175781, 75.4000015258789, 76.08999633789062, 76.12999725341797, 76.33999633789062, 76.66999816894531, 76.83000183105469], \"yaxis\": \"y\"}, {\"mode\": \"lines\", \"type\": \"scatter\", \"x\": [\"2017-11-15T00:00:00\", \"2017-11-16T00:00:00\", \"2017-11-17T00:00:00\", \"2017-11-20T00:00:00\", \"2017-11-21T00:00:00\", \"2017-11-22T00:00:00\", \"2017-11-24T00:00:00\", \"2017-11-27T00:00:00\", \"2017-11-28T00:00:00\", \"2017-11-29T00:00:00\", \"2017-11-30T00:00:00\", \"2017-12-01T00:00:00\", \"2017-12-04T00:00:00\", \"2017-12-05T00:00:00\", \"2017-12-06T00:00:00\", \"2017-12-07T00:00:00\", \"2017-12-08T00:00:00\", \"2017-12-11T00:00:00\", \"2017-12-12T00:00:00\", \"2017-12-13T00:00:00\", \"2017-12-14T00:00:00\", \"2017-12-15T00:00:00\", \"2017-12-18T00:00:00\", \"2017-12-19T00:00:00\", \"2017-12-20T00:00:00\", \"2017-12-21T00:00:00\", \"2017-12-22T00:00:00\", \"2017-12-26T00:00:00\", \"2017-12-27T00:00:00\", \"2017-12-28T00:00:00\", \"2017-12-29T00:00:00\"], \"y\": [75.98326168788387, 76.73693101753317, 76.99188952888701, 76.72186417767367, 79.18918572098697, 77.74547970851269, 77.20920143005877, 77.27081472057473, 78.31925313666329, 79.53832732835463, 79.52224765179514, 79.18783453190758, 79.01216239030634, 78.48961937721964, 79.4485496935616, 78.00817730943645, 79.38199229679859, 79.32008919125776, 78.9399456451247, 77.79452122792792, 77.28296810173312, 76.98646950280889, 77.94766715087499, 76.53242945840033, 75.09690349773484, 74.40079912728646, 75.37361959125874, 76.16918226613616, 75.80960679684006, 75.81395281483664, 75.75816225448887]}, {\"mode\": \"lines\", \"type\": \"scatter\", \"x\": [\"2017-11-15T00:00:00\", \"2017-11-16T00:00:00\", \"2017-11-17T00:00:00\", \"2017-11-20T00:00:00\", \"2017-11-21T00:00:00\", \"2017-11-22T00:00:00\", \"2017-11-24T00:00:00\", \"2017-11-27T00:00:00\", \"2017-11-28T00:00:00\", \"2017-11-29T00:00:00\", \"2017-11-30T00:00:00\", \"2017-12-01T00:00:00\", \"2017-12-04T00:00:00\", \"2017-12-05T00:00:00\", \"2017-12-06T00:00:00\", \"2017-12-07T00:00:00\", \"2017-12-08T00:00:00\", \"2017-12-11T00:00:00\", \"2017-12-12T00:00:00\", \"2017-12-13T00:00:00\", \"2017-12-14T00:00:00\", \"2017-12-15T00:00:00\", \"2017-12-18T00:00:00\", \"2017-12-19T00:00:00\", \"2017-12-20T00:00:00\", \"2017-12-21T00:00:00\", \"2017-12-22T00:00:00\", \"2017-12-26T00:00:00\", \"2017-12-27T00:00:00\", \"2017-12-28T00:00:00\", \"2017-12-29T00:00:00\"], \"y\": [75.98787748363873, 76.10781152312083, 75.98497986300336, 76.90204441083019, 77.3876568956087, 77.16868056481472, 77.26585287158933, 77.28897973117184, 78.4822414027316, 78.60017162767602, 79.17387475613467, 79.41133006582345, 78.92898320872713, 78.52601416906464, 78.3842182593301, 77.93137615714218, 78.82255216857341, 79.23423071848588, 79.41940685759884, 78.20732318670522, 77.48494940616911, 77.57107507680507, 77.11295263845619, 76.15237916032137, 75.0634862333205, 75.53622358607723, 76.08453097448454, 76.1447384556932, 76.39761217828939, 76.80827227298121, 76.86836288863493]}, {\"mode\": \"lines\", \"type\": \"scatter\", \"x\": [\"2017-11-15T00:00:00\", \"2017-11-16T00:00:00\", \"2017-11-17T00:00:00\", \"2017-11-20T00:00:00\", \"2017-11-21T00:00:00\", \"2017-11-22T00:00:00\", \"2017-11-24T00:00:00\", \"2017-11-27T00:00:00\", \"2017-11-28T00:00:00\", \"2017-11-29T00:00:00\", \"2017-11-30T00:00:00\", \"2017-12-01T00:00:00\", \"2017-12-04T00:00:00\", \"2017-12-05T00:00:00\", \"2017-12-06T00:00:00\", \"2017-12-07T00:00:00\", \"2017-12-08T00:00:00\", \"2017-12-11T00:00:00\", \"2017-12-12T00:00:00\", \"2017-12-13T00:00:00\", \"2017-12-14T00:00:00\", \"2017-12-15T00:00:00\", \"2017-12-18T00:00:00\", \"2017-12-19T00:00:00\", \"2017-12-20T00:00:00\", \"2017-12-21T00:00:00\", \"2017-12-22T00:00:00\", \"2017-12-26T00:00:00\", \"2017-12-27T00:00:00\", \"2017-12-28T00:00:00\", \"2017-12-29T00:00:00\"], \"y\": [76.08981153202711, 76.00940990119499, 76.32608763435492, 76.85835840082467, 77.63593260484494, 77.071207174618, 77.01177011335626, 77.37752886299035, 78.3248352000581, 79.01345450709285, 79.20512608462622, 79.48808551107174, 78.81703379757367, 78.29376526507363, 78.64965014629976, 77.8195557902049, 79.2315327745057, 79.25504255995351, 79.42251212330814, 78.03486930428105, 77.25071409475858, 77.63505960240738, 77.15560749730021, 76.5344154367372, 75.0827779619181, 75.36506694235608, 75.83748057554195, 75.95910589397924, 76.38806639895579, 76.62076478662979, 76.9896351204123]}, {\"mode\": \"lines\", \"type\": \"scatter\", \"x\": [\"2017-11-15T00:00:00\", \"2017-11-16T00:00:00\", \"2017-11-17T00:00:00\", \"2017-11-20T00:00:00\", \"2017-11-21T00:00:00\", \"2017-11-22T00:00:00\", \"2017-11-24T00:00:00\", \"2017-11-27T00:00:00\", \"2017-11-28T00:00:00\", \"2017-11-29T00:00:00\", \"2017-11-30T00:00:00\", \"2017-12-01T00:00:00\", \"2017-12-04T00:00:00\", \"2017-12-05T00:00:00\", \"2017-12-06T00:00:00\", \"2017-12-07T00:00:00\", \"2017-12-08T00:00:00\", \"2017-12-11T00:00:00\", \"2017-12-12T00:00:00\", \"2017-12-13T00:00:00\", \"2017-12-14T00:00:00\", \"2017-12-15T00:00:00\", \"2017-12-18T00:00:00\", \"2017-12-19T00:00:00\", \"2017-12-20T00:00:00\", \"2017-12-21T00:00:00\", \"2017-12-22T00:00:00\", \"2017-12-26T00:00:00\", \"2017-12-27T00:00:00\", \"2017-12-28T00:00:00\", \"2017-12-29T00:00:00\"], \"y\": [75.98312525922115, 76.39042426017006, 76.6088235214305, 76.67837341450218, 78.63218147119572, 77.05619758101584, 77.00083568900237, 77.27746133855894, 78.71892114024277, 79.59040781859387, 79.25825264786002, 80.20266193152626, 79.26168353112917, 78.47920171554708, 78.91227614263937, 77.89077448970689, 79.56820823094658, 79.44891583998817, 79.06651224554781, 78.03810623676733, 77.36494549675983, 77.78625427484253, 77.57209652971943, 76.60878756316819, 75.11998631182813, 74.73792009039731, 75.52777364644027, 76.05982157308513, 75.8175530207896, 76.70618854798619, 76.49027117314246]}, {\"mode\": \"lines\", \"type\": \"scatter\", \"x\": [\"2017-11-15T00:00:00\", \"2017-11-16T00:00:00\", \"2017-11-17T00:00:00\", \"2017-11-20T00:00:00\", \"2017-11-21T00:00:00\", \"2017-11-22T00:00:00\", \"2017-11-24T00:00:00\", \"2017-11-27T00:00:00\", \"2017-11-28T00:00:00\", \"2017-11-29T00:00:00\", \"2017-11-30T00:00:00\", \"2017-12-01T00:00:00\", \"2017-12-04T00:00:00\", \"2017-12-05T00:00:00\", \"2017-12-06T00:00:00\", \"2017-12-07T00:00:00\", \"2017-12-08T00:00:00\", \"2017-12-11T00:00:00\", \"2017-12-12T00:00:00\", \"2017-12-13T00:00:00\", \"2017-12-14T00:00:00\", \"2017-12-15T00:00:00\", \"2017-12-18T00:00:00\", \"2017-12-19T00:00:00\", \"2017-12-20T00:00:00\", \"2017-12-21T00:00:00\", \"2017-12-22T00:00:00\", \"2017-12-26T00:00:00\", \"2017-12-27T00:00:00\", \"2017-12-28T00:00:00\", \"2017-12-29T00:00:00\"], \"y\": [75.98769414928682, 76.10797558333525, 75.98398334904056, 76.90215143375644, 77.38742473834017, 77.16874391703344, 77.26569969865527, 77.28879860198897, 78.48268506514765, 78.59913623221674, 79.17379496225706, 79.41177795709766, 78.92921147925867, 78.52585311503718, 78.38363777834743, 77.931732671985, 78.82161899543384, 79.23423393816127, 79.41995745380544, 78.20772850716214, 77.48485462718081, 77.57106496510472, 77.11302108830735, 76.15152257328744, 75.06350337681913, 75.53701543898426, 76.08505454207784, 76.14457165913525, 76.39763120497561, 76.80898328091335, 76.8680412808233]}, {\"mode\": \"lines\", \"type\": \"scatter\", \"x\": [\"2017-11-15T00:00:00\", \"2017-11-16T00:00:00\", \"2017-11-17T00:00:00\", \"2017-11-20T00:00:00\", \"2017-11-21T00:00:00\", \"2017-11-22T00:00:00\", \"2017-11-24T00:00:00\", \"2017-11-27T00:00:00\", \"2017-11-28T00:00:00\", \"2017-11-29T00:00:00\", \"2017-11-30T00:00:00\", \"2017-12-01T00:00:00\", \"2017-12-04T00:00:00\", \"2017-12-05T00:00:00\", \"2017-12-06T00:00:00\", \"2017-12-07T00:00:00\", \"2017-12-08T00:00:00\", \"2017-12-11T00:00:00\", \"2017-12-12T00:00:00\", \"2017-12-13T00:00:00\", \"2017-12-14T00:00:00\", \"2017-12-15T00:00:00\", \"2017-12-18T00:00:00\", \"2017-12-19T00:00:00\", \"2017-12-20T00:00:00\", \"2017-12-21T00:00:00\", \"2017-12-22T00:00:00\", \"2017-12-26T00:00:00\", \"2017-12-27T00:00:00\", \"2017-12-28T00:00:00\", \"2017-12-29T00:00:00\"], \"y\": [75.93815650288411, 76.12852221038482, 75.99186388085941, 76.88526286582601, 77.34549585563285, 77.15063678128598, 77.24026463312056, 77.33365755392943, 78.46994733193029, 78.58259870800758, 79.19516101036788, 79.46178879018007, 78.95452617235003, 78.54711203643637, 78.34286645187777, 77.95418731086194, 78.8254313227953, 79.21500253707603, 79.37555597015056, 78.18558908838845, 77.45872877261976, 77.60041861193899, 77.10741600396321, 76.13403709619945, 75.08240207796321, 75.57721599949235, 76.10611619946182, 76.16635280838712, 76.35908675299544, 76.81467455412692, 76.85840507441934]}, {\"mode\": \"lines\", \"type\": \"scatter\", \"x\": [\"2017-11-15T00:00:00\", \"2017-11-16T00:00:00\", \"2017-11-17T00:00:00\", \"2017-11-20T00:00:00\", \"2017-11-21T00:00:00\", \"2017-11-22T00:00:00\", \"2017-11-24T00:00:00\", \"2017-11-27T00:00:00\", \"2017-11-28T00:00:00\", \"2017-11-29T00:00:00\", \"2017-11-30T00:00:00\", \"2017-12-01T00:00:00\", \"2017-12-04T00:00:00\", \"2017-12-05T00:00:00\", \"2017-12-06T00:00:00\", \"2017-12-07T00:00:00\", \"2017-12-08T00:00:00\", \"2017-12-11T00:00:00\", \"2017-12-12T00:00:00\", \"2017-12-13T00:00:00\", \"2017-12-14T00:00:00\", \"2017-12-15T00:00:00\", \"2017-12-18T00:00:00\", \"2017-12-19T00:00:00\", \"2017-12-20T00:00:00\", \"2017-12-21T00:00:00\", \"2017-12-22T00:00:00\", \"2017-12-26T00:00:00\", \"2017-12-27T00:00:00\", \"2017-12-28T00:00:00\", \"2017-12-29T00:00:00\"], \"y\": [75.92965255678597, 75.70453800931266, 76.39503081733093, 76.94266430150806, 78.17474703522971, 76.7574576154958, 77.03276802935581, 77.27947629286008, 78.61042749093727, 79.34441958564604, 79.14508598994686, 80.1530922396193, 78.8754998400581, 78.33603695968044, 78.74766862439154, 78.11451224140971, 79.66165274155284, 79.31603156224334, 79.77200834276832, 78.27740563607026, 77.38420697662086, 77.69576927525608, 77.37686702175992, 76.75050229615974, 75.20678917336139, 74.92333530491781, 75.7315299372145, 76.07810012745976, 76.33591522239522, 76.74774753205813, 76.77444724258237]}, {\"mode\": \"lines\", \"type\": \"scatter\", \"x\": [\"2017-11-15T00:00:00\", \"2017-11-16T00:00:00\", \"2017-11-17T00:00:00\", \"2017-11-20T00:00:00\", \"2017-11-21T00:00:00\", \"2017-11-22T00:00:00\", \"2017-11-24T00:00:00\", \"2017-11-27T00:00:00\", \"2017-11-28T00:00:00\", \"2017-11-29T00:00:00\", \"2017-11-30T00:00:00\", \"2017-12-01T00:00:00\", \"2017-12-04T00:00:00\", \"2017-12-05T00:00:00\", \"2017-12-06T00:00:00\", \"2017-12-07T00:00:00\", \"2017-12-08T00:00:00\", \"2017-12-11T00:00:00\", \"2017-12-12T00:00:00\", \"2017-12-13T00:00:00\", \"2017-12-14T00:00:00\", \"2017-12-15T00:00:00\", \"2017-12-18T00:00:00\", \"2017-12-19T00:00:00\", \"2017-12-20T00:00:00\", \"2017-12-21T00:00:00\", \"2017-12-22T00:00:00\", \"2017-12-26T00:00:00\", \"2017-12-27T00:00:00\", \"2017-12-28T00:00:00\", \"2017-12-29T00:00:00\"], \"y\": [75.99252025706382, 76.10004001494072, 75.99646030266891, 76.9065886991395, 77.3656406287958, 77.17834518124508, 77.27932061680364, 77.29367164917474, 78.45997406982745, 78.59729349279388, 79.17700093222652, 79.36651309308172, 78.91088722089286, 78.53113598588259, 78.3900912250524, 77.9252409519387, 78.82235653379323, 79.22696723529616, 79.41469192660661, 78.19900656552782, 77.48938463485645, 77.55567101325585, 77.1029902020062, 76.15966383997763, 75.06155949805446, 75.53557356339765, 76.08531410320714, 76.15225834424638, 76.41340343190038, 76.78296759452932, 76.87790417385965]}, {\"mode\": \"lines\", \"type\": \"scatter\", \"x\": [\"2017-11-15T00:00:00\", \"2017-11-16T00:00:00\", \"2017-11-17T00:00:00\", \"2017-11-20T00:00:00\", \"2017-11-21T00:00:00\", \"2017-11-22T00:00:00\", \"2017-11-24T00:00:00\", \"2017-11-27T00:00:00\", \"2017-11-28T00:00:00\", \"2017-11-29T00:00:00\", \"2017-11-30T00:00:00\", \"2017-12-01T00:00:00\", \"2017-12-04T00:00:00\", \"2017-12-05T00:00:00\", \"2017-12-06T00:00:00\", \"2017-12-07T00:00:00\", \"2017-12-08T00:00:00\", \"2017-12-11T00:00:00\", \"2017-12-12T00:00:00\", \"2017-12-13T00:00:00\", \"2017-12-14T00:00:00\", \"2017-12-15T00:00:00\", \"2017-12-18T00:00:00\", \"2017-12-19T00:00:00\", \"2017-12-20T00:00:00\", \"2017-12-21T00:00:00\", \"2017-12-22T00:00:00\", \"2017-12-26T00:00:00\", \"2017-12-27T00:00:00\", \"2017-12-28T00:00:00\", \"2017-12-29T00:00:00\"], \"y\": [75.9889299482082, 76.10917279609308, 75.97713649071073, 76.90386544661658, 77.39451379181595, 77.17212825103084, 77.26638564229498, 77.28299295883176, 78.490753242925, 78.58902528511638, 79.17305666426338, 79.41347585819958, 78.93196071422514, 78.52084740398986, 78.38432887140571, 77.93292529453464, 78.81386650460959, 79.23584547954978, 79.42753314216993, 78.21134041906917, 77.48568608987769, 77.56524756741831, 77.1203875639026, 76.14141925329768, 75.06275262974657, 75.53940919921553, 76.08821201485489, 76.13981400665806, 76.39882315634733, 76.81043282206019, 76.86108238821168]}, {\"mode\": \"lines\", \"type\": \"scatter\", \"x\": [\"2017-11-15T00:00:00\", \"2017-11-16T00:00:00\", \"2017-11-17T00:00:00\", \"2017-11-20T00:00:00\", \"2017-11-21T00:00:00\", \"2017-11-22T00:00:00\", \"2017-11-24T00:00:00\", \"2017-11-27T00:00:00\", \"2017-11-28T00:00:00\", \"2017-11-29T00:00:00\", \"2017-11-30T00:00:00\", \"2017-12-01T00:00:00\", \"2017-12-04T00:00:00\", \"2017-12-05T00:00:00\", \"2017-12-06T00:00:00\", \"2017-12-07T00:00:00\", \"2017-12-08T00:00:00\", \"2017-12-11T00:00:00\", \"2017-12-12T00:00:00\", \"2017-12-13T00:00:00\", \"2017-12-14T00:00:00\", \"2017-12-15T00:00:00\", \"2017-12-18T00:00:00\", \"2017-12-19T00:00:00\", \"2017-12-20T00:00:00\", \"2017-12-21T00:00:00\", \"2017-12-22T00:00:00\", \"2017-12-26T00:00:00\", \"2017-12-27T00:00:00\", \"2017-12-28T00:00:00\", \"2017-12-29T00:00:00\"], \"y\": [75.92025578896364, 76.73145124920433, 77.07784127194512, 76.74222581518406, 79.13321036287782, 77.95815944448793, 77.28584455974205, 77.27689271243177, 78.2027703286584, 79.49878731031134, 79.55922958692875, 79.2202964195214, 79.04372966325329, 78.54747400268278, 79.47368658553226, 78.1899360812179, 79.31694578390612, 79.3306475050783, 78.94651046352283, 77.87377193473218, 77.32666059696933, 76.96665300201154, 77.94729732924898, 76.73115646696942, 75.27785196303637, 74.3877036398258, 75.18824657298293, 76.06596690429554, 75.77997601933168, 75.71778961015553, 75.63820915182112]}, {\"mode\": \"lines\", \"type\": \"scatter\", \"x\": [\"2017-11-15T00:00:00\", \"2017-11-16T00:00:00\", \"2017-11-17T00:00:00\", \"2017-11-20T00:00:00\", \"2017-11-21T00:00:00\", \"2017-11-22T00:00:00\", \"2017-11-24T00:00:00\", \"2017-11-27T00:00:00\", \"2017-11-28T00:00:00\", \"2017-11-29T00:00:00\", \"2017-11-30T00:00:00\", \"2017-12-01T00:00:00\", \"2017-12-04T00:00:00\", \"2017-12-05T00:00:00\", \"2017-12-06T00:00:00\", \"2017-12-07T00:00:00\", \"2017-12-08T00:00:00\", \"2017-12-11T00:00:00\", \"2017-12-12T00:00:00\", \"2017-12-13T00:00:00\", \"2017-12-14T00:00:00\", \"2017-12-15T00:00:00\", \"2017-12-18T00:00:00\", \"2017-12-19T00:00:00\", \"2017-12-20T00:00:00\", \"2017-12-21T00:00:00\", \"2017-12-22T00:00:00\", \"2017-12-26T00:00:00\", \"2017-12-27T00:00:00\", \"2017-12-28T00:00:00\", \"2017-12-29T00:00:00\"], \"y\": [75.98206300946006, 76.11375551792956, 75.99501754637909, 76.8017174152531, 77.34268943039454, 77.19106243440258, 77.25706228014475, 77.28967266211687, 78.36824990968562, 78.56958283808166, 79.10789473826046, 79.39886866014045, 78.98445074372326, 78.57683230865838, 78.41009439604215, 78.00546416550199, 78.72592278535606, 79.17908565051607, 79.41404913011095, 78.34442647877555, 77.58033482177744, 77.57640695556816, 77.18503642311715, 76.2629297726809, 75.19869212786071, 75.51870351848568, 76.02372367958814, 76.13079682594704, 76.37190167295664, 76.77942422056077, 76.85405752498974]}, {\"mode\": \"lines\", \"type\": \"scatter\", \"x\": [\"2017-11-15T00:00:00\", \"2017-11-16T00:00:00\", \"2017-11-17T00:00:00\", \"2017-11-20T00:00:00\", \"2017-11-21T00:00:00\", \"2017-11-22T00:00:00\", \"2017-11-24T00:00:00\", \"2017-11-27T00:00:00\", \"2017-11-28T00:00:00\", \"2017-11-29T00:00:00\", \"2017-11-30T00:00:00\", \"2017-12-01T00:00:00\", \"2017-12-04T00:00:00\", \"2017-12-05T00:00:00\", \"2017-12-06T00:00:00\", \"2017-12-07T00:00:00\", \"2017-12-08T00:00:00\", \"2017-12-11T00:00:00\", \"2017-12-12T00:00:00\", \"2017-12-13T00:00:00\", \"2017-12-14T00:00:00\", \"2017-12-15T00:00:00\", \"2017-12-18T00:00:00\", \"2017-12-19T00:00:00\", \"2017-12-20T00:00:00\", \"2017-12-21T00:00:00\", \"2017-12-22T00:00:00\", \"2017-12-26T00:00:00\", \"2017-12-27T00:00:00\", \"2017-12-28T00:00:00\", \"2017-12-29T00:00:00\"], \"y\": [75.98527682981242, 76.10801764058523, 76.00433988169691, 76.802250059382, 77.33641174027005, 77.18607796619295, 77.2592778406524, 77.292877122656, 78.36280076844194, 78.57998107154933, 79.10842548616546, 79.39321159932017, 78.97967960409973, 78.5789959875892, 78.41342526964407, 77.99971666603886, 78.73689254847443, 79.17984244439658, 79.40825487637848, 78.33955740693939, 77.58232528169924, 77.58012082765813, 77.17957980212667, 76.27347186829293, 75.19915646328243, 75.51288250175078, 76.01900888261459, 76.1328067155114, 76.37523263429131, 76.77440049188742, 76.86492451631054]}, {\"mode\": \"lines\", \"type\": \"scatter\", \"x\": [\"2017-11-15T00:00:00\", \"2017-11-16T00:00:00\", \"2017-11-17T00:00:00\", \"2017-11-20T00:00:00\", \"2017-11-21T00:00:00\", \"2017-11-22T00:00:00\", \"2017-11-24T00:00:00\", \"2017-11-27T00:00:00\", \"2017-11-28T00:00:00\", \"2017-11-29T00:00:00\", \"2017-11-30T00:00:00\", \"2017-12-01T00:00:00\", \"2017-12-04T00:00:00\", \"2017-12-05T00:00:00\", \"2017-12-06T00:00:00\", \"2017-12-07T00:00:00\", \"2017-12-08T00:00:00\", \"2017-12-11T00:00:00\", \"2017-12-12T00:00:00\", \"2017-12-13T00:00:00\", \"2017-12-14T00:00:00\", \"2017-12-15T00:00:00\", \"2017-12-18T00:00:00\", \"2017-12-19T00:00:00\", \"2017-12-20T00:00:00\", \"2017-12-21T00:00:00\", \"2017-12-22T00:00:00\", \"2017-12-26T00:00:00\", \"2017-12-27T00:00:00\", \"2017-12-28T00:00:00\", \"2017-12-29T00:00:00\"], \"y\": [75.93248285322939, 76.38621978992902, 76.65772820659063, 76.6525634414179, 78.56513406461698, 77.20975983253969, 76.99637251738652, 77.2513966201195, 78.59616387312761, 79.59449482393893, 79.30654579177796, 80.20791394845162, 79.40342727215288, 78.57800955043433, 78.94120074612103, 78.01811848691116, 79.48196492979378, 79.47812280606622, 79.08957585787297, 78.13518173759599, 77.43853392754447, 77.77826223088029, 77.66239556518873, 76.78107756666543, 75.31057704374032, 74.7280637265314, 75.37607579088885, 75.97555850195843, 75.77721565045273, 76.60614894627538, 76.46544736783942]}, {\"mode\": \"lines\", \"type\": \"scatter\", \"x\": [\"2017-11-15T00:00:00\", \"2017-11-16T00:00:00\", \"2017-11-17T00:00:00\", \"2017-11-20T00:00:00\", \"2017-11-21T00:00:00\", \"2017-11-22T00:00:00\", \"2017-11-24T00:00:00\", \"2017-11-27T00:00:00\", \"2017-11-28T00:00:00\", \"2017-11-29T00:00:00\", \"2017-11-30T00:00:00\", \"2017-12-01T00:00:00\", \"2017-12-04T00:00:00\", \"2017-12-05T00:00:00\", \"2017-12-06T00:00:00\", \"2017-12-07T00:00:00\", \"2017-12-08T00:00:00\", \"2017-12-11T00:00:00\", \"2017-12-12T00:00:00\", \"2017-12-13T00:00:00\", \"2017-12-14T00:00:00\", \"2017-12-15T00:00:00\", \"2017-12-18T00:00:00\", \"2017-12-19T00:00:00\", \"2017-12-20T00:00:00\", \"2017-12-21T00:00:00\", \"2017-12-22T00:00:00\", \"2017-12-26T00:00:00\", \"2017-12-27T00:00:00\", \"2017-12-28T00:00:00\", \"2017-12-29T00:00:00\"], \"y\": [75.98371187499386, 76.11096338644889, 76.00102225205474, 76.80132206601512, 77.33992820196796, 77.18887561778841, 77.2582982210577, 77.291469182888, 78.36433595604062, 78.57573376144872, 79.10801226111982, 79.39543490827893, 78.9821694236751, 78.57842215844127, 78.41286320816353, 78.00287792743869, 78.73188605713197, 79.17917464569202, 79.41040178479709, 78.34229298486854, 77.5820373200346, 77.57821826564103, 77.18295290231713, 76.2699418689197, 75.1999833139206, 75.51468936548672, 76.0201370249583, 76.13176213732827, 76.37320890307033, 76.77570197694193, 76.85925268171408]}, {\"mode\": \"lines\", \"type\": \"scatter\", \"x\": [\"2017-11-15T00:00:00\", \"2017-11-16T00:00:00\", \"2017-11-17T00:00:00\", \"2017-11-20T00:00:00\", \"2017-11-21T00:00:00\", \"2017-11-22T00:00:00\", \"2017-11-24T00:00:00\", \"2017-11-27T00:00:00\", \"2017-11-28T00:00:00\", \"2017-11-29T00:00:00\", \"2017-11-30T00:00:00\", \"2017-12-01T00:00:00\", \"2017-12-04T00:00:00\", \"2017-12-05T00:00:00\", \"2017-12-06T00:00:00\", \"2017-12-07T00:00:00\", \"2017-12-08T00:00:00\", \"2017-12-11T00:00:00\", \"2017-12-12T00:00:00\", \"2017-12-13T00:00:00\", \"2017-12-14T00:00:00\", \"2017-12-15T00:00:00\", \"2017-12-18T00:00:00\", \"2017-12-19T00:00:00\", \"2017-12-20T00:00:00\", \"2017-12-21T00:00:00\", \"2017-12-22T00:00:00\", \"2017-12-26T00:00:00\", \"2017-12-27T00:00:00\", \"2017-12-28T00:00:00\", \"2017-12-29T00:00:00\"], \"y\": [75.93430262055678, 76.12687638274878, 76.0124340061193, 76.78398765217449, 77.2892887616986, 77.16171974267462, 77.2281069037179, 77.3370142962528, 78.35326156426054, 78.55889958925117, 79.12880515731257, 79.45144148269745, 79.01537481670732, 78.60622031155124, 78.37186994208523, 78.02227246040917, 78.73992351947976, 79.15888411269441, 79.35832636155021, 78.31161928468725, 77.55094245756513, 77.60800736908925, 77.17714585465362, 76.2532850649791, 75.21881557099418, 75.560628419931, 76.04806181423801, 76.15928743188971, 76.33554076568777, 76.77850294463896, 76.85254889427588]}, {\"mode\": \"lines\", \"type\": \"scatter\", \"x\": [\"2017-11-15T00:00:00\", \"2017-11-16T00:00:00\", \"2017-11-17T00:00:00\", \"2017-11-20T00:00:00\", \"2017-11-21T00:00:00\", \"2017-11-22T00:00:00\", \"2017-11-24T00:00:00\", \"2017-11-27T00:00:00\", \"2017-11-28T00:00:00\", \"2017-11-29T00:00:00\", \"2017-11-30T00:00:00\", \"2017-12-01T00:00:00\", \"2017-12-04T00:00:00\", \"2017-12-05T00:00:00\", \"2017-12-06T00:00:00\", \"2017-12-07T00:00:00\", \"2017-12-08T00:00:00\", \"2017-12-11T00:00:00\", \"2017-12-12T00:00:00\", \"2017-12-13T00:00:00\", \"2017-12-14T00:00:00\", \"2017-12-15T00:00:00\", \"2017-12-18T00:00:00\", \"2017-12-19T00:00:00\", \"2017-12-20T00:00:00\", \"2017-12-21T00:00:00\", \"2017-12-22T00:00:00\", \"2017-12-26T00:00:00\", \"2017-12-27T00:00:00\", \"2017-12-28T00:00:00\", \"2017-12-29T00:00:00\"], \"y\": [75.91437530809395, 75.69836828506581, 76.36677931468338, 76.88417090866922, 78.13447592031314, 76.86343744487569, 76.98977106161512, 77.252672914385, 78.48801390056018, 79.33630839517724, 79.1646822619183, 80.14233448383716, 79.00925339301124, 78.39127675486144, 78.7556491598244, 78.22182731626451, 79.59846743025815, 79.35811188044202, 79.78188518998074, 78.45072194267662, 77.49250615313186, 77.69381609922452, 77.45753744034977, 76.90059320290305, 75.41065095818404, 74.92451212381206, 75.60147806629853, 76.0191047893222, 76.30012222163549, 76.70642423896625, 76.76069313684967]}, {\"mode\": \"lines\", \"type\": \"scatter\", \"x\": [\"2017-11-15T00:00:00\", \"2017-11-16T00:00:00\", \"2017-11-17T00:00:00\", \"2017-11-20T00:00:00\", \"2017-11-21T00:00:00\", \"2017-11-22T00:00:00\", \"2017-11-24T00:00:00\", \"2017-11-27T00:00:00\", \"2017-11-28T00:00:00\", \"2017-11-29T00:00:00\", \"2017-11-30T00:00:00\", \"2017-12-01T00:00:00\", \"2017-12-04T00:00:00\", \"2017-12-05T00:00:00\", \"2017-12-06T00:00:00\", \"2017-12-07T00:00:00\", \"2017-12-08T00:00:00\", \"2017-12-11T00:00:00\", \"2017-12-12T00:00:00\", \"2017-12-13T00:00:00\", \"2017-12-14T00:00:00\", \"2017-12-15T00:00:00\", \"2017-12-18T00:00:00\", \"2017-12-19T00:00:00\", \"2017-12-20T00:00:00\", \"2017-12-21T00:00:00\", \"2017-12-22T00:00:00\", \"2017-12-26T00:00:00\", \"2017-12-27T00:00:00\", \"2017-12-28T00:00:00\", \"2017-12-29T00:00:00\"], \"y\": [75.99986057965579, 76.08645328762297, 76.02907886943537, 76.82962686415723, 77.3086970954942, 77.18020296708093, 77.27941174084947, 77.3048760829509, 78.35157395654754, 78.60023650019335, 79.12564610430759, 79.33801478659251, 78.93530050644789, 78.57414646780893, 78.41769275202262, 77.96632241727507, 78.77347767638409, 79.18569961076763, 79.39498658945851, 78.29383720261029, 77.56753281711987, 77.56809645109041, 77.14012756183473, 76.27516200723993, 75.16870616576186, 75.50444702220447, 76.02484447976127, 76.14778280651174, 76.40571806853546, 76.74674698639667, 76.898685684062]}, {\"mode\": \"lines\", \"type\": \"scatter\", \"x\": [\"2017-11-15T00:00:00\", \"2017-11-16T00:00:00\", \"2017-11-17T00:00:00\", \"2017-11-20T00:00:00\", \"2017-11-21T00:00:00\", \"2017-11-22T00:00:00\", \"2017-11-24T00:00:00\", \"2017-11-27T00:00:00\", \"2017-11-28T00:00:00\", \"2017-11-29T00:00:00\", \"2017-11-30T00:00:00\", \"2017-12-01T00:00:00\", \"2017-12-04T00:00:00\", \"2017-12-05T00:00:00\", \"2017-12-06T00:00:00\", \"2017-12-07T00:00:00\", \"2017-12-08T00:00:00\", \"2017-12-11T00:00:00\", \"2017-12-12T00:00:00\", \"2017-12-13T00:00:00\", \"2017-12-14T00:00:00\", \"2017-12-15T00:00:00\", \"2017-12-18T00:00:00\", \"2017-12-19T00:00:00\", \"2017-12-20T00:00:00\", \"2017-12-21T00:00:00\", \"2017-12-22T00:00:00\", \"2017-12-26T00:00:00\", \"2017-12-27T00:00:00\", \"2017-12-28T00:00:00\", \"2017-12-29T00:00:00\"], \"y\": [76.02169047201333, 76.06178157709377, 76.04467221421497, 76.83833946349965, 77.27656097558267, 77.11518010498679, 77.29137947585252, 77.3055659588716, 78.35543225306617, 78.65827601923588, 79.13205381601503, 79.37739675650833, 78.93645363618563, 78.55143058400361, 78.40700658791972, 77.92698320486345, 78.83901613519348, 79.2061788074361, 79.37020955701162, 78.2521512627138, 77.57032859500808, 77.62152125673263, 77.08932917373062, 76.30422742310667, 75.15077391912907, 75.50552031822932, 76.02712086912722, 76.13397578222401, 76.40952601688149, 76.78098466598469, 76.97959837858485]}, {\"mode\": \"lines\", \"type\": \"scatter\", \"x\": [\"2017-11-15T00:00:00\", \"2017-11-16T00:00:00\", \"2017-11-17T00:00:00\", \"2017-11-20T00:00:00\", \"2017-11-21T00:00:00\", \"2017-11-22T00:00:00\", \"2017-11-24T00:00:00\", \"2017-11-27T00:00:00\", \"2017-11-28T00:00:00\", \"2017-11-29T00:00:00\", \"2017-11-30T00:00:00\", \"2017-12-01T00:00:00\", \"2017-12-04T00:00:00\", \"2017-12-05T00:00:00\", \"2017-12-06T00:00:00\", \"2017-12-07T00:00:00\", \"2017-12-08T00:00:00\", \"2017-12-11T00:00:00\", \"2017-12-12T00:00:00\", \"2017-12-13T00:00:00\", \"2017-12-14T00:00:00\", \"2017-12-15T00:00:00\", \"2017-12-18T00:00:00\", \"2017-12-19T00:00:00\", \"2017-12-20T00:00:00\", \"2017-12-21T00:00:00\", \"2017-12-22T00:00:00\", \"2017-12-26T00:00:00\", \"2017-12-27T00:00:00\", \"2017-12-28T00:00:00\", \"2017-12-29T00:00:00\"], \"y\": [76.00447712675613, 76.7702894056111, 77.08461481950492, 76.69869560351846, 79.11425650431454, 77.99673091017277, 77.18864994643415, 77.22531231666159, 78.19336160071789, 79.55858916276284, 79.58838751192295, 79.20336621126044, 79.02542768692086, 78.53335820143789, 79.44469032822812, 78.18398796134811, 79.2212784870352, 79.3533908721996, 78.94934609397247, 77.87351918016968, 77.28895598777414, 76.93947436870525, 77.95637064625879, 76.74366121551543, 75.18955892108522, 74.28635010790443, 75.17892706281488, 76.16030336375796, 75.84159800485035, 75.72986543611776, 75.67875107687533]}, {\"mode\": \"lines\", \"type\": \"scatter\", \"x\": [\"2017-11-15T00:00:00\", \"2017-11-16T00:00:00\", \"2017-11-17T00:00:00\", \"2017-11-20T00:00:00\", \"2017-11-21T00:00:00\", \"2017-11-22T00:00:00\", \"2017-11-24T00:00:00\", \"2017-11-27T00:00:00\", \"2017-11-28T00:00:00\", \"2017-11-29T00:00:00\", \"2017-11-30T00:00:00\", \"2017-12-01T00:00:00\", \"2017-12-04T00:00:00\", \"2017-12-05T00:00:00\", \"2017-12-06T00:00:00\", \"2017-12-07T00:00:00\", \"2017-12-08T00:00:00\", \"2017-12-11T00:00:00\", \"2017-12-12T00:00:00\", \"2017-12-13T00:00:00\", \"2017-12-14T00:00:00\", \"2017-12-15T00:00:00\", \"2017-12-18T00:00:00\", \"2017-12-19T00:00:00\", \"2017-12-20T00:00:00\", \"2017-12-21T00:00:00\", \"2017-12-22T00:00:00\", \"2017-12-26T00:00:00\", \"2017-12-27T00:00:00\", \"2017-12-28T00:00:00\", \"2017-12-29T00:00:00\"], \"y\": [76.00883703811716, 76.11560651957942, 75.99576924388623, 76.79585612159836, 77.36597636756623, 77.20575147074945, 77.2535720066297, 77.29094376263293, 78.36553353134876, 78.60011683517011, 79.11599696837378, 79.41454652306439, 78.99024535056697, 78.56510968325856, 78.39628910922964, 77.99713506909153, 78.70849116829399, 79.19843756967782, 79.4296767649081, 78.3490897916665, 77.54902082075732, 77.54903082734047, 77.18093891651165, 76.24953723252358, 75.16954844639356, 75.48095118804643, 76.02451173497181, 76.148150859386, 76.37693063740734, 76.78419882499738, 76.86420436386493]}, {\"mode\": \"lines\", \"type\": \"scatter\", \"x\": [\"2017-11-15T00:00:00\", \"2017-11-16T00:00:00\", \"2017-11-17T00:00:00\", \"2017-11-20T00:00:00\", \"2017-11-21T00:00:00\", \"2017-11-22T00:00:00\", \"2017-11-24T00:00:00\", \"2017-11-27T00:00:00\", \"2017-11-28T00:00:00\", \"2017-11-29T00:00:00\", \"2017-11-30T00:00:00\", \"2017-12-01T00:00:00\", \"2017-12-04T00:00:00\", \"2017-12-05T00:00:00\", \"2017-12-06T00:00:00\", \"2017-12-07T00:00:00\", \"2017-12-08T00:00:00\", \"2017-12-11T00:00:00\", \"2017-12-12T00:00:00\", \"2017-12-13T00:00:00\", \"2017-12-14T00:00:00\", \"2017-12-15T00:00:00\", \"2017-12-18T00:00:00\", \"2017-12-19T00:00:00\", \"2017-12-20T00:00:00\", \"2017-12-21T00:00:00\", \"2017-12-22T00:00:00\", \"2017-12-26T00:00:00\", \"2017-12-27T00:00:00\", \"2017-12-28T00:00:00\", \"2017-12-29T00:00:00\"], \"y\": [76.02173297016148, 76.10130253889628, 76.01592684517779, 76.79700819758195, 77.35356608864177, 77.19575687076181, 77.2581244802294, 77.29895871115912, 78.35267361766728, 78.62897180117945, 79.1191298217418, 79.40369566348522, 78.97957789333354, 78.56774572192501, 78.4006405752386, 77.9815566578815, 78.73031651452371, 79.20463977629338, 79.41900076806479, 78.33812698603819, 77.5475742069649, 77.55344395912849, 77.1664779874288, 76.27048994467842, 75.16517406345983, 75.460865034655, 76.01465884368713, 76.15655888570296, 76.38662639523655, 76.77425316131809, 76.89225090161916]}, {\"mode\": \"lines\", \"type\": \"scatter\", \"x\": [\"2017-11-15T00:00:00\", \"2017-11-16T00:00:00\", \"2017-11-17T00:00:00\", \"2017-11-20T00:00:00\", \"2017-11-21T00:00:00\", \"2017-11-22T00:00:00\", \"2017-11-24T00:00:00\", \"2017-11-27T00:00:00\", \"2017-11-28T00:00:00\", \"2017-11-29T00:00:00\", \"2017-11-30T00:00:00\", \"2017-12-01T00:00:00\", \"2017-12-04T00:00:00\", \"2017-12-05T00:00:00\", \"2017-12-06T00:00:00\", \"2017-12-07T00:00:00\", \"2017-12-08T00:00:00\", \"2017-12-11T00:00:00\", \"2017-12-12T00:00:00\", \"2017-12-13T00:00:00\", \"2017-12-14T00:00:00\", \"2017-12-15T00:00:00\", \"2017-12-18T00:00:00\", \"2017-12-19T00:00:00\", \"2017-12-20T00:00:00\", \"2017-12-21T00:00:00\", \"2017-12-22T00:00:00\", \"2017-12-26T00:00:00\", \"2017-12-27T00:00:00\", \"2017-12-28T00:00:00\", \"2017-12-29T00:00:00\"], \"y\": [76.03107062079177, 76.41867973648169, 76.65932615646398, 76.62616109529954, 78.57331516757971, 77.24851060132393, 76.9246667410789, 77.24258142928618, 78.60912552200467, 79.6580485449555, 79.31229006650685, 80.18104487483839, 79.4011857043072, 78.51264167948429, 78.88553716085228, 78.00462863684591, 79.4169954591982, 79.51474118270121, 79.08354764578422, 78.12382633570132, 77.392070908132, 77.73684066494567, 77.66650520631734, 76.74426835427245, 75.22804839682102, 74.6271967513717, 75.36996702187903, 76.05383154940507, 75.82684986992273, 76.62511962560444, 76.5134393473991]}, {\"mode\": \"lines\", \"type\": \"scatter\", \"x\": [\"2017-11-15T00:00:00\", \"2017-11-16T00:00:00\", \"2017-11-17T00:00:00\", \"2017-11-20T00:00:00\", \"2017-11-21T00:00:00\", \"2017-11-22T00:00:00\", \"2017-11-24T00:00:00\", \"2017-11-27T00:00:00\", \"2017-11-28T00:00:00\", \"2017-11-29T00:00:00\", \"2017-11-30T00:00:00\", \"2017-12-01T00:00:00\", \"2017-12-04T00:00:00\", \"2017-12-05T00:00:00\", \"2017-12-06T00:00:00\", \"2017-12-07T00:00:00\", \"2017-12-08T00:00:00\", \"2017-12-11T00:00:00\", \"2017-12-12T00:00:00\", \"2017-12-13T00:00:00\", \"2017-12-14T00:00:00\", \"2017-12-15T00:00:00\", \"2017-12-18T00:00:00\", \"2017-12-19T00:00:00\", \"2017-12-20T00:00:00\", \"2017-12-21T00:00:00\", \"2017-12-22T00:00:00\", \"2017-12-26T00:00:00\", \"2017-12-27T00:00:00\", \"2017-12-28T00:00:00\", \"2017-12-29T00:00:00\"], \"y\": [76.01677918320881, 76.09456437421704, 76.04483192427412, 76.79923744740388, 77.34649538892918, 77.18616349822793, 77.26307822508015, 77.3047076407181, 78.33893659069759, 78.64568565499431, 79.12101159966168, 79.38408691013392, 78.96812089434361, 78.5764462740236, 78.42321776830552, 77.97525044234371, 78.7635740328241, 79.19952960611965, 79.39602173814887, 78.32320905399246, 77.5624957719603, 77.56671994175932, 77.16424718573137, 76.30309492560177, 75.18114254518598, 75.45315590067656, 75.9948549582943, 76.15132883042773, 76.38550997577069, 76.75157346669242, 76.89866970614145]}, {\"mode\": \"lines\", \"type\": \"scatter\", \"x\": [\"2017-11-15T00:00:00\", \"2017-11-16T00:00:00\", \"2017-11-17T00:00:00\", \"2017-11-20T00:00:00\", \"2017-11-21T00:00:00\", \"2017-11-22T00:00:00\", \"2017-11-24T00:00:00\", \"2017-11-27T00:00:00\", \"2017-11-28T00:00:00\", \"2017-11-29T00:00:00\", \"2017-11-30T00:00:00\", \"2017-12-01T00:00:00\", \"2017-12-04T00:00:00\", \"2017-12-05T00:00:00\", \"2017-12-06T00:00:00\", \"2017-12-07T00:00:00\", \"2017-12-08T00:00:00\", \"2017-12-11T00:00:00\", \"2017-12-12T00:00:00\", \"2017-12-13T00:00:00\", \"2017-12-14T00:00:00\", \"2017-12-15T00:00:00\", \"2017-12-18T00:00:00\", \"2017-12-19T00:00:00\", \"2017-12-20T00:00:00\", \"2017-12-21T00:00:00\", \"2017-12-22T00:00:00\", \"2017-12-26T00:00:00\", \"2017-12-27T00:00:00\", \"2017-12-28T00:00:00\", \"2017-12-29T00:00:00\"], \"y\": [75.97374223282429, 76.12054003151802, 76.00893925096376, 76.78453204433707, 77.33331947450667, 77.19023817255497, 77.23531340937117, 77.32509788876507, 78.36099331852046, 78.5906208286317, 79.13029636110168, 79.44890733043773, 79.00847143289961, 78.5823740083691, 78.36853158878984, 78.00475050710625, 78.71809603114816, 79.18552104659105, 79.39524550542804, 78.33022671620294, 77.52947389423406, 77.56906606322602, 77.18150939614416, 76.23982715833459, 75.1817480929716, 75.50569656932237, 76.0378968936382, 76.1660950391314, 76.35150046173804, 76.77774737806111, 76.86125011625504]}, {\"mode\": \"lines\", \"type\": \"scatter\", \"x\": [\"2017-11-15T00:00:00\", \"2017-11-16T00:00:00\", \"2017-11-17T00:00:00\", \"2017-11-20T00:00:00\", \"2017-11-21T00:00:00\", \"2017-11-22T00:00:00\", \"2017-11-24T00:00:00\", \"2017-11-27T00:00:00\", \"2017-11-28T00:00:00\", \"2017-11-29T00:00:00\", \"2017-11-30T00:00:00\", \"2017-12-01T00:00:00\", \"2017-12-04T00:00:00\", \"2017-12-05T00:00:00\", \"2017-12-06T00:00:00\", \"2017-12-07T00:00:00\", \"2017-12-08T00:00:00\", \"2017-12-11T00:00:00\", \"2017-12-12T00:00:00\", \"2017-12-13T00:00:00\", \"2017-12-14T00:00:00\", \"2017-12-15T00:00:00\", \"2017-12-18T00:00:00\", \"2017-12-19T00:00:00\", \"2017-12-20T00:00:00\", \"2017-12-21T00:00:00\", \"2017-12-22T00:00:00\", \"2017-12-26T00:00:00\", \"2017-12-27T00:00:00\", \"2017-12-28T00:00:00\", \"2017-12-29T00:00:00\"], \"y\": [75.95347542537037, 75.70078174427772, 76.36794380124017, 76.8934303886813, 78.14750881849508, 76.87279248599314, 76.96997386347155, 77.25965297991624, 78.49337540544454, 79.36055410152993, 79.16911892785969, 80.1323295140492, 79.00410909628509, 78.36117193110833, 78.74204666087905, 78.22070859678132, 79.57609348251222, 79.36663976981288, 79.77975035038875, 78.44703032607129, 77.45459175154714, 77.66177492942494, 77.45470053181845, 76.88325028032067, 75.37619013117413, 74.87822656066928, 75.59931610396421, 76.04896119197282, 76.32081672179498, 76.71165696106809, 76.76818207683858]}, {\"mode\": \"lines\", \"type\": \"scatter\", \"x\": [\"2017-11-15T00:00:00\", \"2017-11-16T00:00:00\", \"2017-11-17T00:00:00\", \"2017-11-20T00:00:00\", \"2017-11-21T00:00:00\", \"2017-11-22T00:00:00\", \"2017-11-24T00:00:00\", \"2017-11-27T00:00:00\", \"2017-11-28T00:00:00\", \"2017-11-29T00:00:00\", \"2017-11-30T00:00:00\", \"2017-12-01T00:00:00\", \"2017-12-04T00:00:00\", \"2017-12-05T00:00:00\", \"2017-12-06T00:00:00\", \"2017-12-07T00:00:00\", \"2017-12-08T00:00:00\", \"2017-12-11T00:00:00\", \"2017-12-12T00:00:00\", \"2017-12-13T00:00:00\", \"2017-12-14T00:00:00\", \"2017-12-15T00:00:00\", \"2017-12-18T00:00:00\", \"2017-12-19T00:00:00\", \"2017-12-20T00:00:00\", \"2017-12-21T00:00:00\", \"2017-12-22T00:00:00\", \"2017-12-26T00:00:00\", \"2017-12-27T00:00:00\", \"2017-12-28T00:00:00\", \"2017-12-29T00:00:00\"], \"y\": [76.01369492323116, 76.07357784191797, 76.05084953315128, 76.803940912622, 77.28917550918135, 77.17241348044938, 77.27610506069573, 77.31271890494276, 78.3094589899589, 78.62551669029735, 79.1131333693282, 79.33402856735594, 78.94067522508936, 78.58555690105172, 78.42694651612142, 77.968865026772, 78.76889238723177, 79.18206550900173, 79.3851434474341, 78.31990008798819, 77.58505718471729, 77.57464229113228, 77.14426992505497, 76.32516151260414, 75.20052678334892, 75.47514703807158, 75.99507941300784, 76.14910645783488, 76.40639673050303, 76.73327482537591, 76.92410846232609]}, {\"mode\": \"lines\", \"type\": \"scatter\", \"x\": [\"2017-11-15T00:00:00\", \"2017-11-16T00:00:00\", \"2017-11-17T00:00:00\", \"2017-11-20T00:00:00\", \"2017-11-21T00:00:00\", \"2017-11-22T00:00:00\", \"2017-11-24T00:00:00\", \"2017-11-27T00:00:00\", \"2017-11-28T00:00:00\", \"2017-11-29T00:00:00\", \"2017-11-30T00:00:00\", \"2017-12-01T00:00:00\", \"2017-12-04T00:00:00\", \"2017-12-05T00:00:00\", \"2017-12-06T00:00:00\", \"2017-12-07T00:00:00\", \"2017-12-08T00:00:00\", \"2017-12-11T00:00:00\", \"2017-12-12T00:00:00\", \"2017-12-13T00:00:00\", \"2017-12-14T00:00:00\", \"2017-12-15T00:00:00\", \"2017-12-18T00:00:00\", \"2017-12-19T00:00:00\", \"2017-12-20T00:00:00\", \"2017-12-21T00:00:00\", \"2017-12-22T00:00:00\", \"2017-12-26T00:00:00\", \"2017-12-27T00:00:00\", \"2017-12-28T00:00:00\", \"2017-12-29T00:00:00\"], \"y\": [76.01661938079816, 76.08067664415508, 76.01385530426047, 76.79722717252623, 77.3437189234555, 77.21009674850943, 77.23718896389492, 77.3120151196365, 78.35920142586924, 78.62287582012947, 79.11520478685173, 79.3995641145056, 78.96495968552873, 78.58404750177456, 78.38437365723624, 77.97353532305154, 78.72157249587502, 79.2067597147999, 79.43456871780795, 78.36044355433621, 77.52658876517889, 77.5446789228079, 77.17087724699314, 76.26333192501392, 75.16120308485279, 75.44813714332095, 76.00633409785218, 76.17769449006772, 76.39650404212037, 76.76458327080884, 76.89744100790381]}, {\"mode\": \"lines\", \"type\": \"scatter\", \"x\": [\"2017-11-15T00:00:00\", \"2017-11-16T00:00:00\", \"2017-11-17T00:00:00\", \"2017-11-20T00:00:00\", \"2017-11-21T00:00:00\", \"2017-11-22T00:00:00\", \"2017-11-24T00:00:00\", \"2017-11-27T00:00:00\", \"2017-11-28T00:00:00\", \"2017-11-29T00:00:00\", \"2017-11-30T00:00:00\", \"2017-12-01T00:00:00\", \"2017-12-04T00:00:00\", \"2017-12-05T00:00:00\", \"2017-12-06T00:00:00\", \"2017-12-07T00:00:00\", \"2017-12-08T00:00:00\", \"2017-12-11T00:00:00\", \"2017-12-12T00:00:00\", \"2017-12-13T00:00:00\", \"2017-12-14T00:00:00\", \"2017-12-15T00:00:00\", \"2017-12-18T00:00:00\", \"2017-12-19T00:00:00\", \"2017-12-20T00:00:00\", \"2017-12-21T00:00:00\", \"2017-12-22T00:00:00\", \"2017-12-26T00:00:00\", \"2017-12-27T00:00:00\", \"2017-12-28T00:00:00\", \"2017-12-29T00:00:00\"], \"y\": [75.93356036610614, 76.73853158357505, 77.0867693020639, 76.73397792324698, 79.12531183005723, 77.98520590642384, 77.26807020198424, 77.2683315549107, 78.19084523388308, 79.50914118853119, 79.56750654482803, 79.21902840308817, 79.04290298913827, 78.54930126800573, 79.46910404527475, 78.20449745125431, 79.28861967454141, 79.33942005222295, 78.94588945520891, 77.88062689655924, 77.32148324244004, 76.95956340388058, 77.94966079935759, 76.750341014779, 75.27206619753342, 74.36513579937025, 75.17203127023633, 76.07843529673896, 75.78937529863062, 75.71208012137248, 75.63813315593309]}, {\"mode\": \"lines\", \"type\": \"scatter\", \"x\": [\"2017-11-15T00:00:00\", \"2017-11-16T00:00:00\", \"2017-11-17T00:00:00\", \"2017-11-20T00:00:00\", \"2017-11-21T00:00:00\", \"2017-11-22T00:00:00\", \"2017-11-24T00:00:00\", \"2017-11-27T00:00:00\", \"2017-11-28T00:00:00\", \"2017-11-29T00:00:00\", \"2017-11-30T00:00:00\", \"2017-12-01T00:00:00\", \"2017-12-04T00:00:00\", \"2017-12-05T00:00:00\", \"2017-12-06T00:00:00\", \"2017-12-07T00:00:00\", \"2017-12-08T00:00:00\", \"2017-12-11T00:00:00\", \"2017-12-12T00:00:00\", \"2017-12-13T00:00:00\", \"2017-12-14T00:00:00\", \"2017-12-15T00:00:00\", \"2017-12-18T00:00:00\", \"2017-12-19T00:00:00\", \"2017-12-20T00:00:00\", \"2017-12-21T00:00:00\", \"2017-12-22T00:00:00\", \"2017-12-26T00:00:00\", \"2017-12-27T00:00:00\", \"2017-12-28T00:00:00\", \"2017-12-29T00:00:00\"], \"y\": [75.99173922949569, 76.11437333983791, 75.99536374733921, 76.79526464134581, 77.35265189685124, 77.19774722231946, 77.25445459941197, 77.29048220924078, 78.36302273983429, 78.58228454193726, 79.10759639870838, 79.40611543141841, 78.98876936078464, 78.57292509349818, 78.40502200117471, 78.00521514516961, 78.71372854957828, 79.18697143804745, 79.42031407220009, 78.35139491704675, 77.56892808608661, 77.56525260433986, 77.18713205917953, 76.25988067476241, 75.19062090978514, 75.50209463266371, 76.02380032327488, 76.13775040578766, 76.37221849860553, 76.780921324494, 76.85745674484957]}, {\"mode\": \"lines\", \"type\": \"scatter\", \"x\": [\"2017-11-15T00:00:00\", \"2017-11-16T00:00:00\", \"2017-11-17T00:00:00\", \"2017-11-20T00:00:00\", \"2017-11-21T00:00:00\", \"2017-11-22T00:00:00\", \"2017-11-24T00:00:00\", \"2017-11-27T00:00:00\", \"2017-11-28T00:00:00\", \"2017-11-29T00:00:00\", \"2017-11-30T00:00:00\", \"2017-12-01T00:00:00\", \"2017-12-04T00:00:00\", \"2017-12-05T00:00:00\", \"2017-12-06T00:00:00\", \"2017-12-07T00:00:00\", \"2017-12-08T00:00:00\", \"2017-12-11T00:00:00\", \"2017-12-12T00:00:00\", \"2017-12-13T00:00:00\", \"2017-12-14T00:00:00\", \"2017-12-15T00:00:00\", \"2017-12-18T00:00:00\", \"2017-12-19T00:00:00\", \"2017-12-20T00:00:00\", \"2017-12-21T00:00:00\", \"2017-12-22T00:00:00\", \"2017-12-26T00:00:00\", \"2017-12-27T00:00:00\", \"2017-12-28T00:00:00\", \"2017-12-29T00:00:00\"], \"y\": [75.99860746575285, 76.10337819902772, 76.01811538933869, 76.79636908701224, 77.3430503049971, 77.18876592006394, 77.25920204664811, 77.2974797011009, 78.35037252254158, 78.60682864816694, 79.11009237887036, 79.3930541440798, 78.97854036954716, 78.5776081283155, 78.41512389309192, 77.99334608462047, 78.7385548066492, 79.18920307166735, 79.40623436901095, 78.33982061832417, 77.57281573639105, 77.571937399724, 77.17734245656767, 76.28407977775532, 75.19258683929009, 75.48631688519971, 76.01108491599389, 76.14179846135994, 76.37797468320335, 76.76714663674169, 76.87763386456186]}, {\"mode\": \"lines\", \"type\": \"scatter\", \"x\": [\"2017-11-15T00:00:00\", \"2017-11-16T00:00:00\", \"2017-11-17T00:00:00\", \"2017-11-20T00:00:00\", \"2017-11-21T00:00:00\", \"2017-11-22T00:00:00\", \"2017-11-24T00:00:00\", \"2017-11-27T00:00:00\", \"2017-11-28T00:00:00\", \"2017-11-29T00:00:00\", \"2017-11-30T00:00:00\", \"2017-12-01T00:00:00\", \"2017-12-04T00:00:00\", \"2017-12-05T00:00:00\", \"2017-12-06T00:00:00\", \"2017-12-07T00:00:00\", \"2017-12-08T00:00:00\", \"2017-12-11T00:00:00\", \"2017-12-12T00:00:00\", \"2017-12-13T00:00:00\", \"2017-12-14T00:00:00\", \"2017-12-15T00:00:00\", \"2017-12-18T00:00:00\", \"2017-12-19T00:00:00\", \"2017-12-20T00:00:00\", \"2017-12-21T00:00:00\", \"2017-12-22T00:00:00\", \"2017-12-26T00:00:00\", \"2017-12-27T00:00:00\", \"2017-12-28T00:00:00\", \"2017-12-29T00:00:00\"], \"y\": [75.95087378957076, 76.39200004287396, 76.6617370842173, 76.64488024805367, 78.56350279104656, 77.22860782267489, 76.97777715996386, 77.2500642165099, 78.5905501131515, 79.60963798578734, 79.30952154951135, 80.20244957941487, 79.41297357829608, 78.56837660822264, 78.9314155592338, 78.02384717585832, 79.46025207596031, 79.49049649303396, 79.0877638410482, 78.1394287680497, 77.43234316739841, 77.7688615733248, 77.669821140567, 76.78280263225237, 75.30413824101922, 74.70480192373329, 75.36640949299786, 75.98777016561688, 75.78434056787218, 76.60385914249753, 76.47556702410509]}, {\"mode\": \"lines\", \"type\": \"scatter\", \"x\": [\"2017-11-15T00:00:00\", \"2017-11-16T00:00:00\", \"2017-11-17T00:00:00\", \"2017-11-20T00:00:00\", \"2017-11-21T00:00:00\", \"2017-11-22T00:00:00\", \"2017-11-24T00:00:00\", \"2017-11-27T00:00:00\", \"2017-11-28T00:00:00\", \"2017-11-29T00:00:00\", \"2017-11-30T00:00:00\", \"2017-12-01T00:00:00\", \"2017-12-04T00:00:00\", \"2017-12-05T00:00:00\", \"2017-12-06T00:00:00\", \"2017-12-07T00:00:00\", \"2017-12-08T00:00:00\", \"2017-12-11T00:00:00\", \"2017-12-12T00:00:00\", \"2017-12-13T00:00:00\", \"2017-12-14T00:00:00\", \"2017-12-15T00:00:00\", \"2017-12-18T00:00:00\", \"2017-12-19T00:00:00\", \"2017-12-20T00:00:00\", \"2017-12-21T00:00:00\", \"2017-12-22T00:00:00\", \"2017-12-26T00:00:00\", \"2017-12-27T00:00:00\", \"2017-12-28T00:00:00\", \"2017-12-29T00:00:00\"], \"y\": [75.99395306435204, 76.11081415319269, 76.00236174737059, 76.79527579758484, 77.34910312847596, 77.19485981850751, 77.25600119234139, 77.29272484008321, 78.35874780766768, 78.58979412114748, 79.1080417911531, 79.4019977215, 78.98573951685397, 78.57463572197682, 78.40804528321874, 78.0016678060504, 78.72113436411666, 79.1874568420557, 79.41596004705113, 78.34831192527824, 77.57055122540581, 77.56750511385366, 77.18409982743559, 76.26774684171153, 75.19155697125088, 75.49726666815803, 76.01984474927775, 76.13911173565238, 76.37412464407561, 76.77675666550674, 76.86411441520386]}, {\"mode\": \"lines\", \"type\": \"scatter\", \"x\": [\"2017-11-15T00:00:00\", \"2017-11-16T00:00:00\", \"2017-11-17T00:00:00\", \"2017-11-20T00:00:00\", \"2017-11-21T00:00:00\", \"2017-11-22T00:00:00\", \"2017-11-24T00:00:00\", \"2017-11-27T00:00:00\", \"2017-11-28T00:00:00\", \"2017-11-29T00:00:00\", \"2017-11-30T00:00:00\", \"2017-12-01T00:00:00\", \"2017-12-04T00:00:00\", \"2017-12-05T00:00:00\", \"2017-12-06T00:00:00\", \"2017-12-07T00:00:00\", \"2017-12-08T00:00:00\", \"2017-12-11T00:00:00\", \"2017-12-12T00:00:00\", \"2017-12-13T00:00:00\", \"2017-12-14T00:00:00\", \"2017-12-15T00:00:00\", \"2017-12-18T00:00:00\", \"2017-12-19T00:00:00\", \"2017-12-20T00:00:00\", \"2017-12-21T00:00:00\", \"2017-12-22T00:00:00\", \"2017-12-26T00:00:00\", \"2017-12-27T00:00:00\", \"2017-12-28T00:00:00\", \"2017-12-29T00:00:00\"], \"y\": [75.94193422064635, 76.12774371992096, 76.01437432574068, 76.77629326466612, 77.29620468550056, 77.16688465409482, 77.2246866122379, 77.34015139198566, 78.34713987819119, 78.57098281087623, 79.12955756322994, 79.46151151115144, 79.02125069350278, 78.60328352847125, 78.36489072924608, 78.02252130560578, 78.72877935807365, 79.16569345683476, 79.3614727361675, 78.31716466555443, 77.53872780593744, 77.5985948774121, 77.1789284804628, 76.24989466271795, 75.21185505563692, 75.5460110991958, 76.04915377296855, 76.1673335550021, 76.33407712647762, 76.77984324238092, 76.85681968457494]}, {\"mode\": \"lines\", \"type\": \"scatter\", \"x\": [\"2017-11-15T00:00:00\", \"2017-11-16T00:00:00\", \"2017-11-17T00:00:00\", \"2017-11-20T00:00:00\", \"2017-11-21T00:00:00\", \"2017-11-22T00:00:00\", \"2017-11-24T00:00:00\", \"2017-11-27T00:00:00\", \"2017-11-28T00:00:00\", \"2017-11-29T00:00:00\", \"2017-11-30T00:00:00\", \"2017-12-01T00:00:00\", \"2017-12-04T00:00:00\", \"2017-12-05T00:00:00\", \"2017-12-06T00:00:00\", \"2017-12-07T00:00:00\", \"2017-12-08T00:00:00\", \"2017-12-11T00:00:00\", \"2017-12-12T00:00:00\", \"2017-12-13T00:00:00\", \"2017-12-14T00:00:00\", \"2017-12-15T00:00:00\", \"2017-12-18T00:00:00\", \"2017-12-19T00:00:00\", \"2017-12-20T00:00:00\", \"2017-12-21T00:00:00\", \"2017-12-22T00:00:00\", \"2017-12-26T00:00:00\", \"2017-12-27T00:00:00\", \"2017-12-28T00:00:00\", \"2017-12-29T00:00:00\"], \"y\": [75.93277109961026, 75.69974237357583, 76.36549924345383, 76.8833781493939, 78.13870013823521, 76.87574768080998, 76.97401729147253, 77.2559007614445, 78.48250879802383, 79.3505033307779, 79.16705147246145, 80.13919169008102, 79.02010822431058, 78.3794143729931, 78.74959336258469, 78.22857803437228, 79.58086721898869, 79.36863483427607, 79.77754025349151, 78.46200135963751, 77.479871023718, 77.68070898619683, 77.46355308271883, 76.90181216446969, 75.40776601030963, 74.9004307461843, 75.59202883057756, 76.03047916926081, 76.30462314772976, 76.70775960035644, 76.7646393643744]}, {\"mode\": \"lines\", \"type\": \"scatter\", \"x\": [\"2017-11-15T00:00:00\", \"2017-11-16T00:00:00\", \"2017-11-17T00:00:00\", \"2017-11-20T00:00:00\", \"2017-11-21T00:00:00\", \"2017-11-22T00:00:00\", \"2017-11-24T00:00:00\", \"2017-11-27T00:00:00\", \"2017-11-28T00:00:00\", \"2017-11-29T00:00:00\", \"2017-11-30T00:00:00\", \"2017-12-01T00:00:00\", \"2017-12-04T00:00:00\", \"2017-12-05T00:00:00\", \"2017-12-06T00:00:00\", \"2017-12-07T00:00:00\", \"2017-12-08T00:00:00\", \"2017-12-11T00:00:00\", \"2017-12-12T00:00:00\", \"2017-12-13T00:00:00\", \"2017-12-14T00:00:00\", \"2017-12-15T00:00:00\", \"2017-12-18T00:00:00\", \"2017-12-19T00:00:00\", \"2017-12-20T00:00:00\", \"2017-12-21T00:00:00\", \"2017-12-22T00:00:00\", \"2017-12-26T00:00:00\", \"2017-12-27T00:00:00\", \"2017-12-28T00:00:00\", \"2017-12-29T00:00:00\"], \"y\": [76.00262627291612, 76.09950243542383, 76.02038505386894, 76.79715594882404, 77.31722310534165, 77.20314912127756, 77.27478926336913, 77.30226798726129, 78.32199579554344, 78.58612129005482, 79.10820085473956, 79.34271420167661, 78.95696715934629, 78.5817608940945, 78.41906303549264, 77.99643232376584, 78.71848175886139, 79.17599913922363, 79.40624680429032, 78.34294601772805, 77.5803645064929, 77.54986318456415, 77.17089537307254, 76.28618056621583, 75.19785474807306, 75.49149717635765, 76.01503691698487, 76.14906796746587, 76.39529123489277, 76.74320344621766, 76.876135360082]}, {\"mode\": \"lines\", \"type\": \"scatter\", \"x\": [\"2017-11-15T00:00:00\", \"2017-11-16T00:00:00\", \"2017-11-17T00:00:00\", \"2017-11-20T00:00:00\", \"2017-11-21T00:00:00\", \"2017-11-22T00:00:00\", \"2017-11-24T00:00:00\", \"2017-11-27T00:00:00\", \"2017-11-28T00:00:00\", \"2017-11-29T00:00:00\", \"2017-11-30T00:00:00\", \"2017-12-01T00:00:00\", \"2017-12-04T00:00:00\", \"2017-12-05T00:00:00\", \"2017-12-06T00:00:00\", \"2017-12-07T00:00:00\", \"2017-12-08T00:00:00\", \"2017-12-11T00:00:00\", \"2017-12-12T00:00:00\", \"2017-12-13T00:00:00\", \"2017-12-14T00:00:00\", \"2017-12-15T00:00:00\", \"2017-12-18T00:00:00\", \"2017-12-19T00:00:00\", \"2017-12-20T00:00:00\", \"2017-12-21T00:00:00\", \"2017-12-22T00:00:00\", \"2017-12-26T00:00:00\", \"2017-12-27T00:00:00\", \"2017-12-28T00:00:00\", \"2017-12-29T00:00:00\"], \"y\": [75.97062511210498, 76.09260930100697, 76.00254136687906, 76.81422262106895, 77.34271198512589, 77.20650302897931, 77.23656727136576, 77.3125525193098, 78.39045185282308, 78.57708945310752, 79.11865772086342, 79.39955926879225, 78.95586966787992, 78.58585585971869, 78.38689405530522, 77.9832800967442, 78.7397273360703, 79.19102270735199, 79.42287709436236, 78.34437358112525, 77.53895206884468, 77.5713673384594, 77.18107916197214, 76.23985439577103, 75.17349897963463, 75.50163994510243, 76.01742521692536, 76.15775716388175, 76.37829630739044, 76.76609056618162, 76.8631200799711]}, {\"mode\": \"lines\", \"type\": \"scatter\", \"x\": [\"2017-11-15T00:00:00\", \"2017-11-16T00:00:00\", \"2017-11-17T00:00:00\", \"2017-11-20T00:00:00\", \"2017-11-21T00:00:00\", \"2017-11-22T00:00:00\", \"2017-11-24T00:00:00\", \"2017-11-27T00:00:00\", \"2017-11-28T00:00:00\", \"2017-11-29T00:00:00\", \"2017-11-30T00:00:00\", \"2017-12-01T00:00:00\", \"2017-12-04T00:00:00\", \"2017-12-05T00:00:00\", \"2017-12-06T00:00:00\", \"2017-12-07T00:00:00\", \"2017-12-08T00:00:00\", \"2017-12-11T00:00:00\", \"2017-12-12T00:00:00\", \"2017-12-13T00:00:00\", \"2017-12-14T00:00:00\", \"2017-12-15T00:00:00\", \"2017-12-18T00:00:00\", \"2017-12-19T00:00:00\", \"2017-12-20T00:00:00\", \"2017-12-21T00:00:00\", \"2017-12-22T00:00:00\", \"2017-12-26T00:00:00\", \"2017-12-27T00:00:00\", \"2017-12-28T00:00:00\", \"2017-12-29T00:00:00\"], \"y\": [76.00839265036556, 76.71592433674685, 77.06784779271095, 76.66387946204792, 79.20239403146375, 77.88000042466808, 77.1297749102639, 77.33813411140656, 78.18208722093138, 79.64158025383888, 79.46059328287171, 79.25992250000499, 78.96872635186449, 78.56323071366488, 79.39652753575139, 78.17166709330328, 79.18130036441251, 79.50576159207169, 78.78430126277125, 77.97957640981103, 77.14795807579429, 77.08652465030376, 77.861197703289, 76.73831411826164, 75.02950900254156, 74.43678590218333, 75.21939276433515, 76.24919599562368, 75.72858112609296, 75.82205578488166, 75.67812932124474]}, {\"mode\": \"lines\", \"type\": \"scatter\", \"x\": [\"2017-11-15T00:00:00\", \"2017-11-16T00:00:00\", \"2017-11-17T00:00:00\", \"2017-11-20T00:00:00\", \"2017-11-21T00:00:00\", \"2017-11-22T00:00:00\", \"2017-11-24T00:00:00\", \"2017-11-27T00:00:00\", \"2017-11-28T00:00:00\", \"2017-11-29T00:00:00\", \"2017-11-30T00:00:00\", \"2017-12-01T00:00:00\", \"2017-12-04T00:00:00\", \"2017-12-05T00:00:00\", \"2017-12-06T00:00:00\", \"2017-12-07T00:00:00\", \"2017-12-08T00:00:00\", \"2017-12-11T00:00:00\", \"2017-12-12T00:00:00\", \"2017-12-13T00:00:00\", \"2017-12-14T00:00:00\", \"2017-12-15T00:00:00\", \"2017-12-18T00:00:00\", \"2017-12-19T00:00:00\", \"2017-12-20T00:00:00\", \"2017-12-21T00:00:00\", \"2017-12-22T00:00:00\", \"2017-12-26T00:00:00\", \"2017-12-27T00:00:00\", \"2017-12-28T00:00:00\", \"2017-12-29T00:00:00\"], \"y\": [75.97556265168873, 76.10606035034684, 76.01669364694813, 76.81638040751163, 77.38851715557679, 77.16956561216463, 77.25772266825949, 77.30751982384041, 78.36485470142486, 78.67453184190812, 79.09903453400072, 79.42889028359095, 78.94441047960878, 78.55566584685154, 78.39984241422907, 77.96785648692396, 78.74414432700809, 79.25740476539767, 79.3882190617171, 78.3132758411598, 77.49470018035866, 77.57487346564953, 77.1572793394041, 76.23965573870922, 75.13367503411297, 75.45123236801774, 76.05842180881453, 76.15297534897184, 76.38544942853807, 76.77941367370313, 76.8989637120528]}, {\"mode\": \"lines\", \"type\": \"scatter\", \"x\": [\"2017-11-15T00:00:00\", \"2017-11-16T00:00:00\", \"2017-11-17T00:00:00\", \"2017-11-20T00:00:00\", \"2017-11-21T00:00:00\", \"2017-11-22T00:00:00\", \"2017-11-24T00:00:00\", \"2017-11-27T00:00:00\", \"2017-11-28T00:00:00\", \"2017-11-29T00:00:00\", \"2017-11-30T00:00:00\", \"2017-12-01T00:00:00\", \"2017-12-04T00:00:00\", \"2017-12-05T00:00:00\", \"2017-12-06T00:00:00\", \"2017-12-07T00:00:00\", \"2017-12-08T00:00:00\", \"2017-12-11T00:00:00\", \"2017-12-12T00:00:00\", \"2017-12-13T00:00:00\", \"2017-12-14T00:00:00\", \"2017-12-15T00:00:00\", \"2017-12-18T00:00:00\", \"2017-12-19T00:00:00\", \"2017-12-20T00:00:00\", \"2017-12-21T00:00:00\", \"2017-12-22T00:00:00\", \"2017-12-26T00:00:00\", \"2017-12-27T00:00:00\", \"2017-12-28T00:00:00\", \"2017-12-29T00:00:00\"], \"y\": [75.99448671082246, 76.11372589660846, 75.99738278528463, 76.79478699230765, 77.38529992078958, 77.20160419685598, 77.24791294472358, 77.29403146066245, 78.36571757083539, 78.61460160093932, 79.10610601830084, 79.42308051559374, 78.98492109468883, 78.5581024134381, 78.39830883487174, 77.99948989424878, 78.70344832067808, 79.21654269632691, 79.42383049729197, 78.34451567447111, 77.53218523647368, 77.55154669575086, 77.19006881215871, 76.2392808221255, 75.1627272012703, 75.47648366767882, 76.03964637127412, 76.149242256223, 76.36999815741036, 76.78536126552466, 76.8604699992497]}, {\"mode\": \"lines\", \"type\": \"scatter\", \"x\": [\"2017-11-15T00:00:00\", \"2017-11-16T00:00:00\", \"2017-11-17T00:00:00\", \"2017-11-20T00:00:00\", \"2017-11-21T00:00:00\", \"2017-11-22T00:00:00\", \"2017-11-24T00:00:00\", \"2017-11-27T00:00:00\", \"2017-11-28T00:00:00\", \"2017-11-29T00:00:00\", \"2017-11-30T00:00:00\", \"2017-12-01T00:00:00\", \"2017-12-04T00:00:00\", \"2017-12-05T00:00:00\", \"2017-12-06T00:00:00\", \"2017-12-07T00:00:00\", \"2017-12-08T00:00:00\", \"2017-12-11T00:00:00\", \"2017-12-12T00:00:00\", \"2017-12-13T00:00:00\", \"2017-12-14T00:00:00\", \"2017-12-15T00:00:00\", \"2017-12-18T00:00:00\", \"2017-12-19T00:00:00\", \"2017-12-20T00:00:00\", \"2017-12-21T00:00:00\", \"2017-12-22T00:00:00\", \"2017-12-26T00:00:00\", \"2017-12-27T00:00:00\", \"2017-12-28T00:00:00\", \"2017-12-29T00:00:00\"], \"y\": [75.9892910725343, 76.38894761820225, 76.658898945601, 76.6233340466855, 78.59502405680666, 77.23433749552431, 76.89496823919106, 77.30244317028603, 78.58703092152017, 79.67193268219026, 79.26755928778437, 80.19798002981472, 79.40503234840557, 78.49512275845002, 78.9225218053447, 78.01013051830276, 79.40949369887464, 79.56314803658407, 79.03243642449507, 78.14860861551983, 77.37588527716785, 77.76479631936243, 77.67345132345083, 76.72363365474271, 75.23841456288379, 74.65120210725819, 75.41885069699636, 76.0447749771142, 75.79368190056162, 76.62218590929515, 76.51635047406793]}, {\"mode\": \"lines\", \"type\": \"scatter\", \"x\": [\"2017-11-15T00:00:00\", \"2017-11-16T00:00:00\", \"2017-11-17T00:00:00\", \"2017-11-20T00:00:00\", \"2017-11-21T00:00:00\", \"2017-11-22T00:00:00\", \"2017-11-24T00:00:00\", \"2017-11-27T00:00:00\", \"2017-11-28T00:00:00\", \"2017-11-29T00:00:00\", \"2017-11-30T00:00:00\", \"2017-12-01T00:00:00\", \"2017-12-04T00:00:00\", \"2017-12-05T00:00:00\", \"2017-12-06T00:00:00\", \"2017-12-07T00:00:00\", \"2017-12-08T00:00:00\", \"2017-12-11T00:00:00\", \"2017-12-12T00:00:00\", \"2017-12-13T00:00:00\", \"2017-12-14T00:00:00\", \"2017-12-15T00:00:00\", \"2017-12-18T00:00:00\", \"2017-12-19T00:00:00\", \"2017-12-20T00:00:00\", \"2017-12-21T00:00:00\", \"2017-12-22T00:00:00\", \"2017-12-26T00:00:00\", \"2017-12-27T00:00:00\", \"2017-12-28T00:00:00\", \"2017-12-29T00:00:00\"], \"y\": [75.99451711290897, 76.11373373195424, 75.9974494751374, 76.79453876192976, 77.38528203048716, 77.20168106586839, 77.2478782908879, 77.29404460258739, 78.36543887263998, 78.61465144326453, 79.10596476663851, 79.423085782266, 78.98505372079154, 78.55819253389575, 78.39836727841372, 77.99963877679734, 78.70322367537177, 79.21647845355808, 79.42382220747213, 78.34481888244854, 77.53232666275294, 77.55151181656615, 77.19024201307587, 76.23953425968057, 75.16297529188944, 75.47633104946773, 76.03950005575669, 76.14925043248208, 76.36993243777792, 76.7852805861568, 76.86045962770442]}, {\"mode\": \"lines\", \"type\": \"scatter\", \"x\": [\"2017-11-15T00:00:00\", \"2017-11-16T00:00:00\", \"2017-11-17T00:00:00\", \"2017-11-20T00:00:00\", \"2017-11-21T00:00:00\", \"2017-11-22T00:00:00\", \"2017-11-24T00:00:00\", \"2017-11-27T00:00:00\", \"2017-11-28T00:00:00\", \"2017-11-29T00:00:00\", \"2017-11-30T00:00:00\", \"2017-12-01T00:00:00\", \"2017-12-04T00:00:00\", \"2017-12-05T00:00:00\", \"2017-12-06T00:00:00\", \"2017-12-07T00:00:00\", \"2017-12-08T00:00:00\", \"2017-12-11T00:00:00\", \"2017-12-12T00:00:00\", \"2017-12-13T00:00:00\", \"2017-12-14T00:00:00\", \"2017-12-15T00:00:00\", \"2017-12-18T00:00:00\", \"2017-12-19T00:00:00\", \"2017-12-20T00:00:00\", \"2017-12-21T00:00:00\", \"2017-12-22T00:00:00\", \"2017-12-26T00:00:00\", \"2017-12-27T00:00:00\", \"2017-12-28T00:00:00\", \"2017-12-29T00:00:00\"], \"y\": [75.90964776634846, 76.14010100221392, 76.00925052222809, 76.78802084965102, 77.34655363891017, 77.15094809557415, 77.21966617041048, 77.3531541171548, 78.36504087341304, 78.6238560381202, 79.1241020448022, 79.51110479597824, 78.99384711700435, 78.57923154282065, 78.34095468787056, 78.00750670493358, 78.72607234166186, 79.2264237447528, 79.34620012200403, 78.29230297608656, 77.45787810246998, 77.60108445710269, 77.16576803015198, 76.19118803805434, 75.15763165820177, 75.52281610250364, 76.10055233190218, 76.17781443729889, 76.33105355989917, 76.79840957357699, 76.8680234767109]}, {\"mode\": \"lines\", \"type\": \"scatter\", \"x\": [\"2017-11-15T00:00:00\", \"2017-11-16T00:00:00\", \"2017-11-17T00:00:00\", \"2017-11-20T00:00:00\", \"2017-11-21T00:00:00\", \"2017-11-22T00:00:00\", \"2017-11-24T00:00:00\", \"2017-11-27T00:00:00\", \"2017-11-28T00:00:00\", \"2017-11-29T00:00:00\", \"2017-11-30T00:00:00\", \"2017-12-01T00:00:00\", \"2017-12-04T00:00:00\", \"2017-12-05T00:00:00\", \"2017-12-06T00:00:00\", \"2017-12-07T00:00:00\", \"2017-12-08T00:00:00\", \"2017-12-11T00:00:00\", \"2017-12-12T00:00:00\", \"2017-12-13T00:00:00\", \"2017-12-14T00:00:00\", \"2017-12-15T00:00:00\", \"2017-12-18T00:00:00\", \"2017-12-19T00:00:00\", \"2017-12-20T00:00:00\", \"2017-12-21T00:00:00\", \"2017-12-22T00:00:00\", \"2017-12-26T00:00:00\", \"2017-12-27T00:00:00\", \"2017-12-28T00:00:00\", \"2017-12-29T00:00:00\"], \"y\": [75.95474152756512, 75.68819266915382, 76.37532398314713, 76.8967809085195, 78.16332448376816, 76.87314488528108, 76.922880861774, 77.30992465766509, 78.47633618081947, 79.41459786819728, 79.13235861066053, 80.14625599434595, 79.01360786538208, 78.31149197652789, 78.76120200604662, 78.21455973819104, 79.53774054963961, 79.42379469122596, 79.72568665110849, 78.47121159399072, 77.38270875833742, 77.68242929033401, 77.46406088862172, 76.85059864863358, 75.3477859881734, 74.83541351360235, 75.64361337378611, 76.075669168267, 76.30787642778931, 76.72383408053771, 76.77665744499058]}, {\"mode\": \"lines\", \"type\": \"scatter\", \"x\": [\"2017-11-15T00:00:00\", \"2017-11-16T00:00:00\", \"2017-11-17T00:00:00\", \"2017-11-20T00:00:00\", \"2017-11-21T00:00:00\", \"2017-11-22T00:00:00\", \"2017-11-24T00:00:00\", \"2017-11-27T00:00:00\", \"2017-11-28T00:00:00\", \"2017-11-29T00:00:00\", \"2017-11-30T00:00:00\", \"2017-12-01T00:00:00\", \"2017-12-04T00:00:00\", \"2017-12-05T00:00:00\", \"2017-12-06T00:00:00\", \"2017-12-07T00:00:00\", \"2017-12-08T00:00:00\", \"2017-12-11T00:00:00\", \"2017-12-12T00:00:00\", \"2017-12-13T00:00:00\", \"2017-12-14T00:00:00\", \"2017-12-15T00:00:00\", \"2017-12-18T00:00:00\", \"2017-12-19T00:00:00\", \"2017-12-20T00:00:00\", \"2017-12-21T00:00:00\", \"2017-12-22T00:00:00\", \"2017-12-26T00:00:00\", \"2017-12-27T00:00:00\", \"2017-12-28T00:00:00\", \"2017-12-29T00:00:00\"], \"y\": [75.99081352420406, 76.09904342151, 76.03995822103204, 76.79395039902901, 77.36545475275196, 77.20441819567363, 77.27520606894798, 77.3153540521684, 78.29656123412535, 78.66044564617074, 79.09455246085345, 79.35139185773065, 78.92787505726031, 78.568538165506, 78.42061468137354, 77.9843231268848, 78.70059473690935, 79.23652096812972, 79.38743439931108, 78.33545059852482, 77.51511490543018, 77.5304974635196, 77.17138566874938, 76.27045794973067, 75.16139204569335, 75.43093489697544, 76.0415569984032, 76.16760343975838, 76.39842402816464, 76.72818437725492, 76.88692322701087]}, {\"mode\": \"lines\", \"type\": \"scatter\", \"x\": [\"2017-11-15T00:00:00\", \"2017-11-16T00:00:00\", \"2017-11-17T00:00:00\", \"2017-11-20T00:00:00\", \"2017-11-21T00:00:00\", \"2017-11-22T00:00:00\", \"2017-11-24T00:00:00\", \"2017-11-27T00:00:00\", \"2017-11-28T00:00:00\", \"2017-11-29T00:00:00\", \"2017-11-30T00:00:00\", \"2017-12-01T00:00:00\", \"2017-12-04T00:00:00\", \"2017-12-05T00:00:00\", \"2017-12-06T00:00:00\", \"2017-12-07T00:00:00\", \"2017-12-08T00:00:00\", \"2017-12-11T00:00:00\", \"2017-12-12T00:00:00\", \"2017-12-13T00:00:00\", \"2017-12-14T00:00:00\", \"2017-12-15T00:00:00\", \"2017-12-18T00:00:00\", \"2017-12-19T00:00:00\", \"2017-12-20T00:00:00\", \"2017-12-21T00:00:00\", \"2017-12-22T00:00:00\", \"2017-12-26T00:00:00\", \"2017-12-27T00:00:00\", \"2017-12-28T00:00:00\", \"2017-12-29T00:00:00\"], \"y\": [75.99062327808917, 76.11092009007187, 75.99179829854126, 76.8034212746889, 77.39266320439802, 77.1951833257057, 77.24959954595914, 77.29295701868112, 78.3766188613194, 78.62039040722073, 79.10319942376395, 79.42860781277733, 78.97631165070918, 78.55008030943314, 78.39391448684087, 77.99128401133748, 78.70526935392301, 79.23017740963604, 79.42596105984417, 78.33700200677865, 77.5190920369646, 77.55242428448715, 77.18482608666065, 76.22318645059273, 75.1475017022553, 75.476652393828, 76.05325636304795, 76.1483167162634, 76.37506581665154, 76.79212016393909, 76.86608006088224]}, {\"mode\": \"lines\", \"type\": \"scatter\", \"x\": [\"2017-11-15T00:00:00\", \"2017-11-16T00:00:00\", \"2017-11-17T00:00:00\", \"2017-11-20T00:00:00\", \"2017-11-21T00:00:00\", \"2017-11-22T00:00:00\", \"2017-11-24T00:00:00\", \"2017-11-27T00:00:00\", \"2017-11-28T00:00:00\", \"2017-11-29T00:00:00\", \"2017-11-30T00:00:00\", \"2017-12-01T00:00:00\", \"2017-12-04T00:00:00\", \"2017-12-05T00:00:00\", \"2017-12-06T00:00:00\", \"2017-12-07T00:00:00\", \"2017-12-08T00:00:00\", \"2017-12-11T00:00:00\", \"2017-12-12T00:00:00\", \"2017-12-13T00:00:00\", \"2017-12-14T00:00:00\", \"2017-12-15T00:00:00\", \"2017-12-18T00:00:00\", \"2017-12-19T00:00:00\", \"2017-12-20T00:00:00\", \"2017-12-21T00:00:00\", \"2017-12-22T00:00:00\", \"2017-12-26T00:00:00\", \"2017-12-27T00:00:00\", \"2017-12-28T00:00:00\", \"2017-12-29T00:00:00\"], \"y\": [75.9709294172129, 76.73917368235067, 77.08165654960432, 76.69944885210661, 79.14080670944497, 77.99178435950498, 77.17053215344406, 77.29362186604044, 78.18497540448986, 79.56388549140294, 79.54995898313516, 79.20871466281649, 79.03465061752152, 78.53899497801649, 79.44997701058719, 78.19752173384636, 79.21892381348763, 79.40904642325235, 78.90439941750162, 77.89457047459203, 77.28012052437856, 76.96609035853145, 77.95698737296047, 76.73667900745166, 75.18866440333478, 74.34027683776189, 75.20722582042573, 76.14382205466825, 75.79308443615112, 75.72226381123167, 75.67758626153791]}, {\"mode\": \"lines\", \"type\": \"scatter\", \"x\": [\"2017-11-15T00:00:00\", \"2017-11-16T00:00:00\", \"2017-11-17T00:00:00\", \"2017-11-20T00:00:00\", \"2017-11-21T00:00:00\", \"2017-11-22T00:00:00\", \"2017-11-24T00:00:00\", \"2017-11-27T00:00:00\", \"2017-11-28T00:00:00\", \"2017-11-29T00:00:00\", \"2017-11-30T00:00:00\", \"2017-12-01T00:00:00\", \"2017-12-04T00:00:00\", \"2017-12-05T00:00:00\", \"2017-12-06T00:00:00\", \"2017-12-07T00:00:00\", \"2017-12-08T00:00:00\", \"2017-12-11T00:00:00\", \"2017-12-12T00:00:00\", \"2017-12-13T00:00:00\", \"2017-12-14T00:00:00\", \"2017-12-15T00:00:00\", \"2017-12-18T00:00:00\", \"2017-12-19T00:00:00\", \"2017-12-20T00:00:00\", \"2017-12-21T00:00:00\", \"2017-12-22T00:00:00\", \"2017-12-26T00:00:00\", \"2017-12-27T00:00:00\", \"2017-12-28T00:00:00\", \"2017-12-29T00:00:00\"], \"y\": [75.9681682599517, 76.12505541905547, 75.98962430909125, 76.80089216869736, 77.36745045465719, 77.18717256414035, 77.25530513030934, 77.29406714056726, 78.36097411367608, 78.6084856948185, 79.09098619961465, 79.4267459542765, 78.96976402182764, 78.57399349485515, 78.39920097017098, 78.0043557798905, 78.70780947096179, 79.21550304223626, 79.4037250387247, 78.35490366214982, 77.53949651798769, 77.57707632278584, 77.18077710947965, 76.25231263243545, 75.17810262733045, 75.49115333337633, 76.04135748091245, 76.13576316373494, 76.3741300971575, 76.78276045080402, 76.86338349866473]}, {\"mode\": \"lines\", \"type\": \"scatter\", \"x\": [\"2017-11-15T00:00:00\", \"2017-11-16T00:00:00\", \"2017-11-17T00:00:00\", \"2017-11-20T00:00:00\", \"2017-11-21T00:00:00\", \"2017-11-22T00:00:00\", \"2017-11-24T00:00:00\", \"2017-11-27T00:00:00\", \"2017-11-28T00:00:00\", \"2017-11-29T00:00:00\", \"2017-11-30T00:00:00\", \"2017-12-01T00:00:00\", \"2017-12-04T00:00:00\", \"2017-12-05T00:00:00\", \"2017-12-06T00:00:00\", \"2017-12-07T00:00:00\", \"2017-12-08T00:00:00\", \"2017-12-11T00:00:00\", \"2017-12-12T00:00:00\", \"2017-12-13T00:00:00\", \"2017-12-14T00:00:00\", \"2017-12-15T00:00:00\", \"2017-12-18T00:00:00\", \"2017-12-19T00:00:00\", \"2017-12-20T00:00:00\", \"2017-12-21T00:00:00\", \"2017-12-22T00:00:00\", \"2017-12-26T00:00:00\", \"2017-12-27T00:00:00\", \"2017-12-28T00:00:00\", \"2017-12-29T00:00:00\"], \"y\": [75.98369678704208, 76.10544023682402, 76.0419311015732, 76.7857182887703, 77.35126835555218, 77.18098864635502, 77.26091137546061, 77.30642989682616, 78.3191624319567, 78.64721012306276, 79.09305540420472, 79.39323792308073, 78.96537274578554, 78.58742731840721, 78.43165948775956, 77.99501091458245, 78.74365258156689, 79.20629122255659, 79.37745747146785, 78.34975753937745, 77.56675592661733, 77.58326862925142, 77.18210338053983, 76.31695093870292, 75.20858313724725, 75.45524859138087, 76.00013715397192, 76.13940463497542, 76.3753299310924, 76.74565778329634, 76.88704389705397]}, {\"mode\": \"lines\", \"type\": \"scatter\", \"x\": [\"2017-11-15T00:00:00\", \"2017-11-16T00:00:00\", \"2017-11-17T00:00:00\", \"2017-11-20T00:00:00\", \"2017-11-21T00:00:00\", \"2017-11-22T00:00:00\", \"2017-11-24T00:00:00\", \"2017-11-27T00:00:00\", \"2017-11-28T00:00:00\", \"2017-11-29T00:00:00\", \"2017-11-30T00:00:00\", \"2017-12-01T00:00:00\", \"2017-12-04T00:00:00\", \"2017-12-05T00:00:00\", \"2017-12-06T00:00:00\", \"2017-12-07T00:00:00\", \"2017-12-08T00:00:00\", \"2017-12-11T00:00:00\", \"2017-12-12T00:00:00\", \"2017-12-13T00:00:00\", \"2017-12-14T00:00:00\", \"2017-12-15T00:00:00\", \"2017-12-18T00:00:00\", \"2017-12-19T00:00:00\", \"2017-12-20T00:00:00\", \"2017-12-21T00:00:00\", \"2017-12-22T00:00:00\", \"2017-12-26T00:00:00\", \"2017-12-27T00:00:00\", \"2017-12-28T00:00:00\", \"2017-12-29T00:00:00\"], \"y\": [75.98086028093448, 76.38943319557158, 76.66003895473959, 76.62669842616762, 78.58898561539839, 77.23499223082479, 76.90912836200764, 77.2940814031293, 78.58496889351696, 79.66184367526937, 79.27440977531846, 80.19971862286991, 79.40797664487265, 78.509193245358, 78.92518072129786, 78.01401553365163, 79.4172285044619, 79.55164858922564, 79.04113807957474, 78.14942563225594, 77.38594211273671, 77.76630931993923, 77.6737155948199, 76.73617369728737, 75.25281418084666, 74.6607254990336, 75.40829838645999, 76.03312487554858, 75.79119661288914, 76.61770825921805, 76.50884156065037]}, {\"mode\": \"lines\", \"type\": \"scatter\", \"x\": [\"2017-11-15T00:00:00\", \"2017-11-16T00:00:00\", \"2017-11-17T00:00:00\", \"2017-11-20T00:00:00\", \"2017-11-21T00:00:00\", \"2017-11-22T00:00:00\", \"2017-11-24T00:00:00\", \"2017-11-27T00:00:00\", \"2017-11-28T00:00:00\", \"2017-11-29T00:00:00\", \"2017-11-30T00:00:00\", \"2017-12-01T00:00:00\", \"2017-12-04T00:00:00\", \"2017-12-05T00:00:00\", \"2017-12-06T00:00:00\", \"2017-12-07T00:00:00\", \"2017-12-08T00:00:00\", \"2017-12-11T00:00:00\", \"2017-12-12T00:00:00\", \"2017-12-13T00:00:00\", \"2017-12-14T00:00:00\", \"2017-12-15T00:00:00\", \"2017-12-18T00:00:00\", \"2017-12-19T00:00:00\", \"2017-12-20T00:00:00\", \"2017-12-21T00:00:00\", \"2017-12-22T00:00:00\", \"2017-12-26T00:00:00\", \"2017-12-27T00:00:00\", \"2017-12-28T00:00:00\", \"2017-12-29T00:00:00\"], \"y\": [75.96615415449504, 76.13325684832817, 75.9940538817361, 76.8011640671225, 77.37763640571117, 77.19637392592139, 77.25470109307301, 77.29242336729416, 78.36017906328333, 78.60700784229076, 79.09408253446057, 79.42483482762668, 78.9715653074897, 78.57758594167478, 78.40687253152842, 78.01135608299583, 78.70867930644292, 79.2124127009162, 79.39935315739788, 78.35622480523973, 77.54180840814642, 77.57498058748875, 77.187417376602, 76.25916090964571, 75.18266648580914, 75.48932112787963, 76.03155442751506, 76.13297761741279, 76.36774752767698, 76.7739006727575, 76.84815050093414]}, {\"mode\": \"lines\", \"type\": \"scatter\", \"x\": [\"2017-11-15T00:00:00\", \"2017-11-16T00:00:00\", \"2017-11-17T00:00:00\", \"2017-11-20T00:00:00\", \"2017-11-21T00:00:00\", \"2017-11-22T00:00:00\", \"2017-11-24T00:00:00\", \"2017-11-27T00:00:00\", \"2017-11-28T00:00:00\", \"2017-11-29T00:00:00\", \"2017-11-30T00:00:00\", \"2017-12-01T00:00:00\", \"2017-12-04T00:00:00\", \"2017-12-05T00:00:00\", \"2017-12-06T00:00:00\", \"2017-12-07T00:00:00\", \"2017-12-08T00:00:00\", \"2017-12-11T00:00:00\", \"2017-12-12T00:00:00\", \"2017-12-13T00:00:00\", \"2017-12-14T00:00:00\", \"2017-12-15T00:00:00\", \"2017-12-18T00:00:00\", \"2017-12-19T00:00:00\", \"2017-12-20T00:00:00\", \"2017-12-21T00:00:00\", \"2017-12-22T00:00:00\", \"2017-12-26T00:00:00\", \"2017-12-27T00:00:00\", \"2017-12-28T00:00:00\", \"2017-12-29T00:00:00\"], \"y\": [75.93320998007319, 76.12931193396709, 76.00708455991347, 76.78255307012357, 77.33282525941142, 77.16799008088886, 77.23178402639107, 77.33264605104424, 78.35453754460578, 78.59633012123453, 79.11132024006898, 79.46726510488523, 78.99834030963171, 78.58974690513689, 78.3682846378125, 78.01389200538087, 78.71791083130532, 79.19821810499978, 79.36784468544224, 78.3277889909316, 77.51676489163218, 77.59452084678964, 77.18310992085271, 76.23510448185156, 75.1920644280299, 75.52079711333006, 76.06097094012273, 76.15958162095846, 76.3427704883361, 76.78089163334239, 76.85986126432789]}, {\"mode\": \"lines\", \"type\": \"scatter\", \"x\": [\"2017-11-15T00:00:00\", \"2017-11-16T00:00:00\", \"2017-11-17T00:00:00\", \"2017-11-20T00:00:00\", \"2017-11-21T00:00:00\", \"2017-11-22T00:00:00\", \"2017-11-24T00:00:00\", \"2017-11-27T00:00:00\", \"2017-11-28T00:00:00\", \"2017-11-29T00:00:00\", \"2017-11-30T00:00:00\", \"2017-12-01T00:00:00\", \"2017-12-04T00:00:00\", \"2017-12-05T00:00:00\", \"2017-12-06T00:00:00\", \"2017-12-07T00:00:00\", \"2017-12-08T00:00:00\", \"2017-12-11T00:00:00\", \"2017-12-12T00:00:00\", \"2017-12-13T00:00:00\", \"2017-12-14T00:00:00\", \"2017-12-15T00:00:00\", \"2017-12-18T00:00:00\", \"2017-12-19T00:00:00\", \"2017-12-20T00:00:00\", \"2017-12-21T00:00:00\", \"2017-12-22T00:00:00\", \"2017-12-26T00:00:00\", \"2017-12-27T00:00:00\", \"2017-12-28T00:00:00\", \"2017-12-29T00:00:00\"], \"y\": [75.93699422147598, 75.69236280022892, 76.37304021336995, 76.89334636249016, 78.15219877550284, 76.87421265088926, 76.95633155146061, 77.28328666473332, 78.47563532395327, 79.37689672367182, 79.1485455906631, 80.13541327790573, 79.00483352567994, 78.34758054469923, 78.76182862167549, 78.22101695993894, 79.56467196378175, 79.39090864711629, 79.75516502490154, 78.46363962605894, 77.43165534764624, 77.67930830286653, 77.46084294480838, 76.87593251339665, 75.37754395242392, 74.8735794854524, 75.62218466765675, 76.05003117566355, 76.30937510954948, 76.70789947358014, 76.76328906969628]}, {\"mode\": \"lines\", \"type\": \"scatter\", \"x\": [\"2017-11-15T00:00:00\", \"2017-11-16T00:00:00\", \"2017-11-17T00:00:00\", \"2017-11-20T00:00:00\", \"2017-11-21T00:00:00\", \"2017-11-22T00:00:00\", \"2017-11-24T00:00:00\", \"2017-11-27T00:00:00\", \"2017-11-28T00:00:00\", \"2017-11-29T00:00:00\", \"2017-11-30T00:00:00\", \"2017-12-01T00:00:00\", \"2017-12-04T00:00:00\", \"2017-12-05T00:00:00\", \"2017-12-06T00:00:00\", \"2017-12-07T00:00:00\", \"2017-12-08T00:00:00\", \"2017-12-11T00:00:00\", \"2017-12-12T00:00:00\", \"2017-12-13T00:00:00\", \"2017-12-14T00:00:00\", \"2017-12-15T00:00:00\", \"2017-12-18T00:00:00\", \"2017-12-19T00:00:00\", \"2017-12-20T00:00:00\", \"2017-12-21T00:00:00\", \"2017-12-22T00:00:00\", \"2017-12-26T00:00:00\", \"2017-12-27T00:00:00\", \"2017-12-28T00:00:00\", \"2017-12-29T00:00:00\"], \"y\": [75.99264880813101, 76.09228404946073, 76.03572293217086, 76.82363070724541, 77.33828224076082, 77.18170961064517, 77.27733376912232, 77.31001975342285, 78.33854994921984, 78.64042581248553, 79.11536241054625, 79.35402574075985, 78.92683167288038, 78.5693156519073, 78.41729074909885, 77.96424395357236, 78.75957611184428, 79.21724195011367, 79.38532265032286, 78.29987954329427, 77.53424409225535, 77.56063044136539, 77.14421023054317, 76.2699289209436, 75.15449394471861, 75.46910575484135, 76.03500002175497, 76.15476933255803, 76.40392488281427, 76.7421686775206, 76.90163695874922]}, {\"mode\": \"lines\", \"type\": \"scatter\", \"x\": [\"2017-11-15T00:00:00\", \"2017-11-16T00:00:00\", \"2017-11-17T00:00:00\", \"2017-11-20T00:00:00\", \"2017-11-21T00:00:00\", \"2017-11-22T00:00:00\", \"2017-11-24T00:00:00\", \"2017-11-27T00:00:00\", \"2017-11-28T00:00:00\", \"2017-11-29T00:00:00\", \"2017-11-30T00:00:00\", \"2017-12-01T00:00:00\", \"2017-12-04T00:00:00\", \"2017-12-05T00:00:00\", \"2017-12-06T00:00:00\", \"2017-12-07T00:00:00\", \"2017-12-08T00:00:00\", \"2017-12-11T00:00:00\", \"2017-12-12T00:00:00\", \"2017-12-13T00:00:00\", \"2017-12-14T00:00:00\", \"2017-12-15T00:00:00\", \"2017-12-18T00:00:00\", \"2017-12-19T00:00:00\", \"2017-12-20T00:00:00\", \"2017-12-21T00:00:00\", \"2017-12-22T00:00:00\", \"2017-12-26T00:00:00\", \"2017-12-27T00:00:00\", \"2017-12-28T00:00:00\", \"2017-12-29T00:00:00\"], \"y\": [76.0238635441688, 76.05171855291981, 76.06640979745303, 76.8231895579997, 77.26249982353015, 77.1047256663636, 77.28645427398008, 77.31096171765812, 78.31935335641734, 78.67571094580009, 79.12683850694935, 79.36838511995659, 78.93405470184977, 78.55503087545914, 78.42004213100307, 77.9262760679982, 78.84518035112684, 79.2033188602108, 79.35590234008122, 78.26132732114353, 77.5821740321341, 77.63041980633687, 77.09303510853772, 76.34657421823417, 75.1819431891019, 75.48921088234853, 75.9998951715467, 76.12557603384421, 76.40530276070648, 76.76160480735213, 76.99531102675941]}, {\"mode\": \"lines\", \"type\": \"scatter\", \"x\": [\"2017-11-15T00:00:00\", \"2017-11-16T00:00:00\", \"2017-11-17T00:00:00\", \"2017-11-20T00:00:00\", \"2017-11-21T00:00:00\", \"2017-11-22T00:00:00\", \"2017-11-24T00:00:00\", \"2017-11-27T00:00:00\", \"2017-11-28T00:00:00\", \"2017-11-29T00:00:00\", \"2017-11-30T00:00:00\", \"2017-12-01T00:00:00\", \"2017-12-04T00:00:00\", \"2017-12-05T00:00:00\", \"2017-12-06T00:00:00\", \"2017-12-07T00:00:00\", \"2017-12-08T00:00:00\", \"2017-12-11T00:00:00\", \"2017-12-12T00:00:00\", \"2017-12-13T00:00:00\", \"2017-12-14T00:00:00\", \"2017-12-15T00:00:00\", \"2017-12-18T00:00:00\", \"2017-12-19T00:00:00\", \"2017-12-20T00:00:00\", \"2017-12-21T00:00:00\", \"2017-12-22T00:00:00\", \"2017-12-26T00:00:00\", \"2017-12-27T00:00:00\", \"2017-12-28T00:00:00\", \"2017-12-29T00:00:00\"], \"y\": [76.0040968191588, 76.75937076605415, 77.08137543891469, 76.69412368431404, 79.1232658791081, 77.99934881342224, 77.16644988837737, 77.2439726983126, 78.1982766008805, 79.56501680061514, 79.57739698228066, 79.19875255798226, 79.02843598295784, 78.53364206418942, 79.44291720602206, 78.18632897863702, 79.21022302210275, 79.37729257567575, 78.9376028969443, 77.87390742718281, 77.28405680848377, 76.94497412277828, 77.96091720333901, 76.73866575407264, 75.17471996302889, 74.29505842453173, 75.19706604691578, 76.16788548945665, 75.8279276190984, 75.72554730036956, 75.68639206442077]}, {\"mode\": \"lines\", \"type\": \"scatter\", \"x\": [\"2017-11-15T00:00:00\", \"2017-11-16T00:00:00\", \"2017-11-17T00:00:00\", \"2017-11-20T00:00:00\", \"2017-11-21T00:00:00\", \"2017-11-22T00:00:00\", \"2017-11-24T00:00:00\", \"2017-11-27T00:00:00\", \"2017-11-28T00:00:00\", \"2017-11-29T00:00:00\", \"2017-11-30T00:00:00\", \"2017-12-01T00:00:00\", \"2017-12-04T00:00:00\", \"2017-12-05T00:00:00\", \"2017-12-06T00:00:00\", \"2017-12-07T00:00:00\", \"2017-12-08T00:00:00\", \"2017-12-11T00:00:00\", \"2017-12-12T00:00:00\", \"2017-12-13T00:00:00\", \"2017-12-14T00:00:00\", \"2017-12-15T00:00:00\", \"2017-12-18T00:00:00\", \"2017-12-19T00:00:00\", \"2017-12-20T00:00:00\", \"2017-12-21T00:00:00\", \"2017-12-22T00:00:00\", \"2017-12-26T00:00:00\", \"2017-12-27T00:00:00\", \"2017-12-28T00:00:00\", \"2017-12-29T00:00:00\"], \"y\": [76.00457266532305, 76.1101734762846, 76.00026406954822, 76.79417457492681, 77.36823111609469, 77.20134944185108, 77.25161895227163, 77.29385257584948, 78.36120366730108, 78.6094224379275, 79.11065393940642, 79.4140926771384, 78.98683797481353, 78.56400611953082, 78.39864767083638, 77.99688580701938, 78.70992078066818, 79.20509912123094, 79.42480911062297, 78.34690286592446, 77.54532226745188, 77.5528587409173, 77.18361269909046, 76.25244742599847, 75.16960852066356, 75.47753128701696, 76.02863048476416, 76.14990103956163, 76.3752397311989, 76.78218056449516, 76.86867153896918]}, {\"mode\": \"lines\", \"type\": \"scatter\", \"x\": [\"2017-11-15T00:00:00\", \"2017-11-16T00:00:00\", \"2017-11-17T00:00:00\", \"2017-11-20T00:00:00\", \"2017-11-21T00:00:00\", \"2017-11-22T00:00:00\", \"2017-11-24T00:00:00\", \"2017-11-27T00:00:00\", \"2017-11-28T00:00:00\", \"2017-11-29T00:00:00\", \"2017-11-30T00:00:00\", \"2017-12-01T00:00:00\", \"2017-12-04T00:00:00\", \"2017-12-05T00:00:00\", \"2017-12-06T00:00:00\", \"2017-12-07T00:00:00\", \"2017-12-08T00:00:00\", \"2017-12-11T00:00:00\", \"2017-12-12T00:00:00\", \"2017-12-13T00:00:00\", \"2017-12-14T00:00:00\", \"2017-12-15T00:00:00\", \"2017-12-18T00:00:00\", \"2017-12-19T00:00:00\", \"2017-12-20T00:00:00\", \"2017-12-21T00:00:00\", \"2017-12-22T00:00:00\", \"2017-12-26T00:00:00\", \"2017-12-27T00:00:00\", \"2017-12-28T00:00:00\", \"2017-12-29T00:00:00\"], \"y\": [76.00703064946573, 76.10717826591551, 76.00838948317812, 76.79523158869834, 77.36738490148207, 77.19922111907614, 77.25316976184459, 77.29611833103252, 78.35788345660274, 78.61871663382856, 79.11247882494143, 79.40989052114408, 78.98325489536417, 78.56499137433096, 78.40253806917424, 77.99260339223969, 78.7187975132614, 79.20678340265712, 79.4198937881586, 78.34173497577724, 77.54522242740765, 77.5541498351591, 77.18064526414729, 76.25944718630672, 75.1688704515366, 75.47098535630808, 76.02445685183393, 76.15161793494636, 76.37681098960726, 76.77706099663766, 76.87412039612508]}, {\"mode\": \"lines\", \"type\": \"scatter\", \"x\": [\"2017-11-15T00:00:00\", \"2017-11-16T00:00:00\", \"2017-11-17T00:00:00\", \"2017-11-20T00:00:00\", \"2017-11-21T00:00:00\", \"2017-11-22T00:00:00\", \"2017-11-24T00:00:00\", \"2017-11-27T00:00:00\", \"2017-11-28T00:00:00\", \"2017-11-29T00:00:00\", \"2017-11-30T00:00:00\", \"2017-12-01T00:00:00\", \"2017-12-04T00:00:00\", \"2017-12-05T00:00:00\", \"2017-12-06T00:00:00\", \"2017-12-07T00:00:00\", \"2017-12-08T00:00:00\", \"2017-12-11T00:00:00\", \"2017-12-12T00:00:00\", \"2017-12-13T00:00:00\", \"2017-12-14T00:00:00\", \"2017-12-15T00:00:00\", \"2017-12-18T00:00:00\", \"2017-12-19T00:00:00\", \"2017-12-20T00:00:00\", \"2017-12-21T00:00:00\", \"2017-12-22T00:00:00\", \"2017-12-26T00:00:00\", \"2017-12-27T00:00:00\", \"2017-12-28T00:00:00\", \"2017-12-29T00:00:00\"], \"y\": [75.97355748272732, 76.39712009709379, 76.65914072065432, 76.64201755997517, 78.57554049832913, 77.22546703264604, 76.9615163862428, 77.25495165330271, 78.60236579439793, 79.6223191491301, 79.30436276861677, 80.1920764010299, 79.39893327645198, 78.54418152899004, 78.92218057017354, 78.01160883535111, 79.45290270573929, 79.49858116286339, 79.08072736794809, 78.12759304023504, 77.4150153529798, 77.75894226956383, 77.66508736370984, 76.75753605058385, 75.26966425942244, 74.68535190583601, 75.38251199339815, 76.01247711331405, 75.79518880710339, 76.61192545597379, 76.48448397804275]}, {\"mode\": \"lines\", \"type\": \"scatter\", \"x\": [\"2017-11-15T00:00:00\", \"2017-11-16T00:00:00\", \"2017-11-17T00:00:00\", \"2017-11-20T00:00:00\", \"2017-11-21T00:00:00\", \"2017-11-22T00:00:00\", \"2017-11-24T00:00:00\", \"2017-11-27T00:00:00\", \"2017-11-28T00:00:00\", \"2017-11-29T00:00:00\", \"2017-11-30T00:00:00\", \"2017-12-01T00:00:00\", \"2017-12-04T00:00:00\", \"2017-12-05T00:00:00\", \"2017-12-06T00:00:00\", \"2017-12-07T00:00:00\", \"2017-12-08T00:00:00\", \"2017-12-11T00:00:00\", \"2017-12-12T00:00:00\", \"2017-12-13T00:00:00\", \"2017-12-14T00:00:00\", \"2017-12-15T00:00:00\", \"2017-12-18T00:00:00\", \"2017-12-19T00:00:00\", \"2017-12-20T00:00:00\", \"2017-12-21T00:00:00\", \"2017-12-22T00:00:00\", \"2017-12-26T00:00:00\", \"2017-12-27T00:00:00\", \"2017-12-28T00:00:00\", \"2017-12-29T00:00:00\"], \"y\": [76.01731200820775, 76.08874892875336, 76.03921672669108, 76.79740920424837, 77.34830367639601, 77.18360477929089, 77.2593833149338, 77.30650931769104, 78.3383743079346, 78.65246240255968, 79.11573905350018, 79.39042000209007, 78.96770598081255, 78.57143350068208, 78.41531940758307, 77.9742724138046, 78.75363053026841, 79.21037351507772, 79.3995498293696, 78.3257226001085, 77.55122235790186, 77.56560735839874, 77.1642689699756, 76.29447610199689, 75.17309256835858, 75.44958720267694, 76.00665983408707, 76.15685621688384, 76.38651794148295, 76.75851796715331, 76.90634278989637]}, {\"mode\": \"lines\", \"type\": \"scatter\", \"x\": [\"2017-11-15T00:00:00\", \"2017-11-16T00:00:00\", \"2017-11-17T00:00:00\", \"2017-11-20T00:00:00\", \"2017-11-21T00:00:00\", \"2017-11-22T00:00:00\", \"2017-11-24T00:00:00\", \"2017-11-27T00:00:00\", \"2017-11-28T00:00:00\", \"2017-11-29T00:00:00\", \"2017-11-30T00:00:00\", \"2017-12-01T00:00:00\", \"2017-12-04T00:00:00\", \"2017-12-05T00:00:00\", \"2017-12-06T00:00:00\", \"2017-12-07T00:00:00\", \"2017-12-08T00:00:00\", \"2017-12-11T00:00:00\", \"2017-12-12T00:00:00\", \"2017-12-13T00:00:00\", \"2017-12-14T00:00:00\", \"2017-12-15T00:00:00\", \"2017-12-18T00:00:00\", \"2017-12-19T00:00:00\", \"2017-12-20T00:00:00\", \"2017-12-21T00:00:00\", \"2017-12-22T00:00:00\", \"2017-12-26T00:00:00\", \"2017-12-27T00:00:00\", \"2017-12-28T00:00:00\", \"2017-12-29T00:00:00\"], \"y\": [75.97205014193165, 76.1152700245041, 76.00881825267075, 76.78505716831921, 77.34623013623363, 77.19159167920316, 77.23331086034166, 77.32494359554283, 78.36323586362519, 78.60047527392476, 79.12525142548017, 79.44982403551073, 79.00275470388411, 78.57551952033369, 78.3691229661593, 78.00278053004347, 78.71440235862914, 79.1973530182915, 79.39832536915499, 78.33032021647942, 77.51983747289397, 77.56670416045837, 77.18663594124243, 76.23379724005572, 75.17380555226002, 75.49807836640363, 76.04403061061994, 76.16767100051693, 76.35104701627593, 76.77789618873948, 76.86251069792158]}, {\"mode\": \"lines\", \"type\": \"scatter\", \"x\": [\"2017-11-15T00:00:00\", \"2017-11-16T00:00:00\", \"2017-11-17T00:00:00\", \"2017-11-20T00:00:00\", \"2017-11-21T00:00:00\", \"2017-11-22T00:00:00\", \"2017-11-24T00:00:00\", \"2017-11-27T00:00:00\", \"2017-11-28T00:00:00\", \"2017-11-29T00:00:00\", \"2017-11-30T00:00:00\", \"2017-12-01T00:00:00\", \"2017-12-04T00:00:00\", \"2017-12-05T00:00:00\", \"2017-12-06T00:00:00\", \"2017-12-07T00:00:00\", \"2017-12-08T00:00:00\", \"2017-12-11T00:00:00\", \"2017-12-12T00:00:00\", \"2017-12-13T00:00:00\", \"2017-12-14T00:00:00\", \"2017-12-15T00:00:00\", \"2017-12-18T00:00:00\", \"2017-12-19T00:00:00\", \"2017-12-20T00:00:00\", \"2017-12-21T00:00:00\", \"2017-12-22T00:00:00\", \"2017-12-26T00:00:00\", \"2017-12-27T00:00:00\", \"2017-12-28T00:00:00\", \"2017-12-29T00:00:00\"], \"y\": [75.95335461233688, 75.69580002974067, 76.36817082341013, 76.89355781170501, 78.14922908742139, 76.87657025195192, 76.96265485190678, 77.26552658254633, 78.48876786409964, 79.36521273475968, 79.16569250536848, 80.12910985650241, 79.00811448749769, 78.35540979922773, 78.74573004779513, 78.22539277113106, 79.56869733919012, 79.37482076374869, 79.77510099031801, 78.45241740799007, 77.4488857661368, 77.66141275439566, 77.46122901448514, 76.88267483130791, 75.37706145703736, 74.87306186466762, 75.60331342629263, 76.0536579909148, 76.31770425099548, 76.70865475926632, 76.76718384791087]}, {\"mode\": \"lines\", \"type\": \"scatter\", \"x\": [\"2017-11-15T00:00:00\", \"2017-11-16T00:00:00\", \"2017-11-17T00:00:00\", \"2017-11-20T00:00:00\", \"2017-11-21T00:00:00\", \"2017-11-22T00:00:00\", \"2017-11-24T00:00:00\", \"2017-11-27T00:00:00\", \"2017-11-28T00:00:00\", \"2017-11-29T00:00:00\", \"2017-11-30T00:00:00\", \"2017-12-01T00:00:00\", \"2017-12-04T00:00:00\", \"2017-12-05T00:00:00\", \"2017-12-06T00:00:00\", \"2017-12-07T00:00:00\", \"2017-12-08T00:00:00\", \"2017-12-11T00:00:00\", \"2017-12-12T00:00:00\", \"2017-12-13T00:00:00\", \"2017-12-14T00:00:00\", \"2017-12-15T00:00:00\", \"2017-12-18T00:00:00\", \"2017-12-19T00:00:00\", \"2017-12-20T00:00:00\", \"2017-12-21T00:00:00\", \"2017-12-22T00:00:00\", \"2017-12-26T00:00:00\", \"2017-12-27T00:00:00\", \"2017-12-28T00:00:00\", \"2017-12-29T00:00:00\"], \"y\": [76.01329549483792, 76.09373982116877, 76.0234798937088, 76.80715679435406, 77.33516358906226, 77.20024558494461, 77.2716706242219, 77.30452570708869, 78.33505031276508, 78.61569876481757, 79.11822459870388, 79.35640500809474, 78.95196114074425, 78.56968745808152, 78.41040120638745, 77.97971989149988, 78.72949068508092, 79.19914113225477, 79.40979480098774, 78.32385561998235, 77.55014857695812, 77.54344721338373, 77.1596508688005, 76.26960442614583, 75.16569679531891, 75.47215458798868, 76.02509275898605, 76.15981566096454, 76.39907899665069, 76.75011545854251, 76.89005580821966]}, {\"mode\": \"lines\", \"type\": \"scatter\", \"x\": [\"2017-11-15T00:00:00\", \"2017-11-16T00:00:00\", \"2017-11-17T00:00:00\", \"2017-11-20T00:00:00\", \"2017-11-21T00:00:00\", \"2017-11-22T00:00:00\", \"2017-11-24T00:00:00\", \"2017-11-27T00:00:00\", \"2017-11-28T00:00:00\", \"2017-11-29T00:00:00\", \"2017-11-30T00:00:00\", \"2017-12-01T00:00:00\", \"2017-12-04T00:00:00\", \"2017-12-05T00:00:00\", \"2017-12-06T00:00:00\", \"2017-12-07T00:00:00\", \"2017-12-08T00:00:00\", \"2017-12-11T00:00:00\", \"2017-12-12T00:00:00\", \"2017-12-13T00:00:00\", \"2017-12-14T00:00:00\", \"2017-12-15T00:00:00\", \"2017-12-18T00:00:00\", \"2017-12-19T00:00:00\", \"2017-12-20T00:00:00\", \"2017-12-21T00:00:00\", \"2017-12-22T00:00:00\", \"2017-12-26T00:00:00\", \"2017-12-27T00:00:00\", \"2017-12-28T00:00:00\", \"2017-12-29T00:00:00\"], \"y\": [75.99490378483223, 76.08019446083733, 76.020331791065, 76.78249759790378, 77.33783039085841, 77.20939842467253, 77.23267511449006, 77.31415766582258, 78.34241986403471, 78.61027646917717, 79.09750870580041, 79.39205881561253, 78.96781206662924, 78.59654598708757, 78.3988298752067, 77.99141070417035, 78.71348366041778, 79.19528817012132, 79.42260704829538, 78.37978924402496, 77.54926390114164, 77.558154650469, 77.19316414421976, 76.28491595547234, 75.19605877142658, 75.4581116708667, 75.99756565916084, 76.16816737360311, 76.38419272320998, 76.752801311146, 76.8838245842249]}, {\"mode\": \"lines\", \"type\": \"scatter\", \"x\": [\"2017-11-15T00:00:00\", \"2017-11-16T00:00:00\", \"2017-11-17T00:00:00\", \"2017-11-20T00:00:00\", \"2017-11-21T00:00:00\", \"2017-11-22T00:00:00\", \"2017-11-24T00:00:00\", \"2017-11-27T00:00:00\", \"2017-11-28T00:00:00\", \"2017-11-29T00:00:00\", \"2017-11-30T00:00:00\", \"2017-12-01T00:00:00\", \"2017-12-04T00:00:00\", \"2017-12-05T00:00:00\", \"2017-12-06T00:00:00\", \"2017-12-07T00:00:00\", \"2017-12-08T00:00:00\", \"2017-12-11T00:00:00\", \"2017-12-12T00:00:00\", \"2017-12-13T00:00:00\", \"2017-12-14T00:00:00\", \"2017-12-15T00:00:00\", \"2017-12-18T00:00:00\", \"2017-12-19T00:00:00\", \"2017-12-20T00:00:00\", \"2017-12-21T00:00:00\", \"2017-12-22T00:00:00\", \"2017-12-26T00:00:00\", \"2017-12-27T00:00:00\", \"2017-12-28T00:00:00\", \"2017-12-29T00:00:00\"], \"y\": [75.98870205241911, 76.7350305397815, 77.05864190801891, 76.67415141255756, 79.18468465224112, 77.91563851384193, 77.10759861045425, 77.34928373410641, 78.16703262557817, 79.64675745621793, 79.46717282554036, 79.25210937372158, 78.980940881074, 78.55473401690215, 79.4079315937733, 78.17464197374088, 79.17597319612058, 79.5019403720173, 78.79851947287099, 77.96561107202956, 77.17088993206978, 77.05665020808061, 77.89262993980817, 76.72563629115449, 75.05964057902834, 74.40099553537, 75.23571871137442, 76.22483308584782, 75.75380511415379, 75.78925264171792, 75.6982471560985]}, {\"mode\": \"lines\", \"type\": \"scatter\", \"x\": [\"2017-11-15T00:00:00\", \"2017-11-16T00:00:00\", \"2017-11-17T00:00:00\", \"2017-11-20T00:00:00\", \"2017-11-21T00:00:00\", \"2017-11-22T00:00:00\", \"2017-11-24T00:00:00\", \"2017-11-27T00:00:00\", \"2017-11-28T00:00:00\", \"2017-11-29T00:00:00\", \"2017-11-30T00:00:00\", \"2017-12-01T00:00:00\", \"2017-12-04T00:00:00\", \"2017-12-05T00:00:00\", \"2017-12-06T00:00:00\", \"2017-12-07T00:00:00\", \"2017-12-08T00:00:00\", \"2017-12-11T00:00:00\", \"2017-12-12T00:00:00\", \"2017-12-13T00:00:00\", \"2017-12-14T00:00:00\", \"2017-12-15T00:00:00\", \"2017-12-18T00:00:00\", \"2017-12-19T00:00:00\", \"2017-12-20T00:00:00\", \"2017-12-21T00:00:00\", \"2017-12-22T00:00:00\", \"2017-12-26T00:00:00\", \"2017-12-27T00:00:00\", \"2017-12-28T00:00:00\", \"2017-12-29T00:00:00\"], \"y\": [75.97951411613803, 76.12042690694574, 75.99546874894787, 76.80581596071872, 77.35635108417652, 77.18923551748517, 77.25575518527397, 77.29710939922697, 78.35659016634037, 78.61587042161425, 79.09410420973921, 79.42267446892579, 78.96318343285942, 78.58190156214735, 78.39560874341832, 78.0045624077848, 78.71282158680155, 79.21839607729251, 79.3947409048069, 78.35748065696666, 77.5356277096998, 77.58575503920478, 77.1657907009944, 76.27091282296942, 75.17046750924158, 75.49190872287942, 76.02810758857632, 76.14219367731351, 76.37572364464694, 76.77910664472442, 76.87089340183377]}, {\"mode\": \"lines\", \"type\": \"scatter\", \"x\": [\"2017-11-15T00:00:00\", \"2017-11-16T00:00:00\", \"2017-11-17T00:00:00\", \"2017-11-20T00:00:00\", \"2017-11-21T00:00:00\", \"2017-11-22T00:00:00\", \"2017-11-24T00:00:00\", \"2017-11-27T00:00:00\", \"2017-11-28T00:00:00\", \"2017-11-29T00:00:00\", \"2017-11-30T00:00:00\", \"2017-12-01T00:00:00\", \"2017-12-04T00:00:00\", \"2017-12-05T00:00:00\", \"2017-12-06T00:00:00\", \"2017-12-07T00:00:00\", \"2017-12-08T00:00:00\", \"2017-12-11T00:00:00\", \"2017-12-12T00:00:00\", \"2017-12-13T00:00:00\", \"2017-12-14T00:00:00\", \"2017-12-15T00:00:00\", \"2017-12-18T00:00:00\", \"2017-12-19T00:00:00\", \"2017-12-20T00:00:00\", \"2017-12-21T00:00:00\", \"2017-12-22T00:00:00\", \"2017-12-26T00:00:00\", \"2017-12-27T00:00:00\", \"2017-12-28T00:00:00\", \"2017-12-29T00:00:00\"], \"y\": [76.03503822556206, 75.99983007161882, 76.18831404248554, 76.8382051983997, 77.39458539315868, 77.09445340438825, 77.12893688480432, 77.327551061158, 78.27082449760097, 78.81515828710174, 79.17304633169344, 79.39438753440643, 78.87526892726075, 78.43030812755885, 78.50736763494348, 77.87387151350683, 78.99394161675366, 79.23490326178329, 79.39075394092984, 78.18040960501094, 77.41954463572362, 77.60616854978967, 77.1154270312714, 76.47099434329887, 75.19715111387734, 75.41592330951593, 75.88040465876448, 76.01690139525775, 76.39210478496125, 76.65806053984946, 77.0088572800795]}, {\"mode\": \"lines\", \"type\": \"scatter\", \"x\": [\"2017-11-15T00:00:00\", \"2017-11-16T00:00:00\", \"2017-11-17T00:00:00\", \"2017-11-20T00:00:00\", \"2017-11-21T00:00:00\", \"2017-11-22T00:00:00\", \"2017-11-24T00:00:00\", \"2017-11-27T00:00:00\", \"2017-11-28T00:00:00\", \"2017-11-29T00:00:00\", \"2017-11-30T00:00:00\", \"2017-12-01T00:00:00\", \"2017-12-04T00:00:00\", \"2017-12-05T00:00:00\", \"2017-12-06T00:00:00\", \"2017-12-07T00:00:00\", \"2017-12-08T00:00:00\", \"2017-12-11T00:00:00\", \"2017-12-12T00:00:00\", \"2017-12-13T00:00:00\", \"2017-12-14T00:00:00\", \"2017-12-15T00:00:00\", \"2017-12-18T00:00:00\", \"2017-12-19T00:00:00\", \"2017-12-20T00:00:00\", \"2017-12-21T00:00:00\", \"2017-12-22T00:00:00\", \"2017-12-26T00:00:00\", \"2017-12-27T00:00:00\", \"2017-12-28T00:00:00\", \"2017-12-29T00:00:00\"], \"y\": [75.95720094073576, 76.4002727265204, 76.65079044607351, 76.63392230246367, 78.59166357728937, 77.2227318776461, 76.91231459104088, 77.31504630336775, 78.55692963170088, 79.6905121357859, 79.23274695012238, 80.24404076539709, 79.36954665502226, 78.53484284842429, 78.92009095837572, 78.01614223395173, 79.41705153986993, 79.56795136329025, 79.00659327667826, 78.18899545263396, 77.3461710110311, 77.81217928374285, 77.63539939746416, 76.75848741553261, 75.24006509232089, 74.6823601692847, 75.40959617305374, 76.02510310060482, 75.78629203935772, 76.62312674820886, 76.50352670821279]}, {\"mode\": \"lines\", \"type\": \"scatter\", \"x\": [\"2017-11-15T00:00:00\", \"2017-11-16T00:00:00\", \"2017-11-17T00:00:00\", \"2017-11-20T00:00:00\", \"2017-11-21T00:00:00\", \"2017-11-22T00:00:00\", \"2017-11-24T00:00:00\", \"2017-11-27T00:00:00\", \"2017-11-28T00:00:00\", \"2017-11-29T00:00:00\", \"2017-11-30T00:00:00\", \"2017-12-01T00:00:00\", \"2017-12-04T00:00:00\", \"2017-12-05T00:00:00\", \"2017-12-06T00:00:00\", \"2017-12-07T00:00:00\", \"2017-12-08T00:00:00\", \"2017-12-11T00:00:00\", \"2017-12-12T00:00:00\", \"2017-12-13T00:00:00\", \"2017-12-14T00:00:00\", \"2017-12-15T00:00:00\", \"2017-12-18T00:00:00\", \"2017-12-19T00:00:00\", \"2017-12-20T00:00:00\", \"2017-12-21T00:00:00\", \"2017-12-22T00:00:00\", \"2017-12-26T00:00:00\", \"2017-12-27T00:00:00\", \"2017-12-28T00:00:00\", \"2017-12-29T00:00:00\"], \"y\": [76.04866418778437, 75.94874837487264, 76.13923900293457, 76.87509395422616, 77.30026137197025, 77.04268118117588, 77.14977659412642, 77.3266772304112, 78.32818367906837, 78.75723867515279, 79.18097183049555, 79.38556606406657, 78.85704981322786, 78.41962020541594, 78.449424207401, 77.82352687424371, 79.0228014687854, 79.2133178704017, 79.42952263789623, 78.12889256423497, 77.43800075636369, 77.62824328652424, 77.04571895146002, 76.4005591564476, 75.14499474079405, 75.49610607684558, 75.94246935793082, 76.03225432534234, 76.43754557385049, 76.72059579028958, 77.08274432159786]}, {\"mode\": \"lines\", \"type\": \"scatter\", \"x\": [\"2017-11-15T00:00:00\", \"2017-11-16T00:00:00\", \"2017-11-17T00:00:00\", \"2017-11-20T00:00:00\", \"2017-11-21T00:00:00\", \"2017-11-22T00:00:00\", \"2017-11-24T00:00:00\", \"2017-11-27T00:00:00\", \"2017-11-28T00:00:00\", \"2017-11-29T00:00:00\", \"2017-11-30T00:00:00\", \"2017-12-01T00:00:00\", \"2017-12-04T00:00:00\", \"2017-12-05T00:00:00\", \"2017-12-06T00:00:00\", \"2017-12-07T00:00:00\", \"2017-12-08T00:00:00\", \"2017-12-11T00:00:00\", \"2017-12-12T00:00:00\", \"2017-12-13T00:00:00\", \"2017-12-14T00:00:00\", \"2017-12-15T00:00:00\", \"2017-12-18T00:00:00\", \"2017-12-19T00:00:00\", \"2017-12-20T00:00:00\", \"2017-12-21T00:00:00\", \"2017-12-22T00:00:00\", \"2017-12-26T00:00:00\", \"2017-12-27T00:00:00\", \"2017-12-28T00:00:00\", \"2017-12-29T00:00:00\"], \"y\": [75.94290798966337, 76.11535086452312, 76.00159292336213, 76.81200302086292, 77.36998159828741, 77.21383285709005, 77.23313253770418, 77.32017477010048, 78.37968512831772, 78.60892026750747, 79.10023905325836, 79.43166974345739, 78.93624935206151, 78.59803598424315, 78.37785098468865, 77.99852965847447, 78.71769121285303, 79.22466656071724, 79.39327218580073, 78.37055933089681, 77.49710403154683, 77.58667208793148, 77.18153384039147, 76.24775813789203, 75.16286601085216, 75.48314216727293, 76.01702337444749, 76.15976961428419, 76.36649904392583, 76.75533626627156, 76.85154614395465]}, {\"mode\": \"lines\", \"type\": \"scatter\", \"x\": [\"2017-11-15T00:00:00\", \"2017-11-16T00:00:00\", \"2017-11-17T00:00:00\", \"2017-11-20T00:00:00\", \"2017-11-21T00:00:00\", \"2017-11-22T00:00:00\", \"2017-11-24T00:00:00\", \"2017-11-27T00:00:00\", \"2017-11-28T00:00:00\", \"2017-11-29T00:00:00\", \"2017-11-30T00:00:00\", \"2017-12-01T00:00:00\", \"2017-12-04T00:00:00\", \"2017-12-05T00:00:00\", \"2017-12-06T00:00:00\", \"2017-12-07T00:00:00\", \"2017-12-08T00:00:00\", \"2017-12-11T00:00:00\", \"2017-12-12T00:00:00\", \"2017-12-13T00:00:00\", \"2017-12-14T00:00:00\", \"2017-12-15T00:00:00\", \"2017-12-18T00:00:00\", \"2017-12-19T00:00:00\", \"2017-12-20T00:00:00\", \"2017-12-21T00:00:00\", \"2017-12-22T00:00:00\", \"2017-12-26T00:00:00\", \"2017-12-27T00:00:00\", \"2017-12-28T00:00:00\", \"2017-12-29T00:00:00\"], \"y\": [75.94688370246932, 75.67703660172164, 76.38853511836646, 76.89963576110361, 78.16824560810952, 76.87088691054726, 76.96438222373183, 77.29800104778326, 78.45539316859775, 79.39445946268303, 79.1218936847883, 80.13631822398773, 78.95164893078763, 78.3493306305779, 78.76702160380027, 78.22298998004212, 79.55998054876395, 79.39729483727633, 79.7424946337225, 78.4782735653264, 77.38253067206934, 77.69202592479564, 77.42592931004674, 76.88685629273485, 75.34110577981548, 74.87772792047251, 75.63294381175996, 76.06098480669266, 76.32231637899389, 76.69408249381816, 76.74573811928896]}, {\"mode\": \"lines\", \"type\": \"scatter\", \"x\": [\"2017-11-15T00:00:00\", \"2017-11-16T00:00:00\", \"2017-11-17T00:00:00\", \"2017-11-20T00:00:00\", \"2017-11-21T00:00:00\", \"2017-11-22T00:00:00\", \"2017-11-24T00:00:00\", \"2017-11-27T00:00:00\", \"2017-11-28T00:00:00\", \"2017-11-29T00:00:00\", \"2017-11-30T00:00:00\", \"2017-12-01T00:00:00\", \"2017-12-04T00:00:00\", \"2017-12-05T00:00:00\", \"2017-12-06T00:00:00\", \"2017-12-07T00:00:00\", \"2017-12-08T00:00:00\", \"2017-12-11T00:00:00\", \"2017-12-12T00:00:00\", \"2017-12-13T00:00:00\", \"2017-12-14T00:00:00\", \"2017-12-15T00:00:00\", \"2017-12-18T00:00:00\", \"2017-12-19T00:00:00\", \"2017-12-20T00:00:00\", \"2017-12-21T00:00:00\", \"2017-12-22T00:00:00\", \"2017-12-26T00:00:00\", \"2017-12-27T00:00:00\", \"2017-12-28T00:00:00\", \"2017-12-29T00:00:00\"], \"y\": [76.02287954137198, 76.00324328474537, 76.10951049275994, 76.85128849231705, 77.3006752971634, 77.07973876256253, 77.21416701892312, 77.32099175411646, 78.318450002005, 78.74354893586336, 79.15163430840072, 79.38540827796716, 78.89173501889512, 78.5173570779836, 78.4349635805238, 77.87671379404233, 78.92302127585502, 79.23724976413854, 79.36451284408663, 78.21334184532103, 77.49908663141842, 77.63069975625338, 77.0744416769121, 76.38230217237457, 75.1704945485537, 75.44579127108312, 75.95026473231628, 76.09758552527877, 76.40728159844394, 76.7237278705022, 77.02043231166101]}, {\"mode\": \"lines\", \"type\": \"scatter\", \"x\": [\"2017-11-15T00:00:00\", \"2017-11-16T00:00:00\", \"2017-11-17T00:00:00\", \"2017-11-20T00:00:00\", \"2017-11-21T00:00:00\", \"2017-11-22T00:00:00\", \"2017-11-24T00:00:00\", \"2017-11-27T00:00:00\", \"2017-11-28T00:00:00\", \"2017-11-29T00:00:00\", \"2017-11-30T00:00:00\", \"2017-12-01T00:00:00\", \"2017-12-04T00:00:00\", \"2017-12-05T00:00:00\", \"2017-12-06T00:00:00\", \"2017-12-07T00:00:00\", \"2017-12-08T00:00:00\", \"2017-12-11T00:00:00\", \"2017-12-12T00:00:00\", \"2017-12-13T00:00:00\", \"2017-12-14T00:00:00\", \"2017-12-15T00:00:00\", \"2017-12-18T00:00:00\", \"2017-12-19T00:00:00\", \"2017-12-20T00:00:00\", \"2017-12-21T00:00:00\", \"2017-12-22T00:00:00\", \"2017-12-26T00:00:00\", \"2017-12-27T00:00:00\", \"2017-12-28T00:00:00\", \"2017-12-29T00:00:00\"], \"y\": [75.98082320581582, 76.0559604313285, 76.07934569651157, 76.83734528687478, 77.33979986374058, 77.17500700598683, 77.23104367287216, 77.33323773190908, 78.3402466979764, 78.69871520009545, 79.11105482866009, 79.36151595139711, 78.89116475694246, 78.60993837366362, 78.4265939636095, 77.94137460825293, 78.81669323973802, 79.24084946327442, 79.35916687020135, 78.31154613422187, 77.49501648084997, 77.59288328213827, 77.13234711925989, 76.33223586027967, 75.1577283055114, 75.41811609287637, 75.9775849906174, 76.17041570485857, 76.40867167172017, 76.70209809350577, 76.92377599133901]}, {\"mode\": \"lines\", \"type\": \"scatter\", \"x\": [\"2017-11-15T00:00:00\", \"2017-11-16T00:00:00\", \"2017-11-17T00:00:00\", \"2017-11-20T00:00:00\", \"2017-11-21T00:00:00\", \"2017-11-22T00:00:00\", \"2017-11-24T00:00:00\", \"2017-11-27T00:00:00\", \"2017-11-28T00:00:00\", \"2017-11-29T00:00:00\", \"2017-11-30T00:00:00\", \"2017-12-01T00:00:00\", \"2017-12-04T00:00:00\", \"2017-12-05T00:00:00\", \"2017-12-06T00:00:00\", \"2017-12-07T00:00:00\", \"2017-12-08T00:00:00\", \"2017-12-11T00:00:00\", \"2017-12-12T00:00:00\", \"2017-12-13T00:00:00\", \"2017-12-14T00:00:00\", \"2017-12-15T00:00:00\", \"2017-12-18T00:00:00\", \"2017-12-19T00:00:00\", \"2017-12-20T00:00:00\", \"2017-12-21T00:00:00\", \"2017-12-22T00:00:00\", \"2017-12-26T00:00:00\", \"2017-12-27T00:00:00\", \"2017-12-28T00:00:00\", \"2017-12-29T00:00:00\"], \"y\": [76.00301179958356, 76.76366954981937, 77.08168011099103, 76.6974241303202, 79.11991251637981, 77.99495811904787, 77.1790726067183, 77.23561415258786, 78.19798723387889, 79.56053158485373, 79.58165047560867, 79.20084506900251, 79.02716486924245, 78.5333886856104, 79.4442531804405, 78.18332146199431, 79.21896670256506, 79.36454568699673, 78.94380701043069, 77.8723496111463, 77.28712485178126, 76.94312223326003, 77.95859698251877, 76.73865641701514, 75.18226513110419, 74.29337910689634, 75.19071292876758, 76.1629628537595, 75.83321321466599, 75.7280305543831, 75.68296447435232]}, {\"mode\": \"lines\", \"type\": \"scatter\", \"x\": [\"2017-11-15T00:00:00\", \"2017-11-16T00:00:00\", \"2017-11-17T00:00:00\", \"2017-11-20T00:00:00\", \"2017-11-21T00:00:00\", \"2017-11-22T00:00:00\", \"2017-11-24T00:00:00\", \"2017-11-27T00:00:00\", \"2017-11-28T00:00:00\", \"2017-11-29T00:00:00\", \"2017-11-30T00:00:00\", \"2017-12-01T00:00:00\", \"2017-12-04T00:00:00\", \"2017-12-05T00:00:00\", \"2017-12-06T00:00:00\", \"2017-12-07T00:00:00\", \"2017-12-08T00:00:00\", \"2017-12-11T00:00:00\", \"2017-12-12T00:00:00\", \"2017-12-13T00:00:00\", \"2017-12-14T00:00:00\", \"2017-12-15T00:00:00\", \"2017-12-18T00:00:00\", \"2017-12-19T00:00:00\", \"2017-12-20T00:00:00\", \"2017-12-21T00:00:00\", \"2017-12-22T00:00:00\", \"2017-12-26T00:00:00\", \"2017-12-27T00:00:00\", \"2017-12-28T00:00:00\", \"2017-12-29T00:00:00\"], \"y\": [75.8979997454002, 76.08089881894156, 75.9662419973634, 76.78581200647969, 77.34231301978868, 77.14534549506176, 77.23636644579305, 77.28388482740263, 78.34733665994982, 78.59449593218628, 79.05430087590945, 79.39758461331559, 78.93360537456135, 78.56552008410317, 78.40870706360437, 78.01320667525617, 78.73546104302623, 79.22761369756414, 79.37952274614574, 78.33951873976693, 77.54864064445582, 77.62003418070509, 77.20813923955251, 76.28612230238964, 75.22382274738929, 75.5475310139711, 76.09077072623494, 76.14943894764069, 76.37925562788725, 76.77875539998432, 76.86096533941455]}, {\"mode\": \"lines\", \"type\": \"scatter\", \"x\": [\"2017-11-15T00:00:00\", \"2017-11-16T00:00:00\", \"2017-11-17T00:00:00\", \"2017-11-20T00:00:00\", \"2017-11-21T00:00:00\", \"2017-11-22T00:00:00\", \"2017-11-24T00:00:00\", \"2017-11-27T00:00:00\", \"2017-11-28T00:00:00\", \"2017-11-29T00:00:00\", \"2017-11-30T00:00:00\", \"2017-12-01T00:00:00\", \"2017-12-04T00:00:00\", \"2017-12-05T00:00:00\", \"2017-12-06T00:00:00\", \"2017-12-07T00:00:00\", \"2017-12-08T00:00:00\", \"2017-12-11T00:00:00\", \"2017-12-12T00:00:00\", \"2017-12-13T00:00:00\", \"2017-12-14T00:00:00\", \"2017-12-15T00:00:00\", \"2017-12-18T00:00:00\", \"2017-12-19T00:00:00\", \"2017-12-20T00:00:00\", \"2017-12-21T00:00:00\", \"2017-12-22T00:00:00\", \"2017-12-26T00:00:00\", \"2017-12-27T00:00:00\", \"2017-12-28T00:00:00\", \"2017-12-29T00:00:00\"], \"y\": [75.98455291548571, 76.04702621559079, 76.09368479632866, 76.80581864036806, 77.31932577246047, 77.13376040029104, 77.25423524428672, 77.32139088650726, 78.2944535264672, 78.7045205272715, 79.10600132717848, 79.35200659629658, 78.92147795640805, 78.57420433383719, 78.4551300356205, 77.94880644960034, 78.83164025757554, 79.22526087332483, 79.34122396167652, 78.28674432630844, 77.5584523513103, 77.61179227805152, 77.1494764126463, 76.37099148748474, 75.213579961951, 75.43967426182836, 75.98340923518178, 76.13850512205262, 76.38734553299393, 76.71066443412558, 76.94466899701973]}, {\"mode\": \"lines\", \"type\": \"scatter\", \"x\": [\"2017-11-15T00:00:00\", \"2017-11-16T00:00:00\", \"2017-11-17T00:00:00\", \"2017-11-20T00:00:00\", \"2017-11-21T00:00:00\", \"2017-11-22T00:00:00\", \"2017-11-24T00:00:00\", \"2017-11-27T00:00:00\", \"2017-11-28T00:00:00\", \"2017-11-29T00:00:00\", \"2017-11-30T00:00:00\", \"2017-12-01T00:00:00\", \"2017-12-04T00:00:00\", \"2017-12-05T00:00:00\", \"2017-12-06T00:00:00\", \"2017-12-07T00:00:00\", \"2017-12-08T00:00:00\", \"2017-12-11T00:00:00\", \"2017-12-12T00:00:00\", \"2017-12-13T00:00:00\", \"2017-12-14T00:00:00\", \"2017-12-15T00:00:00\", \"2017-12-18T00:00:00\", \"2017-12-19T00:00:00\", \"2017-12-20T00:00:00\", \"2017-12-21T00:00:00\", \"2017-12-22T00:00:00\", \"2017-12-26T00:00:00\", \"2017-12-27T00:00:00\", \"2017-12-28T00:00:00\", \"2017-12-29T00:00:00\"], \"y\": [75.97558890609083, 76.39814622588032, 76.65738586086857, 76.6423458309195, 78.57345035004808, 77.22082324948637, 76.96259323482978, 77.25273218133033, 78.60559087782454, 79.62219387097672, 79.30467590279498, 80.19561050816374, 79.39767781286453, 78.54386892409667, 78.91838243393201, 78.00825502303925, 79.45531409346366, 79.49620729161991, 79.08268873424994, 78.12681906815604, 77.4147887648958, 77.76101829261283, 77.66186010613349, 76.75625289460335, 75.26710371402979, 74.68556587582697, 75.38248004783448, 76.01271983065462, 75.7974805545414, 76.61721031151555, 76.48758380513159]}, {\"mode\": \"lines\", \"type\": \"scatter\", \"x\": [\"2017-11-15T00:00:00\", \"2017-11-16T00:00:00\", \"2017-11-17T00:00:00\", \"2017-11-20T00:00:00\", \"2017-11-21T00:00:00\", \"2017-11-22T00:00:00\", \"2017-11-24T00:00:00\", \"2017-11-27T00:00:00\", \"2017-11-28T00:00:00\", \"2017-11-29T00:00:00\", \"2017-11-30T00:00:00\", \"2017-12-01T00:00:00\", \"2017-12-04T00:00:00\", \"2017-12-05T00:00:00\", \"2017-12-06T00:00:00\", \"2017-12-07T00:00:00\", \"2017-12-08T00:00:00\", \"2017-12-11T00:00:00\", \"2017-12-12T00:00:00\", \"2017-12-13T00:00:00\", \"2017-12-14T00:00:00\", \"2017-12-15T00:00:00\", \"2017-12-18T00:00:00\", \"2017-12-19T00:00:00\", \"2017-12-20T00:00:00\", \"2017-12-21T00:00:00\", \"2017-12-22T00:00:00\", \"2017-12-26T00:00:00\", \"2017-12-27T00:00:00\", \"2017-12-28T00:00:00\", \"2017-12-29T00:00:00\"], \"y\": [75.90082432281129, 76.08354686724412, 75.98504240094152, 76.78654213315872, 77.35907111294286, 77.15129359176117, 77.23784230789757, 77.28684789909113, 78.3427924450622, 78.61461470405203, 79.06126934043264, 79.39179417859755, 78.93066980777783, 78.56579745388528, 78.42236115153558, 78.00944707832441, 78.75075980052574, 79.23218822280423, 79.36970244616705, 78.32978256964057, 77.5445947326413, 77.61484326041919, 77.2109572180739, 76.29720511281513, 75.22178183429328, 75.52899475876228, 76.07888146838499, 76.1512262959917, 76.37531548726649, 76.76299039283754, 76.85529113524879]}, {\"mode\": \"lines\", \"type\": \"scatter\", \"x\": [\"2017-11-15T00:00:00\", \"2017-11-16T00:00:00\", \"2017-11-17T00:00:00\", \"2017-11-20T00:00:00\", \"2017-11-21T00:00:00\", \"2017-11-22T00:00:00\", \"2017-11-24T00:00:00\", \"2017-11-27T00:00:00\", \"2017-11-28T00:00:00\", \"2017-11-29T00:00:00\", \"2017-11-30T00:00:00\", \"2017-12-01T00:00:00\", \"2017-12-04T00:00:00\", \"2017-12-05T00:00:00\", \"2017-12-06T00:00:00\", \"2017-12-07T00:00:00\", \"2017-12-08T00:00:00\", \"2017-12-11T00:00:00\", \"2017-12-12T00:00:00\", \"2017-12-13T00:00:00\", \"2017-12-14T00:00:00\", \"2017-12-15T00:00:00\", \"2017-12-18T00:00:00\", \"2017-12-19T00:00:00\", \"2017-12-20T00:00:00\", \"2017-12-21T00:00:00\", \"2017-12-22T00:00:00\", \"2017-12-26T00:00:00\", \"2017-12-27T00:00:00\", \"2017-12-28T00:00:00\", \"2017-12-29T00:00:00\"], \"y\": [75.84084544259855, 76.11558654111597, 75.98079157411061, 76.75726276502361, 77.27821123284613, 77.11134469993715, 77.19418657065637, 77.34047756611594, 78.32440148860597, 78.57159458018636, 79.08826476570876, 79.47811710818907, 78.98149689308498, 78.60400758049737, 78.35494983265131, 78.04924417235559, 78.74211423028635, 79.19613550459341, 79.311546036263, 78.29913971594638, 77.50327478663145, 77.65611565849927, 77.18966697775821, 76.25842183202974, 75.24907267380227, 75.61110813906224, 76.12853132211444, 76.18826756494515, 76.32804055974263, 76.79797069774395, 76.8534978018532]}, {\"mode\": \"lines\", \"type\": \"scatter\", \"x\": [\"2017-11-15T00:00:00\", \"2017-11-16T00:00:00\", \"2017-11-17T00:00:00\", \"2017-11-20T00:00:00\", \"2017-11-21T00:00:00\", \"2017-11-22T00:00:00\", \"2017-11-24T00:00:00\", \"2017-11-27T00:00:00\", \"2017-11-28T00:00:00\", \"2017-11-29T00:00:00\", \"2017-11-30T00:00:00\", \"2017-12-01T00:00:00\", \"2017-12-04T00:00:00\", \"2017-12-05T00:00:00\", \"2017-12-06T00:00:00\", \"2017-12-07T00:00:00\", \"2017-12-08T00:00:00\", \"2017-12-11T00:00:00\", \"2017-12-12T00:00:00\", \"2017-12-13T00:00:00\", \"2017-12-14T00:00:00\", \"2017-12-15T00:00:00\", \"2017-12-18T00:00:00\", \"2017-12-19T00:00:00\", \"2017-12-20T00:00:00\", \"2017-12-21T00:00:00\", \"2017-12-22T00:00:00\", \"2017-12-26T00:00:00\", \"2017-12-27T00:00:00\", \"2017-12-28T00:00:00\", \"2017-12-29T00:00:00\"], \"y\": [75.95131323393622, 75.69772526335628, 76.36595572844399, 76.89142356073314, 78.14510902115758, 76.87166572255295, 76.96552299542898, 77.26177285856514, 78.49235857086916, 79.36248306858042, 79.16622657762922, 80.1369063464312, 79.01056196211239, 78.36102708813726, 78.74196768429444, 78.22261824428556, 79.57392469746895, 79.37164300540661, 79.77698068250213, 78.452090269433, 77.45550640724204, 77.668145130891, 77.45771336971248, 76.885201071241, 75.38032146210624, 74.87982813947983, 75.60080382404404, 76.04849735427972, 76.3165544234042, 76.71433319780168, 76.77127439267096]}, {\"mode\": \"lines\", \"type\": \"scatter\", \"x\": [\"2017-11-15T00:00:00\", \"2017-11-16T00:00:00\", \"2017-11-17T00:00:00\", \"2017-11-20T00:00:00\", \"2017-11-21T00:00:00\", \"2017-11-22T00:00:00\", \"2017-11-24T00:00:00\", \"2017-11-27T00:00:00\", \"2017-11-28T00:00:00\", \"2017-11-29T00:00:00\", \"2017-11-30T00:00:00\", \"2017-12-01T00:00:00\", \"2017-12-04T00:00:00\", \"2017-12-05T00:00:00\", \"2017-12-06T00:00:00\", \"2017-12-07T00:00:00\", \"2017-12-08T00:00:00\", \"2017-12-11T00:00:00\", \"2017-12-12T00:00:00\", \"2017-12-13T00:00:00\", \"2017-12-14T00:00:00\", \"2017-12-15T00:00:00\", \"2017-12-18T00:00:00\", \"2017-12-19T00:00:00\", \"2017-12-20T00:00:00\", \"2017-12-21T00:00:00\", \"2017-12-22T00:00:00\", \"2017-12-26T00:00:00\", \"2017-12-27T00:00:00\", \"2017-12-28T00:00:00\", \"2017-12-29T00:00:00\"], \"y\": [75.95982462247846, 76.00643802276109, 76.19399083565305, 76.80847219025713, 77.3572361318499, 77.15778811023246, 77.17295475563553, 77.32316471458023, 78.1563977378918, 78.71983102458557, 79.13475415336377, 79.24246793520471, 78.83787737722317, 78.47729727974934, 78.55518716753514, 77.9493901040139, 78.90458876890325, 79.1938463106534, 79.34472763650189, 78.23535586815629, 77.49761955551703, 77.55795542705683, 77.17417089789296, 76.52407756938288, 75.31812426684718, 75.44647658699922, 75.87015394026017, 76.01766441161554, 76.37214507288185, 76.54381726263863, 76.90189170682727]}, {\"mode\": \"lines\", \"type\": \"scatter\", \"x\": [\"2017-11-15T00:00:00\", \"2017-11-16T00:00:00\", \"2017-11-17T00:00:00\", \"2017-11-20T00:00:00\", \"2017-11-21T00:00:00\", \"2017-11-22T00:00:00\", \"2017-11-24T00:00:00\", \"2017-11-27T00:00:00\", \"2017-11-28T00:00:00\", \"2017-11-29T00:00:00\", \"2017-11-30T00:00:00\", \"2017-12-01T00:00:00\", \"2017-12-04T00:00:00\", \"2017-12-05T00:00:00\", \"2017-12-06T00:00:00\", \"2017-12-07T00:00:00\", \"2017-12-08T00:00:00\", \"2017-12-11T00:00:00\", \"2017-12-12T00:00:00\", \"2017-12-13T00:00:00\", \"2017-12-14T00:00:00\", \"2017-12-15T00:00:00\", \"2017-12-18T00:00:00\", \"2017-12-19T00:00:00\", \"2017-12-20T00:00:00\", \"2017-12-21T00:00:00\", \"2017-12-22T00:00:00\", \"2017-12-26T00:00:00\", \"2017-12-27T00:00:00\", \"2017-12-28T00:00:00\", \"2017-12-29T00:00:00\"], \"y\": [75.95977239073733, 76.09650989525167, 75.98668873975323, 76.79868369417994, 77.35132484301229, 77.18326535976837, 77.24250917644392, 77.30181023669694, 78.37157242556837, 78.58951366275211, 79.0919663502627, 79.41672377211682, 78.96675513012175, 78.56902313533483, 78.3900600898468, 77.99937713190496, 78.71414389278044, 79.20969873105062, 79.41425968378765, 78.34808103221586, 77.54110191665448, 77.58186372105867, 77.189789847229, 76.24078178826376, 75.18142277068483, 75.51226468967707, 76.05209899931417, 76.14714083459269, 76.37193476326607, 76.78668483232649, 76.8678648640642]}],                        {\"legend\": {\"tracegroupgap\": 0}, \"margin\": {\"t\": 60}, \"template\": {\"data\": {\"bar\": [{\"error_x\": {\"color\": \"#2a3f5f\"}, \"error_y\": {\"color\": \"#2a3f5f\"}, \"marker\": {\"line\": {\"color\": \"#E5ECF6\", \"width\": 0.5}}, \"type\": \"bar\"}], \"barpolar\": [{\"marker\": {\"line\": {\"color\": \"#E5ECF6\", \"width\": 0.5}}, \"type\": \"barpolar\"}], \"carpet\": [{\"aaxis\": {\"endlinecolor\": \"#2a3f5f\", \"gridcolor\": \"white\", \"linecolor\": \"white\", \"minorgridcolor\": \"white\", \"startlinecolor\": \"#2a3f5f\"}, \"baxis\": {\"endlinecolor\": \"#2a3f5f\", \"gridcolor\": \"white\", \"linecolor\": \"white\", \"minorgridcolor\": \"white\", \"startlinecolor\": \"#2a3f5f\"}, \"type\": \"carpet\"}], \"choropleth\": [{\"colorbar\": {\"outlinewidth\": 0, \"ticks\": \"\"}, \"type\": \"choropleth\"}], \"contour\": [{\"colorbar\": {\"outlinewidth\": 0, \"ticks\": \"\"}, \"colorscale\": [[0.0, \"#0d0887\"], [0.1111111111111111, \"#46039f\"], [0.2222222222222222, \"#7201a8\"], [0.3333333333333333, \"#9c179e\"], [0.4444444444444444, \"#bd3786\"], [0.5555555555555556, \"#d8576b\"], [0.6666666666666666, \"#ed7953\"], [0.7777777777777778, \"#fb9f3a\"], [0.8888888888888888, \"#fdca26\"], [1.0, \"#f0f921\"]], \"type\": \"contour\"}], \"contourcarpet\": [{\"colorbar\": {\"outlinewidth\": 0, \"ticks\": \"\"}, \"type\": \"contourcarpet\"}], \"heatmap\": [{\"colorbar\": {\"outlinewidth\": 0, \"ticks\": \"\"}, \"colorscale\": [[0.0, \"#0d0887\"], [0.1111111111111111, \"#46039f\"], [0.2222222222222222, \"#7201a8\"], [0.3333333333333333, \"#9c179e\"], [0.4444444444444444, \"#bd3786\"], [0.5555555555555556, \"#d8576b\"], [0.6666666666666666, \"#ed7953\"], [0.7777777777777778, \"#fb9f3a\"], [0.8888888888888888, \"#fdca26\"], [1.0, \"#f0f921\"]], \"type\": \"heatmap\"}], \"heatmapgl\": [{\"colorbar\": {\"outlinewidth\": 0, \"ticks\": \"\"}, \"colorscale\": [[0.0, \"#0d0887\"], [0.1111111111111111, \"#46039f\"], [0.2222222222222222, \"#7201a8\"], [0.3333333333333333, \"#9c179e\"], [0.4444444444444444, \"#bd3786\"], [0.5555555555555556, \"#d8576b\"], [0.6666666666666666, \"#ed7953\"], [0.7777777777777778, \"#fb9f3a\"], [0.8888888888888888, \"#fdca26\"], [1.0, \"#f0f921\"]], \"type\": \"heatmapgl\"}], \"histogram\": [{\"marker\": {\"colorbar\": {\"outlinewidth\": 0, \"ticks\": \"\"}}, \"type\": \"histogram\"}], \"histogram2d\": [{\"colorbar\": {\"outlinewidth\": 0, \"ticks\": \"\"}, \"colorscale\": [[0.0, \"#0d0887\"], [0.1111111111111111, \"#46039f\"], [0.2222222222222222, \"#7201a8\"], [0.3333333333333333, \"#9c179e\"], [0.4444444444444444, \"#bd3786\"], [0.5555555555555556, \"#d8576b\"], [0.6666666666666666, \"#ed7953\"], [0.7777777777777778, \"#fb9f3a\"], [0.8888888888888888, \"#fdca26\"], [1.0, \"#f0f921\"]], \"type\": \"histogram2d\"}], \"histogram2dcontour\": [{\"colorbar\": {\"outlinewidth\": 0, \"ticks\": \"\"}, \"colorscale\": [[0.0, \"#0d0887\"], [0.1111111111111111, \"#46039f\"], [0.2222222222222222, \"#7201a8\"], [0.3333333333333333, \"#9c179e\"], [0.4444444444444444, \"#bd3786\"], [0.5555555555555556, \"#d8576b\"], [0.6666666666666666, \"#ed7953\"], [0.7777777777777778, \"#fb9f3a\"], [0.8888888888888888, \"#fdca26\"], [1.0, \"#f0f921\"]], \"type\": \"histogram2dcontour\"}], \"mesh3d\": [{\"colorbar\": {\"outlinewidth\": 0, \"ticks\": \"\"}, \"type\": \"mesh3d\"}], \"parcoords\": [{\"line\": {\"colorbar\": {\"outlinewidth\": 0, \"ticks\": \"\"}}, \"type\": \"parcoords\"}], \"pie\": [{\"automargin\": true, \"type\": \"pie\"}], \"scatter\": [{\"marker\": {\"colorbar\": {\"outlinewidth\": 0, \"ticks\": \"\"}}, \"type\": \"scatter\"}], \"scatter3d\": [{\"line\": {\"colorbar\": {\"outlinewidth\": 0, \"ticks\": \"\"}}, \"marker\": {\"colorbar\": {\"outlinewidth\": 0, \"ticks\": \"\"}}, \"type\": \"scatter3d\"}], \"scattercarpet\": [{\"marker\": {\"colorbar\": {\"outlinewidth\": 0, \"ticks\": \"\"}}, \"type\": \"scattercarpet\"}], \"scattergeo\": [{\"marker\": {\"colorbar\": {\"outlinewidth\": 0, \"ticks\": \"\"}}, \"type\": \"scattergeo\"}], \"scattergl\": [{\"marker\": {\"colorbar\": {\"outlinewidth\": 0, \"ticks\": \"\"}}, \"type\": \"scattergl\"}], \"scattermapbox\": [{\"marker\": {\"colorbar\": {\"outlinewidth\": 0, \"ticks\": \"\"}}, \"type\": \"scattermapbox\"}], \"scatterpolar\": [{\"marker\": {\"colorbar\": {\"outlinewidth\": 0, \"ticks\": \"\"}}, \"type\": \"scatterpolar\"}], \"scatterpolargl\": [{\"marker\": {\"colorbar\": {\"outlinewidth\": 0, \"ticks\": \"\"}}, \"type\": \"scatterpolargl\"}], \"scatterternary\": [{\"marker\": {\"colorbar\": {\"outlinewidth\": 0, \"ticks\": \"\"}}, \"type\": \"scatterternary\"}], \"surface\": [{\"colorbar\": {\"outlinewidth\": 0, \"ticks\": \"\"}, \"colorscale\": [[0.0, \"#0d0887\"], [0.1111111111111111, \"#46039f\"], [0.2222222222222222, \"#7201a8\"], [0.3333333333333333, \"#9c179e\"], [0.4444444444444444, \"#bd3786\"], [0.5555555555555556, \"#d8576b\"], [0.6666666666666666, \"#ed7953\"], [0.7777777777777778, \"#fb9f3a\"], [0.8888888888888888, \"#fdca26\"], [1.0, \"#f0f921\"]], \"type\": \"surface\"}], \"table\": [{\"cells\": {\"fill\": {\"color\": \"#EBF0F8\"}, \"line\": {\"color\": \"white\"}}, \"header\": {\"fill\": {\"color\": \"#C8D4E3\"}, \"line\": {\"color\": \"white\"}}, \"type\": \"table\"}]}, \"layout\": {\"annotationdefaults\": {\"arrowcolor\": \"#2a3f5f\", \"arrowhead\": 0, \"arrowwidth\": 1}, \"autotypenumbers\": \"strict\", \"coloraxis\": {\"colorbar\": {\"outlinewidth\": 0, \"ticks\": \"\"}}, \"colorscale\": {\"diverging\": [[0, \"#8e0152\"], [0.1, \"#c51b7d\"], [0.2, \"#de77ae\"], [0.3, \"#f1b6da\"], [0.4, \"#fde0ef\"], [0.5, \"#f7f7f7\"], [0.6, \"#e6f5d0\"], [0.7, \"#b8e186\"], [0.8, \"#7fbc41\"], [0.9, \"#4d9221\"], [1, \"#276419\"]], \"sequential\": [[0.0, \"#0d0887\"], [0.1111111111111111, \"#46039f\"], [0.2222222222222222, \"#7201a8\"], [0.3333333333333333, \"#9c179e\"], [0.4444444444444444, \"#bd3786\"], [0.5555555555555556, \"#d8576b\"], [0.6666666666666666, \"#ed7953\"], [0.7777777777777778, \"#fb9f3a\"], [0.8888888888888888, \"#fdca26\"], [1.0, \"#f0f921\"]], \"sequentialminus\": [[0.0, \"#0d0887\"], [0.1111111111111111, \"#46039f\"], [0.2222222222222222, \"#7201a8\"], [0.3333333333333333, \"#9c179e\"], [0.4444444444444444, \"#bd3786\"], [0.5555555555555556, \"#d8576b\"], [0.6666666666666666, \"#ed7953\"], [0.7777777777777778, \"#fb9f3a\"], [0.8888888888888888, \"#fdca26\"], [1.0, \"#f0f921\"]]}, \"colorway\": [\"#636efa\", \"#EF553B\", \"#00cc96\", \"#ab63fa\", \"#FFA15A\", \"#19d3f3\", \"#FF6692\", \"#B6E880\", \"#FF97FF\", \"#FECB52\"], \"font\": {\"color\": \"#2a3f5f\"}, \"geo\": {\"bgcolor\": \"white\", \"lakecolor\": \"white\", \"landcolor\": \"#E5ECF6\", \"showlakes\": true, \"showland\": true, \"subunitcolor\": \"white\"}, \"hoverlabel\": {\"align\": \"left\"}, \"hovermode\": \"closest\", \"mapbox\": {\"style\": \"light\"}, \"paper_bgcolor\": \"white\", \"plot_bgcolor\": \"#E5ECF6\", \"polar\": {\"angularaxis\": {\"gridcolor\": \"white\", \"linecolor\": \"white\", \"ticks\": \"\"}, \"bgcolor\": \"#E5ECF6\", \"radialaxis\": {\"gridcolor\": \"white\", \"linecolor\": \"white\", \"ticks\": \"\"}}, \"scene\": {\"xaxis\": {\"backgroundcolor\": \"#E5ECF6\", \"gridcolor\": \"white\", \"gridwidth\": 2, \"linecolor\": \"white\", \"showbackground\": true, \"ticks\": \"\", \"zerolinecolor\": \"white\"}, \"yaxis\": {\"backgroundcolor\": \"#E5ECF6\", \"gridcolor\": \"white\", \"gridwidth\": 2, \"linecolor\": \"white\", \"showbackground\": true, \"ticks\": \"\", \"zerolinecolor\": \"white\"}, \"zaxis\": {\"backgroundcolor\": \"#E5ECF6\", \"gridcolor\": \"white\", \"gridwidth\": 2, \"linecolor\": \"white\", \"showbackground\": true, \"ticks\": \"\", \"zerolinecolor\": \"white\"}}, \"shapedefaults\": {\"line\": {\"color\": \"#2a3f5f\"}}, \"ternary\": {\"aaxis\": {\"gridcolor\": \"white\", \"linecolor\": \"white\", \"ticks\": \"\"}, \"baxis\": {\"gridcolor\": \"white\", \"linecolor\": \"white\", \"ticks\": \"\"}, \"bgcolor\": \"#E5ECF6\", \"caxis\": {\"gridcolor\": \"white\", \"linecolor\": \"white\", \"ticks\": \"\"}}, \"title\": {\"x\": 0.05}, \"xaxis\": {\"automargin\": true, \"gridcolor\": \"white\", \"linecolor\": \"white\", \"ticks\": \"\", \"title\": {\"standoff\": 15}, \"zerolinecolor\": \"white\", \"zerolinewidth\": 2}, \"yaxis\": {\"automargin\": true, \"gridcolor\": \"white\", \"linecolor\": \"white\", \"ticks\": \"\", \"title\": {\"standoff\": 15}, \"zerolinecolor\": \"white\", \"zerolinewidth\": 2}}}, \"xaxis\": {\"anchor\": \"y\", \"domain\": [0.0, 1.0], \"title\": {\"text\": \"Date\"}}, \"yaxis\": {\"anchor\": \"x\", \"domain\": [0.0, 1.0], \"title\": {\"text\": \"y\"}}},                        {\"responsive\": true}                    ).then(function(){\n",
       "                            \n",
       "var gd = document.getElementById('ee3dbc09-a855-4f69-bf2d-2d6618469ef7');\n",
       "var x = new MutationObserver(function (mutations, observer) {{\n",
       "        var display = window.getComputedStyle(gd).display;\n",
       "        if (!display || display === 'none') {{\n",
       "            console.log([gd, 'removed!']);\n",
       "            Plotly.purge(gd);\n",
       "            observer.disconnect();\n",
       "        }}\n",
       "}});\n",
       "\n",
       "// Listen for the removal of the full notebook cells\n",
       "var notebookContainer = gd.closest('#notebook-container');\n",
       "if (notebookContainer) {{\n",
       "    x.observe(notebookContainer, {childList: true});\n",
       "}}\n",
       "\n",
       "// Listen for the clearing of the current output cell\n",
       "var outputEl = gd.closest('.output');\n",
       "if (outputEl) {{\n",
       "    x.observe(outputEl, {childList: true});\n",
       "}}\n",
       "\n",
       "                        })                };                });            </script>        </div>"
      ]
     },
     "metadata": {},
     "output_type": "display_data"
    }
   ],
   "source": [
    "fig_7.show()\n",
    "fig_31.show()"
   ]
  },
  {
   "cell_type": "code",
   "execution_count": null,
   "metadata": {},
   "outputs": [],
   "source": []
  },
  {
   "cell_type": "markdown",
   "metadata": {
    "extensions": {
     "jupyter_dashboards": {
      "version": 1,
      "views": {
       "grid_default": {},
       "report_default": {}
      }
     }
    }
   },
   "source": [
    "## Dash App"
   ]
  },
  {
   "cell_type": "code",
   "execution_count": 56,
   "metadata": {
    "extensions": {
     "jupyter_dashboards": {
      "version": 1,
      "views": {
       "grid_default": {},
       "report_default": {}
      }
     }
    }
   },
   "outputs": [],
   "source": [
    "import dash\n",
    "import dash_core_components as dcc\n",
    "import dash_html_components as html\n",
    "from dash.dependencies import Input, Output\n",
    "\n",
    "from pandas_datareader import DataReader # pip install pandas-datareader\n",
    "from pandas_datareader import data\n",
    "\n",
    "import pandas as pd\n",
    "import pmdarima as pm\n",
    "import plotly.graph_objects as go\n",
    "import plotly.express as px\n"
   ]
  },
  {
   "cell_type": "code",
   "execution_count": 57,
   "metadata": {
    "extensions": {
     "jupyter_dashboards": {
      "version": 1,
      "views": {
       "grid_default": {},
       "report_default": {}
      }
     }
    }
   },
   "outputs": [],
   "source": [
    "#set up app\n",
    "\n",
    "app = dash.Dash()"
   ]
  },
  {
   "cell_type": "code",
   "execution_count": 58,
   "metadata": {
    "extensions": {
     "jupyter_dashboards": {
      "version": 1,
      "views": {
       "grid_default": {},
       "report_default": {}
      }
     }
    },
    "scrolled": false
   },
   "outputs": [],
   "source": [
    "#import datasets, for example;\n",
    "\n",
    "start = pd.to_datetime('2010-01-01') # in YYYY-MM-DD format\n",
    "end = pd.to_datetime('2018-01-01')\n",
    "st = data.DataReader('NDAQ', 'yahoo', start , end) \n"
   ]
  },
  {
   "cell_type": "code",
   "execution_count": 59,
   "metadata": {
    "extensions": {
     "jupyter_dashboards": {
      "version": 1,
      "views": {
       "grid_default": {},
       "report_default": {}
      }
     }
    },
    "scrolled": true
   },
   "outputs": [],
   "source": [
    "# dropdown options (currently runs through NASDAQ paramteres, should be changed to relevant parameters)\n",
    "\n",
    "features = st.columns[1:-1]\n",
    "opts = [{'label' : i, 'value' : i} for i in features]\n",
    "\n",
    "# range slider options\n",
    "\n",
    "st['High'] = pd.to_datetime(st.High)\n",
    "dates = ['2015-02-17', '2015-05-17', '2015-08-17', '2015-11-17',\n",
    "         '2016-02-17', '2016-05-17', '2016-08-17', '2016-11-17', '2017-02-17']\n"
   ]
  },
  {
   "cell_type": "code",
   "execution_count": 60,
   "metadata": {
    "extensions": {
     "jupyter_dashboards": {
      "version": 1,
      "views": {
       "grid_default": {},
       "report_default": {}
      }
     }
    }
   },
   "outputs": [],
   "source": [
    "# create desired plotly figure (see https://images.plot.ly/plotly-documentation/images/python_cheat_sheet.pdf)\n",
    "\n",
    "trace_1 = go.Scatter(x = st.Close, y = st['Close'],\n",
    "                    name = 'Close',\n",
    "                    line = dict(width = 2,\n",
    "                                color = 'rgb(229, 151, 50)'))\n",
    "layout = go.Layout(title = 'Time Series Plot',\n",
    "                   hovermode = 'closest')\n",
    "fig = go.Figure(data = [trace_1], layout = layout)"
   ]
  },
  {
   "cell_type": "code",
   "execution_count": 61,
   "metadata": {
    "extensions": {
     "jupyter_dashboards": {
      "version": 1,
      "views": {
       "grid_default": {},
       "report_default": {}
      }
     }
    }
   },
   "outputs": [],
   "source": [
    "# create a Dash layout\n",
    "\n",
    "app.layout = html.Div([\n",
    "                # a header and a paragraph\n",
    "                html.Div([\n",
    "                    html.H1(\"Time Series Analysis on Stocks Prediction\"),\n",
    "                    html.P(\"Group 40\")\n",
    "                         ],\n",
    "                     style = {'padding' : '50px' ,\n",
    "                              'backgroundColor' : '#a12f0a'}),\n",
    "                # adding a plot\n",
    "                dcc.Graph(id = 'plot', figure = fig_7),\n",
    "                # dropdown\n",
    "                html.P([\n",
    "                    html.Label(\"Choose a Parameter\"),\n",
    "                    dcc.Dropdown(id = 'opt', options = opts,\n",
    "                                value = opts[0])\n",
    "                        ], style = {'width': '400px',\n",
    "                                    'fontSize' : '20px',\n",
    "                                    'padding-left' : '100px',\n",
    "                                    'display': 'inline-block'}),\n",
    "                # range slider\n",
    "                html.P([\n",
    "                    html.Label(\"Time Period\"),\n",
    "                    dcc.RangeSlider(id = 'slider',\n",
    "                                    marks = {i : dates[i] for i in range(0, 9)},\n",
    "                                    min = 0,\n",
    "                                    max = 8,\n",
    "                                    value = [1, 7])\n",
    "                        ], style = {'width' : '80%',\n",
    "                                    'fontSize' : '20px',\n",
    "                                    'padding-left' : '100px',\n",
    "                                    'display': 'inline-block'})\n",
    "                      ])\n",
    "\n"
   ]
  },
  {
   "cell_type": "code",
   "execution_count": 62,
   "metadata": {
    "extensions": {
     "jupyter_dashboards": {
      "version": 1,
      "views": {
       "grid_default": {},
       "report_default": {}
      }
     }
    },
    "scrolled": false
   },
   "outputs": [
    {
     "name": "stdout",
     "output_type": "stream",
     "text": [
      "Dash is running on http://127.0.0.1:8050/\n",
      "\n",
      " * Serving Flask app \"__main__\" (lazy loading)\n",
      " * Environment: production\n",
      "   WARNING: This is a development server. Do not use it in a production deployment.\n",
      "   Use a production WSGI server instead.\n",
      " * Debug mode: off\n"
     ]
    },
    {
     "name": "stderr",
     "output_type": "stream",
     "text": [
      " * Running on http://127.0.0.1:8050/ (Press CTRL+C to quit)\n",
      "127.0.0.1 - - [10/Apr/2021 12:58:51] \"\u001b[37mGET / HTTP/1.1\u001b[0m\" 200 -\n",
      "127.0.0.1 - - [10/Apr/2021 12:58:51] \"\u001b[37mGET /_dash-component-suites/dash_renderer/prop-types@15.v1_9_0m1617696817.7.2.min.js HTTP/1.1\u001b[0m\" 200 -\n",
      "127.0.0.1 - - [10/Apr/2021 12:58:51] \"\u001b[37mGET /_dash-component-suites/dash_renderer/react@16.v1_9_0m1617696817.14.0.min.js HTTP/1.1\u001b[0m\" 200 -\n",
      "127.0.0.1 - - [10/Apr/2021 12:58:51] \"\u001b[37mGET /_dash-component-suites/dash_renderer/polyfill@7.v1_9_0m1617696817.8.7.min.js HTTP/1.1\u001b[0m\" 200 -\n",
      "127.0.0.1 - - [10/Apr/2021 12:58:51] \"\u001b[37mGET /_dash-component-suites/dash_renderer/react-dom@16.v1_9_0m1617696817.14.0.min.js HTTP/1.1\u001b[0m\" 200 -\n",
      "127.0.0.1 - - [10/Apr/2021 12:58:51] \"\u001b[37mGET /_dash-component-suites/dash_html_components/dash_html_components.v1_1_2m1617696817.min.js HTTP/1.1\u001b[0m\" 200 -\n",
      "127.0.0.1 - - [10/Apr/2021 12:58:51] \"\u001b[37mGET /_dash-component-suites/dash_core_components/dash_core_components.v1_15_0m1617696817.min.js HTTP/1.1\u001b[0m\" 200 -\n",
      "127.0.0.1 - - [10/Apr/2021 12:58:51] \"\u001b[37mGET /_dash-component-suites/dash_core_components/dash_core_components-shared.v1_15_0m1617696817.js HTTP/1.1\u001b[0m\" 200 -\n",
      "127.0.0.1 - - [10/Apr/2021 12:58:51] \"\u001b[37mGET /_dash-component-suites/dash_renderer/dash_renderer.v1_9_0m1617696817.min.js HTTP/1.1\u001b[0m\" 200 -\n",
      "127.0.0.1 - - [10/Apr/2021 12:58:51] \"\u001b[37mGET /_dash-layout HTTP/1.1\u001b[0m\" 200 -\n",
      "127.0.0.1 - - [10/Apr/2021 12:58:51] \"\u001b[37mGET /_dash-dependencies HTTP/1.1\u001b[0m\" 200 -\n",
      "127.0.0.1 - - [10/Apr/2021 12:58:52] \"\u001b[37mGET /_dash-component-suites/dash_core_components/async-graph.v1_15_0m1611086576.js HTTP/1.1\u001b[0m\" 200 -\n",
      "127.0.0.1 - - [10/Apr/2021 12:58:52] \"\u001b[37mGET /_dash-component-suites/dash_core_components/async-slider.v1_15_0m1611086576.js HTTP/1.1\u001b[0m\" 200 -\n",
      "127.0.0.1 - - [10/Apr/2021 12:58:52] \"\u001b[37mGET /_dash-component-suites/dash_core_components/async-dropdown.v1_15_0m1611086576.js HTTP/1.1\u001b[0m\" 200 -\n"
     ]
    },
    {
     "name": "stdout",
     "output_type": "stream",
     "text": [
      "Exception on /_dash-update-component [POST]\n",
      "Traceback (most recent call last):\n",
      "  File \"C:\\Users\\Oisin Tong\\anaconda3\\lib\\site-packages\\flask\\app.py\", line 2447, in wsgi_app\n",
      "    response = self.full_dispatch_request()\n",
      "  File \"C:\\Users\\Oisin Tong\\anaconda3\\lib\\site-packages\\flask\\app.py\", line 1952, in full_dispatch_request\n",
      "    rv = self.handle_user_exception(e)\n",
      "  File \"C:\\Users\\Oisin Tong\\anaconda3\\lib\\site-packages\\flask\\app.py\", line 1821, in handle_user_exception\n",
      "    reraise(exc_type, exc_value, tb)\n",
      "  File \"C:\\Users\\Oisin Tong\\anaconda3\\lib\\site-packages\\flask\\_compat.py\", line 39, in reraise\n",
      "    raise value\n",
      "  File \"C:\\Users\\Oisin Tong\\anaconda3\\lib\\site-packages\\flask\\app.py\", line 1950, in full_dispatch_request\n",
      "    rv = self.dispatch_request()\n",
      "  File \"C:\\Users\\Oisin Tong\\anaconda3\\lib\\site-packages\\flask\\app.py\", line 1936, in dispatch_request\n",
      "    return self.view_functions[rule.endpoint](**req.view_args)\n",
      "  File \"C:\\Users\\Oisin Tong\\anaconda3\\lib\\site-packages\\dash\\dash.py\", line 1078, in dispatch\n",
      "    response.set_data(func(*args, outputs_list=outputs_list))\n",
      "  File \"C:\\Users\\Oisin Tong\\anaconda3\\lib\\site-packages\\dash\\dash.py\", line 1009, in add_context\n",
      "    output_value = func(*args, **kwargs)  # %% callback invoked %%\n",
      "  File \"<ipython-input-62-3fa448e69af2>\", line 8, in update_figure\n",
      "    st2 = st[(st.Date > dates[input2[0]]) & (st.Date < dates[input2[1]])]\n",
      "  File \"C:\\Users\\Oisin Tong\\anaconda3\\lib\\site-packages\\pandas\\core\\generic.py\", line 5139, in __getattr__\n",
      "    return object.__getattribute__(self, name)\n",
      "AttributeError: 'DataFrame' object has no attribute 'Date'\n"
     ]
    },
    {
     "name": "stderr",
     "output_type": "stream",
     "text": [
      "127.0.0.1 - - [10/Apr/2021 12:58:52] \"\u001b[35m\u001b[1mPOST /_dash-update-component HTTP/1.1\u001b[0m\" 500 -\n",
      "127.0.0.1 - - [10/Apr/2021 12:58:52] \"\u001b[37mGET /_dash-component-suites/dash_core_components/async-plotlyjs.v1_15_0m1611086576.js HTTP/1.1\u001b[0m\" 200 -\n"
     ]
    },
    {
     "name": "stdout",
     "output_type": "stream",
     "text": [
      "Exception on /_dash-update-component [POST]\n",
      "Traceback (most recent call last):\n",
      "  File \"C:\\Users\\Oisin Tong\\anaconda3\\lib\\site-packages\\flask\\app.py\", line 2447, in wsgi_app\n",
      "    response = self.full_dispatch_request()\n",
      "  File \"C:\\Users\\Oisin Tong\\anaconda3\\lib\\site-packages\\flask\\app.py\", line 1952, in full_dispatch_request\n",
      "    rv = self.handle_user_exception(e)\n",
      "  File \"C:\\Users\\Oisin Tong\\anaconda3\\lib\\site-packages\\flask\\app.py\", line 1821, in handle_user_exception\n",
      "    reraise(exc_type, exc_value, tb)\n",
      "  File \"C:\\Users\\Oisin Tong\\anaconda3\\lib\\site-packages\\flask\\_compat.py\", line 39, in reraise\n",
      "    raise value\n",
      "  File \"C:\\Users\\Oisin Tong\\anaconda3\\lib\\site-packages\\flask\\app.py\", line 1950, in full_dispatch_request\n",
      "    rv = self.dispatch_request()\n",
      "  File \"C:\\Users\\Oisin Tong\\anaconda3\\lib\\site-packages\\flask\\app.py\", line 1936, in dispatch_request\n",
      "    return self.view_functions[rule.endpoint](**req.view_args)\n",
      "  File \"C:\\Users\\Oisin Tong\\anaconda3\\lib\\site-packages\\dash\\dash.py\", line 1078, in dispatch\n",
      "    response.set_data(func(*args, outputs_list=outputs_list))\n",
      "  File \"C:\\Users\\Oisin Tong\\anaconda3\\lib\\site-packages\\dash\\dash.py\", line 1009, in add_context\n",
      "    output_value = func(*args, **kwargs)  # %% callback invoked %%\n",
      "  File \"<ipython-input-62-3fa448e69af2>\", line 8, in update_figure\n",
      "    st2 = st[(st.Date > dates[input2[0]]) & (st.Date < dates[input2[1]])]\n",
      "  File \"C:\\Users\\Oisin Tong\\anaconda3\\lib\\site-packages\\pandas\\core\\generic.py\", line 5139, in __getattr__\n",
      "    return object.__getattribute__(self, name)\n",
      "AttributeError: 'DataFrame' object has no attribute 'Date'\n"
     ]
    },
    {
     "name": "stderr",
     "output_type": "stream",
     "text": [
      "127.0.0.1 - - [10/Apr/2021 13:02:01] \"\u001b[35m\u001b[1mPOST /_dash-update-component HTTP/1.1\u001b[0m\" 500 -\n"
     ]
    },
    {
     "name": "stdout",
     "output_type": "stream",
     "text": [
      "Exception on /_dash-update-component [POST]\n",
      "Traceback (most recent call last):\n",
      "  File \"C:\\Users\\Oisin Tong\\anaconda3\\lib\\site-packages\\flask\\app.py\", line 2447, in wsgi_app\n",
      "    response = self.full_dispatch_request()\n",
      "  File \"C:\\Users\\Oisin Tong\\anaconda3\\lib\\site-packages\\flask\\app.py\", line 1952, in full_dispatch_request\n",
      "    rv = self.handle_user_exception(e)\n",
      "  File \"C:\\Users\\Oisin Tong\\anaconda3\\lib\\site-packages\\flask\\app.py\", line 1821, in handle_user_exception\n",
      "    reraise(exc_type, exc_value, tb)\n",
      "  File \"C:\\Users\\Oisin Tong\\anaconda3\\lib\\site-packages\\flask\\_compat.py\", line 39, in reraise\n",
      "    raise value\n",
      "  File \"C:\\Users\\Oisin Tong\\anaconda3\\lib\\site-packages\\flask\\app.py\", line 1950, in full_dispatch_request\n",
      "    rv = self.dispatch_request()\n",
      "  File \"C:\\Users\\Oisin Tong\\anaconda3\\lib\\site-packages\\flask\\app.py\", line 1936, in dispatch_request\n",
      "    return self.view_functions[rule.endpoint](**req.view_args)\n",
      "  File \"C:\\Users\\Oisin Tong\\anaconda3\\lib\\site-packages\\dash\\dash.py\", line 1078, in dispatch\n",
      "    response.set_data(func(*args, outputs_list=outputs_list))\n",
      "  File \"C:\\Users\\Oisin Tong\\anaconda3\\lib\\site-packages\\dash\\dash.py\", line 1009, in add_context\n",
      "    output_value = func(*args, **kwargs)  # %% callback invoked %%\n",
      "  File \"<ipython-input-62-3fa448e69af2>\", line 8, in update_figure\n",
      "    st2 = st[(st.Date > dates[input2[0]]) & (st.Date < dates[input2[1]])]\n",
      "  File \"C:\\Users\\Oisin Tong\\anaconda3\\lib\\site-packages\\pandas\\core\\generic.py\", line 5139, in __getattr__\n",
      "    return object.__getattribute__(self, name)\n",
      "AttributeError: 'DataFrame' object has no attribute 'Date'\n"
     ]
    },
    {
     "name": "stderr",
     "output_type": "stream",
     "text": [
      "127.0.0.1 - - [10/Apr/2021 13:02:02] \"\u001b[35m\u001b[1mPOST /_dash-update-component HTTP/1.1\u001b[0m\" 500 -\n"
     ]
    },
    {
     "name": "stdout",
     "output_type": "stream",
     "text": [
      "Exception on /_dash-update-component [POST]\n",
      "Traceback (most recent call last):\n",
      "  File \"C:\\Users\\Oisin Tong\\anaconda3\\lib\\site-packages\\flask\\app.py\", line 2447, in wsgi_app\n",
      "    response = self.full_dispatch_request()\n",
      "  File \"C:\\Users\\Oisin Tong\\anaconda3\\lib\\site-packages\\flask\\app.py\", line 1952, in full_dispatch_request\n",
      "    rv = self.handle_user_exception(e)\n",
      "  File \"C:\\Users\\Oisin Tong\\anaconda3\\lib\\site-packages\\flask\\app.py\", line 1821, in handle_user_exception\n",
      "    reraise(exc_type, exc_value, tb)\n",
      "  File \"C:\\Users\\Oisin Tong\\anaconda3\\lib\\site-packages\\flask\\_compat.py\", line 39, in reraise\n",
      "    raise value\n",
      "  File \"C:\\Users\\Oisin Tong\\anaconda3\\lib\\site-packages\\flask\\app.py\", line 1950, in full_dispatch_request\n",
      "    rv = self.dispatch_request()\n",
      "  File \"C:\\Users\\Oisin Tong\\anaconda3\\lib\\site-packages\\flask\\app.py\", line 1936, in dispatch_request\n",
      "    return self.view_functions[rule.endpoint](**req.view_args)\n",
      "  File \"C:\\Users\\Oisin Tong\\anaconda3\\lib\\site-packages\\dash\\dash.py\", line 1078, in dispatch\n",
      "    response.set_data(func(*args, outputs_list=outputs_list))\n",
      "  File \"C:\\Users\\Oisin Tong\\anaconda3\\lib\\site-packages\\dash\\dash.py\", line 1009, in add_context\n",
      "    output_value = func(*args, **kwargs)  # %% callback invoked %%\n",
      "  File \"<ipython-input-62-3fa448e69af2>\", line 8, in update_figure\n",
      "    st2 = st[(st.Date > dates[input2[0]]) & (st.Date < dates[input2[1]])]\n",
      "  File \"C:\\Users\\Oisin Tong\\anaconda3\\lib\\site-packages\\pandas\\core\\generic.py\", line 5139, in __getattr__\n",
      "    return object.__getattribute__(self, name)\n",
      "AttributeError: 'DataFrame' object has no attribute 'Date'\n"
     ]
    },
    {
     "name": "stderr",
     "output_type": "stream",
     "text": [
      "127.0.0.1 - - [10/Apr/2021 13:02:04] \"\u001b[35m\u001b[1mPOST /_dash-update-component HTTP/1.1\u001b[0m\" 500 -\n"
     ]
    },
    {
     "name": "stdout",
     "output_type": "stream",
     "text": [
      "Exception on /_dash-update-component [POST]\n",
      "Traceback (most recent call last):\n",
      "  File \"C:\\Users\\Oisin Tong\\anaconda3\\lib\\site-packages\\flask\\app.py\", line 2447, in wsgi_app\n",
      "    response = self.full_dispatch_request()\n",
      "  File \"C:\\Users\\Oisin Tong\\anaconda3\\lib\\site-packages\\flask\\app.py\", line 1952, in full_dispatch_request\n",
      "    rv = self.handle_user_exception(e)\n",
      "  File \"C:\\Users\\Oisin Tong\\anaconda3\\lib\\site-packages\\flask\\app.py\", line 1821, in handle_user_exception\n",
      "    reraise(exc_type, exc_value, tb)\n",
      "  File \"C:\\Users\\Oisin Tong\\anaconda3\\lib\\site-packages\\flask\\_compat.py\", line 39, in reraise\n",
      "    raise value\n",
      "  File \"C:\\Users\\Oisin Tong\\anaconda3\\lib\\site-packages\\flask\\app.py\", line 1950, in full_dispatch_request\n",
      "    rv = self.dispatch_request()\n",
      "  File \"C:\\Users\\Oisin Tong\\anaconda3\\lib\\site-packages\\flask\\app.py\", line 1936, in dispatch_request\n",
      "    return self.view_functions[rule.endpoint](**req.view_args)\n",
      "  File \"C:\\Users\\Oisin Tong\\anaconda3\\lib\\site-packages\\dash\\dash.py\", line 1078, in dispatch\n",
      "    response.set_data(func(*args, outputs_list=outputs_list))\n",
      "  File \"C:\\Users\\Oisin Tong\\anaconda3\\lib\\site-packages\\dash\\dash.py\", line 1009, in add_context\n",
      "    output_value = func(*args, **kwargs)  # %% callback invoked %%\n",
      "  File \"<ipython-input-62-3fa448e69af2>\", line 8, in update_figure\n",
      "    st2 = st[(st.Date > dates[input2[0]]) & (st.Date < dates[input2[1]])]\n",
      "  File \"C:\\Users\\Oisin Tong\\anaconda3\\lib\\site-packages\\pandas\\core\\generic.py\", line 5139, in __getattr__\n",
      "    return object.__getattribute__(self, name)\n",
      "AttributeError: 'DataFrame' object has no attribute 'Date'\n"
     ]
    },
    {
     "name": "stderr",
     "output_type": "stream",
     "text": [
      "127.0.0.1 - - [10/Apr/2021 13:02:05] \"\u001b[35m\u001b[1mPOST /_dash-update-component HTTP/1.1\u001b[0m\" 500 -\n"
     ]
    },
    {
     "name": "stdout",
     "output_type": "stream",
     "text": [
      "Exception on /_dash-update-component [POST]\n",
      "Traceback (most recent call last):\n",
      "  File \"C:\\Users\\Oisin Tong\\anaconda3\\lib\\site-packages\\flask\\app.py\", line 2447, in wsgi_app\n",
      "    response = self.full_dispatch_request()\n",
      "  File \"C:\\Users\\Oisin Tong\\anaconda3\\lib\\site-packages\\flask\\app.py\", line 1952, in full_dispatch_request\n",
      "    rv = self.handle_user_exception(e)\n",
      "  File \"C:\\Users\\Oisin Tong\\anaconda3\\lib\\site-packages\\flask\\app.py\", line 1821, in handle_user_exception\n",
      "    reraise(exc_type, exc_value, tb)\n",
      "  File \"C:\\Users\\Oisin Tong\\anaconda3\\lib\\site-packages\\flask\\_compat.py\", line 39, in reraise\n",
      "    raise value\n",
      "  File \"C:\\Users\\Oisin Tong\\anaconda3\\lib\\site-packages\\flask\\app.py\", line 1950, in full_dispatch_request\n",
      "    rv = self.dispatch_request()\n",
      "  File \"C:\\Users\\Oisin Tong\\anaconda3\\lib\\site-packages\\flask\\app.py\", line 1936, in dispatch_request\n",
      "    return self.view_functions[rule.endpoint](**req.view_args)\n",
      "  File \"C:\\Users\\Oisin Tong\\anaconda3\\lib\\site-packages\\dash\\dash.py\", line 1078, in dispatch\n",
      "    response.set_data(func(*args, outputs_list=outputs_list))\n",
      "  File \"C:\\Users\\Oisin Tong\\anaconda3\\lib\\site-packages\\dash\\dash.py\", line 1009, in add_context\n",
      "    output_value = func(*args, **kwargs)  # %% callback invoked %%\n",
      "  File \"<ipython-input-62-3fa448e69af2>\", line 8, in update_figure\n",
      "    st2 = st[(st.Date > dates[input2[0]]) & (st.Date < dates[input2[1]])]\n",
      "  File \"C:\\Users\\Oisin Tong\\anaconda3\\lib\\site-packages\\pandas\\core\\generic.py\", line 5139, in __getattr__\n",
      "    return object.__getattribute__(self, name)\n",
      "AttributeError: 'DataFrame' object has no attribute 'Date'\n"
     ]
    },
    {
     "name": "stderr",
     "output_type": "stream",
     "text": [
      "127.0.0.1 - - [10/Apr/2021 13:02:06] \"\u001b[35m\u001b[1mPOST /_dash-update-component HTTP/1.1\u001b[0m\" 500 -\n"
     ]
    },
    {
     "name": "stdout",
     "output_type": "stream",
     "text": [
      "Exception on /_dash-update-component [POST]\n",
      "Traceback (most recent call last):\n",
      "  File \"C:\\Users\\Oisin Tong\\anaconda3\\lib\\site-packages\\flask\\app.py\", line 2447, in wsgi_app\n",
      "    response = self.full_dispatch_request()\n",
      "  File \"C:\\Users\\Oisin Tong\\anaconda3\\lib\\site-packages\\flask\\app.py\", line 1952, in full_dispatch_request\n",
      "    rv = self.handle_user_exception(e)\n",
      "  File \"C:\\Users\\Oisin Tong\\anaconda3\\lib\\site-packages\\flask\\app.py\", line 1821, in handle_user_exception\n",
      "    reraise(exc_type, exc_value, tb)\n",
      "  File \"C:\\Users\\Oisin Tong\\anaconda3\\lib\\site-packages\\flask\\_compat.py\", line 39, in reraise\n",
      "    raise value\n",
      "  File \"C:\\Users\\Oisin Tong\\anaconda3\\lib\\site-packages\\flask\\app.py\", line 1950, in full_dispatch_request\n",
      "    rv = self.dispatch_request()\n",
      "  File \"C:\\Users\\Oisin Tong\\anaconda3\\lib\\site-packages\\flask\\app.py\", line 1936, in dispatch_request\n",
      "    return self.view_functions[rule.endpoint](**req.view_args)\n",
      "  File \"C:\\Users\\Oisin Tong\\anaconda3\\lib\\site-packages\\dash\\dash.py\", line 1078, in dispatch\n",
      "    response.set_data(func(*args, outputs_list=outputs_list))\n",
      "  File \"C:\\Users\\Oisin Tong\\anaconda3\\lib\\site-packages\\dash\\dash.py\", line 1009, in add_context\n",
      "    output_value = func(*args, **kwargs)  # %% callback invoked %%\n",
      "  File \"<ipython-input-62-3fa448e69af2>\", line 8, in update_figure\n",
      "    st2 = st[(st.Date > dates[input2[0]]) & (st.Date < dates[input2[1]])]\n",
      "  File \"C:\\Users\\Oisin Tong\\anaconda3\\lib\\site-packages\\pandas\\core\\generic.py\", line 5139, in __getattr__\n",
      "    return object.__getattribute__(self, name)\n",
      "AttributeError: 'DataFrame' object has no attribute 'Date'\n"
     ]
    },
    {
     "name": "stderr",
     "output_type": "stream",
     "text": [
      "127.0.0.1 - - [10/Apr/2021 13:02:10] \"\u001b[35m\u001b[1mPOST /_dash-update-component HTTP/1.1\u001b[0m\" 500 -\n"
     ]
    },
    {
     "name": "stdout",
     "output_type": "stream",
     "text": [
      "Exception on /_dash-update-component [POST]\n",
      "Traceback (most recent call last):\n",
      "  File \"C:\\Users\\Oisin Tong\\anaconda3\\lib\\site-packages\\flask\\app.py\", line 2447, in wsgi_app\n",
      "    response = self.full_dispatch_request()\n",
      "  File \"C:\\Users\\Oisin Tong\\anaconda3\\lib\\site-packages\\flask\\app.py\", line 1952, in full_dispatch_request\n",
      "    rv = self.handle_user_exception(e)\n",
      "  File \"C:\\Users\\Oisin Tong\\anaconda3\\lib\\site-packages\\flask\\app.py\", line 1821, in handle_user_exception\n",
      "    reraise(exc_type, exc_value, tb)\n",
      "  File \"C:\\Users\\Oisin Tong\\anaconda3\\lib\\site-packages\\flask\\_compat.py\", line 39, in reraise\n",
      "    raise value\n",
      "  File \"C:\\Users\\Oisin Tong\\anaconda3\\lib\\site-packages\\flask\\app.py\", line 1950, in full_dispatch_request\n",
      "    rv = self.dispatch_request()\n",
      "  File \"C:\\Users\\Oisin Tong\\anaconda3\\lib\\site-packages\\flask\\app.py\", line 1936, in dispatch_request\n",
      "    return self.view_functions[rule.endpoint](**req.view_args)\n",
      "  File \"C:\\Users\\Oisin Tong\\anaconda3\\lib\\site-packages\\dash\\dash.py\", line 1078, in dispatch\n",
      "    response.set_data(func(*args, outputs_list=outputs_list))\n",
      "  File \"C:\\Users\\Oisin Tong\\anaconda3\\lib\\site-packages\\dash\\dash.py\", line 1009, in add_context\n",
      "    output_value = func(*args, **kwargs)  # %% callback invoked %%\n",
      "  File \"<ipython-input-62-3fa448e69af2>\", line 8, in update_figure\n",
      "    st2 = st[(st.Date > dates[input2[0]]) & (st.Date < dates[input2[1]])]\n",
      "  File \"C:\\Users\\Oisin Tong\\anaconda3\\lib\\site-packages\\pandas\\core\\generic.py\", line 5139, in __getattr__\n",
      "    return object.__getattribute__(self, name)\n",
      "AttributeError: 'DataFrame' object has no attribute 'Date'\n"
     ]
    },
    {
     "name": "stderr",
     "output_type": "stream",
     "text": [
      "127.0.0.1 - - [10/Apr/2021 13:02:12] \"\u001b[35m\u001b[1mPOST /_dash-update-component HTTP/1.1\u001b[0m\" 500 -\n"
     ]
    },
    {
     "name": "stdout",
     "output_type": "stream",
     "text": [
      "Exception on /_dash-update-component [POST]\n",
      "Traceback (most recent call last):\n",
      "  File \"C:\\Users\\Oisin Tong\\anaconda3\\lib\\site-packages\\flask\\app.py\", line 2447, in wsgi_app\n",
      "    response = self.full_dispatch_request()\n",
      "  File \"C:\\Users\\Oisin Tong\\anaconda3\\lib\\site-packages\\flask\\app.py\", line 1952, in full_dispatch_request\n",
      "    rv = self.handle_user_exception(e)\n",
      "  File \"C:\\Users\\Oisin Tong\\anaconda3\\lib\\site-packages\\flask\\app.py\", line 1821, in handle_user_exception\n",
      "    reraise(exc_type, exc_value, tb)\n",
      "  File \"C:\\Users\\Oisin Tong\\anaconda3\\lib\\site-packages\\flask\\_compat.py\", line 39, in reraise\n",
      "    raise value\n",
      "  File \"C:\\Users\\Oisin Tong\\anaconda3\\lib\\site-packages\\flask\\app.py\", line 1950, in full_dispatch_request\n",
      "    rv = self.dispatch_request()\n",
      "  File \"C:\\Users\\Oisin Tong\\anaconda3\\lib\\site-packages\\flask\\app.py\", line 1936, in dispatch_request\n",
      "    return self.view_functions[rule.endpoint](**req.view_args)\n",
      "  File \"C:\\Users\\Oisin Tong\\anaconda3\\lib\\site-packages\\dash\\dash.py\", line 1078, in dispatch\n",
      "    response.set_data(func(*args, outputs_list=outputs_list))\n",
      "  File \"C:\\Users\\Oisin Tong\\anaconda3\\lib\\site-packages\\dash\\dash.py\", line 1009, in add_context\n",
      "    output_value = func(*args, **kwargs)  # %% callback invoked %%\n",
      "  File \"<ipython-input-62-3fa448e69af2>\", line 8, in update_figure\n",
      "    st2 = st[(st.Date > dates[input2[0]]) & (st.Date < dates[input2[1]])]\n",
      "  File \"C:\\Users\\Oisin Tong\\anaconda3\\lib\\site-packages\\pandas\\core\\generic.py\", line 5139, in __getattr__\n",
      "    return object.__getattribute__(self, name)\n",
      "AttributeError: 'DataFrame' object has no attribute 'Date'\n"
     ]
    },
    {
     "name": "stderr",
     "output_type": "stream",
     "text": [
      "127.0.0.1 - - [10/Apr/2021 13:02:13] \"\u001b[35m\u001b[1mPOST /_dash-update-component HTTP/1.1\u001b[0m\" 500 -\n"
     ]
    },
    {
     "name": "stdout",
     "output_type": "stream",
     "text": [
      "Exception on /_dash-update-component [POST]\n",
      "Traceback (most recent call last):\n",
      "  File \"C:\\Users\\Oisin Tong\\anaconda3\\lib\\site-packages\\flask\\app.py\", line 2447, in wsgi_app\n",
      "    response = self.full_dispatch_request()\n",
      "  File \"C:\\Users\\Oisin Tong\\anaconda3\\lib\\site-packages\\flask\\app.py\", line 1952, in full_dispatch_request\n",
      "    rv = self.handle_user_exception(e)\n",
      "  File \"C:\\Users\\Oisin Tong\\anaconda3\\lib\\site-packages\\flask\\app.py\", line 1821, in handle_user_exception\n",
      "    reraise(exc_type, exc_value, tb)\n",
      "  File \"C:\\Users\\Oisin Tong\\anaconda3\\lib\\site-packages\\flask\\_compat.py\", line 39, in reraise\n",
      "    raise value\n",
      "  File \"C:\\Users\\Oisin Tong\\anaconda3\\lib\\site-packages\\flask\\app.py\", line 1950, in full_dispatch_request\n",
      "    rv = self.dispatch_request()\n",
      "  File \"C:\\Users\\Oisin Tong\\anaconda3\\lib\\site-packages\\flask\\app.py\", line 1936, in dispatch_request\n",
      "    return self.view_functions[rule.endpoint](**req.view_args)\n",
      "  File \"C:\\Users\\Oisin Tong\\anaconda3\\lib\\site-packages\\dash\\dash.py\", line 1078, in dispatch\n",
      "    response.set_data(func(*args, outputs_list=outputs_list))\n",
      "  File \"C:\\Users\\Oisin Tong\\anaconda3\\lib\\site-packages\\dash\\dash.py\", line 1009, in add_context\n",
      "    output_value = func(*args, **kwargs)  # %% callback invoked %%\n",
      "  File \"<ipython-input-62-3fa448e69af2>\", line 8, in update_figure\n",
      "    st2 = st[(st.Date > dates[input2[0]]) & (st.Date < dates[input2[1]])]\n",
      "  File \"C:\\Users\\Oisin Tong\\anaconda3\\lib\\site-packages\\pandas\\core\\generic.py\", line 5139, in __getattr__\n",
      "    return object.__getattribute__(self, name)\n",
      "AttributeError: 'DataFrame' object has no attribute 'Date'\n"
     ]
    },
    {
     "name": "stderr",
     "output_type": "stream",
     "text": [
      "127.0.0.1 - - [10/Apr/2021 13:02:14] \"\u001b[35m\u001b[1mPOST /_dash-update-component HTTP/1.1\u001b[0m\" 500 -\n"
     ]
    },
    {
     "name": "stdout",
     "output_type": "stream",
     "text": [
      "Exception on /_dash-update-component [POST]\n",
      "Traceback (most recent call last):\n",
      "  File \"C:\\Users\\Oisin Tong\\anaconda3\\lib\\site-packages\\flask\\app.py\", line 2447, in wsgi_app\n",
      "    response = self.full_dispatch_request()\n",
      "  File \"C:\\Users\\Oisin Tong\\anaconda3\\lib\\site-packages\\flask\\app.py\", line 1952, in full_dispatch_request\n",
      "    rv = self.handle_user_exception(e)\n",
      "  File \"C:\\Users\\Oisin Tong\\anaconda3\\lib\\site-packages\\flask\\app.py\", line 1821, in handle_user_exception\n",
      "    reraise(exc_type, exc_value, tb)\n",
      "  File \"C:\\Users\\Oisin Tong\\anaconda3\\lib\\site-packages\\flask\\_compat.py\", line 39, in reraise\n",
      "    raise value\n",
      "  File \"C:\\Users\\Oisin Tong\\anaconda3\\lib\\site-packages\\flask\\app.py\", line 1950, in full_dispatch_request\n",
      "    rv = self.dispatch_request()\n",
      "  File \"C:\\Users\\Oisin Tong\\anaconda3\\lib\\site-packages\\flask\\app.py\", line 1936, in dispatch_request\n",
      "    return self.view_functions[rule.endpoint](**req.view_args)\n",
      "  File \"C:\\Users\\Oisin Tong\\anaconda3\\lib\\site-packages\\dash\\dash.py\", line 1078, in dispatch\n",
      "    response.set_data(func(*args, outputs_list=outputs_list))\n",
      "  File \"C:\\Users\\Oisin Tong\\anaconda3\\lib\\site-packages\\dash\\dash.py\", line 1009, in add_context\n",
      "    output_value = func(*args, **kwargs)  # %% callback invoked %%\n",
      "  File \"<ipython-input-62-3fa448e69af2>\", line 8, in update_figure\n",
      "    st2 = st[(st.Date > dates[input2[0]]) & (st.Date < dates[input2[1]])]\n",
      "  File \"C:\\Users\\Oisin Tong\\anaconda3\\lib\\site-packages\\pandas\\core\\generic.py\", line 5139, in __getattr__\n",
      "    return object.__getattribute__(self, name)\n",
      "AttributeError: 'DataFrame' object has no attribute 'Date'\n"
     ]
    },
    {
     "name": "stderr",
     "output_type": "stream",
     "text": [
      "127.0.0.1 - - [10/Apr/2021 13:02:45] \"\u001b[35m\u001b[1mPOST /_dash-update-component HTTP/1.1\u001b[0m\" 500 -\n"
     ]
    }
   ],
   "source": [
    "# add callback functions\n",
    "\n",
    "@app.callback(Output('plot', 'figure'),\n",
    "             [Input('opt', 'value'),\n",
    "             Input('slider', 'value')])\n",
    "def update_figure(input1, input2):\n",
    "    # filtering the data\n",
    "    st2 = st[(st.Date > dates[input2[0]]) & (st.Date < dates[input2[1]])]\n",
    "    # updating the plot\n",
    "    trace_1 = go.Scatter(x = st2.Date, y = st2['High'],\n",
    "                        name = 'High',\n",
    "                        line = dict(width = 2,\n",
    "                                    color = 'rgb(229, 151, 50)'))\n",
    "    trace_2 = go.Scatter(x = st2.Date, y = st2[input1],\n",
    "                        name = input1,\n",
    "                        line = dict(width = 2,\n",
    "                                    color = 'rgb(106, 181, 135)'))\n",
    "    fig = go.Figure(data = [trace_1, trace_2], layout = layout)\n",
    "    return fig\n",
    "  \n",
    "# add the server clause\n",
    "\n",
    "if __name__ == '__main__':\n",
    "    app.run_server(debug = False)"
   ]
  },
  {
   "cell_type": "code",
   "execution_count": null,
   "metadata": {
    "extensions": {
     "jupyter_dashboards": {
      "version": 1,
      "views": {
       "grid_default": {},
       "report_default": {}
      }
     }
    }
   },
   "outputs": [],
   "source": [
    "#run server\n",
    "\n",
    "app.run_server()"
   ]
  },
  {
   "cell_type": "code",
   "execution_count": null,
   "metadata": {
    "extensions": {
     "jupyter_dashboards": {
      "version": 1,
      "views": {
       "grid_default": {},
       "report_default": {}
      }
     }
    }
   },
   "outputs": [],
   "source": []
  }
 ],
 "metadata": {
  "extensions": {
   "jupyter_dashboards": {
    "activeView": "grid_default",
    "version": 1,
    "views": {
     "grid_default": {
      "cellMargin": 10,
      "defaultCellHeight": 20,
      "maxColumns": 12,
      "name": "grid",
      "type": "grid"
     },
     "report_default": {
      "name": "report",
      "type": "report"
     }
    }
   }
  },
  "kernelspec": {
   "display_name": "Python 3",
   "language": "python",
   "name": "python3"
  },
  "language_info": {
   "codemirror_mode": {
    "name": "ipython",
    "version": 3
   },
   "file_extension": ".py",
   "mimetype": "text/x-python",
   "name": "python",
   "nbconvert_exporter": "python",
   "pygments_lexer": "ipython3",
   "version": "3.8.5"
  }
 },
 "nbformat": 4,
 "nbformat_minor": 4
}
